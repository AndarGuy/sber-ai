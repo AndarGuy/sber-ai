{
 "cells": [
  {
   "cell_type": "code",
   "execution_count": 78,
   "metadata": {},
   "outputs": [],
   "source": [
    "from sklearn.neural_network import MLPRegressor\n",
    "import numpy as np\n",
    "import random"
   ]
  },
  {
   "cell_type": "code",
   "execution_count": 79,
   "metadata": {},
   "outputs": [],
   "source": [
    "n = MLPRegressor(hidden_layer_sizes=(89, 89, ))"
   ]
  },
  {
   "cell_type": "code",
   "execution_count": 85,
   "metadata": {},
   "outputs": [
    {
     "data": {
      "text/plain": [
       "MLPRegressor(activation='relu', alpha=0.0001, batch_size='auto', beta_1=0.9,\n",
       "       beta_2=0.999, early_stopping=False, epsilon=1e-08,\n",
       "       hidden_layer_sizes=(89, 89), learning_rate='constant',\n",
       "       learning_rate_init=0.001, max_iter=200, momentum=0.9,\n",
       "       nesterovs_momentum=True, power_t=0.5, random_state=None,\n",
       "       shuffle=True, solver='adam', tol=0.0001, validation_fraction=0.1,\n",
       "       verbose=False, warm_start=False)"
      ]
     },
     "execution_count": 85,
     "metadata": {},
     "output_type": "execute_result"
    }
   ],
   "source": [
    "n.fit([[0] * 8], [[0] * 4])"
   ]
  },
  {
   "cell_type": "code",
   "execution_count": 90,
   "metadata": {},
   "outputs": [
    {
     "data": {
      "text/plain": [
       "array([[244.37853007, 244.16904538, 254.66068814, 267.51784764],\n",
       "       [244.37853007, 244.16904538, 254.66068814, 267.51784764],\n",
       "       [244.37853007, 244.16904538, 254.66068814, 267.51784764],\n",
       "       [244.37853007, 244.16904538, 254.66068814, 267.51784764],\n",
       "       [244.37853007, 244.16904538, 254.66068814, 267.51784764],\n",
       "       [244.37853007, 244.16904538, 254.66068814, 267.51784764],\n",
       "       [244.37853007, 244.16904538, 254.66068814, 267.51784764],\n",
       "       [244.37853007, 244.16904538, 254.66068814, 267.51784764],\n",
       "       [244.37853007, 244.16904538, 254.66068814, 267.51784764],\n",
       "       [244.37853007, 244.16904538, 254.66068814, 267.51784764]])"
      ]
     },
     "execution_count": 90,
     "metadata": {},
     "output_type": "execute_result"
    }
   ],
   "source": [
    "n.predict([[random.randint(0, 100)] * 8] * 10)"
   ]
  },
  {
   "cell_type": "code",
   "execution_count": 89,
   "metadata": {},
   "outputs": [
    {
     "data": {
      "text/plain": [
       "MLPRegressor(activation='relu', alpha=0.0001, batch_size='auto', beta_1=0.9,\n",
       "       beta_2=0.999, early_stopping=False, epsilon=1e-08,\n",
       "       hidden_layer_sizes=(89, 89), learning_rate='constant',\n",
       "       learning_rate_init=0.001, max_iter=200, momentum=0.9,\n",
       "       nesterovs_momentum=True, power_t=0.5, random_state=None,\n",
       "       shuffle=True, solver='adam', tol=0.0001, validation_fraction=0.1,\n",
       "       verbose=False, warm_start=False)"
      ]
     },
     "execution_count": 89,
     "metadata": {},
     "output_type": "execute_result"
    }
   ],
   "source": [
    "n.fit([[random.randint(0, 100)] * 8] * 100, [[random.randint(0, 100)] * 4] * 100)"
   ]
  },
  {
   "cell_type": "code",
   "execution_count": 83,
   "metadata": {},
   "outputs": [
    {
     "data": {
      "text/plain": [
       "array([[466.98399854, 483.09252012, 453.2533109 , 459.70743191],\n",
       "       [466.98399854, 483.09252012, 453.2533109 , 459.70743191],\n",
       "       [466.98399854, 483.09252012, 453.2533109 , 459.70743191],\n",
       "       [466.98399854, 483.09252012, 453.2533109 , 459.70743191],\n",
       "       [466.98399854, 483.09252012, 453.2533109 , 459.70743191],\n",
       "       [466.98399854, 483.09252012, 453.2533109 , 459.70743191],\n",
       "       [466.98399854, 483.09252012, 453.2533109 , 459.70743191],\n",
       "       [466.98399854, 483.09252012, 453.2533109 , 459.70743191],\n",
       "       [466.98399854, 483.09252012, 453.2533109 , 459.70743191],\n",
       "       [466.98399854, 483.09252012, 453.2533109 , 459.70743191]])"
      ]
     },
     "execution_count": 83,
     "metadata": {},
     "output_type": "execute_result"
    }
   ],
   "source": [
    "n.predict([[random.randint(0, 100)] * 8] * 10)"
   ]
  },
  {
   "cell_type": "code",
   "execution_count": null,
   "metadata": {},
   "outputs": [],
   "source": []
  }
 ],
 "metadata": {
  "kernelspec": {
   "display_name": "Python 3",
   "language": "python",
   "name": "python3"
  },
  "language_info": {
   "codemirror_mode": {
    "name": "ipython",
    "version": 3
   },
   "file_extension": ".py",
   "mimetype": "text/x-python",
   "name": "python",
   "nbconvert_exporter": "python",
   "pygments_lexer": "ipython3",
   "version": "3.7.1"
  }
 },
 "nbformat": 4,
 "nbformat_minor": 2
}
