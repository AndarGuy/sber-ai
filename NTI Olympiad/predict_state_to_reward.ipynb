{
 "cells": [
  {
   "cell_type": "code",
   "execution_count": 1,
   "metadata": {},
   "outputs": [],
   "source": [
    "import numpy as np\n",
    "from sklearn.linear_model import LinearRegression\n",
    "import pandas as pd"
   ]
  },
  {
   "cell_type": "code",
   "execution_count": 2,
   "metadata": {},
   "outputs": [],
   "source": [
    "data = pd.read_csv('/Users/mikhail/PycharmProjects/123/data1.csv')"
   ]
  },
  {
   "cell_type": "code",
   "execution_count": 3,
   "metadata": {},
   "outputs": [],
   "source": [
    "data = data.drop(['6', '7', 'Unnamed: 0'], axis=1)"
   ]
  },
  {
   "cell_type": "code",
   "execution_count": 4,
   "metadata": {},
   "outputs": [
    {
     "data": {
      "text/html": [
       "<div>\n",
       "<style scoped>\n",
       "    .dataframe tbody tr th:only-of-type {\n",
       "        vertical-align: middle;\n",
       "    }\n",
       "\n",
       "    .dataframe tbody tr th {\n",
       "        vertical-align: top;\n",
       "    }\n",
       "\n",
       "    .dataframe thead th {\n",
       "        text-align: right;\n",
       "    }\n",
       "</style>\n",
       "<table border=\"1\" class=\"dataframe\">\n",
       "  <thead>\n",
       "    <tr style=\"text-align: right;\">\n",
       "      <th></th>\n",
       "      <th>0</th>\n",
       "      <th>1</th>\n",
       "      <th>2</th>\n",
       "      <th>3</th>\n",
       "      <th>4</th>\n",
       "      <th>5</th>\n",
       "      <th>8</th>\n",
       "    </tr>\n",
       "  </thead>\n",
       "  <tbody>\n",
       "    <tr>\n",
       "      <th>0</th>\n",
       "      <td>-0.007658</td>\n",
       "      <td>1.428055</td>\n",
       "      <td>-0.390741</td>\n",
       "      <td>0.390550</td>\n",
       "      <td>0.008339</td>\n",
       "      <td>0.078810</td>\n",
       "      <td>-3.435079</td>\n",
       "    </tr>\n",
       "    <tr>\n",
       "      <th>1</th>\n",
       "      <td>-0.011607</td>\n",
       "      <td>1.436248</td>\n",
       "      <td>-0.400968</td>\n",
       "      <td>0.364114</td>\n",
       "      <td>0.014324</td>\n",
       "      <td>0.119725</td>\n",
       "      <td>-0.367161</td>\n",
       "    </tr>\n",
       "    <tr>\n",
       "      <th>2</th>\n",
       "      <td>-0.015622</td>\n",
       "      <td>1.443838</td>\n",
       "      <td>-0.409261</td>\n",
       "      <td>0.337216</td>\n",
       "      <td>0.021968</td>\n",
       "      <td>0.152894</td>\n",
       "      <td>-0.424034</td>\n",
       "    </tr>\n",
       "    <tr>\n",
       "      <th>3</th>\n",
       "      <td>-0.019572</td>\n",
       "      <td>1.450827</td>\n",
       "      <td>-0.400981</td>\n",
       "      <td>0.310537</td>\n",
       "      <td>0.027946</td>\n",
       "      <td>0.119571</td>\n",
       "      <td>0.980901</td>\n",
       "    </tr>\n",
       "    <tr>\n",
       "      <th>4</th>\n",
       "      <td>-0.023593</td>\n",
       "      <td>1.457217</td>\n",
       "      <td>-0.410000</td>\n",
       "      <td>0.283854</td>\n",
       "      <td>0.035729</td>\n",
       "      <td>0.155666</td>\n",
       "      <td>-0.603542</td>\n",
       "    </tr>\n",
       "  </tbody>\n",
       "</table>\n",
       "</div>"
      ],
      "text/plain": [
       "          0         1         2         3         4         5         8\n",
       "0 -0.007658  1.428055 -0.390741  0.390550  0.008339  0.078810 -3.435079\n",
       "1 -0.011607  1.436248 -0.400968  0.364114  0.014324  0.119725 -0.367161\n",
       "2 -0.015622  1.443838 -0.409261  0.337216  0.021968  0.152894 -0.424034\n",
       "3 -0.019572  1.450827 -0.400981  0.310537  0.027946  0.119571  0.980901\n",
       "4 -0.023593  1.457217 -0.410000  0.283854  0.035729  0.155666 -0.603542"
      ]
     },
     "execution_count": 4,
     "metadata": {},
     "output_type": "execute_result"
    }
   ],
   "source": [
    "data.head()"
   ]
  },
  {
   "cell_type": "code",
   "execution_count": 5,
   "metadata": {},
   "outputs": [],
   "source": [
    "X = data.loc[:, ['0', '1', '2', '3', '4', '5']]\n",
    "y = data.loc[:, ['8']]"
   ]
  },
  {
   "cell_type": "code",
   "execution_count": 6,
   "metadata": {},
   "outputs": [],
   "source": [
    "from sklearn.model_selection import train_test_split\n",
    "X_train, X_test, y_train, y_test = train_test_split(X, y, test_size=0.33, random_state=42)"
   ]
  },
  {
   "cell_type": "code",
   "execution_count": 8,
   "metadata": {},
   "outputs": [
    {
     "data": {
      "text/plain": [
       "array([-477595.52232114])"
      ]
     },
     "execution_count": 8,
     "metadata": {},
     "output_type": "execute_result"
    }
   ],
   "source": [
    "X_train, X_test, y_train, y_test = list(map(np.array, [X_train, X_test, y_train, y_test]))\n",
    "reg = LinearRegression().fit(X_train, y_train)"
   ]
  },
  {
   "cell_type": "code",
   "execution_count": null,
   "metadata": {},
   "outputs": [],
   "source": []
  }
 ],
 "metadata": {
  "kernelspec": {
   "display_name": "Python 3",
   "language": "python",
   "name": "python3"
  },
  "language_info": {
   "codemirror_mode": {
    "name": "ipython",
    "version": 3
   },
   "file_extension": ".py",
   "mimetype": "text/x-python",
   "name": "python",
   "nbconvert_exporter": "python",
   "pygments_lexer": "ipython3",
   "version": "3.7.1"
  }
 },
 "nbformat": 4,
 "nbformat_minor": 2
}
