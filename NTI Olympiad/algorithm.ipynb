{
 "cells": [
  {
   "cell_type": "code",
   "execution_count": 1,
   "metadata": {},
   "outputs": [],
   "source": [
    "import numpy as np\n",
    "from sklearn.linear_model import LinearRegression\n",
    "import pandas as pd"
   ]
  },
  {
   "cell_type": "code",
   "execution_count": 8,
   "metadata": {},
   "outputs": [],
   "source": [
    "def train_models():\n",
    "    data = pd.read_csv('/Users/mikhail/PycharmProjects/123/data2.csv')\n",
    "    data = data.drop(['6', '7', '14', '15', 'Unnamed: 0'], axis=1)\n",
    "    X, y = data.loc[:, ['0', '1', '2', '3', '4', '5', '16']], data.loc[:, ['8', '9', '10', '11', '12', '13']]\n",
    "    X, y = list(map(np.array, [X, y]))\n",
    "    modelA = LinearRegression().fit(X, y)\n",
    "    \n",
    "    data = pd.read_csv('/Users/mikhail/PycharmProjects/123/data1.csv')\n",
    "    data = data.drop(['6', '7', 'Unnamed: 0'], axis=1)\n",
    "    X, y = data.loc[:, ['0', '1', '2', '3', '4', '5']], data.loc[:, ['8']]\n",
    "    X, y = list(map(np.array, [X, y]))\n",
    "    modelB = LinearRegression().fit(X, y)\n",
    "    \n",
    "    return modelA, modelB"
   ]
  },
  {
   "cell_type": "code",
   "execution_count": 9,
   "metadata": {},
   "outputs": [],
   "source": [
    "def predict_action(state):\n",
    "    results = {action: modelB.predict(modelA.predict(np.array(list(state) + [action]))) for action in [0, 1, 2, 3]}\n",
    "    return max(results.items(), key=lambda x: x[1])[0]"
   ]
  },
  {
   "cell_type": "code",
   "execution_count": 10,
   "metadata": {},
   "outputs": [
    {
     "name": "stderr",
     "output_type": "stream",
     "text": [
      "/Library/Frameworks/Python.framework/Versions/3.7/lib/python3.7/site-packages/sklearn/linear_model/base.py:509: RuntimeWarning: internal gelsd driver lwork query error, required iwork dimension not returned. This is likely the result of LAPACK bug 0038, fixed in LAPACK 3.2.2 (released July 21, 2010). Falling back to 'gelss' driver.\n",
      "  linalg.lstsq(X, y)\n"
     ]
    }
   ],
   "source": [
    "modelA, modelB = train_models()"
   ]
  },
  {
   "cell_type": "code",
   "execution_count": null,
   "metadata": {},
   "outputs": [],
   "source": [
    "predict_action = "
   ]
  }
 ],
 "metadata": {
  "kernelspec": {
   "display_name": "Python 3",
   "language": "python",
   "name": "python3"
  },
  "language_info": {
   "codemirror_mode": {
    "name": "ipython",
    "version": 3
   },
   "file_extension": ".py",
   "mimetype": "text/x-python",
   "name": "python",
   "nbconvert_exporter": "python",
   "pygments_lexer": "ipython3",
   "version": "3.7.1"
  }
 },
 "nbformat": 4,
 "nbformat_minor": 2
}
