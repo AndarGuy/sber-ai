{
 "cells": [
  {
   "cell_type": "code",
   "execution_count": 1,
   "metadata": {},
   "outputs": [
    {
     "name": "stderr",
     "output_type": "stream",
     "text": [
      "/Library/Frameworks/Python.framework/Versions/3.7/lib/python3.7/site-packages/sklearn/ensemble/weight_boosting.py:29: DeprecationWarning: numpy.core.umath_tests is an internal NumPy module and should not be imported. It will be removed in a future NumPy release.\n",
      "  from numpy.core.umath_tests import inner1d\n"
     ]
    }
   ],
   "source": [
    "import pandas as pd\n",
    "import numpy as np\n",
    "from sklearn.ensemble import GradientBoostingClassifier\n",
    "from sklearn.metrics import accuracy_score\n",
    "from sklearn.model_selection import train_test_split"
   ]
  },
  {
   "cell_type": "code",
   "execution_count": 2,
   "metadata": {},
   "outputs": [],
   "source": [
    "train = pd.read_csv('csv/train.csv').set_index('id')\n",
    "test = pd.read_csv('csv/test.csv').set_index('id')\n",
    "\n",
    "train['istrain'] = 1\n",
    "test['istrain'] = 0\n",
    "\n",
    "train = pd.concat([train, test], axis=0, sort=True)"
   ]
  },
  {
   "cell_type": "code",
   "execution_count": 3,
   "metadata": {},
   "outputs": [
    {
     "name": "stdout",
     "output_type": "stream",
     "text": [
      "assists\n",
      "avg_assists_x16\n",
      "avg_deaths_x16\n",
      "avg_gpm_x16\n",
      "avg_kills_x16\n",
      "avg_xpm_x16\n",
      "best_assists_x16\n",
      "best_gpm_x16\n",
      "best_kills_x16\n",
      "best_win_streak\n",
      "best_xpm_x16\n",
      "camps_stacked\n",
      "creeps_stacked\n",
      "deaths\n",
      "denies\n",
      "dire_barracks_status\n",
      "dire_tower_status\n",
      "duration\n",
      "farm_score\n",
      "fight_score\n",
      "first_blood_claimed\n",
      "first_blood_time\n",
      "gold\n",
      "gold_per_min\n",
      "gold_spent\n",
      "hero_damage\n",
      "hero_healing\n",
      "hero_id\n",
      "hero_pick_order\n",
      "istrain\n",
      "kills\n",
      "last_hits\n",
      "leaver_status\n",
      "level\n",
      "nearby_creep_death_count\n",
      "net_worth\n",
      "observer_wards_placed\n",
      "party_players\n",
      "player_team\n",
      "pre_game_duration\n",
      "push_score\n",
      "radiant_barracks_status\n",
      "radiant_tower_status\n",
      "roshan_kills\n",
      "rune_pickups\n",
      "scaled_hero_damage\n",
      "scaled_hero_healing\n",
      "scaled_tower_damage\n",
      "sentry_wards_placed\n",
      "skilled\n",
      "stuns\n",
      "support_score\n",
      "team_fight_participation\n",
      "tower_damage\n",
      "tower_kills\n",
      "win_streak\n",
      "winner_team\n",
      "xp_per_min\n"
     ]
    }
   ],
   "source": [
    "print(*list(train.columns), sep='\\n')"
   ]
  },
  {
   "cell_type": "code",
   "execution_count": 4,
   "metadata": {},
   "outputs": [],
   "source": [
    "heroes_info = pd.read_csv('csv/heroes_done.csv').set_index('Unnamed: 0')"
   ]
  },
  {
   "cell_type": "code",
   "execution_count": 5,
   "metadata": {},
   "outputs": [],
   "source": [
    "heroes_train = pd.DataFrame([heroes_info.loc[hero] for hero in train['hero_id']])"
   ]
  },
  {
   "cell_type": "code",
   "execution_count": 6,
   "metadata": {},
   "outputs": [],
   "source": [
    "heroes_train = heroes_train.set_index(train.index)"
   ]
  },
  {
   "cell_type": "code",
   "execution_count": 7,
   "metadata": {},
   "outputs": [],
   "source": [
    "train = pd.concat([train, heroes_train], axis=1)"
   ]
  },
  {
   "cell_type": "code",
   "execution_count": 9,
   "metadata": {},
   "outputs": [],
   "source": [
    "roles = list(filter(lambda x: 'role' in x, heroes_info.columns))"
   ]
  },
  {
   "cell_type": "code",
   "execution_count": 10,
   "metadata": {},
   "outputs": [
    {
     "data": {
      "text/plain": [
       "['carry_role',\n",
       " 'support_role',\n",
       " 'pusher_role',\n",
       " 'jungler_role',\n",
       " 'durable_role',\n",
       " 'nuker_role',\n",
       " 'initiator_role',\n",
       " 'disabler_role',\n",
       " 'escape_role']"
      ]
     },
     "execution_count": 10,
     "metadata": {},
     "output_type": "execute_result"
    }
   ],
   "source": [
    "roles"
   ]
  },
  {
   "cell_type": "code",
   "execution_count": 11,
   "metadata": {},
   "outputs": [],
   "source": [
    "for role in roles:\n",
    "    pd.DataFrame(train.loc[train[role] == 1]).to_csv('roles/{}.csv'.format(role))"
   ]
  },
  {
   "cell_type": "code",
   "execution_count": 16,
   "metadata": {},
   "outputs": [],
   "source": [
    "heroes_ids = list(heroes_info.index)"
   ]
  },
  {
   "cell_type": "code",
   "execution_count": 17,
   "metadata": {},
   "outputs": [],
   "source": [
    "heroes_tables = []\n",
    "for hero_id in heroes_ids:\n",
    "    pd.DataFrame(train.loc[train['hero_id'] == hero_id]).to_csv('heroes/hero_id{}.csv'.format(hero_id))"
   ]
  },
  {
   "cell_type": "code",
   "execution_count": null,
   "metadata": {},
   "outputs": [],
   "source": [
    "import os\n",
    "\n",
    "classificators = {}\n",
    "\n",
    "results = []\n",
    "\n",
    "for file in os.listdir('heroes'):\n",
    "    model = GradientBoostingClassifier()\n",
    "    table = pd.read_csv('heroes/' + file).set_index('Unnamed: 0')\n",
    "    X = table.drop(['skilled'], axis=1)\n",
    "    y = table['skilled']\n",
    "    X_train, X_test, y_train, y_test = train_test_split(X, y, test_size=0.20, random_state=42)\n",
    "    model.fit(X_train, y_train)\n",
    "    break\n",
    "    results.append(accuracy_score(y_test, model.predict(X_test)))\n",
    "    print(file, results[-1], np.mean(results), len(X_train))"
   ]
  },
  {
   "cell_type": "code",
   "execution_count": null,
   "metadata": {},
   "outputs": [],
   "source": [
    "import os\n",
    "\n",
    "classificators = {}\n",
    "\n",
    "results = []\n",
    "\n",
    "for file in os.listdir('roles'):\n",
    "    model = GradientBoostingClassifier()\n",
    "    table = pd.read_csv('roles/' + file).set_index('Unnamed: 0')\n",
    "    X = table.drop(['skilled'], axis=1)\n",
    "    y = table['skilled']\n",
    "    X_train, X_test, y_train, y_test = train_test_split(X, y, test_size=0.20, random_state=42)\n",
    "    model.fit(X_train, y_train)\n",
    "    results.append(accuracy_score(y_test, model.predict(X_test)))\n",
    "    print(file, results[-1], np.mean(results), len(X_train))"
   ]
  },
  {
   "cell_type": "code",
   "execution_count": null,
   "metadata": {},
   "outputs": [],
   "source": [
    "frame = pd.concat([pd.DataFrame(model.feature_importances_), pd.DataFrame(table.drop(['skilled'], axis=1).columns)], axis=1)\n",
    "frame.columns = [0, 1]\n",
    "frame.sort_values([0])"
   ]
  },
  {
   "cell_type": "code",
   "execution_count": null,
   "metadata": {},
   "outputs": [],
   "source": [
    "X = train.drop(['skilled'], axis=1)\n",
    "y = train['skilled']\n",
    "X_train, X_test, y_train, y_test = train_test_split(X, y, test_size=0.20, random_state=42)\n",
    "model.fit(X_train, y_train)\n",
    "print(accuracy_score(y_test, model.predict(X_test)))"
   ]
  },
  {
   "cell_type": "code",
   "execution_count": null,
   "metadata": {},
   "outputs": [],
   "source": []
  },
  {
   "cell_type": "code",
   "execution_count": null,
   "metadata": {},
   "outputs": [],
   "source": [
    "table = pd.read_csv('heroes/hero_id111.csv').set_index('Unnamed: 0')"
   ]
  },
  {
   "cell_type": "code",
   "execution_count": null,
   "metadata": {},
   "outputs": [],
   "source": [
    "heroes.colomns"
   ]
  },
  {
   "cell_type": "code",
   "execution_count": null,
   "metadata": {},
   "outputs": [],
   "source": []
  }
 ],
 "metadata": {
  "kernelspec": {
   "display_name": "Python 3",
   "language": "python",
   "name": "python3"
  },
  "language_info": {
   "codemirror_mode": {
    "name": "ipython",
    "version": 3
   },
   "file_extension": ".py",
   "mimetype": "text/x-python",
   "name": "python",
   "nbconvert_exporter": "python",
   "pygments_lexer": "ipython3",
   "version": "3.7.1"
  }
 },
 "nbformat": 4,
 "nbformat_minor": 2
}
