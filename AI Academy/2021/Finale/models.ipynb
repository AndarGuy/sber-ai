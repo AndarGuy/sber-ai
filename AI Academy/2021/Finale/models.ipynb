{
 "cells": [
  {
   "cell_type": "code",
   "execution_count": 1,
   "metadata": {
    "id": "JzyZM8xuhMDt"
   },
   "outputs": [],
   "source": [
    "import codecs\n",
    "import json\n",
    "import joblib\n",
    "import re\n",
    "from functools import reduce\n",
    "import numpy as np\n",
    "from sklearn.linear_model import LinearRegression\n",
    "from sklearn.linear_model import LogisticRegression\n",
    "from sklearn.metrics import accuracy_score\n",
    "from sklearn.metrics import f1_score\n",
    "from nltk.tokenize import word_tokenize\n",
    "from sklearn.feature_extraction.text import CountVectorizer\n",
    "from sklearn.metrics.pairwise import cosine_similarity\n",
    "import torch\n",
    "import numpy as np\n",
    "import codecs\n",
    "import json\n",
    "import joblib\n",
    "import re\n",
    "from functools import reduce\n",
    "import numpy as np\n",
    "from sklearn.linear_model import LinearRegression\n",
    "from sklearn.linear_model import LogisticRegression\n",
    "from sklearn.metrics import accuracy_score\n",
    "from sklearn.metrics import f1_score\n",
    "from nltk.tokenize import word_tokenize\n",
    "from sklearn.feature_extraction.text import CountVectorizer\n",
    "from sklearn.metrics.pairwise import cosine_similarity\n",
    "from tqdm.notebook import trange, tqdm\n",
    "from sklearn.feature_extraction.text import TfidfVectorizer\n",
    "from sklearn.metrics import accuracy_score\n",
    "from scipy.sparse import hstack\n",
    "import pandas as pd\n",
    "from sklearn.metrics import accuracy_score\n",
    "import torch.nn as nn\n",
    "import gc"
   ]
  },
  {
   "cell_type": "code",
   "execution_count": 2,
   "metadata": {
    "id": "yjVT7KiMhBSU"
   },
   "outputs": [],
   "source": [
    "from tqdm.notebook import trange"
   ]
  },
  {
   "cell_type": "code",
   "execution_count": 3,
   "metadata": {
    "id": "S7USEGWaQRy9"
   },
   "outputs": [],
   "source": [
    "# -*- coding: utf-8 -*-\n",
    "import re\n",
    "alphabets= \"([A-Za-z])\"\n",
    "prefixes = \"(Mr|St|Mrs|Ms|Dr)[.]\"\n",
    "suffixes = \"(Inc|Ltd|Jr|Sr|Co)\"\n",
    "starters = \"(Mr|Mrs|Ms|Dr|He\\s|She\\s|It\\s|They\\s|Their\\s|Our\\s|We\\s|But\\s|However\\s|That\\s|This\\s|Wherever)\"\n",
    "acronyms = \"([A-Z][.][A-Z][.](?:[A-Z][.])?)\"\n",
    "websites = \"[.](com|net|org|io|gov)\"\n",
    "\n",
    "def split_into_sentences(text):\n",
    "    text = \" \" + text + \"  \"\n",
    "    text = text.replace(\"\\n\",\" \")\n",
    "    text = re.sub(prefixes,\"\\\\1<prd>\",text)\n",
    "    text = re.sub(websites,\"<prd>\\\\1\",text)\n",
    "    if \"Ph.D\" in text: text = text.replace(\"Ph.D.\",\"Ph<prd>D<prd>\")\n",
    "    text = re.sub(\"\\s\" + alphabets + \"[.] \",\" \\\\1<prd> \",text)\n",
    "    text = re.sub(acronyms+\" \"+starters,\"\\\\1<stop> \\\\2\",text)\n",
    "    text = re.sub(alphabets + \"[.]\" + alphabets + \"[.]\" + alphabets + \"[.]\",\"\\\\1<prd>\\\\2<prd>\\\\3<prd>\",text)\n",
    "    text = re.sub(alphabets + \"[.]\" + alphabets + \"[.]\",\"\\\\1<prd>\\\\2<prd>\",text)\n",
    "    text = re.sub(\" \"+suffixes+\"[.] \"+starters,\" \\\\1<stop> \\\\2\",text)\n",
    "    text = re.sub(\" \"+suffixes+\"[.]\",\" \\\\1<prd>\",text)\n",
    "    text = re.sub(\" \" + alphabets + \"[.]\",\" \\\\1<prd>\",text)\n",
    "    if \"”\" in text: text = text.replace(\".”\",\"”.\")\n",
    "    if \"\\\"\" in text: text = text.replace(\".\\\"\",\"\\\".\")\n",
    "    if \"!\" in text: text = text.replace(\"!\\\"\",\"\\\"!\")\n",
    "    if \"?\" in text: text = text.replace(\"?\\\"\",\"\\\"?\")\n",
    "    text = text.replace(\".\",\".<stop>\")\n",
    "    text = text.replace(\"?\",\"?<stop>\")\n",
    "    text = text.replace(\"!\",\"!<stop>\")\n",
    "    text = text.replace(\"<prd>\",\".\")\n",
    "    sentences = text.split(\"<stop>\")\n",
    "    sentences = sentences[:-1]\n",
    "    sentences = [s.strip() for s in sentences]\n",
    "    return sentences"
   ]
  },
  {
   "cell_type": "code",
   "execution_count": 4,
   "metadata": {
    "id": "RSOnukezRTrf"
   },
   "outputs": [],
   "source": [
    "import codecs\n",
    "import json\n",
    "def read_jsonl(path):\n",
    "    with codecs.open(path, encoding='utf-8-sig') as reader:\n",
    "            lines = reader.read().split(\"\\n\")\n",
    "            lines = list(map(json.loads, filter(None, lines)))\n",
    "    return lines"
   ]
  },
  {
   "cell_type": "code",
   "execution_count": 5,
   "metadata": {
    "id": "X9VTu1MDReC7"
   },
   "outputs": [],
   "source": [
    "def standardize(txt):\n",
    "    return txt.replace('\\n', '').replace('@highlight', '')"
   ]
  },
  {
   "cell_type": "code",
   "execution_count": 6,
   "metadata": {
    "id": "si359qwQYwaG"
   },
   "outputs": [],
   "source": [
    "def find_closest_string(string, arr, r=0):\n",
    "    maxx = 0\n",
    "    most_simillar = None\n",
    "    for w in arr:\n",
    "        if w == string:\n",
    "            return string\n",
    "        ratio = fuzz.ratio(string, w)\n",
    "        if ratio > maxx:\n",
    "            most_simillar = w\n",
    "            maxx = ratio\n",
    "    return most_simillar"
   ]
  },
  {
   "cell_type": "code",
   "execution_count": 33,
   "metadata": {
    "id": "UDUoq-9NOcjX"
   },
   "outputs": [],
   "source": [
    "def to_mr_format(item, translate=True):\n",
    "    entities = list(set([item[\"passage\"][\"text\"][e[\"start\"]:e[\"end\"]] for e in item[\"passage\"][\"entities\"]]))\n",
    "    en_entities = [answers_en[e] if translate else e for e in entities]\n",
    "    for e in en_entities:\n",
    "        translated_text = texts_en[standardize(item[\"passage\"][\"text\"])] if translate else item[\"passage\"][\"text\"]\n",
    "        translated_text = \"\".join([f\"Sent {i + 1}: \" + s + \".\" for i, s in enumerate(split_into_sentences(translated_text))])\n",
    "        tanslated_query = questions_en[standardize(item[\"qas\"][0][\"query\"])] if translate else questions_en[item[\"qas\"][0][\"query\"]]\n",
    "        final_text = \"multirc question: \" + tanslated_query + \" answer: \" + e + \" paragraph: \" + translated_text\n",
    "        #final_text = \"record query: \" + (tanslated_query + \". entities: \" if tanslated_query[-1] != \".\" else tanslated_query + \" entities: \") + \", \".join(en_entities) + \" passage: \" + (translated_text + \".\" if translated_text[-1] != \".\" else translated_text)\n",
    "        return final_text\n",
    "\n",
    "def to_mr_format_all(item, test=False):\n",
    "    entities = list(set([item[\"passage\"][\"text\"][e[\"start\"]:e[\"end\"]] for e in item[\"passage\"][\"entities\"]]))\n",
    "    correct_answers = [i[\"text\"] for i in item[\"qas\"][0][\"answers\"]] if not test else []\n",
    "    labels = []\n",
    "    en_entities = []\n",
    "    for extracted in entities:\n",
    "        if not test:\n",
    "            labels.append( int(extracted in correct_answers) )\n",
    "        else:\n",
    "            labels.append(None)\n",
    "        en_entities.append( answers_en_all[ extracted ] )\n",
    "\n",
    "    final_texts = []\n",
    "    for e in en_entities:\n",
    "        translated_text = texts_en_all[ standardize(item[\"passage\"][\"text\"]) ] \n",
    "        translated_text = \"\".join([f\"Sent {i + 1}: \" + s + \".\" for i, s in enumerate(split_into_sentences(translated_text))])\n",
    "        tanslated_query = questions_en_all[ standardize(item[\"qas\"][0][\"query\"]) ] \n",
    "        final_text = \"multirc question: \" + tanslated_query + \" answer: \" + e + \" paragraph: \" + translated_text\n",
    "        #final_text = \"record query: \" + (tanslated_query + \". entities: \" if tanslated_query[-1] != \".\" else tanslated_query + \" entities: \") + \", \".join(en_entities) + \" passage: \" + (translated_text + \".\" if translated_text[-1] != \".\" else translated_text)\n",
    "        final_texts.append(final_text)\n",
    "\n",
    "    return final_texts, labels\n",
    "\n",
    "def priotarization(item):\n",
    "    entities = list(set([item[\"passage\"][\"text\"][e[\"start\"]:e[\"end\"]] for e in item[\"passage\"][\"entities\"]]))\n",
    "    correct_answers = [i[\"text\"] for i in item[\"qas\"][0][\"answers\"]]\n",
    "    labels = []\n",
    "    en_entities = []\n",
    "    for extracted in entities:\n",
    "        labels.append( int(extracted in correct_answers) )\n",
    "        en_entities.append( answers_en_all[ extracted ] )\n",
    "\n",
    "    translated_text = texts_en[standardize(item[\"passage\"][\"text\"])] if translate else item[\"passage\"][\"text\"]\n",
    "    tanslated_query = questions_en[standardize(item[\"qas\"][0][\"query\"])] if translate else item[\"passage\"][\"text\"]\n",
    "    final_text = \"record query: \" + (tanslated_query + \". entities: \" if tanslated_query[-1] != \".\" else tanslated_query + \" entities: \") + \"{}\" + \" passage: \" + (translated_text + \".\" if translated_text[-1] != \".\" else translated_text)\n",
    "\n",
    "    return final_text, en_entities\n",
    "\n",
    "def split_X_y(data):\n",
    "    X = []\n",
    "    y = []\n",
    "    for d in data:\n",
    "      X.extend(d[0])\n",
    "      y.extend(d[1])\n",
    "    return X, y\n",
    "\n",
    "def fillthegaps():\n",
    "    global texts_en_all\n",
    "    texts_en_all['Обвинения в причастности к парижским терактам предъявлены в Бельгии уже восьми задержанным. Один из организаторов взрывов был перед терактами в Будапеште. В Бельгии задержаны еще два подозреваемых в связи с терактами в Париже, один из них гражданин Франции, второй - подданный Бельгии. Их обвиняют в участии в действиях, связанных с терроризмом, сообщили в четверг, 3 декабря, в генпрокуратуре в Брюсселе. Они останутся под арестом в течение месяца. Олланд постарался убедить мировых лидеров в необходимости более интенсивной борьбы с ИГ.В Германии за сутки выявлено более 100 новых заражений коронавирусомТысячи демонстрантов в Гамбурге выступили за прием беженцевКомментарий: Россия накануне эпидемии - виноватые назначены заранее'] = \"Already eight detainees have been charged with involvement in the Paris terrorist attacks in Belgium. One of the organizers of the explosions was before the attacks in Budapest. In Belgium, two more suspects were detained in connection with the terrorist attacks in Paris, one of them is a citizen of France, the other is a citizen of Belgium. They are accused of participation in acts related to terrorism, reported on Thursday, December 3, at the Prosecutor General's Office in Brussels. They will remain under arrest for a month. Hollande tried to convince world leaders of the need for a more intense fight against IS. More than 100 new coronavirus infections were detected in Germany per day Thousands of demonstrators in Hamburg spoke in favor of accepting refugees.\"\n",
    "    texts_en_all['В Саитаме (Япония) пожилую женщину госпитализировали с подозрением на заражение вирусом Эбола. Об этом сообщает РИА Новости со ссылкой на агентство Киодо. Уточняется, что ранее 70-летняя японка посещала Демократическую Республику Конго. У нее была зафиксирована температура более 38 градусов. Пенсионерку доставили в одну из больниц Токио для выявления в ее крови вируса Эбола. В кризисном штабе при канцелярии премьер-министра Японии Синдзо Абэ уже была создана группа по сбору и анализу информации. Смертельный вирус достиг международного масштаба Смертельный вирус проник в еще одну страну Африки «Русал» и Минздрав завершили вакцинацию против Эболы в Гвинее'] = \"In Saitama, Japan, an elderly woman was hospitalized with suspected Ebola infection. This was reported by RIA Novosti with reference to the Kyodo agency. It is specified that the 70-year-old Japanese woman previously visited the Democratic Republic of the Congo. She had a temperature of more than 38 degrees. The pensioner was taken to a hospital in Tokyo to be diagnosed with the Ebola virus in her blood. A group for collecting and analyzing information has already been set up in the crisis headquarters under the office of Japanese Prime Minister Shinzo Abe. The deadly virus has reached an international scale The deadly virus has penetrated another African country Rusal and the Ministry of Health completed vaccination against Ebola in Guinea\"\n",
    "    texts_en_all['Физики из Университета Глазго обнаружили парадокс теории Эйнштейна, который может нарушать основополагающий принцип равноправия инерциальных систем отсчета (ИСО) и тем самым ставит под угрозу физическую картину мира. Объяснение противоречия было предложено в Journal of Modern Optics. Кратко об исследовании рассказывает издание Gizmodo. Согласно принципу относительности для разных ИСО, представленных покоящимися и двигающимися телами, законы физики проявляются одинаково. Однако ученые выяснили, что этот принцип может не выполняться для движущихся возбужденных атомов. Парадокс заключается в том, что атомы могут спонтанно испускать фотоны, но при этом на частицы света распространяется эффект Доплера. Представлено новое подтверждение общей теории относительности Существование машины времени доказали математически Физики запутали рекордное количество атомов'] = \"Physicists from the University of Glasgow discovered the paradox of Einstein's theory, which can violate the fundamental principle of equality of inertial reference systems (IRF) and thereby endanger the physical picture of the world. An explanation for the controversy was suggested in the Journal of Modern Optics. The research is briefly described by the publication Gizmodo. According to the principle of relativity for different IFRs, represented by bodies at rest and moving bodies, the laws of physics manifest themselves in the same way. However, scientists have found that this principle may not hold for moving excited atoms. The paradox is that atoms can spontaneously emit photons, but the Doppler effect applies to light particles. New confirmation of general relativity presented The existence of a time machine has been proven mathematically Physicists have entangled a record number of atoms\"\n",
    "    texts_en_all['Бывший президент Франции Николя Саркози подверг критике подход нынешнего главы государства Франсуа Олланда к отношениям с Москвой. Его слова приводит ТАСС. «Я сожалею о политике, которая проводится ныне в отношении России», — заявил он журналистам, комментируя известие об отмене визита в Париж президента Владимира Путина. Саркози, намеревающийся баллотироваться в 2017 году на пост президента, предостерег от «вступления в новую холодную войну». По его словам, «долг и обязанность Франции и Европы — вести диалог с Россией». «Как можно урегулировать ситуацию, если общаться друг с другом лишь посредством пресс-релизов?» — сказал Саркози.Олланд отказался считать отмену визита Путина помехой для дискуссии по СирииВо Франции сообщили об отмене визита Путина в ПарижПесков объяснил отмену визита Путина в Париж'] = \"\"\"Former French President Nicolas Sarkozy criticized the current head of state François Hollande's approach to relations with Moscow. His words are quoted by TASS. “I regret the current policy towards Russia,” he told reporters, commenting on the news of the cancellation of President Vladimir Putin’s visit to Paris. Sarkozy, intending to run for president in 2017, has warned against \"entering a new cold war.\" According to him, \"the duty and obligation of France and Europe is to conduct a dialogue with Russia.\" \"How can you resolve the situation if you communicate with each other only through press releases?\" - Sarkozy said. Hollande refused to consider the cancellation of Putin's visit as a hindrance to the discussion on Syria France announced the cancellation of Putin's visit to Paris Sands explained the cancellation of Putin's visit to Paris\"\"\"\n",
    "    texts_en_all['Президент России Владимир Путин заявил, что выступает за бессрочный закон об особом статусе Донбасса. Об этом он заявил на пресс-конференции после переговоров с канцлером Германии Ангелой Меркель в Кремле, передает «Интерфакс». Глава государства призвал руководство Украины начать реализацию минских соглашений, несмотря на внутриполитические проблемы. «Мы понимаем все сложности внутриполитического процесса на Украине, но, если все заинтересованные стороны хотят добиться окончательного урегулирования, нужно идти по реализации минских соглашений», — сказал Путин. Он также отметил, что на переговорах с канцлером Германии «подробно обсуждалось» урегулирование внутриукраинского кризиса. Ранее министр иностранных дел Украины Вадим Пристайко заявил, что принятие «формулы Штайнмайера» не означает проведения выборов в Донбассе любой ценой.Украина отказалась проводить выборы в Донбассе любой ценойОписаны пять сценариев развития ситуации в ДонбассеНа Украине раскрыли план по введению «формулы Штайнмайера» в законодательство'] = \"\"\"Russian President Vladimir Putin said he was in favor of an unlimited law on the special status of Donbass. He stated this at a press conference after talks with German Chancellor Angela Merkel in the Kremlin, Interfax reports. The head of state called on the Ukrainian leadership to start implementing the Minsk agreements, despite the internal political problems. “We understand all the complexities of the internal political process in Ukraine, but if all interested parties want to achieve a final settlement, we need to follow the implementation of the Minsk agreements,” Putin said. He also noted that during the talks with the German Chancellor, the settlement of the internal Ukrainian crisis was \"discussed in detail\". Earlier, the Minister of Foreign Affairs of Ukraine Vadim Prystaiko said that the adoption of the \"Steinmeier formula\" does not mean holding elections in Donbass at any cost.\"\"\"\n",
    "\n",
    "\n",
    "\n"
   ]
  },
  {
   "cell_type": "code",
   "execution_count": 8,
   "metadata": {
    "id": "lk9goEescLU8"
   },
   "outputs": [],
   "source": [
    "def fix_placeholder(string):\n",
    "  return string.replace('@Placeholder', '@placeholder').replace('@ placeholder', '@placeholder').replace('@ Placeholder', '@placeholder')"
   ]
  },
  {
   "cell_type": "code",
   "execution_count": 9,
   "metadata": {
    "colab": {
     "base_uri": "https://localhost:8080/"
    },
    "id": "eCuM26dUaXpG",
    "outputId": "e97c1f0b-f883-4128-facc-a6bf2a8d8faa"
   },
   "outputs": [
    {
     "name": "stdout",
     "output_type": "stream",
     "text": [
      "Collecting fuzzywuzzy\n",
      "  Using cached fuzzywuzzy-0.18.0-py2.py3-none-any.whl (18 kB)\n",
      "Installing collected packages: fuzzywuzzy\n",
      "Successfully installed fuzzywuzzy-0.18.0\n"
     ]
    }
   ],
   "source": [
    "!pip install fuzzywuzzy"
   ]
  },
  {
   "cell_type": "code",
   "execution_count": 10,
   "metadata": {
    "colab": {
     "base_uri": "https://localhost:8080/"
    },
    "id": "cV63bNffOWOl",
    "outputId": "1e53d251-d07e-440d-ac61-46310e62c258"
   },
   "outputs": [
    {
     "name": "stderr",
     "output_type": "stream",
     "text": [
      "/home/user/conda/lib/python3.7/site-packages/fuzzywuzzy/fuzz.py:11: UserWarning: Using slow pure-python SequenceMatcher. Install python-Levenshtein to remove this warning\n",
      "  warnings.warn('Using slow pure-python SequenceMatcher. Install python-Levenshtein to remove this warning')\n"
     ]
    }
   ],
   "source": [
    "import json\n",
    "from fuzzywuzzy import fuzz"
   ]
  },
  {
   "cell_type": "code",
   "execution_count": 11,
   "metadata": {
    "id": "S53reMalOA1C"
   },
   "outputs": [
    {
     "name": "stdout",
     "output_type": "stream",
     "text": [
      "Collecting transformers\n",
      "  Using cached transformers-4.3.3-py3-none-any.whl (1.9 MB)\n",
      "Requirement already satisfied: requests in /home/user/conda/lib/python3.7/site-packages (from transformers) (2.24.0)\n",
      "Collecting filelock\n",
      "  Using cached filelock-3.0.12-py3-none-any.whl (7.6 kB)\n",
      "Requirement already satisfied: numpy>=1.17 in /home/user/conda/lib/python3.7/site-packages (from transformers) (1.19.2)\n",
      "Requirement already satisfied: importlib-metadata; python_version < \"3.8\" in /home/user/conda/lib/python3.7/site-packages (from transformers) (2.0.0)\n",
      "Requirement already satisfied: regex!=2019.12.17 in /home/user/conda/lib/python3.7/site-packages (from transformers) (2020.10.11)\n",
      "Requirement already satisfied: packaging in /home/user/conda/lib/python3.7/site-packages (from transformers) (20.4)\n",
      "Collecting tokenizers<0.11,>=0.10.1\n",
      "  Using cached tokenizers-0.10.1-cp37-cp37m-manylinux2010_x86_64.whl (3.2 MB)\n",
      "Processing /home/jovyan/.cache/pip/wheels/69/09/d1/bf058f7d6fa0ecba2ce7c66be3b8d012beb4bf61a6e0c101c0/sacremoses-0.0.43-py3-none-any.whl\n",
      "Requirement already satisfied: tqdm>=4.27 in /home/user/conda/lib/python3.7/site-packages (from transformers) (4.48.0)\n",
      "Requirement already satisfied: chardet<4,>=3.0.2 in /home/user/conda/lib/python3.7/site-packages (from requests->transformers) (3.0.4)\n",
      "Requirement already satisfied: certifi>=2017.4.17 in /home/user/conda/lib/python3.7/site-packages (from requests->transformers) (2020.12.5)\n",
      "Requirement already satisfied: idna<3,>=2.5 in /home/user/conda/lib/python3.7/site-packages (from requests->transformers) (2.10)\n",
      "Requirement already satisfied: urllib3!=1.25.0,!=1.25.1,<1.26,>=1.21.1 in /home/user/conda/lib/python3.7/site-packages (from requests->transformers) (1.25.9)\n",
      "Requirement already satisfied: zipp>=0.5 in /home/user/conda/lib/python3.7/site-packages (from importlib-metadata; python_version < \"3.8\"->transformers) (3.3.0)\n",
      "Requirement already satisfied: six in /home/user/conda/lib/python3.7/site-packages (from packaging->transformers) (1.15.0)\n",
      "Requirement already satisfied: pyparsing>=2.0.2 in /home/user/conda/lib/python3.7/site-packages (from packaging->transformers) (2.4.7)\n",
      "Requirement already satisfied: click in /home/user/conda/lib/python3.7/site-packages (from sacremoses->transformers) (7.1.2)\n",
      "Requirement already satisfied: joblib in /home/user/conda/lib/python3.7/site-packages (from sacremoses->transformers) (0.17.0)\n",
      "Installing collected packages: filelock, tokenizers, sacremoses, transformers\n",
      "Successfully installed filelock-3.0.12 sacremoses-0.0.43 tokenizers-0.10.1 transformers-4.3.3\n"
     ]
    }
   ],
   "source": [
    "!pip install transformers"
   ]
  },
  {
   "cell_type": "code",
   "execution_count": 13,
   "metadata": {
    "id": "uPaJwnItOOBr"
   },
   "outputs": [],
   "source": [
    "answers_en = json.loads(open(\"answers_all.json\").read())\n",
    "questions_en = json.loads(open(\"questions_test.json\").read())\n",
    "texts_en = json.loads(open(\"texts_test.json\").read())"
   ]
  },
  {
   "cell_type": "code",
   "execution_count": 12,
   "metadata": {
    "id": "VMqs9dBRVzXZ"
   },
   "outputs": [],
   "source": [
    "texts_en_all = json.loads(open(\"texts_validation.json\").read())\n",
    "answers_en_all = json.loads(open(\"answers_all.json\").read())\n",
    "questions_en_all = json.loads(open(\"questions_validation.json\").read())"
   ]
  },
  {
   "cell_type": "code",
   "execution_count": 14,
   "metadata": {
    "id": "GP9UA705ROkA"
   },
   "outputs": [],
   "source": [
    "train = read_jsonl(\"rucos_train.jsonl\")\n",
    "val = read_jsonl(\"rucos_val.jsonl\")\n",
    "test = read_jsonl(\"rucos_test.jsonl\")"
   ]
  },
  {
   "cell_type": "code",
   "execution_count": 15,
   "metadata": {
    "id": "wHFuieTBncOL"
   },
   "outputs": [],
   "source": [
    "from sklearn.metrics import f1_score"
   ]
  },
  {
   "cell_type": "code",
   "execution_count": 17,
   "metadata": {
    "id": "3zztY1-9Ids7"
   },
   "outputs": [],
   "source": [
    "fillthegaps()"
   ]
  },
  {
   "cell_type": "code",
   "execution_count": 18,
   "metadata": {
    "id": "VptNpFUAVvxn"
   },
   "outputs": [],
   "source": [
    "multirc_val = list(map(to_mr_format_all, val))"
   ]
  },
  {
   "cell_type": "code",
   "execution_count": 30,
   "metadata": {},
   "outputs": [],
   "source": [
    "texts_en_all = json.loads(open(\"texts_test.json\").read())\n",
    "questions_en_all = json.loads(open(\"questions_test.json\").read())"
   ]
  },
  {
   "cell_type": "code",
   "execution_count": 34,
   "metadata": {},
   "outputs": [],
   "source": [
    "multirc_test = list(map((lambda x: to_mr_format_all(x, test=True)), test))"
   ]
  },
  {
   "cell_type": "code",
   "execution_count": 36,
   "metadata": {
    "id": "g5hffc1fxKWr"
   },
   "outputs": [],
   "source": [
    "X_test, y_test = split_X_y(multirc_test)"
   ]
  },
  {
   "cell_type": "code",
   "execution_count": 22,
   "metadata": {
    "id": "9M2RVug7cDP3"
   },
   "outputs": [],
   "source": [
    "X_val = list(map(fix_placeholder, X_val))"
   ]
  },
  {
   "cell_type": "code",
   "execution_count": 39,
   "metadata": {},
   "outputs": [],
   "source": [
    "X_test = list(map(fix_placeholder, X_test))"
   ]
  },
  {
   "cell_type": "code",
   "execution_count": 40,
   "metadata": {
    "colab": {
     "base_uri": "https://localhost:8080/",
     "height": 113,
     "referenced_widgets": [
      "d83a678a1fa64105818a6d989f5ced19",
      "8ff6912469aa435ba62d3b0c6b21df9c",
      "75300bc1feb74645a4022a8ada3c39d4",
      "04bff18fafb445238cf76846c1e04616",
      "a478acf14df74cb488e88735ec1ed56d",
      "183d4303d3bc40aca1a20425c200847f",
      "0bbd9e41f4a44ea0aa733189fdf0d2ca",
      "5596793b77554fe09e78446e2ac9ab6e",
      "7a3465ee792044619a23101641979f35",
      "15d971e8fe3141bfacfb36a0816db3ae",
      "2f40d5fda20f4e27811e5ad7d4518373",
      "eabbcec805e84846abbddaf64a0ca288",
      "7c0d769594484ee382b66ee964e064ea",
      "41850c9098934c00a133b60f8a22b4b4",
      "ef8f26394a5742c69b00f0a59d875b48",
      "269e4ee710b24e5db7bcbb6d67af7736"
     ]
    },
    "id": "uiigY6fkUecF",
    "outputId": "bc54d9ae-3cbc-4b50-ba06-cac74aae694e"
   },
   "outputs": [],
   "source": [
    "from transformers import T5ForConditionalGeneration, T5TokenizerFast\n",
    "model = T5ForConditionalGeneration.from_pretrained('t5-3b')\n",
    "tokenizer = T5TokenizerFast.from_pretrained('t5-3b')"
   ]
  },
  {
   "cell_type": "code",
   "execution_count": 41,
   "metadata": {
    "colab": {
     "base_uri": "https://localhost:8080/"
    },
    "id": "Hsna5FPrO7ei",
    "outputId": "13eeb34d-6928-43a3-d7e5-21cff088d80a"
   },
   "outputs": [
    {
     "data": {
      "text/plain": [
       "1059"
      ]
     },
     "execution_count": 41,
     "metadata": {},
     "output_type": "execute_result"
    }
   ],
   "source": [
    "torch.cuda.empty_cache()\n",
    "gc.collect()"
   ]
  },
  {
   "cell_type": "code",
   "execution_count": 42,
   "metadata": {
    "id": "LoGjcWLYin5G"
   },
   "outputs": [],
   "source": [
    "model.parallelize()"
   ]
  },
  {
   "cell_type": "code",
   "execution_count": 34,
   "metadata": {
    "id": "4zEoWUqNVMGO"
   },
   "outputs": [],
   "source": [
    "val_tokens = tokenizer(list(X_val), padding=True, truncation=True, return_tensors=\"pt\").input_ids"
   ]
  },
  {
   "cell_type": "code",
   "execution_count": null,
   "metadata": {
    "colab": {
     "base_uri": "https://localhost:8080/",
     "height": 101,
     "referenced_widgets": [
      "d8b3525d2ed147c8971b201dd1c47a5a",
      "22576109232241d1b52bc2c2534b925e",
      "0320f3192ca4460689d49b87d0f7f484",
      "fd25fe6c2671407587126024cfc1921a",
      "54212e0e9f0742b59dfd203b863433fd",
      "967bf43026654fb0b4c7a9beb76ecb62",
      "0eabe9fc479842128655e980ec4848ed",
      "1dfaf4b35f7e48f1a1162850844c1696"
     ]
    },
    "id": "73V6YjlQg5Cv",
    "outputId": "17a0ad23-328c-40ee-cc31-e6e79e4f6a93"
   },
   "outputs": [
    {
     "data": {
      "application/vnd.jupyter.widget-view+json": {
       "model_id": "d8b3525d2ed147c8971b201dd1c47a5a",
       "version_major": 2,
       "version_minor": 0
      },
      "text/plain": [
       "HBox(children=(FloatProgress(value=0.0, max=9415.0), HTML(value='')))"
      ]
     },
     "metadata": {
      "tags": []
     },
     "output_type": "display_data"
    },
    {
     "name": "stderr",
     "output_type": "stream",
     "text": [
      "/usr/local/lib/python3.7/dist-packages/ipykernel_launcher.py:4: UserWarning: To copy construct from a tensor, it is recommended to use sourceTensor.clone().detach() or sourceTensor.clone().detach().requires_grad_(True), rather than torch.tensor(sourceTensor).\n",
      "  after removing the cwd from sys.path.\n"
     ]
    }
   ],
   "source": [
    "val_preds = []\n",
    "batch_size = 8\n",
    "for i in trange(0,len(val_tokens),batch_size):\n",
    "    outputs = model.generate(torch.tensor(val_tokens[i:i+batch_size]).to(\"cuda\"))\n",
    "    preds = 1 - outputs.cpu().numpy()[:,-1]\n",
    "    val_preds.extend(list(preds))\n",
    "    if i % 64 == 0:\n",
    "        torch.cuda.empty_cache()\n",
    "        gc.collect()"
   ]
  },
  {
   "cell_type": "code",
   "execution_count": 43,
   "metadata": {},
   "outputs": [],
   "source": [
    "test_tokens = tokenizer(list(X_test), padding=True, truncation=True, return_tensors=\"pt\").input_ids"
   ]
  },
  {
   "cell_type": "code",
   "execution_count": null,
   "metadata": {},
   "outputs": [],
   "source": [
    "test_preds = []\n",
    "batch_size = 64\n",
    "for i in range(0,len(test_tokens),batch_size):\n",
    "    outputs = model.generate(torch.tensor(test_tokens[i:i+batch_size]).to(\"cuda\"))\n",
    "    preds = 1 - outputs.cpu().numpy()[:,-1]\n",
    "    test_preds.extend(list(preds))\n",
    "    if i % 64 == 0:\n",
    "        torch.cuda.empty_cache()\n",
    "        gc.collect()\n",
    "        print(i)"
   ]
  },
  {
   "cell_type": "code",
   "execution_count": null,
   "metadata": {},
   "outputs": [],
   "source": []
  },
  {
   "cell_type": "code",
   "execution_count": 46,
   "metadata": {
    "id": "vB8icjWbPowj"
   },
   "outputs": [],
   "source": [
    "import numpy as np"
   ]
  },
  {
   "cell_type": "code",
   "execution_count": 47,
   "metadata": {
    "id": "rRhGKrG7PYk1"
   },
   "outputs": [],
   "source": [
    "np.save(\"multircformat_test_first8832.npy\", np.array(test_preds))"
   ]
  },
  {
   "cell_type": "code",
   "execution_count": 91,
   "metadata": {
    "id": "e_LjqguZCzGB"
   },
   "outputs": [],
   "source": [
    "np.save(\"multirc_record_base.npy\", np.array(val_preds))"
   ]
  },
  {
   "cell_type": "code",
   "execution_count": 87,
   "metadata": {
    "id": "lXNmFMkxBdfF"
   },
   "outputs": [],
   "source": [
    "ids = [i for i in range(len(y_val)) if y_val[i]]"
   ]
  },
  {
   "cell_type": "code",
   "execution_count": null,
   "metadata": {
    "id": "WCWjyTufCH9T"
   },
   "outputs": [],
   "source": [
    "mp.array(y_val)[ids]"
   ]
  },
  {
   "cell_type": "code",
   "execution_count": null,
   "metadata": {
    "colab": {
     "base_uri": "https://localhost:8080/"
    },
    "id": "a8oxANIfkbDm",
    "outputId": "a3ce8226-cb24-4190-8bb4-1f603cc844a4"
   },
   "outputs": [],
   "source": [
    "f1_score(np.array(val_preds)[ids], np.array(y_val)[ids])"
   ]
  }
 ],
 "metadata": {
  "accelerator": "GPU",
  "colab": {
   "machine_shape": "hm",
   "name": "MULTIRCFORMAT.ipynb",
   "provenance": []
  },
  "kernelspec": {
   "display_name": "Python 3",
   "language": "python",
   "name": "python3"
  },
  "language_info": {
   "codemirror_mode": {
    "name": "ipython",
    "version": 3
   },
   "file_extension": ".py",
   "mimetype": "text/x-python",
   "name": "python",
   "nbconvert_exporter": "python",
   "pygments_lexer": "ipython3",
   "version": "3.8.6"
  },
  "widgets": {
   "application/vnd.jupyter.widget-state+json": {
    "0320f3192ca4460689d49b87d0f7f484": {
     "model_module": "@jupyter-widgets/controls",
     "model_name": "FloatProgressModel",
     "state": {
      "_dom_classes": [],
      "_model_module": "@jupyter-widgets/controls",
      "_model_module_version": "1.5.0",
      "_model_name": "FloatProgressModel",
      "_view_count": null,
      "_view_module": "@jupyter-widgets/controls",
      "_view_module_version": "1.5.0",
      "_view_name": "ProgressView",
      "bar_style": "",
      "description": "100%",
      "description_tooltip": null,
      "layout": "IPY_MODEL_967bf43026654fb0b4c7a9beb76ecb62",
      "max": 9415,
      "min": 0,
      "orientation": "horizontal",
      "style": "IPY_MODEL_54212e0e9f0742b59dfd203b863433fd",
      "value": 9370
     }
    },
    "04bff18fafb445238cf76846c1e04616": {
     "model_module": "@jupyter-widgets/controls",
     "model_name": "HTMLModel",
     "state": {
      "_dom_classes": [],
      "_model_module": "@jupyter-widgets/controls",
      "_model_module_version": "1.5.0",
      "_model_name": "HTMLModel",
      "_view_count": null,
      "_view_module": "@jupyter-widgets/controls",
      "_view_module_version": "1.5.0",
      "_view_name": "HTMLView",
      "description": "",
      "description_tooltip": null,
      "layout": "IPY_MODEL_5596793b77554fe09e78446e2ac9ab6e",
      "placeholder": "​",
      "style": "IPY_MODEL_0bbd9e41f4a44ea0aa733189fdf0d2ca",
      "value": " 792k/792k [00:00&lt;00:00, 3.56MB/s]"
     }
    },
    "0bbd9e41f4a44ea0aa733189fdf0d2ca": {
     "model_module": "@jupyter-widgets/controls",
     "model_name": "DescriptionStyleModel",
     "state": {
      "_model_module": "@jupyter-widgets/controls",
      "_model_module_version": "1.5.0",
      "_model_name": "DescriptionStyleModel",
      "_view_count": null,
      "_view_module": "@jupyter-widgets/base",
      "_view_module_version": "1.2.0",
      "_view_name": "StyleView",
      "description_width": ""
     }
    },
    "0eabe9fc479842128655e980ec4848ed": {
     "model_module": "@jupyter-widgets/controls",
     "model_name": "DescriptionStyleModel",
     "state": {
      "_model_module": "@jupyter-widgets/controls",
      "_model_module_version": "1.5.0",
      "_model_name": "DescriptionStyleModel",
      "_view_count": null,
      "_view_module": "@jupyter-widgets/base",
      "_view_module_version": "1.2.0",
      "_view_name": "StyleView",
      "description_width": ""
     }
    },
    "15d971e8fe3141bfacfb36a0816db3ae": {
     "model_module": "@jupyter-widgets/base",
     "model_name": "LayoutModel",
     "state": {
      "_model_module": "@jupyter-widgets/base",
      "_model_module_version": "1.2.0",
      "_model_name": "LayoutModel",
      "_view_count": null,
      "_view_module": "@jupyter-widgets/base",
      "_view_module_version": "1.2.0",
      "_view_name": "LayoutView",
      "align_content": null,
      "align_items": null,
      "align_self": null,
      "border": null,
      "bottom": null,
      "display": null,
      "flex": null,
      "flex_flow": null,
      "grid_area": null,
      "grid_auto_columns": null,
      "grid_auto_flow": null,
      "grid_auto_rows": null,
      "grid_column": null,
      "grid_gap": null,
      "grid_row": null,
      "grid_template_areas": null,
      "grid_template_columns": null,
      "grid_template_rows": null,
      "height": null,
      "justify_content": null,
      "justify_items": null,
      "left": null,
      "margin": null,
      "max_height": null,
      "max_width": null,
      "min_height": null,
      "min_width": null,
      "object_fit": null,
      "object_position": null,
      "order": null,
      "overflow": null,
      "overflow_x": null,
      "overflow_y": null,
      "padding": null,
      "right": null,
      "top": null,
      "visibility": null,
      "width": null
     }
    },
    "183d4303d3bc40aca1a20425c200847f": {
     "model_module": "@jupyter-widgets/base",
     "model_name": "LayoutModel",
     "state": {
      "_model_module": "@jupyter-widgets/base",
      "_model_module_version": "1.2.0",
      "_model_name": "LayoutModel",
      "_view_count": null,
      "_view_module": "@jupyter-widgets/base",
      "_view_module_version": "1.2.0",
      "_view_name": "LayoutView",
      "align_content": null,
      "align_items": null,
      "align_self": null,
      "border": null,
      "bottom": null,
      "display": null,
      "flex": null,
      "flex_flow": null,
      "grid_area": null,
      "grid_auto_columns": null,
      "grid_auto_flow": null,
      "grid_auto_rows": null,
      "grid_column": null,
      "grid_gap": null,
      "grid_row": null,
      "grid_template_areas": null,
      "grid_template_columns": null,
      "grid_template_rows": null,
      "height": null,
      "justify_content": null,
      "justify_items": null,
      "left": null,
      "margin": null,
      "max_height": null,
      "max_width": null,
      "min_height": null,
      "min_width": null,
      "object_fit": null,
      "object_position": null,
      "order": null,
      "overflow": null,
      "overflow_x": null,
      "overflow_y": null,
      "padding": null,
      "right": null,
      "top": null,
      "visibility": null,
      "width": null
     }
    },
    "1dfaf4b35f7e48f1a1162850844c1696": {
     "model_module": "@jupyter-widgets/base",
     "model_name": "LayoutModel",
     "state": {
      "_model_module": "@jupyter-widgets/base",
      "_model_module_version": "1.2.0",
      "_model_name": "LayoutModel",
      "_view_count": null,
      "_view_module": "@jupyter-widgets/base",
      "_view_module_version": "1.2.0",
      "_view_name": "LayoutView",
      "align_content": null,
      "align_items": null,
      "align_self": null,
      "border": null,
      "bottom": null,
      "display": null,
      "flex": null,
      "flex_flow": null,
      "grid_area": null,
      "grid_auto_columns": null,
      "grid_auto_flow": null,
      "grid_auto_rows": null,
      "grid_column": null,
      "grid_gap": null,
      "grid_row": null,
      "grid_template_areas": null,
      "grid_template_columns": null,
      "grid_template_rows": null,
      "height": null,
      "justify_content": null,
      "justify_items": null,
      "left": null,
      "margin": null,
      "max_height": null,
      "max_width": null,
      "min_height": null,
      "min_width": null,
      "object_fit": null,
      "object_position": null,
      "order": null,
      "overflow": null,
      "overflow_x": null,
      "overflow_y": null,
      "padding": null,
      "right": null,
      "top": null,
      "visibility": null,
      "width": null
     }
    },
    "22576109232241d1b52bc2c2534b925e": {
     "model_module": "@jupyter-widgets/base",
     "model_name": "LayoutModel",
     "state": {
      "_model_module": "@jupyter-widgets/base",
      "_model_module_version": "1.2.0",
      "_model_name": "LayoutModel",
      "_view_count": null,
      "_view_module": "@jupyter-widgets/base",
      "_view_module_version": "1.2.0",
      "_view_name": "LayoutView",
      "align_content": null,
      "align_items": null,
      "align_self": null,
      "border": null,
      "bottom": null,
      "display": null,
      "flex": null,
      "flex_flow": null,
      "grid_area": null,
      "grid_auto_columns": null,
      "grid_auto_flow": null,
      "grid_auto_rows": null,
      "grid_column": null,
      "grid_gap": null,
      "grid_row": null,
      "grid_template_areas": null,
      "grid_template_columns": null,
      "grid_template_rows": null,
      "height": null,
      "justify_content": null,
      "justify_items": null,
      "left": null,
      "margin": null,
      "max_height": null,
      "max_width": null,
      "min_height": null,
      "min_width": null,
      "object_fit": null,
      "object_position": null,
      "order": null,
      "overflow": null,
      "overflow_x": null,
      "overflow_y": null,
      "padding": null,
      "right": null,
      "top": null,
      "visibility": null,
      "width": null
     }
    },
    "269e4ee710b24e5db7bcbb6d67af7736": {
     "model_module": "@jupyter-widgets/base",
     "model_name": "LayoutModel",
     "state": {
      "_model_module": "@jupyter-widgets/base",
      "_model_module_version": "1.2.0",
      "_model_name": "LayoutModel",
      "_view_count": null,
      "_view_module": "@jupyter-widgets/base",
      "_view_module_version": "1.2.0",
      "_view_name": "LayoutView",
      "align_content": null,
      "align_items": null,
      "align_self": null,
      "border": null,
      "bottom": null,
      "display": null,
      "flex": null,
      "flex_flow": null,
      "grid_area": null,
      "grid_auto_columns": null,
      "grid_auto_flow": null,
      "grid_auto_rows": null,
      "grid_column": null,
      "grid_gap": null,
      "grid_row": null,
      "grid_template_areas": null,
      "grid_template_columns": null,
      "grid_template_rows": null,
      "height": null,
      "justify_content": null,
      "justify_items": null,
      "left": null,
      "margin": null,
      "max_height": null,
      "max_width": null,
      "min_height": null,
      "min_width": null,
      "object_fit": null,
      "object_position": null,
      "order": null,
      "overflow": null,
      "overflow_x": null,
      "overflow_y": null,
      "padding": null,
      "right": null,
      "top": null,
      "visibility": null,
      "width": null
     }
    },
    "2f40d5fda20f4e27811e5ad7d4518373": {
     "model_module": "@jupyter-widgets/controls",
     "model_name": "FloatProgressModel",
     "state": {
      "_dom_classes": [],
      "_model_module": "@jupyter-widgets/controls",
      "_model_module_version": "1.5.0",
      "_model_name": "FloatProgressModel",
      "_view_count": null,
      "_view_module": "@jupyter-widgets/controls",
      "_view_module_version": "1.5.0",
      "_view_name": "ProgressView",
      "bar_style": "success",
      "description": "Downloading: 100%",
      "description_tooltip": null,
      "layout": "IPY_MODEL_41850c9098934c00a133b60f8a22b4b4",
      "max": 1389353,
      "min": 0,
      "orientation": "horizontal",
      "style": "IPY_MODEL_7c0d769594484ee382b66ee964e064ea",
      "value": 1389353
     }
    },
    "41850c9098934c00a133b60f8a22b4b4": {
     "model_module": "@jupyter-widgets/base",
     "model_name": "LayoutModel",
     "state": {
      "_model_module": "@jupyter-widgets/base",
      "_model_module_version": "1.2.0",
      "_model_name": "LayoutModel",
      "_view_count": null,
      "_view_module": "@jupyter-widgets/base",
      "_view_module_version": "1.2.0",
      "_view_name": "LayoutView",
      "align_content": null,
      "align_items": null,
      "align_self": null,
      "border": null,
      "bottom": null,
      "display": null,
      "flex": null,
      "flex_flow": null,
      "grid_area": null,
      "grid_auto_columns": null,
      "grid_auto_flow": null,
      "grid_auto_rows": null,
      "grid_column": null,
      "grid_gap": null,
      "grid_row": null,
      "grid_template_areas": null,
      "grid_template_columns": null,
      "grid_template_rows": null,
      "height": null,
      "justify_content": null,
      "justify_items": null,
      "left": null,
      "margin": null,
      "max_height": null,
      "max_width": null,
      "min_height": null,
      "min_width": null,
      "object_fit": null,
      "object_position": null,
      "order": null,
      "overflow": null,
      "overflow_x": null,
      "overflow_y": null,
      "padding": null,
      "right": null,
      "top": null,
      "visibility": null,
      "width": null
     }
    },
    "54212e0e9f0742b59dfd203b863433fd": {
     "model_module": "@jupyter-widgets/controls",
     "model_name": "ProgressStyleModel",
     "state": {
      "_model_module": "@jupyter-widgets/controls",
      "_model_module_version": "1.5.0",
      "_model_name": "ProgressStyleModel",
      "_view_count": null,
      "_view_module": "@jupyter-widgets/base",
      "_view_module_version": "1.2.0",
      "_view_name": "StyleView",
      "bar_color": null,
      "description_width": "initial"
     }
    },
    "5596793b77554fe09e78446e2ac9ab6e": {
     "model_module": "@jupyter-widgets/base",
     "model_name": "LayoutModel",
     "state": {
      "_model_module": "@jupyter-widgets/base",
      "_model_module_version": "1.2.0",
      "_model_name": "LayoutModel",
      "_view_count": null,
      "_view_module": "@jupyter-widgets/base",
      "_view_module_version": "1.2.0",
      "_view_name": "LayoutView",
      "align_content": null,
      "align_items": null,
      "align_self": null,
      "border": null,
      "bottom": null,
      "display": null,
      "flex": null,
      "flex_flow": null,
      "grid_area": null,
      "grid_auto_columns": null,
      "grid_auto_flow": null,
      "grid_auto_rows": null,
      "grid_column": null,
      "grid_gap": null,
      "grid_row": null,
      "grid_template_areas": null,
      "grid_template_columns": null,
      "grid_template_rows": null,
      "height": null,
      "justify_content": null,
      "justify_items": null,
      "left": null,
      "margin": null,
      "max_height": null,
      "max_width": null,
      "min_height": null,
      "min_width": null,
      "object_fit": null,
      "object_position": null,
      "order": null,
      "overflow": null,
      "overflow_x": null,
      "overflow_y": null,
      "padding": null,
      "right": null,
      "top": null,
      "visibility": null,
      "width": null
     }
    },
    "75300bc1feb74645a4022a8ada3c39d4": {
     "model_module": "@jupyter-widgets/controls",
     "model_name": "FloatProgressModel",
     "state": {
      "_dom_classes": [],
      "_model_module": "@jupyter-widgets/controls",
      "_model_module_version": "1.5.0",
      "_model_name": "FloatProgressModel",
      "_view_count": null,
      "_view_module": "@jupyter-widgets/controls",
      "_view_module_version": "1.5.0",
      "_view_name": "ProgressView",
      "bar_style": "success",
      "description": "Downloading: 100%",
      "description_tooltip": null,
      "layout": "IPY_MODEL_183d4303d3bc40aca1a20425c200847f",
      "max": 791656,
      "min": 0,
      "orientation": "horizontal",
      "style": "IPY_MODEL_a478acf14df74cb488e88735ec1ed56d",
      "value": 791656
     }
    },
    "7a3465ee792044619a23101641979f35": {
     "model_module": "@jupyter-widgets/controls",
     "model_name": "HBoxModel",
     "state": {
      "_dom_classes": [],
      "_model_module": "@jupyter-widgets/controls",
      "_model_module_version": "1.5.0",
      "_model_name": "HBoxModel",
      "_view_count": null,
      "_view_module": "@jupyter-widgets/controls",
      "_view_module_version": "1.5.0",
      "_view_name": "HBoxView",
      "box_style": "",
      "children": [
       "IPY_MODEL_2f40d5fda20f4e27811e5ad7d4518373",
       "IPY_MODEL_eabbcec805e84846abbddaf64a0ca288"
      ],
      "layout": "IPY_MODEL_15d971e8fe3141bfacfb36a0816db3ae"
     }
    },
    "7c0d769594484ee382b66ee964e064ea": {
     "model_module": "@jupyter-widgets/controls",
     "model_name": "ProgressStyleModel",
     "state": {
      "_model_module": "@jupyter-widgets/controls",
      "_model_module_version": "1.5.0",
      "_model_name": "ProgressStyleModel",
      "_view_count": null,
      "_view_module": "@jupyter-widgets/base",
      "_view_module_version": "1.2.0",
      "_view_name": "StyleView",
      "bar_color": null,
      "description_width": "initial"
     }
    },
    "8ff6912469aa435ba62d3b0c6b21df9c": {
     "model_module": "@jupyter-widgets/base",
     "model_name": "LayoutModel",
     "state": {
      "_model_module": "@jupyter-widgets/base",
      "_model_module_version": "1.2.0",
      "_model_name": "LayoutModel",
      "_view_count": null,
      "_view_module": "@jupyter-widgets/base",
      "_view_module_version": "1.2.0",
      "_view_name": "LayoutView",
      "align_content": null,
      "align_items": null,
      "align_self": null,
      "border": null,
      "bottom": null,
      "display": null,
      "flex": null,
      "flex_flow": null,
      "grid_area": null,
      "grid_auto_columns": null,
      "grid_auto_flow": null,
      "grid_auto_rows": null,
      "grid_column": null,
      "grid_gap": null,
      "grid_row": null,
      "grid_template_areas": null,
      "grid_template_columns": null,
      "grid_template_rows": null,
      "height": null,
      "justify_content": null,
      "justify_items": null,
      "left": null,
      "margin": null,
      "max_height": null,
      "max_width": null,
      "min_height": null,
      "min_width": null,
      "object_fit": null,
      "object_position": null,
      "order": null,
      "overflow": null,
      "overflow_x": null,
      "overflow_y": null,
      "padding": null,
      "right": null,
      "top": null,
      "visibility": null,
      "width": null
     }
    },
    "967bf43026654fb0b4c7a9beb76ecb62": {
     "model_module": "@jupyter-widgets/base",
     "model_name": "LayoutModel",
     "state": {
      "_model_module": "@jupyter-widgets/base",
      "_model_module_version": "1.2.0",
      "_model_name": "LayoutModel",
      "_view_count": null,
      "_view_module": "@jupyter-widgets/base",
      "_view_module_version": "1.2.0",
      "_view_name": "LayoutView",
      "align_content": null,
      "align_items": null,
      "align_self": null,
      "border": null,
      "bottom": null,
      "display": null,
      "flex": null,
      "flex_flow": null,
      "grid_area": null,
      "grid_auto_columns": null,
      "grid_auto_flow": null,
      "grid_auto_rows": null,
      "grid_column": null,
      "grid_gap": null,
      "grid_row": null,
      "grid_template_areas": null,
      "grid_template_columns": null,
      "grid_template_rows": null,
      "height": null,
      "justify_content": null,
      "justify_items": null,
      "left": null,
      "margin": null,
      "max_height": null,
      "max_width": null,
      "min_height": null,
      "min_width": null,
      "object_fit": null,
      "object_position": null,
      "order": null,
      "overflow": null,
      "overflow_x": null,
      "overflow_y": null,
      "padding": null,
      "right": null,
      "top": null,
      "visibility": null,
      "width": null
     }
    },
    "a478acf14df74cb488e88735ec1ed56d": {
     "model_module": "@jupyter-widgets/controls",
     "model_name": "ProgressStyleModel",
     "state": {
      "_model_module": "@jupyter-widgets/controls",
      "_model_module_version": "1.5.0",
      "_model_name": "ProgressStyleModel",
      "_view_count": null,
      "_view_module": "@jupyter-widgets/base",
      "_view_module_version": "1.2.0",
      "_view_name": "StyleView",
      "bar_color": null,
      "description_width": "initial"
     }
    },
    "d83a678a1fa64105818a6d989f5ced19": {
     "model_module": "@jupyter-widgets/controls",
     "model_name": "HBoxModel",
     "state": {
      "_dom_classes": [],
      "_model_module": "@jupyter-widgets/controls",
      "_model_module_version": "1.5.0",
      "_model_name": "HBoxModel",
      "_view_count": null,
      "_view_module": "@jupyter-widgets/controls",
      "_view_module_version": "1.5.0",
      "_view_name": "HBoxView",
      "box_style": "",
      "children": [
       "IPY_MODEL_75300bc1feb74645a4022a8ada3c39d4",
       "IPY_MODEL_04bff18fafb445238cf76846c1e04616"
      ],
      "layout": "IPY_MODEL_8ff6912469aa435ba62d3b0c6b21df9c"
     }
    },
    "d8b3525d2ed147c8971b201dd1c47a5a": {
     "model_module": "@jupyter-widgets/controls",
     "model_name": "HBoxModel",
     "state": {
      "_dom_classes": [],
      "_model_module": "@jupyter-widgets/controls",
      "_model_module_version": "1.5.0",
      "_model_name": "HBoxModel",
      "_view_count": null,
      "_view_module": "@jupyter-widgets/controls",
      "_view_module_version": "1.5.0",
      "_view_name": "HBoxView",
      "box_style": "",
      "children": [
       "IPY_MODEL_0320f3192ca4460689d49b87d0f7f484",
       "IPY_MODEL_fd25fe6c2671407587126024cfc1921a"
      ],
      "layout": "IPY_MODEL_22576109232241d1b52bc2c2534b925e"
     }
    },
    "eabbcec805e84846abbddaf64a0ca288": {
     "model_module": "@jupyter-widgets/controls",
     "model_name": "HTMLModel",
     "state": {
      "_dom_classes": [],
      "_model_module": "@jupyter-widgets/controls",
      "_model_module_version": "1.5.0",
      "_model_name": "HTMLModel",
      "_view_count": null,
      "_view_module": "@jupyter-widgets/controls",
      "_view_module_version": "1.5.0",
      "_view_name": "HTMLView",
      "description": "",
      "description_tooltip": null,
      "layout": "IPY_MODEL_269e4ee710b24e5db7bcbb6d67af7736",
      "placeholder": "​",
      "style": "IPY_MODEL_ef8f26394a5742c69b00f0a59d875b48",
      "value": " 1.39M/1.39M [01:07&lt;00:00, 20.4kB/s]"
     }
    },
    "ef8f26394a5742c69b00f0a59d875b48": {
     "model_module": "@jupyter-widgets/controls",
     "model_name": "DescriptionStyleModel",
     "state": {
      "_model_module": "@jupyter-widgets/controls",
      "_model_module_version": "1.5.0",
      "_model_name": "DescriptionStyleModel",
      "_view_count": null,
      "_view_module": "@jupyter-widgets/base",
      "_view_module_version": "1.2.0",
      "_view_name": "StyleView",
      "description_width": ""
     }
    },
    "fd25fe6c2671407587126024cfc1921a": {
     "model_module": "@jupyter-widgets/controls",
     "model_name": "HTMLModel",
     "state": {
      "_dom_classes": [],
      "_model_module": "@jupyter-widgets/controls",
      "_model_module_version": "1.5.0",
      "_model_name": "HTMLModel",
      "_view_count": null,
      "_view_module": "@jupyter-widgets/controls",
      "_view_module_version": "1.5.0",
      "_view_name": "HTMLView",
      "description": "",
      "description_tooltip": null,
      "layout": "IPY_MODEL_1dfaf4b35f7e48f1a1162850844c1696",
      "placeholder": "​",
      "style": "IPY_MODEL_0eabe9fc479842128655e980ec4848ed",
      "value": " 9370/9415 [5:47:40&lt;01:42,  2.27s/it]"
     }
    }
   }
  }
 },
 "nbformat": 4,
 "nbformat_minor": 1
}
