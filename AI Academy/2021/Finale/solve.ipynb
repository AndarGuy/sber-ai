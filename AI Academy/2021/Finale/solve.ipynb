{
 "cells": [
  {
   "cell_type": "markdown",
   "metadata": {
    "id": "aWX0ONNZGjIR"
   },
   "source": [
    "# Prepare"
   ]
  },
  {
   "cell_type": "markdown",
   "metadata": {
    "id": "Zy6I9yEnGjIR"
   },
   "source": [
    "Import some libraries"
   ]
  },
  {
   "cell_type": "code",
   "execution_count": 1,
   "metadata": {
    "id": "F0cneqNJGjIR"
   },
   "outputs": [],
   "source": [
    "from IPython.core.interactiveshell import InteractiveShell\n",
    "import json\n",
    "import os, re\n",
    "import pandas as pd\n",
    "import numpy as np\n",
    "import time\n",
    "import random\n",
    "from tqdm.notebook import tqdm\n",
    "import matplotlib.pyplot as plt\n",
    "import ast\n",
    "import math\n",
    "from jupyterthemes import jtplot\n",
    "\n",
    "jtplot.style(theme='chesterish')"
   ]
  },
  {
   "cell_type": "markdown",
   "metadata": {
    "id": "PXtS7mY3GjIR"
   },
   "source": [
    "Define important methods"
   ]
  },
  {
   "cell_type": "code",
   "execution_count": 2,
   "metadata": {
    "code_folding": [],
    "id": "TiUw5uujGjIR"
   },
   "outputs": [],
   "source": [
    "def load_jsonl(jsonl):\n",
    "    with open(jsonl, 'r') as file:\n",
    "        return [json.loads(line) for line in list(file)]\n",
    "\n",
    "\n",
    "def load_json(file):\n",
    "    with open(file, 'r') as f:\n",
    "        return json.load(f)"
   ]
  },
  {
   "cell_type": "code",
   "execution_count": 3,
   "metadata": {
    "id": "xMAa-EBaLq4C"
   },
   "outputs": [],
   "source": [
    "def make_string(d, use=['context', 'question', 'answer']):\n",
    "    res = []\n",
    "    if 'context' in use:\n",
    "        res.append(\"Context: \" + d['context'])\n",
    "    if 'question' in use:\n",
    "        res.append(\"Question: \" + d['question'])\n",
    "    if 'answer' in use:\n",
    "        res.append(\"Answer: \" + d['answer'])\n",
    "    return ' [SEP] '.join(res) + ' [SEP]'"
   ]
  },
  {
   "cell_type": "code",
   "execution_count": 4,
   "metadata": {
    "id": "gR6dAKSuQNFN"
   },
   "outputs": [],
   "source": [
    "def make_dataset(d):\n",
    "    X, y = [], []\n",
    "    for i in simplify_data(d, remove_number=True):\n",
    "        X.append(make_string(i))\n",
    "        y.append(i['label'])\n",
    "    return X, y"
   ]
  },
  {
   "cell_type": "code",
   "execution_count": 5,
   "metadata": {},
   "outputs": [],
   "source": [
    "def save_predictions(predictions, filename=\"solution\"):\n",
    "    test=load_jsonl('data/test.jsonl')\n",
    "    if '.jsonl' not in filename:\n",
    "        filename += \".jsonl\"\n",
    "        \n",
    "    counter = 0\n",
    "    for item in test:\n",
    "        del item['passage']['text']\n",
    "        for question in item['passage']['questions']:\n",
    "            del question['question']\n",
    "            for answer in question['answers']:\n",
    "                del answer['text']\n",
    "                answer['label'] = int(predictions[counter])\n",
    "                counter += 1\n",
    "                \n",
    "    with open(filename, 'w') as file:\n",
    "        for line in test:\n",
    "            file.write(json.dumps(line) + '\\n')\n",
    "    print(\"call me\", filename)"
   ]
  },
  {
   "cell_type": "markdown",
   "metadata": {
    "id": "TYFr_VTgGjIR"
   },
   "source": [
    "# Load"
   ]
  },
  {
   "cell_type": "code",
   "execution_count": 6,
   "metadata": {
    "id": "R8Tu1zJJGjIR"
   },
   "outputs": [],
   "source": [
    "raw_validation, raw_train, raw_test = load_jsonl('data/val.jsonl'), load_jsonl(\n",
    "    'data/train.jsonl'), load_jsonl('data/test.jsonl')"
   ]
  },
  {
   "cell_type": "code",
   "execution_count": 7,
   "metadata": {
    "id": "gV2cZx7_Nysy"
   },
   "outputs": [],
   "source": [
    "for corpus in raw_validation + raw_train:\n",
    "    corpus['is_answered'] = True\n",
    "for corpus in raw_test:\n",
    "    corpus['is_answered'] = False"
   ]
  },
  {
   "cell_type": "code",
   "execution_count": 8,
   "metadata": {
    "id": "qx3kG6PfGjIR"
   },
   "outputs": [],
   "source": [
    "data = raw_train + raw_validation + raw_test"
   ]
  },
  {
   "cell_type": "markdown",
   "metadata": {
    "id": "9lj7tTAfslEP"
   },
   "source": [
    "Восстанавливаем индексы"
   ]
  },
  {
   "cell_type": "code",
   "execution_count": 9,
   "metadata": {
    "id": "_5Dy83gCtKtW"
   },
   "outputs": [],
   "source": [
    "context_index = 0\n",
    "question_index = 0\n",
    "answer_index = 0\n",
    "for idx, item in enumerate(data):\n",
    "    item['old_idx'] = item['idx']\n",
    "    item['idx'] = context_index\n",
    "    context_index += 1\n",
    "    for q in item['passage']['questions']:\n",
    "        q['old_idx'] = q['idx']\n",
    "        q['idx'] = question_index\n",
    "        question_index += 1\n",
    "        for answer in q['answers']:\n",
    "            answer['old_idx'] = answer['idx']\n",
    "            answer['idx'] = answer_index\n",
    "            answer_index += 1"
   ]
  },
  {
   "cell_type": "markdown",
   "metadata": {
    "id": "Qg6eFz_4wCF7"
   },
   "source": [
    "# Analyse"
   ]
  },
  {
   "cell_type": "code",
   "execution_count": 10,
   "metadata": {
    "id": "4HUNdqoswGhu"
   },
   "outputs": [],
   "source": [
    "amounts = {}\n",
    "for i in data:\n",
    "    if i['is_answered']:\n",
    "        for question in i['passage']['questions']:\n",
    "            right_answers_amount = sum(\n",
    "                map(lambda answer: answer['label'], question['answers']))\n",
    "            if right_answers_amount in amounts:\n",
    "                amounts[right_answers_amount] += 1\n",
    "            else:\n",
    "                amounts[right_answers_amount] = 0"
   ]
  },
  {
   "cell_type": "code",
   "execution_count": 11,
   "metadata": {
    "colab": {
     "base_uri": "https://localhost:8080/",
     "height": 312
    },
    "id": "Y4j1kWSwxvyV",
    "outputId": "122722e4-7379-459d-bfc5-84c9b25a3de2"
   },
   "outputs": [
    {
     "data": {
      "text/plain": [
       "Text(0, 0.5, 'Amount')"
      ]
     },
     "execution_count": 11,
     "metadata": {},
     "output_type": "execute_result"
    },
    {
     "data": {
      "image/png": "[encoded data removed]",
      "text/plain": [
       "<Figure size 460.8x403.2 with 1 Axes>"
      ]
     },
     "metadata": {},
     "output_type": "display_data"
    }
   ],
   "source": [
    "x = amounts.keys()\n",
    "y = amounts.values()\n",
    "plt.bar(x, y)\n",
    "plt.title(\"Answers\")\n",
    "plt.xlabel(\"Right answers\")\n",
    "plt.ylabel(\"Amount\")"
   ]
  },
  {
   "cell_type": "code",
   "execution_count": 12,
   "metadata": {
    "id": "6P9Ss-JO1Sox"
   },
   "outputs": [],
   "source": [
    "fractions = {}\n",
    "for i in data:\n",
    "    if i['is_answered']:\n",
    "        for question in i['passage']['questions']:\n",
    "            fraction = sum(\n",
    "                map(lambda answer: answer['label'],\n",
    "                    question['answers'])) / len(question['answers'])\n",
    "            if fraction in fractions:\n",
    "                fractions[fraction] += 1\n",
    "            else:\n",
    "                fractions[fraction] = 0"
   ]
  },
  {
   "cell_type": "code",
   "execution_count": 13,
   "metadata": {
    "colab": {
     "base_uri": "https://localhost:8080/",
     "height": 312
    },
    "id": "fyQw7c7SyjUC",
    "outputId": "c713294d-cd1b-4af6-d889-9a5ae3e3edc0"
   },
   "outputs": [
    {
     "data": {
      "text/plain": [
       "Text(0, 0.5, 'Amount')"
      ]
     },
     "execution_count": 13,
     "metadata": {},
     "output_type": "execute_result"
    },
    {
     "data": {
      "image/png": "[encoded data removed]",
      "text/plain": [
       "<Figure size 460.8x403.2 with 1 Axes>"
      ]
     },
     "metadata": {},
     "output_type": "display_data"
    }
   ],
   "source": [
    "x = fractions.keys()\n",
    "y = fractions.values()\n",
    "plt.bar(x, y)\n",
    "plt.title(\"Right answers ratio\")\n",
    "plt.xlabel(\"Ratio\")\n",
    "plt.ylabel(\"Amount\")"
   ]
  },
  {
   "cell_type": "markdown",
   "metadata": {},
   "source": [
    "import collections\n",
    "pd.DataFrame(collections.Counter(list(train['answer_ru'])).most_common(10), columns=['Answer', 'Amount']).set_index('Answer').plot(kind='barh')"
   ]
  },
  {
   "cell_type": "markdown",
   "metadata": {
    "id": "qaa-TbWMujPS"
   },
   "source": [
    "# Translate"
   ]
  },
  {
   "cell_type": "markdown",
   "metadata": {
    "id": "avAiNvaoun2z"
   },
   "source": [
    "Load translation dictionaries"
   ]
  },
  {
   "cell_type": "code",
   "execution_count": 14,
   "metadata": {
    "id": "r5__aNN3ulwH"
   },
   "outputs": [],
   "source": [
    "translated_answers, translated_questions, translated_texts = load_json(\n",
    "    'data/answers.json'), load_json('data/questions.json'), load_json(\n",
    "        'data/texts.json')"
   ]
  },
  {
   "cell_type": "code",
   "execution_count": 15,
   "metadata": {
    "id": "i4jEsZnFuqwW"
   },
   "outputs": [],
   "source": [
    "translated_questions[\n",
    "    'Почему медвежонок решил уйти из дома?'] = \"Why did the teddy bear decide to leave home?\""
   ]
  },
  {
   "cell_type": "code",
   "execution_count": 16,
   "metadata": {
    "id": "mXQZ3VjGusRR"
   },
   "outputs": [],
   "source": [
    "def translate(text, kind='text'):\n",
    "    if kind == 'text':\n",
    "        return translated_texts[text]\n",
    "    elif kind == 'question':\n",
    "        return translated_questions[text]\n",
    "    elif kind == 'answer':\n",
    "        return translated_answers[text]"
   ]
  },
  {
   "cell_type": "markdown",
   "metadata": {
    "id": "GLI8CvUpuvI4"
   },
   "source": [
    "Translate data"
   ]
  },
  {
   "cell_type": "code",
   "execution_count": 17,
   "metadata": {
    "id": "_w5wvnBQutpc"
   },
   "outputs": [],
   "source": [
    "for item in data:\n",
    "    passage = item['passage']\n",
    "    questions = passage['questions']\n",
    "    passage['text_en'] = translate(passage['text'], kind='text')\n",
    "    for question_idx, question in enumerate(questions):\n",
    "        questions[question_idx]['question_en'] = translate(\n",
    "            question['question'], kind='question')\n",
    "        answers = question['answers']\n",
    "        for answer_idx, answer in enumerate(answers):\n",
    "            answers[answer_idx]['text_en'] = translate(answer['text'],\n",
    "                                                       kind='answer')"
   ]
  },
  {
   "cell_type": "markdown",
   "metadata": {
    "id": "MA-X55ZSOkz8"
   },
   "source": [
    "# Make flatten"
   ]
  },
  {
   "cell_type": "code",
   "execution_count": 18,
   "metadata": {
    "id": "C5Vd39M5PLl5"
   },
   "outputs": [],
   "source": [
    "def remove_sentence_number(s):\n",
    "    return re.sub('\\(\\d+\\)[ ]*', '', s)"
   ]
  },
  {
   "cell_type": "code",
   "execution_count": 19,
   "metadata": {
    "id": "OcHMbCJwO9tD"
   },
   "outputs": [],
   "source": [
    "def simplify_data(d, split_answers=False, split_questions=True, use_en=True):\n",
    "    simplified = []\n",
    "    temp = {}\n",
    "    for item in d:\n",
    "        temp['context_ru'] = remove_sentence_number(item['passage']['text'])\n",
    "        if use_en:\n",
    "            temp['context_en'] = remove_sentence_number(item['passage']['text_en'])\n",
    "        temp['context_idx'] = item['idx']\n",
    "        temp['context_old_idx'] = item['old_idx']\n",
    "        temp['is_answered'] = item['is_answered']\n",
    "        if split_questions:\n",
    "            for question in item['passage']['questions']:\n",
    "                temp['question_ru'] = question['question']\n",
    "                if use_en:\n",
    "                    temp['question_en'] = question['question_en']\n",
    "                temp['question_idx'] = question['idx']\n",
    "                temp['question_old_idx'] = question['old_idx']\n",
    "                if split_answers:\n",
    "                    for answer in question['answers']:\n",
    "                        temp['answer_ru'] = answer['text']\n",
    "                        if use_en:\n",
    "                            temp['answer_en'] = answer['text_en']\n",
    "                        temp['answer_idx'] = answer['idx']\n",
    "                        temp['answer_old_idx'] = answer['old_idx']\n",
    "                        temp['label'] = answer[\n",
    "                            'label'] if 'label' in answer else None\n",
    "                        simplified.append(temp.copy())\n",
    "                else:\n",
    "                    temp['answers'] = question['answers']\n",
    "                    simplified.append(temp.copy())\n",
    "        else:\n",
    "            temp['questions'] = item['passage']['questions']\n",
    "            simplified.append(temp.copy())\n",
    "    return simplified"
   ]
  },
  {
   "cell_type": "code",
   "execution_count": 20,
   "metadata": {
    "id": "Wtxi1cZ7QRfC"
   },
   "outputs": [],
   "source": [
    "train = pd.DataFrame(list(simplify_data(data, split_answers=True)))"
   ]
  },
  {
   "cell_type": "code",
   "execution_count": 21,
   "metadata": {
    "colab": {
     "base_uri": "https://localhost:8080/",
     "height": 765
    },
    "id": "2smM6cICOqID",
    "outputId": "5d257f80-84f7-4225-e58e-4b1f21595772",
    "scrolled": true
   },
   "outputs": [
    {
     "data": {
      "text/html": [
       "<div>\n",
       "<style scoped>\n",
       "    .dataframe tbody tr th:only-of-type {\n",
       "        vertical-align: middle;\n",
       "    }\n",
       "\n",
       "    .dataframe tbody tr th {\n",
       "        vertical-align: top;\n",
       "    }\n",
       "\n",
       "    .dataframe thead th {\n",
       "        text-align: right;\n",
       "    }\n",
       "</style>\n",
       "<table border=\"1\" class=\"dataframe\">\n",
       "  <thead>\n",
       "    <tr style=\"text-align: right;\">\n",
       "      <th></th>\n",
       "      <th>context_ru</th>\n",
       "      <th>context_en</th>\n",
       "      <th>context_idx</th>\n",
       "      <th>context_old_idx</th>\n",
       "      <th>is_answered</th>\n",
       "      <th>question_ru</th>\n",
       "      <th>question_en</th>\n",
       "      <th>question_idx</th>\n",
       "      <th>question_old_idx</th>\n",
       "      <th>answer_ru</th>\n",
       "      <th>answer_en</th>\n",
       "      <th>answer_idx</th>\n",
       "      <th>answer_old_idx</th>\n",
       "      <th>label</th>\n",
       "    </tr>\n",
       "  </thead>\n",
       "  <tbody>\n",
       "    <tr>\n",
       "      <th>0</th>\n",
       "      <td>Но люди не могут существовать без природы, поэ...</td>\n",
       "      <td>But people cannot exist without nature, so the...</td>\n",
       "      <td>0</td>\n",
       "      <td>0</td>\n",
       "      <td>True</td>\n",
       "      <td>Где бегала шпана?</td>\n",
       "      <td>Where did the punks run?</td>\n",
       "      <td>0</td>\n",
       "      <td>0</td>\n",
       "      <td>В парке.</td>\n",
       "      <td>In the park.</td>\n",
       "      <td>0</td>\n",
       "      <td>0</td>\n",
       "      <td>1.0</td>\n",
       "    </tr>\n",
       "    <tr>\n",
       "      <th>1</th>\n",
       "      <td>Но люди не могут существовать без природы, поэ...</td>\n",
       "      <td>But people cannot exist without nature, so the...</td>\n",
       "      <td>0</td>\n",
       "      <td>0</td>\n",
       "      <td>True</td>\n",
       "      <td>Где бегала шпана?</td>\n",
       "      <td>Where did the punks run?</td>\n",
       "      <td>0</td>\n",
       "      <td>0</td>\n",
       "      <td>В лесу.</td>\n",
       "      <td>In the woods.</td>\n",
       "      <td>1</td>\n",
       "      <td>1</td>\n",
       "      <td>0.0</td>\n",
       "    </tr>\n",
       "    <tr>\n",
       "      <th>2</th>\n",
       "      <td>Но люди не могут существовать без природы, поэ...</td>\n",
       "      <td>But people cannot exist without nature, so the...</td>\n",
       "      <td>0</td>\n",
       "      <td>0</td>\n",
       "      <td>True</td>\n",
       "      <td>Где бегала шпана?</td>\n",
       "      <td>Where did the punks run?</td>\n",
       "      <td>0</td>\n",
       "      <td>0</td>\n",
       "      <td>Около подъезда.</td>\n",
       "      <td>Near the entrance.</td>\n",
       "      <td>2</td>\n",
       "      <td>2</td>\n",
       "      <td>0.0</td>\n",
       "    </tr>\n",
       "    <tr>\n",
       "      <th>3</th>\n",
       "      <td>Но люди не могут существовать без природы, поэ...</td>\n",
       "      <td>But people cannot exist without nature, so the...</td>\n",
       "      <td>0</td>\n",
       "      <td>0</td>\n",
       "      <td>True</td>\n",
       "      <td>Почему Люда ударила Артема?</td>\n",
       "      <td>Why did Luda hit Artyom?</td>\n",
       "      <td>1</td>\n",
       "      <td>1</td>\n",
       "      <td>Он к ней приставал.</td>\n",
       "      <td>He pestered her.</td>\n",
       "      <td>3</td>\n",
       "      <td>3</td>\n",
       "      <td>1.0</td>\n",
       "    </tr>\n",
       "    <tr>\n",
       "      <th>4</th>\n",
       "      <td>Но люди не могут существовать без природы, поэ...</td>\n",
       "      <td>But people cannot exist without nature, so the...</td>\n",
       "      <td>0</td>\n",
       "      <td>0</td>\n",
       "      <td>True</td>\n",
       "      <td>Почему Люда ударила Артема?</td>\n",
       "      <td>Why did Luda hit Artyom?</td>\n",
       "      <td>1</td>\n",
       "      <td>1</td>\n",
       "      <td>Он ее оскорбил.</td>\n",
       "      <td>He insulted her.</td>\n",
       "      <td>4</td>\n",
       "      <td>4</td>\n",
       "      <td>0.0</td>\n",
       "    </tr>\n",
       "  </tbody>\n",
       "</table>\n",
       "</div>"
      ],
      "text/plain": [
       "                                          context_ru  \\\n",
       "0  Но люди не могут существовать без природы, поэ...   \n",
       "1  Но люди не могут существовать без природы, поэ...   \n",
       "2  Но люди не могут существовать без природы, поэ...   \n",
       "3  Но люди не могут существовать без природы, поэ...   \n",
       "4  Но люди не могут существовать без природы, поэ...   \n",
       "\n",
       "                                          context_en  context_idx  \\\n",
       "0  But people cannot exist without nature, so the...            0   \n",
       "1  But people cannot exist without nature, so the...            0   \n",
       "2  But people cannot exist without nature, so the...            0   \n",
       "3  But people cannot exist without nature, so the...            0   \n",
       "4  But people cannot exist without nature, so the...            0   \n",
       "\n",
       "   context_old_idx  is_answered                  question_ru  \\\n",
       "0                0         True            Где бегала шпана?   \n",
       "1                0         True            Где бегала шпана?   \n",
       "2                0         True            Где бегала шпана?   \n",
       "3                0         True  Почему Люда ударила Артема?   \n",
       "4                0         True  Почему Люда ударила Артема?   \n",
       "\n",
       "                question_en  question_idx  question_old_idx  \\\n",
       "0  Where did the punks run?             0                 0   \n",
       "1  Where did the punks run?             0                 0   \n",
       "2  Where did the punks run?             0                 0   \n",
       "3  Why did Luda hit Artyom?             1                 1   \n",
       "4  Why did Luda hit Artyom?             1                 1   \n",
       "\n",
       "             answer_ru           answer_en  answer_idx  answer_old_idx  label  \n",
       "0             В парке.        In the park.           0               0    1.0  \n",
       "1              В лесу.       In the woods.           1               1    0.0  \n",
       "2      Около подъезда.  Near the entrance.           2               2    0.0  \n",
       "3  Он к ней приставал.    He pestered her.           3               3    1.0  \n",
       "4      Он ее оскорбил.    He insulted her.           4               4    0.0  "
      ]
     },
     "execution_count": 21,
     "metadata": {},
     "output_type": "execute_result"
    }
   ],
   "source": [
    "train.head()"
   ]
  },
  {
   "cell_type": "markdown",
   "metadata": {},
   "source": [
    "# Yammy Features"
   ]
  },
  {
   "cell_type": "markdown",
   "metadata": {},
   "source": [
    "## General"
   ]
  },
  {
   "cell_type": "code",
   "execution_count": 22,
   "metadata": {},
   "outputs": [],
   "source": [
    "def harmonic_mean(arr):\n",
    "    n = len(arr)\n",
    "    if n == 0:\n",
    "        return 0\n",
    "    s = 0\n",
    "    for i in arr:\n",
    "        if i == 0:\n",
    "            i = 10 ** -10\n",
    "        s += 1 / i\n",
    "    return n / s if s != 0 else 10 ** -10\n",
    "\n",
    "\n",
    "def geometric_mean(arr):\n",
    "    n = len(arr)\n",
    "    if n == 0:\n",
    "        return 0\n",
    "    res = 1\n",
    "    for i in arr:\n",
    "        res = res * (i**(1 / n))\n",
    "    return res\n",
    "\n",
    "\n",
    "def square_mean(arr):\n",
    "    n = len(arr)\n",
    "    if n == 0:\n",
    "        return 0\n",
    "    s = 0\n",
    "    for i in arr:\n",
    "        s += i * i\n",
    "    return math.sqrt(s / n)\n",
    "\n",
    "\n",
    "def mmmm(feature, where=None, by=None, function=None):\n",
    "    if where is None:\n",
    "        where = train\n",
    "    if by == 'context_idx':\n",
    "        return where\n",
    "    assert by != None, 'Missing required \\'by\\' parameter!'\n",
    "    temp = where[[feature, by]].groupby([by]).agg(\n",
    "        ['mean', 'std', 'median', 'max', 'min', 'sum', square_mean, geometric_mean, harmonic_mean])\n",
    "    temp.columns = [\n",
    "        '_'.join(col).strip() + '_by_' + by.split('_')[0]\n",
    "        for col in temp.columns.values\n",
    "    ]\n",
    "    return pd.merge(temp, where, on=by)"
   ]
  },
  {
   "cell_type": "markdown",
   "metadata": {},
   "source": [
    "## Dumb features"
   ]
  },
  {
   "cell_type": "markdown",
   "metadata": {},
   "source": [
    "Make set of answers for the question and tuple of qustions on the text."
   ]
  },
  {
   "cell_type": "code",
   "execution_count": 23,
   "metadata": {
    "id": "o7FJq6RycJ_7"
   },
   "outputs": [],
   "source": [
    "temp = {'questions_set': [], 'answers_tuple': []}\n",
    "for corpus in simplify_data(data, split_questions=False):\n",
    "    questions = corpus['questions']\n",
    "    for question in questions:\n",
    "        answers = question['answers']\n",
    "        for answer in answers:\n",
    "            temp['questions_set'].append(\n",
    "                list(map(lambda x: x['idx'], questions)))\n",
    "            temp['answers_tuple'].append(list(map(lambda x: x['idx'],\n",
    "                                                  answers)))\n",
    "train['questions_set'] = temp['questions_set']\n",
    "train['answers_tuple'] = temp['answers_tuple']"
   ]
  },
  {
   "cell_type": "markdown",
   "metadata": {},
   "source": [
    "Dumb words counting"
   ]
  },
  {
   "cell_type": "code",
   "execution_count": 24,
   "metadata": {},
   "outputs": [],
   "source": [
    "for feature in ['context', 'question', 'answer']:\n",
    "    for locale in ['ru', 'en']:\n",
    "        train['words_amount_in_' + feature + '_' + locale] = [\n",
    "            t.count(' ') + 1 for t in train[feature + '_' + locale]\n",
    "        ]"
   ]
  },
  {
   "cell_type": "code",
   "execution_count": 25,
   "metadata": {},
   "outputs": [],
   "source": [
    "for feature in ['context', 'question', 'answer']:\n",
    "    train['words_amount_in_' + feature +\n",
    "          '_difference'] = train['words_amount_in_' + feature +\n",
    "                                 '_ru'] - train['words_amount_in_' + feature +\n",
    "                                                '_en']"
   ]
  },
  {
   "cell_type": "code",
   "execution_count": 26,
   "metadata": {},
   "outputs": [],
   "source": [
    "for feature in ['answer']:\n",
    "    for locale in ['ru', 'en']:\n",
    "        for by in ['question_idx', 'context_idx']:\n",
    "            train = mmmm('words_amount_in_' + feature + '_' + locale, by=by)"
   ]
  },
  {
   "cell_type": "code",
   "execution_count": 27,
   "metadata": {},
   "outputs": [],
   "source": [
    "for feature in ['question']:\n",
    "    for locale in ['ru', 'en']:\n",
    "        for by in ['context_idx']:\n",
    "            train = mmmm('words_amount_in_' + feature + '_' + locale, by=by)"
   ]
  },
  {
   "cell_type": "code",
   "execution_count": 28,
   "metadata": {},
   "outputs": [
    {
     "data": {
      "text/html": [
       "<div>\n",
       "<style scoped>\n",
       "    .dataframe tbody tr th:only-of-type {\n",
       "        vertical-align: middle;\n",
       "    }\n",
       "\n",
       "    .dataframe tbody tr th {\n",
       "        vertical-align: top;\n",
       "    }\n",
       "\n",
       "    .dataframe thead th {\n",
       "        text-align: right;\n",
       "    }\n",
       "</style>\n",
       "<table border=\"1\" class=\"dataframe\">\n",
       "  <thead>\n",
       "    <tr style=\"text-align: right;\">\n",
       "      <th></th>\n",
       "      <th>question_idx</th>\n",
       "      <th>words_amount_in_answer_en_mean_by_question</th>\n",
       "      <th>words_amount_in_answer_en_std_by_question</th>\n",
       "      <th>words_amount_in_answer_en_median_by_question</th>\n",
       "      <th>words_amount_in_answer_en_max_by_question</th>\n",
       "      <th>words_amount_in_answer_en_min_by_question</th>\n",
       "      <th>words_amount_in_answer_en_sum_by_question</th>\n",
       "      <th>words_amount_in_answer_en_square_mean_by_question</th>\n",
       "      <th>words_amount_in_answer_en_geometric_mean_by_question</th>\n",
       "      <th>words_amount_in_answer_en_harmonic_mean_by_question</th>\n",
       "      <th>...</th>\n",
       "      <th>answers_tuple</th>\n",
       "      <th>words_amount_in_context_ru</th>\n",
       "      <th>words_amount_in_context_en</th>\n",
       "      <th>words_amount_in_question_ru</th>\n",
       "      <th>words_amount_in_question_en</th>\n",
       "      <th>words_amount_in_answer_ru</th>\n",
       "      <th>words_amount_in_answer_en</th>\n",
       "      <th>words_amount_in_context_difference</th>\n",
       "      <th>words_amount_in_question_difference</th>\n",
       "      <th>words_amount_in_answer_difference</th>\n",
       "    </tr>\n",
       "  </thead>\n",
       "  <tbody>\n",
       "    <tr>\n",
       "      <th>0</th>\n",
       "      <td>0</td>\n",
       "      <td>3.0</td>\n",
       "      <td>0.0</td>\n",
       "      <td>3.0</td>\n",
       "      <td>3</td>\n",
       "      <td>3</td>\n",
       "      <td>9</td>\n",
       "      <td>3.0</td>\n",
       "      <td>3.0</td>\n",
       "      <td>3.0</td>\n",
       "      <td>...</td>\n",
       "      <td>[0, 1, 2]</td>\n",
       "      <td>161</td>\n",
       "      <td>224</td>\n",
       "      <td>3</td>\n",
       "      <td>5</td>\n",
       "      <td>2</td>\n",
       "      <td>3</td>\n",
       "      <td>-63</td>\n",
       "      <td>-2</td>\n",
       "      <td>-1</td>\n",
       "    </tr>\n",
       "    <tr>\n",
       "      <th>1</th>\n",
       "      <td>0</td>\n",
       "      <td>3.0</td>\n",
       "      <td>0.0</td>\n",
       "      <td>3.0</td>\n",
       "      <td>3</td>\n",
       "      <td>3</td>\n",
       "      <td>9</td>\n",
       "      <td>3.0</td>\n",
       "      <td>3.0</td>\n",
       "      <td>3.0</td>\n",
       "      <td>...</td>\n",
       "      <td>[0, 1, 2]</td>\n",
       "      <td>161</td>\n",
       "      <td>224</td>\n",
       "      <td>3</td>\n",
       "      <td>5</td>\n",
       "      <td>2</td>\n",
       "      <td>3</td>\n",
       "      <td>-63</td>\n",
       "      <td>-2</td>\n",
       "      <td>-1</td>\n",
       "    </tr>\n",
       "  </tbody>\n",
       "</table>\n",
       "<p>2 rows × 43 columns</p>\n",
       "</div>"
      ],
      "text/plain": [
       "   question_idx  words_amount_in_answer_en_mean_by_question  \\\n",
       "0             0                                         3.0   \n",
       "1             0                                         3.0   \n",
       "\n",
       "   words_amount_in_answer_en_std_by_question  \\\n",
       "0                                        0.0   \n",
       "1                                        0.0   \n",
       "\n",
       "   words_amount_in_answer_en_median_by_question  \\\n",
       "0                                           3.0   \n",
       "1                                           3.0   \n",
       "\n",
       "   words_amount_in_answer_en_max_by_question  \\\n",
       "0                                          3   \n",
       "1                                          3   \n",
       "\n",
       "   words_amount_in_answer_en_min_by_question  \\\n",
       "0                                          3   \n",
       "1                                          3   \n",
       "\n",
       "   words_amount_in_answer_en_sum_by_question  \\\n",
       "0                                          9   \n",
       "1                                          9   \n",
       "\n",
       "   words_amount_in_answer_en_square_mean_by_question  \\\n",
       "0                                                3.0   \n",
       "1                                                3.0   \n",
       "\n",
       "   words_amount_in_answer_en_geometric_mean_by_question  \\\n",
       "0                                                3.0      \n",
       "1                                                3.0      \n",
       "\n",
       "   words_amount_in_answer_en_harmonic_mean_by_question  ...  answers_tuple  \\\n",
       "0                                                3.0    ...      [0, 1, 2]   \n",
       "1                                                3.0    ...      [0, 1, 2]   \n",
       "\n",
       "   words_amount_in_context_ru  words_amount_in_context_en  \\\n",
       "0                         161                         224   \n",
       "1                         161                         224   \n",
       "\n",
       "   words_amount_in_question_ru  words_amount_in_question_en  \\\n",
       "0                            3                            5   \n",
       "1                            3                            5   \n",
       "\n",
       "   words_amount_in_answer_ru  words_amount_in_answer_en  \\\n",
       "0                          2                          3   \n",
       "1                          2                          3   \n",
       "\n",
       "   words_amount_in_context_difference  words_amount_in_question_difference  \\\n",
       "0                                 -63                                   -2   \n",
       "1                                 -63                                   -2   \n",
       "\n",
       "  words_amount_in_answer_difference  \n",
       "0                                -1  \n",
       "1                                -1  \n",
       "\n",
       "[2 rows x 43 columns]"
      ]
     },
     "execution_count": 28,
     "metadata": {},
     "output_type": "execute_result"
    }
   ],
   "source": [
    "train.head(2)"
   ]
  },
  {
   "cell_type": "markdown",
   "metadata": {},
   "source": [
    "Amount of qustions and answers"
   ]
  },
  {
   "cell_type": "code",
   "execution_count": 29,
   "metadata": {},
   "outputs": [],
   "source": [
    "train['answers_amount'] = [len(t) for t in train['answers_tuple']]\n",
    "train['quesitons_amount'] = [len(t) for t in train['questions_set']]"
   ]
  },
  {
   "cell_type": "code",
   "execution_count": 30,
   "metadata": {
    "scrolled": true
   },
   "outputs": [],
   "source": [
    "train = mmmm('answers_amount', by='context_idx')"
   ]
  },
  {
   "cell_type": "code",
   "execution_count": 31,
   "metadata": {
    "scrolled": false
   },
   "outputs": [
    {
     "data": {
      "text/html": [
       "<div>\n",
       "<style scoped>\n",
       "    .dataframe tbody tr th:only-of-type {\n",
       "        vertical-align: middle;\n",
       "    }\n",
       "\n",
       "    .dataframe tbody tr th {\n",
       "        vertical-align: top;\n",
       "    }\n",
       "\n",
       "    .dataframe thead th {\n",
       "        text-align: right;\n",
       "    }\n",
       "</style>\n",
       "<table border=\"1\" class=\"dataframe\">\n",
       "  <thead>\n",
       "    <tr style=\"text-align: right;\">\n",
       "      <th></th>\n",
       "      <th>question_idx</th>\n",
       "      <th>words_amount_in_answer_en_mean_by_question</th>\n",
       "      <th>words_amount_in_answer_en_std_by_question</th>\n",
       "      <th>words_amount_in_answer_en_median_by_question</th>\n",
       "      <th>words_amount_in_answer_en_max_by_question</th>\n",
       "      <th>words_amount_in_answer_en_min_by_question</th>\n",
       "      <th>words_amount_in_answer_en_sum_by_question</th>\n",
       "      <th>words_amount_in_answer_en_square_mean_by_question</th>\n",
       "      <th>words_amount_in_answer_en_geometric_mean_by_question</th>\n",
       "      <th>words_amount_in_answer_en_harmonic_mean_by_question</th>\n",
       "      <th>...</th>\n",
       "      <th>words_amount_in_context_en</th>\n",
       "      <th>words_amount_in_question_ru</th>\n",
       "      <th>words_amount_in_question_en</th>\n",
       "      <th>words_amount_in_answer_ru</th>\n",
       "      <th>words_amount_in_answer_en</th>\n",
       "      <th>words_amount_in_context_difference</th>\n",
       "      <th>words_amount_in_question_difference</th>\n",
       "      <th>words_amount_in_answer_difference</th>\n",
       "      <th>answers_amount</th>\n",
       "      <th>quesitons_amount</th>\n",
       "    </tr>\n",
       "  </thead>\n",
       "  <tbody>\n",
       "    <tr>\n",
       "      <th>0</th>\n",
       "      <td>0</td>\n",
       "      <td>3.0</td>\n",
       "      <td>0.0</td>\n",
       "      <td>3.0</td>\n",
       "      <td>3</td>\n",
       "      <td>3</td>\n",
       "      <td>9</td>\n",
       "      <td>3.0</td>\n",
       "      <td>3.0</td>\n",
       "      <td>3.0</td>\n",
       "      <td>...</td>\n",
       "      <td>224</td>\n",
       "      <td>3</td>\n",
       "      <td>5</td>\n",
       "      <td>2</td>\n",
       "      <td>3</td>\n",
       "      <td>-63</td>\n",
       "      <td>-2</td>\n",
       "      <td>-1</td>\n",
       "      <td>3</td>\n",
       "      <td>9</td>\n",
       "    </tr>\n",
       "    <tr>\n",
       "      <th>1</th>\n",
       "      <td>0</td>\n",
       "      <td>3.0</td>\n",
       "      <td>0.0</td>\n",
       "      <td>3.0</td>\n",
       "      <td>3</td>\n",
       "      <td>3</td>\n",
       "      <td>9</td>\n",
       "      <td>3.0</td>\n",
       "      <td>3.0</td>\n",
       "      <td>3.0</td>\n",
       "      <td>...</td>\n",
       "      <td>224</td>\n",
       "      <td>3</td>\n",
       "      <td>5</td>\n",
       "      <td>2</td>\n",
       "      <td>3</td>\n",
       "      <td>-63</td>\n",
       "      <td>-2</td>\n",
       "      <td>-1</td>\n",
       "      <td>3</td>\n",
       "      <td>9</td>\n",
       "    </tr>\n",
       "  </tbody>\n",
       "</table>\n",
       "<p>2 rows × 45 columns</p>\n",
       "</div>"
      ],
      "text/plain": [
       "   question_idx  words_amount_in_answer_en_mean_by_question  \\\n",
       "0             0                                         3.0   \n",
       "1             0                                         3.0   \n",
       "\n",
       "   words_amount_in_answer_en_std_by_question  \\\n",
       "0                                        0.0   \n",
       "1                                        0.0   \n",
       "\n",
       "   words_amount_in_answer_en_median_by_question  \\\n",
       "0                                           3.0   \n",
       "1                                           3.0   \n",
       "\n",
       "   words_amount_in_answer_en_max_by_question  \\\n",
       "0                                          3   \n",
       "1                                          3   \n",
       "\n",
       "   words_amount_in_answer_en_min_by_question  \\\n",
       "0                                          3   \n",
       "1                                          3   \n",
       "\n",
       "   words_amount_in_answer_en_sum_by_question  \\\n",
       "0                                          9   \n",
       "1                                          9   \n",
       "\n",
       "   words_amount_in_answer_en_square_mean_by_question  \\\n",
       "0                                                3.0   \n",
       "1                                                3.0   \n",
       "\n",
       "   words_amount_in_answer_en_geometric_mean_by_question  \\\n",
       "0                                                3.0      \n",
       "1                                                3.0      \n",
       "\n",
       "   words_amount_in_answer_en_harmonic_mean_by_question  ...  \\\n",
       "0                                                3.0    ...   \n",
       "1                                                3.0    ...   \n",
       "\n",
       "   words_amount_in_context_en  words_amount_in_question_ru  \\\n",
       "0                         224                            3   \n",
       "1                         224                            3   \n",
       "\n",
       "   words_amount_in_question_en  words_amount_in_answer_ru  \\\n",
       "0                            5                          2   \n",
       "1                            5                          2   \n",
       "\n",
       "   words_amount_in_answer_en  words_amount_in_context_difference  \\\n",
       "0                          3                                 -63   \n",
       "1                          3                                 -63   \n",
       "\n",
       "   words_amount_in_question_difference  words_amount_in_answer_difference  \\\n",
       "0                                   -2                                 -1   \n",
       "1                                   -2                                 -1   \n",
       "\n",
       "   answers_amount quesitons_amount  \n",
       "0               3                9  \n",
       "1               3                9  \n",
       "\n",
       "[2 rows x 45 columns]"
      ]
     },
     "execution_count": 31,
     "metadata": {},
     "output_type": "execute_result"
    }
   ],
   "source": [
    "train.head(2)"
   ]
  },
  {
   "cell_type": "markdown",
   "metadata": {},
   "source": [
    "## Zeroshot"
   ]
  },
  {
   "cell_type": "markdown",
   "metadata": {},
   "source": [
    "Good-old zero-shot cls"
   ]
  },
  {
   "cell_type": "code",
   "execution_count": 32,
   "metadata": {},
   "outputs": [],
   "source": [
    "facebook_mnli = pd.read_csv('data/facebook_mnli.csv').rename(\n",
    "    columns={\n",
    "        'Unnamed: 0': 'answer_idx'\n",
    "    }).set_index('answer_idx')"
   ]
  },
  {
   "cell_type": "code",
   "execution_count": 33,
   "metadata": {},
   "outputs": [
    {
     "data": {
      "text/html": [
       "<div>\n",
       "<style scoped>\n",
       "    .dataframe tbody tr th:only-of-type {\n",
       "        vertical-align: middle;\n",
       "    }\n",
       "\n",
       "    .dataframe tbody tr th {\n",
       "        vertical-align: top;\n",
       "    }\n",
       "\n",
       "    .dataframe thead th {\n",
       "        text-align: right;\n",
       "    }\n",
       "</style>\n",
       "<table border=\"1\" class=\"dataframe\">\n",
       "  <thead>\n",
       "    <tr style=\"text-align: right;\">\n",
       "      <th></th>\n",
       "      <th>facebook_mnli</th>\n",
       "    </tr>\n",
       "    <tr>\n",
       "      <th>answer_idx</th>\n",
       "      <th></th>\n",
       "    </tr>\n",
       "  </thead>\n",
       "  <tbody>\n",
       "    <tr>\n",
       "      <th>0</th>\n",
       "      <td>0.876531</td>\n",
       "    </tr>\n",
       "    <tr>\n",
       "      <th>1</th>\n",
       "      <td>0.042271</td>\n",
       "    </tr>\n",
       "    <tr>\n",
       "      <th>2</th>\n",
       "      <td>0.081198</td>\n",
       "    </tr>\n",
       "    <tr>\n",
       "      <th>3</th>\n",
       "      <td>0.836539</td>\n",
       "    </tr>\n",
       "    <tr>\n",
       "      <th>4</th>\n",
       "      <td>0.145226</td>\n",
       "    </tr>\n",
       "  </tbody>\n",
       "</table>\n",
       "</div>"
      ],
      "text/plain": [
       "            facebook_mnli\n",
       "answer_idx               \n",
       "0                0.876531\n",
       "1                0.042271\n",
       "2                0.081198\n",
       "3                0.836539\n",
       "4                0.145226"
      ]
     },
     "execution_count": 33,
     "metadata": {},
     "output_type": "execute_result"
    }
   ],
   "source": [
    "facebook_mnli.head()"
   ]
  },
  {
   "cell_type": "code",
   "execution_count": 34,
   "metadata": {},
   "outputs": [],
   "source": [
    "train = pd.merge(train, facebook_mnli, on='answer_idx')"
   ]
  },
  {
   "cell_type": "code",
   "execution_count": 35,
   "metadata": {},
   "outputs": [],
   "source": [
    "train = mmmm('facebook_mnli', by='question_idx')\n",
    "train = mmmm('facebook_mnli', by='context_idx')"
   ]
  },
  {
   "cell_type": "markdown",
   "metadata": {},
   "source": [
    "## Tokenizing"
   ]
  },
  {
   "cell_type": "markdown",
   "metadata": {},
   "source": [
    "Tokenizing fetish"
   ]
  },
  {
   "cell_type": "code",
   "execution_count": 36,
   "metadata": {},
   "outputs": [
    {
     "name": "stdout",
     "output_type": "stream",
     "text": [
      "Requirement already satisfied: nltk in /opt/conda/lib/python3.8/site-packages (3.5)\r\n",
      "Requirement already satisfied: tqdm in /opt/conda/lib/python3.8/site-packages (from nltk) (4.41.1)\r\n",
      "Requirement already satisfied: regex in /opt/conda/lib/python3.8/site-packages (from nltk) (2020.11.13)\r\n",
      "Requirement already satisfied: joblib in /opt/conda/lib/python3.8/site-packages (from nltk) (1.0.0)\r\n",
      "Requirement already satisfied: click in /opt/conda/lib/python3.8/site-packages (from nltk) (7.1.2)\r\n"
     ]
    }
   ],
   "source": [
    "!pip install nltk"
   ]
  },
  {
   "cell_type": "code",
   "execution_count": 37,
   "metadata": {},
   "outputs": [
    {
     "name": "stderr",
     "output_type": "stream",
     "text": [
      "[nltk_data] Downloading package stopwords to /home/jovyan/nltk_data...\n",
      "[nltk_data]   Package stopwords is already up-to-date!\n",
      "[nltk_data] Downloading package punkt to /home/jovyan/nltk_data...\n",
      "[nltk_data]   Package punkt is already up-to-date!\n"
     ]
    }
   ],
   "source": [
    "import nltk\n",
    "nltk.download(\"stopwords\")\n",
    "nltk.download('punkt')\n",
    "from nltk.corpus import stopwords\n",
    "from nltk.stem import PorterStemmer, SnowballStemmer"
   ]
  },
  {
   "cell_type": "code",
   "execution_count": 38,
   "metadata": {},
   "outputs": [],
   "source": [
    "stemmers = {'ru': SnowballStemmer('russian'), 'en': PorterStemmer()}"
   ]
  },
  {
   "cell_type": "code",
   "execution_count": 39,
   "metadata": {},
   "outputs": [],
   "source": [
    "stop_words = {'ru': set(stopwords.words(\"russian\")), 'en': set(stopwords.words(\"english\"))}"
   ]
  },
  {
   "cell_type": "code",
   "execution_count": 40,
   "metadata": {},
   "outputs": [],
   "source": [
    "tokenize = lambda text: nltk.word_tokenize(text)"
   ]
  },
  {
   "cell_type": "code",
   "execution_count": 41,
   "metadata": {},
   "outputs": [],
   "source": [
    "stemmerize = lambda text, locale: set([stemmers[locale].stem(word) for word in nltk.word_tokenize(text) if not word.lower() in stop_words[locale] and word[0].isalpha()])"
   ]
  },
  {
   "cell_type": "code",
   "execution_count": 42,
   "metadata": {
    "scrolled": true
   },
   "outputs": [
    {
     "data": {
      "application/vnd.jupyter.widget-view+json": {
       "model_id": "123afcda0c0746fda708e8c183e72e86",
       "version_major": 2,
       "version_minor": 0
      },
      "text/plain": [
       "HBox(children=(FloatProgress(value=0.0, max=2.0), HTML(value='')))"
      ]
     },
     "metadata": {},
     "output_type": "display_data"
    },
    {
     "name": "stdout",
     "output_type": "stream",
     "text": [
      "\n"
     ]
    }
   ],
   "source": [
    "stemmed = {}\n",
    "\n",
    "for locale in tqdm(['en', 'ru']):\n",
    "    temp = []\n",
    "    for corpus in simplify_data(data, split_questions=False):\n",
    "        words_in_context = stemmerize(corpus['context_' + locale], locale)\n",
    "        for question in corpus['questions']:\n",
    "            words_in_question = stemmerize(question['question' + ('_en' if locale == 'en' else '')], locale)\n",
    "            for answer in question['answers']:\n",
    "                words_in_answer = stemmerize(answer['text' + ('_en' if locale == 'en' else '')], locale)\n",
    "                temp.append({'stemmed_context_' + locale: words_in_context, \n",
    "                             'stemmed_question_' + locale: words_in_question, \n",
    "                             'stemmed_answer_' + locale: words_in_answer})\n",
    "    stemmed[locale] = temp"
   ]
  },
  {
   "cell_type": "code",
   "execution_count": 43,
   "metadata": {},
   "outputs": [],
   "source": [
    "train = pd.concat([train, pd.DataFrame(stemmed['ru']), pd.DataFrame(stemmed['en'])], axis=1)"
   ]
  },
  {
   "cell_type": "code",
   "execution_count": 44,
   "metadata": {},
   "outputs": [],
   "source": [
    "for feature in ['context', 'question', 'answer']:\n",
    "    for locale in ['ru', 'en']:\n",
    "        train['stems_amount_in_' + feature + '_' + locale] = [len(t) for t in train['stemmed_' + feature + '_' + locale]]"
   ]
  },
  {
   "cell_type": "code",
   "execution_count": 45,
   "metadata": {},
   "outputs": [],
   "source": [
    "for locale in ['ru', 'en']:\n",
    "    train = pd.concat([train, pd.DataFrame([{'same_words_answer_question_' + locale: len(a & q), \n",
    "      'same_words_context_quesiton_' + locale: len(q & c), \n",
    "      'same_words_context_answer_' + locale: len(a & c)} for c, q, a in train[['stemmed_context_' + locale, 'stemmed_question_' + locale, 'stemmed_answer_' + locale]].values])], axis=1)"
   ]
  },
  {
   "cell_type": "code",
   "execution_count": 46,
   "metadata": {},
   "outputs": [
    {
     "data": {
      "text/html": [
       "<div>\n",
       "<style scoped>\n",
       "    .dataframe tbody tr th:only-of-type {\n",
       "        vertical-align: middle;\n",
       "    }\n",
       "\n",
       "    .dataframe tbody tr th {\n",
       "        vertical-align: top;\n",
       "    }\n",
       "\n",
       "    .dataframe thead th {\n",
       "        text-align: right;\n",
       "    }\n",
       "</style>\n",
       "<table border=\"1\" class=\"dataframe\">\n",
       "  <thead>\n",
       "    <tr style=\"text-align: right;\">\n",
       "      <th></th>\n",
       "      <th>question_idx</th>\n",
       "      <th>facebook_mnli_mean_by_question</th>\n",
       "      <th>facebook_mnli_std_by_question</th>\n",
       "      <th>facebook_mnli_median_by_question</th>\n",
       "      <th>facebook_mnli_max_by_question</th>\n",
       "      <th>facebook_mnli_min_by_question</th>\n",
       "      <th>facebook_mnli_sum_by_question</th>\n",
       "      <th>facebook_mnli_square_mean_by_question</th>\n",
       "      <th>facebook_mnli_geometric_mean_by_question</th>\n",
       "      <th>facebook_mnli_harmonic_mean_by_question</th>\n",
       "      <th>...</th>\n",
       "      <th>stems_amount_in_question_ru</th>\n",
       "      <th>stems_amount_in_question_en</th>\n",
       "      <th>stems_amount_in_answer_ru</th>\n",
       "      <th>stems_amount_in_answer_en</th>\n",
       "      <th>same_words_answer_question_ru</th>\n",
       "      <th>same_words_context_quesiton_ru</th>\n",
       "      <th>same_words_context_answer_ru</th>\n",
       "      <th>same_words_answer_question_en</th>\n",
       "      <th>same_words_context_quesiton_en</th>\n",
       "      <th>same_words_context_answer_en</th>\n",
       "    </tr>\n",
       "  </thead>\n",
       "  <tbody>\n",
       "    <tr>\n",
       "      <th>0</th>\n",
       "      <td>0</td>\n",
       "      <td>0.333333</td>\n",
       "      <td>0.470826</td>\n",
       "      <td>0.081198</td>\n",
       "      <td>0.876531</td>\n",
       "      <td>0.042271</td>\n",
       "      <td>1.0</td>\n",
       "      <td>0.508818</td>\n",
       "      <td>0.144362</td>\n",
       "      <td>0.080834</td>\n",
       "      <td>...</td>\n",
       "      <td>2</td>\n",
       "      <td>2</td>\n",
       "      <td>1</td>\n",
       "      <td>1</td>\n",
       "      <td>0</td>\n",
       "      <td>2</td>\n",
       "      <td>1</td>\n",
       "      <td>0</td>\n",
       "      <td>2</td>\n",
       "      <td>1</td>\n",
       "    </tr>\n",
       "    <tr>\n",
       "      <th>1</th>\n",
       "      <td>0</td>\n",
       "      <td>0.333333</td>\n",
       "      <td>0.470826</td>\n",
       "      <td>0.081198</td>\n",
       "      <td>0.876531</td>\n",
       "      <td>0.042271</td>\n",
       "      <td>1.0</td>\n",
       "      <td>0.508818</td>\n",
       "      <td>0.144362</td>\n",
       "      <td>0.080834</td>\n",
       "      <td>...</td>\n",
       "      <td>2</td>\n",
       "      <td>2</td>\n",
       "      <td>1</td>\n",
       "      <td>1</td>\n",
       "      <td>0</td>\n",
       "      <td>2</td>\n",
       "      <td>0</td>\n",
       "      <td>0</td>\n",
       "      <td>2</td>\n",
       "      <td>0</td>\n",
       "    </tr>\n",
       "    <tr>\n",
       "      <th>2</th>\n",
       "      <td>0</td>\n",
       "      <td>0.333333</td>\n",
       "      <td>0.470826</td>\n",
       "      <td>0.081198</td>\n",
       "      <td>0.876531</td>\n",
       "      <td>0.042271</td>\n",
       "      <td>1.0</td>\n",
       "      <td>0.508818</td>\n",
       "      <td>0.144362</td>\n",
       "      <td>0.080834</td>\n",
       "      <td>...</td>\n",
       "      <td>2</td>\n",
       "      <td>2</td>\n",
       "      <td>2</td>\n",
       "      <td>2</td>\n",
       "      <td>0</td>\n",
       "      <td>2</td>\n",
       "      <td>0</td>\n",
       "      <td>0</td>\n",
       "      <td>2</td>\n",
       "      <td>0</td>\n",
       "    </tr>\n",
       "    <tr>\n",
       "      <th>3</th>\n",
       "      <td>1</td>\n",
       "      <td>0.333333</td>\n",
       "      <td>0.440390</td>\n",
       "      <td>0.145226</td>\n",
       "      <td>0.836539</td>\n",
       "      <td>0.018235</td>\n",
       "      <td>1.0</td>\n",
       "      <td>0.490313</td>\n",
       "      <td>0.130361</td>\n",
       "      <td>0.047680</td>\n",
       "      <td>...</td>\n",
       "      <td>4</td>\n",
       "      <td>3</td>\n",
       "      <td>1</td>\n",
       "      <td>1</td>\n",
       "      <td>0</td>\n",
       "      <td>1</td>\n",
       "      <td>0</td>\n",
       "      <td>0</td>\n",
       "      <td>1</td>\n",
       "      <td>0</td>\n",
       "    </tr>\n",
       "    <tr>\n",
       "      <th>4</th>\n",
       "      <td>1</td>\n",
       "      <td>0.333333</td>\n",
       "      <td>0.440390</td>\n",
       "      <td>0.145226</td>\n",
       "      <td>0.836539</td>\n",
       "      <td>0.018235</td>\n",
       "      <td>1.0</td>\n",
       "      <td>0.490313</td>\n",
       "      <td>0.130361</td>\n",
       "      <td>0.047680</td>\n",
       "      <td>...</td>\n",
       "      <td>4</td>\n",
       "      <td>3</td>\n",
       "      <td>1</td>\n",
       "      <td>1</td>\n",
       "      <td>0</td>\n",
       "      <td>1</td>\n",
       "      <td>0</td>\n",
       "      <td>0</td>\n",
       "      <td>1</td>\n",
       "      <td>0</td>\n",
       "    </tr>\n",
       "  </tbody>\n",
       "</table>\n",
       "<p>5 rows × 73 columns</p>\n",
       "</div>"
      ],
      "text/plain": [
       "   question_idx  facebook_mnli_mean_by_question  \\\n",
       "0             0                        0.333333   \n",
       "1             0                        0.333333   \n",
       "2             0                        0.333333   \n",
       "3             1                        0.333333   \n",
       "4             1                        0.333333   \n",
       "\n",
       "   facebook_mnli_std_by_question  facebook_mnli_median_by_question  \\\n",
       "0                       0.470826                          0.081198   \n",
       "1                       0.470826                          0.081198   \n",
       "2                       0.470826                          0.081198   \n",
       "3                       0.440390                          0.145226   \n",
       "4                       0.440390                          0.145226   \n",
       "\n",
       "   facebook_mnli_max_by_question  facebook_mnli_min_by_question  \\\n",
       "0                       0.876531                       0.042271   \n",
       "1                       0.876531                       0.042271   \n",
       "2                       0.876531                       0.042271   \n",
       "3                       0.836539                       0.018235   \n",
       "4                       0.836539                       0.018235   \n",
       "\n",
       "   facebook_mnli_sum_by_question  facebook_mnli_square_mean_by_question  \\\n",
       "0                            1.0                               0.508818   \n",
       "1                            1.0                               0.508818   \n",
       "2                            1.0                               0.508818   \n",
       "3                            1.0                               0.490313   \n",
       "4                            1.0                               0.490313   \n",
       "\n",
       "   facebook_mnli_geometric_mean_by_question  \\\n",
       "0                                  0.144362   \n",
       "1                                  0.144362   \n",
       "2                                  0.144362   \n",
       "3                                  0.130361   \n",
       "4                                  0.130361   \n",
       "\n",
       "   facebook_mnli_harmonic_mean_by_question  ...  stems_amount_in_question_ru  \\\n",
       "0                                 0.080834  ...                            2   \n",
       "1                                 0.080834  ...                            2   \n",
       "2                                 0.080834  ...                            2   \n",
       "3                                 0.047680  ...                            4   \n",
       "4                                 0.047680  ...                            4   \n",
       "\n",
       "   stems_amount_in_question_en  stems_amount_in_answer_ru  \\\n",
       "0                            2                          1   \n",
       "1                            2                          1   \n",
       "2                            2                          2   \n",
       "3                            3                          1   \n",
       "4                            3                          1   \n",
       "\n",
       "   stems_amount_in_answer_en  same_words_answer_question_ru  \\\n",
       "0                          1                              0   \n",
       "1                          1                              0   \n",
       "2                          2                              0   \n",
       "3                          1                              0   \n",
       "4                          1                              0   \n",
       "\n",
       "   same_words_context_quesiton_ru  same_words_context_answer_ru  \\\n",
       "0                               2                             1   \n",
       "1                               2                             0   \n",
       "2                               2                             0   \n",
       "3                               1                             0   \n",
       "4                               1                             0   \n",
       "\n",
       "   same_words_answer_question_en  same_words_context_quesiton_en  \\\n",
       "0                              0                               2   \n",
       "1                              0                               2   \n",
       "2                              0                               2   \n",
       "3                              0                               1   \n",
       "4                              0                               1   \n",
       "\n",
       "   same_words_context_answer_en  \n",
       "0                             1  \n",
       "1                             0  \n",
       "2                             0  \n",
       "3                             0  \n",
       "4                             0  \n",
       "\n",
       "[5 rows x 73 columns]"
      ]
     },
     "execution_count": 46,
     "metadata": {},
     "output_type": "execute_result"
    }
   ],
   "source": [
    "train.head()"
   ]
  },
  {
   "cell_type": "code",
   "execution_count": 47,
   "metadata": {},
   "outputs": [],
   "source": [
    "for feature in ['answer']:\n",
    "    for locale in ['ru', 'en']:\n",
    "        train['stems_same_stems_ratio_' + feature + '_' + locale] = train['stems_amount_in_' + feature + '_' + locale] / train['stems_amount_in_' + feature + '_' + locale]"
   ]
  },
  {
   "cell_type": "code",
   "execution_count": 48,
   "metadata": {},
   "outputs": [],
   "source": [
    "for locale in ['ru', 'en']:\n",
    "    for feature in ['same_words_answer_question', 'same_words_context_quesiton', 'same_words_context_answer', 'stems_same_stems_ratio_answer']:\n",
    "        train = mmmm(feature + '_' + locale, by='question_idx')\n",
    "        train = mmmm(feature + '_' + locale, by='context_idx')"
   ]
  },
  {
   "cell_type": "code",
   "execution_count": 49,
   "metadata": {
    "scrolled": true
   },
   "outputs": [
    {
     "data": {
      "text/html": [
       "<div>\n",
       "<style scoped>\n",
       "    .dataframe tbody tr th:only-of-type {\n",
       "        vertical-align: middle;\n",
       "    }\n",
       "\n",
       "    .dataframe tbody tr th {\n",
       "        vertical-align: top;\n",
       "    }\n",
       "\n",
       "    .dataframe thead th {\n",
       "        text-align: right;\n",
       "    }\n",
       "</style>\n",
       "<table border=\"1\" class=\"dataframe\">\n",
       "  <thead>\n",
       "    <tr style=\"text-align: right;\">\n",
       "      <th></th>\n",
       "      <th>question_idx</th>\n",
       "      <th>stems_same_stems_ratio_answer_en_mean_by_question</th>\n",
       "      <th>stems_same_stems_ratio_answer_en_std_by_question</th>\n",
       "      <th>stems_same_stems_ratio_answer_en_median_by_question</th>\n",
       "      <th>stems_same_stems_ratio_answer_en_max_by_question</th>\n",
       "      <th>stems_same_stems_ratio_answer_en_min_by_question</th>\n",
       "      <th>stems_same_stems_ratio_answer_en_sum_by_question</th>\n",
       "      <th>stems_same_stems_ratio_answer_en_square_mean_by_question</th>\n",
       "      <th>stems_same_stems_ratio_answer_en_geometric_mean_by_question</th>\n",
       "      <th>stems_same_stems_ratio_answer_en_harmonic_mean_by_question</th>\n",
       "      <th>...</th>\n",
       "      <th>stems_amount_in_answer_ru</th>\n",
       "      <th>stems_amount_in_answer_en</th>\n",
       "      <th>same_words_answer_question_ru</th>\n",
       "      <th>same_words_context_quesiton_ru</th>\n",
       "      <th>same_words_context_answer_ru</th>\n",
       "      <th>same_words_answer_question_en</th>\n",
       "      <th>same_words_context_quesiton_en</th>\n",
       "      <th>same_words_context_answer_en</th>\n",
       "      <th>stems_same_stems_ratio_answer_ru</th>\n",
       "      <th>stems_same_stems_ratio_answer_en</th>\n",
       "    </tr>\n",
       "  </thead>\n",
       "  <tbody>\n",
       "    <tr>\n",
       "      <th>0</th>\n",
       "      <td>0</td>\n",
       "      <td>1.0</td>\n",
       "      <td>0.0</td>\n",
       "      <td>1.0</td>\n",
       "      <td>1.0</td>\n",
       "      <td>1.0</td>\n",
       "      <td>3.0</td>\n",
       "      <td>1.0</td>\n",
       "      <td>1.0</td>\n",
       "      <td>1.0</td>\n",
       "      <td>...</td>\n",
       "      <td>1</td>\n",
       "      <td>1</td>\n",
       "      <td>0</td>\n",
       "      <td>2</td>\n",
       "      <td>1</td>\n",
       "      <td>0</td>\n",
       "      <td>2</td>\n",
       "      <td>1</td>\n",
       "      <td>1.0</td>\n",
       "      <td>1.0</td>\n",
       "    </tr>\n",
       "    <tr>\n",
       "      <th>1</th>\n",
       "      <td>0</td>\n",
       "      <td>1.0</td>\n",
       "      <td>0.0</td>\n",
       "      <td>1.0</td>\n",
       "      <td>1.0</td>\n",
       "      <td>1.0</td>\n",
       "      <td>3.0</td>\n",
       "      <td>1.0</td>\n",
       "      <td>1.0</td>\n",
       "      <td>1.0</td>\n",
       "      <td>...</td>\n",
       "      <td>1</td>\n",
       "      <td>1</td>\n",
       "      <td>0</td>\n",
       "      <td>2</td>\n",
       "      <td>0</td>\n",
       "      <td>0</td>\n",
       "      <td>2</td>\n",
       "      <td>0</td>\n",
       "      <td>1.0</td>\n",
       "      <td>1.0</td>\n",
       "    </tr>\n",
       "    <tr>\n",
       "      <th>2</th>\n",
       "      <td>0</td>\n",
       "      <td>1.0</td>\n",
       "      <td>0.0</td>\n",
       "      <td>1.0</td>\n",
       "      <td>1.0</td>\n",
       "      <td>1.0</td>\n",
       "      <td>3.0</td>\n",
       "      <td>1.0</td>\n",
       "      <td>1.0</td>\n",
       "      <td>1.0</td>\n",
       "      <td>...</td>\n",
       "      <td>2</td>\n",
       "      <td>2</td>\n",
       "      <td>0</td>\n",
       "      <td>2</td>\n",
       "      <td>0</td>\n",
       "      <td>0</td>\n",
       "      <td>2</td>\n",
       "      <td>0</td>\n",
       "      <td>1.0</td>\n",
       "      <td>1.0</td>\n",
       "    </tr>\n",
       "    <tr>\n",
       "      <th>3</th>\n",
       "      <td>1</td>\n",
       "      <td>1.0</td>\n",
       "      <td>0.0</td>\n",
       "      <td>1.0</td>\n",
       "      <td>1.0</td>\n",
       "      <td>1.0</td>\n",
       "      <td>3.0</td>\n",
       "      <td>1.0</td>\n",
       "      <td>1.0</td>\n",
       "      <td>1.0</td>\n",
       "      <td>...</td>\n",
       "      <td>1</td>\n",
       "      <td>1</td>\n",
       "      <td>0</td>\n",
       "      <td>1</td>\n",
       "      <td>0</td>\n",
       "      <td>0</td>\n",
       "      <td>1</td>\n",
       "      <td>0</td>\n",
       "      <td>1.0</td>\n",
       "      <td>1.0</td>\n",
       "    </tr>\n",
       "    <tr>\n",
       "      <th>4</th>\n",
       "      <td>1</td>\n",
       "      <td>1.0</td>\n",
       "      <td>0.0</td>\n",
       "      <td>1.0</td>\n",
       "      <td>1.0</td>\n",
       "      <td>1.0</td>\n",
       "      <td>3.0</td>\n",
       "      <td>1.0</td>\n",
       "      <td>1.0</td>\n",
       "      <td>1.0</td>\n",
       "      <td>...</td>\n",
       "      <td>1</td>\n",
       "      <td>1</td>\n",
       "      <td>0</td>\n",
       "      <td>1</td>\n",
       "      <td>0</td>\n",
       "      <td>0</td>\n",
       "      <td>1</td>\n",
       "      <td>0</td>\n",
       "      <td>1.0</td>\n",
       "      <td>1.0</td>\n",
       "    </tr>\n",
       "  </tbody>\n",
       "</table>\n",
       "<p>5 rows × 147 columns</p>\n",
       "</div>"
      ],
      "text/plain": [
       "   question_idx  stems_same_stems_ratio_answer_en_mean_by_question  \\\n",
       "0             0                                                1.0   \n",
       "1             0                                                1.0   \n",
       "2             0                                                1.0   \n",
       "3             1                                                1.0   \n",
       "4             1                                                1.0   \n",
       "\n",
       "   stems_same_stems_ratio_answer_en_std_by_question  \\\n",
       "0                                               0.0   \n",
       "1                                               0.0   \n",
       "2                                               0.0   \n",
       "3                                               0.0   \n",
       "4                                               0.0   \n",
       "\n",
       "   stems_same_stems_ratio_answer_en_median_by_question  \\\n",
       "0                                                1.0     \n",
       "1                                                1.0     \n",
       "2                                                1.0     \n",
       "3                                                1.0     \n",
       "4                                                1.0     \n",
       "\n",
       "   stems_same_stems_ratio_answer_en_max_by_question  \\\n",
       "0                                               1.0   \n",
       "1                                               1.0   \n",
       "2                                               1.0   \n",
       "3                                               1.0   \n",
       "4                                               1.0   \n",
       "\n",
       "   stems_same_stems_ratio_answer_en_min_by_question  \\\n",
       "0                                               1.0   \n",
       "1                                               1.0   \n",
       "2                                               1.0   \n",
       "3                                               1.0   \n",
       "4                                               1.0   \n",
       "\n",
       "   stems_same_stems_ratio_answer_en_sum_by_question  \\\n",
       "0                                               3.0   \n",
       "1                                               3.0   \n",
       "2                                               3.0   \n",
       "3                                               3.0   \n",
       "4                                               3.0   \n",
       "\n",
       "   stems_same_stems_ratio_answer_en_square_mean_by_question  \\\n",
       "0                                                1.0          \n",
       "1                                                1.0          \n",
       "2                                                1.0          \n",
       "3                                                1.0          \n",
       "4                                                1.0          \n",
       "\n",
       "   stems_same_stems_ratio_answer_en_geometric_mean_by_question  \\\n",
       "0                                                1.0             \n",
       "1                                                1.0             \n",
       "2                                                1.0             \n",
       "3                                                1.0             \n",
       "4                                                1.0             \n",
       "\n",
       "   stems_same_stems_ratio_answer_en_harmonic_mean_by_question  ...  \\\n",
       "0                                                1.0           ...   \n",
       "1                                                1.0           ...   \n",
       "2                                                1.0           ...   \n",
       "3                                                1.0           ...   \n",
       "4                                                1.0           ...   \n",
       "\n",
       "   stems_amount_in_answer_ru  stems_amount_in_answer_en  \\\n",
       "0                          1                          1   \n",
       "1                          1                          1   \n",
       "2                          2                          2   \n",
       "3                          1                          1   \n",
       "4                          1                          1   \n",
       "\n",
       "   same_words_answer_question_ru  same_words_context_quesiton_ru  \\\n",
       "0                              0                               2   \n",
       "1                              0                               2   \n",
       "2                              0                               2   \n",
       "3                              0                               1   \n",
       "4                              0                               1   \n",
       "\n",
       "   same_words_context_answer_ru  same_words_answer_question_en  \\\n",
       "0                             1                              0   \n",
       "1                             0                              0   \n",
       "2                             0                              0   \n",
       "3                             0                              0   \n",
       "4                             0                              0   \n",
       "\n",
       "   same_words_context_quesiton_en  same_words_context_answer_en  \\\n",
       "0                               2                             1   \n",
       "1                               2                             0   \n",
       "2                               2                             0   \n",
       "3                               1                             0   \n",
       "4                               1                             0   \n",
       "\n",
       "   stems_same_stems_ratio_answer_ru  stems_same_stems_ratio_answer_en  \n",
       "0                               1.0                               1.0  \n",
       "1                               1.0                               1.0  \n",
       "2                               1.0                               1.0  \n",
       "3                               1.0                               1.0  \n",
       "4                               1.0                               1.0  \n",
       "\n",
       "[5 rows x 147 columns]"
      ]
     },
     "execution_count": 49,
     "metadata": {},
     "output_type": "execute_result"
    }
   ],
   "source": [
    "train.head()"
   ]
  },
  {
   "cell_type": "markdown",
   "metadata": {},
   "source": [
    "## Encoding"
   ]
  },
  {
   "cell_type": "markdown",
   "metadata": {},
   "source": [
    "QABert via roberta"
   ]
  },
  {
   "cell_type": "code",
   "execution_count": 50,
   "metadata": {},
   "outputs": [],
   "source": [
    "robert = pd.read_csv('data/original_bert_answers_similarity_by_roberta.csv').set_index('Unnamed: 0')"
   ]
  },
  {
   "cell_type": "code",
   "execution_count": 51,
   "metadata": {},
   "outputs": [],
   "source": [
    "robert.columns = ['original_bert_answers_similarity_by_roberta_top_' + column for column in robert.columns]"
   ]
  },
  {
   "cell_type": "code",
   "execution_count": 52,
   "metadata": {},
   "outputs": [],
   "source": [
    "robert[['original_bert_answers_similarity_by_roberta_min',\n",
    "       'original_bert_answers_similarity_by_roberta_max',\n",
    "       'original_bert_answers_similarity_by_roberta_mean',\n",
    "       'original_bert_answers_similarity_by_roberta_median',\n",
    "       'original_bert_answers_similarity_by_roberta_std']] = pd.DataFrame([[np.min(value), np.max(value), np.mean(value), np.median(value), np.std(value)] for value in robert.values])"
   ]
  },
  {
   "cell_type": "markdown",
   "metadata": {},
   "source": [
    "QARoberta via USE"
   ]
  },
  {
   "cell_type": "code",
   "execution_count": 53,
   "metadata": {},
   "outputs": [],
   "source": [
    "rouse = pd.read_csv('data/original_roberta_answers_similarity_by_use.csv').set_index('Unnamed: 0')"
   ]
  },
  {
   "cell_type": "code",
   "execution_count": 54,
   "metadata": {},
   "outputs": [],
   "source": [
    "rouse['original_roberta_answers_similarity_by_use'] = [ast.literal_eval(value) for value in rouse['original_roberta_answers_similarity_by_use']]"
   ]
  },
  {
   "cell_type": "code",
   "execution_count": 55,
   "metadata": {},
   "outputs": [],
   "source": [
    "rouse = pd.DataFrame(list(rouse['original_roberta_answers_similarity_by_use']))"
   ]
  },
  {
   "cell_type": "code",
   "execution_count": 56,
   "metadata": {},
   "outputs": [],
   "source": [
    "rouse.columns = ['original_roberta_answers_similarity_by_use_top_' + str(column) for column in rouse.columns]"
   ]
  },
  {
   "cell_type": "code",
   "execution_count": 57,
   "metadata": {},
   "outputs": [],
   "source": [
    "rouse[['original_roberta_answers_similarity_by_use_min',\n",
    "       'original_roberta_answers_similarity_by_use_max',\n",
    "       'original_roberta_answers_similarity_by_use_mean',\n",
    "       'original_roberta_answers_similarity_by_use_median',\n",
    "       'original_roberta_answers_similarity_by_use_std']] = pd.DataFrame([[np.min(value), np.max(value), np.mean(value), np.median(value), np.std(value)] for value in rouse.values])"
   ]
  },
  {
   "cell_type": "markdown",
   "metadata": {},
   "source": [
    "QABert via USE"
   ]
  },
  {
   "cell_type": "code",
   "execution_count": 58,
   "metadata": {},
   "outputs": [],
   "source": [
    "bertuse = pd.read_csv('data/original_bert_answers_similarity_by_use.csv').set_index('Unnamed: 0')"
   ]
  },
  {
   "cell_type": "code",
   "execution_count": 59,
   "metadata": {},
   "outputs": [],
   "source": [
    "bertuse['original_bert_answers_similarity_by_use'] = [ast.literal_eval(value) for value in bertuse['original_bert_answers_similarity_by_use']]"
   ]
  },
  {
   "cell_type": "code",
   "execution_count": 60,
   "metadata": {},
   "outputs": [],
   "source": [
    "bertuse = pd.DataFrame(list(bertuse['original_bert_answers_similarity_by_use']))"
   ]
  },
  {
   "cell_type": "code",
   "execution_count": 61,
   "metadata": {},
   "outputs": [],
   "source": [
    "bertuse.columns = ['original_bert_answers_similarity_by_use_top_' + str(column) for column in bertuse.columns]"
   ]
  },
  {
   "cell_type": "code",
   "execution_count": 62,
   "metadata": {},
   "outputs": [],
   "source": [
    "bertuse[['original_bert_answers_similarity_by_use_min',\n",
    "       'original_bert_answers_similarity_by_use_max',\n",
    "       'original_bert_answers_similarity_by_use_mean',\n",
    "       'original_bert_answers_similarity_by_use_median',\n",
    "       'original_bert_answers_similarity_by_use_std']] = pd.DataFrame([[np.min(value), np.max(value), np.mean(value), np.median(value), np.std(value)] for value in bertuse.values])"
   ]
  },
  {
   "cell_type": "markdown",
   "metadata": {},
   "source": [
    "QAT5 via Roberta"
   ]
  },
  {
   "cell_type": "code",
   "execution_count": 63,
   "metadata": {},
   "outputs": [],
   "source": [
    "t5berta = pd.read_csv('data/original_t5_answers_similarity_by_roberta.csv').set_index('Unnamed: 0')"
   ]
  },
  {
   "cell_type": "code",
   "execution_count": 64,
   "metadata": {},
   "outputs": [],
   "source": [
    "t5berta.columns = ['original_t5_answers_similarity_by_roberta'] "
   ]
  },
  {
   "cell_type": "markdown",
   "metadata": {},
   "source": [
    "QAT5 via USE"
   ]
  },
  {
   "cell_type": "code",
   "execution_count": 65,
   "metadata": {},
   "outputs": [],
   "source": [
    "t5use = pd.read_csv('data/original_t5_answers_similarity_by_use.csv').set_index('Unnamed: 0')"
   ]
  },
  {
   "cell_type": "code",
   "execution_count": 66,
   "metadata": {},
   "outputs": [],
   "source": [
    "t5use.columns = ['original_t5_answers_similarity_by_use'] "
   ]
  },
  {
   "cell_type": "markdown",
   "metadata": {},
   "source": [
    "QAT5-3B via Roberta"
   ]
  },
  {
   "cell_type": "code",
   "execution_count": 67,
   "metadata": {},
   "outputs": [],
   "source": [
    "t53bberta = pd.read_csv('data/original_t5-3b_answers_similarity_by_roberta.csv').set_index('Unnamed: 0')"
   ]
  },
  {
   "cell_type": "code",
   "execution_count": 68,
   "metadata": {},
   "outputs": [],
   "source": [
    "t53bberta.columns = ['original_t5-3b_answers_similarity_by_roberta'] "
   ]
  },
  {
   "cell_type": "markdown",
   "metadata": {},
   "source": [
    "Context answers via Roberta"
   ]
  },
  {
   "cell_type": "code",
   "execution_count": 69,
   "metadata": {},
   "outputs": [],
   "source": [
    "contextberta = pd.read_csv('data/context_answers_encoding_distance_by_roberta.csv').set_index('Unnamed: 0')"
   ]
  },
  {
   "cell_type": "code",
   "execution_count": 70,
   "metadata": {},
   "outputs": [],
   "source": [
    "contextberta.columns = ['context_answers_encoding_distance_by_roberta'] "
   ]
  },
  {
   "cell_type": "markdown",
   "metadata": {},
   "source": [
    "Sentences via Roverta"
   ]
  },
  {
   "cell_type": "code",
   "execution_count": 71,
   "metadata": {},
   "outputs": [],
   "source": [
    "sentenceberta = pd.read_csv('data/sentence_answer_similarity_by_roberta.csv').set_index('Unnamed: 0')"
   ]
  },
  {
   "cell_type": "markdown",
   "metadata": {},
   "source": [
    "Concat all and make mmmm"
   ]
  },
  {
   "cell_type": "code",
   "execution_count": 72,
   "metadata": {},
   "outputs": [],
   "source": [
    "train = pd.concat([train, bertuse, rouse, robert, t5berta, t5use, t53bberta, contextberta, sentenceberta], axis=1)"
   ]
  },
  {
   "cell_type": "code",
   "execution_count": 73,
   "metadata": {
    "scrolled": false
   },
   "outputs": [
    {
     "data": {
      "application/vnd.jupyter.widget-view+json": {
       "model_id": "7f4045dd812b446ea75bf2138c668b18",
       "version_major": 2,
       "version_minor": 0
      },
      "text/plain": [
       "HBox(children=(FloatProgress(value=0.0, max=48.0), HTML(value='')))"
      ]
     },
     "metadata": {},
     "output_type": "display_data"
    },
    {
     "name": "stderr",
     "output_type": "stream",
     "text": [
      "/opt/conda/lib/python3.8/site-packages/pandas/core/dtypes/cast.py:252: ComplexWarning: Casting complex values to real discards the imaginary part\n",
      "  return result.astype(dtype)\n"
     ]
    },
    {
     "name": "stdout",
     "output_type": "stream",
     "text": [
      "\n"
     ]
    }
   ],
   "source": [
    "for column in tqdm(list(bertuse.columns) + list(sentenceberta.columns) + list(contextberta.columns) + list(t53bberta.columns) + list(rouse.columns) + list(robert.columns) + list(t5berta.columns) + list(t5use.columns)):\n",
    "    train = mmmm(column, by='question_idx')\n",
    "    train = mmmm(column, by='context_idx')"
   ]
  },
  {
   "cell_type": "code",
   "execution_count": 74,
   "metadata": {},
   "outputs": [],
   "source": [
    "train['magic_scores'] = list(np.load('data/T5LargeProbs_train.npy')) + list(np.load('data/T5LargeProbs_val.npy')) + list(np.load('data/T5LargeProbs_test.npy'))"
   ]
  },
  {
   "cell_type": "code",
   "execution_count": 75,
   "metadata": {},
   "outputs": [],
   "source": [
    "train['magic_numbers_LC'] = list(np.load('data/rawT5noHTMLtrainLC.npy')) + list(np.load('data/rawT5noHTMLvalLC.npy')) + list(np.load('data/rawT5noHTMLtestLC.npy'))"
   ]
  },
  {
   "cell_type": "code",
   "execution_count": 76,
   "metadata": {},
   "outputs": [],
   "source": [
    "train['magic_numbers'] = list(np.load('data/rawT5noHTMLtrain.npy')) + list(np.load('data/rawT5noHTMLval.npy')) + list(np.load('data/rawT5noHTMLtest.npy'))"
   ]
  },
  {
   "cell_type": "code",
   "execution_count": 77,
   "metadata": {},
   "outputs": [],
   "source": [
    "train['magic_scores_LC'] = list(np.load('data/T5LargeProbs_train_RC.npy')) + list(np.load('data/T5LargeProbs_val_RC.npy')) + list(np.load('data/T5LargeProbs_test_RC.npy'))"
   ]
  },
  {
   "cell_type": "code",
   "execution_count": 78,
   "metadata": {},
   "outputs": [],
   "source": [
    "train['super_magic_numbers'] = list(np.load('data/t5_11b_train.npy')) + list(np.load('data/t5-11b_val.npy')) + list(np.load('data/t5_11b_test.npy'))"
   ]
  },
  {
   "cell_type": "code",
   "execution_count": 79,
   "metadata": {},
   "outputs": [],
   "source": [
    "train['super_magic_numbers_scores'] = list(np.load('data/t5_11b_probs_train.npy')) + list(np.load('data/t5-11b_probs_val.npy')) + list(np.load('data/t5_11b_probs_test.npy'))"
   ]
  },
  {
   "cell_type": "code",
   "execution_count": 80,
   "metadata": {},
   "outputs": [],
   "source": [
    "train = mmmm('magic_numbers', by='question_idx')\n",
    "train = mmmm('magic_numbers', by='context_idx')\n",
    "train = mmmm('magic_numbers_LC', by='question_idx')\n",
    "train = mmmm('magic_numbers_LC', by='context_idx')\n",
    "train = mmmm('magic_scores', by='question_idx')\n",
    "train = mmmm('magic_scores', by='context_idx')\n",
    "train = mmmm('magic_scores_LC', by='question_idx')\n",
    "train = mmmm('magic_scores_LC', by='context_idx')\n",
    "train = mmmm('super_magic_numbers', by='question_idx')\n",
    "train = mmmm('super_magic_numbers', by='context_idx')\n",
    "train = mmmm('super_magic_numbers_scores', by='question_idx')\n",
    "train = mmmm('super_magic_numbers_scores', by='context_idx')"
   ]
  },
  {
   "cell_type": "code",
   "execution_count": 81,
   "metadata": {},
   "outputs": [],
   "source": [
    "FULL_DATASET = pd.concat([pd.read_csv('data/FULLTRAIN.csv'), pd.read_csv('data/FULLVAL.csv'), pd.read_csv('data/FULLTEST.csv')]).reset_index().drop(columns=['t5preds', 'Unnamed: 0', 'index'])\n",
    "train = pd.concat([train, FULL_DATASET], axis=1)"
   ]
  },
  {
   "cell_type": "code",
   "execution_count": null,
   "metadata": {},
   "outputs": [],
   "source": [
    "for column in tqdm(unknown_columns):\n",
    "    train = mmmm(column, by='question_idx')\n",
    "    train = mmmm(column, by='context_idx')"
   ]
  },
  {
   "cell_type": "code",
   "execution_count": null,
   "metadata": {},
   "outputs": [],
   "source": [
    "train = pd.read_csv('part_train.csv').drop(columns=['Unnamed: 0'])"
   ]
  },
  {
   "cell_type": "code",
   "execution_count": null,
   "metadata": {},
   "outputs": [],
   "source": [
    "train = pd.read_csv('VERYFULLTRAIN.csv').drop(columns=['Unnamed: 0'])"
   ]
  },
  {
   "cell_type": "code",
   "execution_count": null,
   "metadata": {},
   "outputs": [],
   "source": [
    "train['answers_tuple'] = [ast.literal_eval(i) for i in train['answers_tuple'].values]"
   ]
  },
  {
   "cell_type": "markdown",
   "metadata": {},
   "source": [
    "# CatBoost Forever!"
   ]
  },
  {
   "cell_type": "code",
   "execution_count": 76,
   "metadata": {
    "collapsed": true
   },
   "outputs": [
    {
     "name": "stdout",
     "output_type": "stream",
     "text": [
      "Requirement already satisfied: sklearn in /opt/conda/lib/python3.8/site-packages (0.0)\n",
      "Requirement already satisfied: scikit-learn in /opt/conda/lib/python3.8/site-packages (from sklearn) (0.24.0)\n",
      "Requirement already satisfied: numpy>=1.13.3 in /opt/conda/lib/python3.8/site-packages (from scikit-learn->sklearn) (1.19.4)\n",
      "Requirement already satisfied: scipy>=0.19.1 in /opt/conda/lib/python3.8/site-packages (from scikit-learn->sklearn) (1.5.4)\n",
      "Requirement already satisfied: threadpoolctl>=2.0.0 in /opt/conda/lib/python3.8/site-packages (from scikit-learn->sklearn) (2.1.0)\n",
      "Requirement already satisfied: joblib>=0.11 in /opt/conda/lib/python3.8/site-packages (from scikit-learn->sklearn) (1.0.0)\n",
      "Requirement already satisfied: catboost in /opt/conda/lib/python3.8/site-packages (0.24.3)\n",
      "Requirement already satisfied: matplotlib in /opt/conda/lib/python3.8/site-packages (from catboost) (3.3.3)\n",
      "Requirement already satisfied: plotly in /opt/conda/lib/python3.8/site-packages (from catboost) (4.14.1)\n",
      "Requirement already satisfied: scipy in /opt/conda/lib/python3.8/site-packages (from catboost) (1.5.4)\n",
      "Requirement already satisfied: numpy>=1.16.0 in /opt/conda/lib/python3.8/site-packages (from catboost) (1.19.4)\n",
      "Requirement already satisfied: pandas>=0.24.0 in /opt/conda/lib/python3.8/site-packages (from catboost) (1.1.5)\n",
      "Requirement already satisfied: six in /opt/conda/lib/python3.8/site-packages (from catboost) (1.15.0)\n",
      "Requirement already satisfied: graphviz in /opt/conda/lib/python3.8/site-packages (from catboost) (0.15)\n",
      "Requirement already satisfied: pytz>=2017.2 in /opt/conda/lib/python3.8/site-packages (from pandas>=0.24.0->catboost) (2020.4)\n",
      "Requirement already satisfied: python-dateutil>=2.7.3 in /opt/conda/lib/python3.8/site-packages (from pandas>=0.24.0->catboost) (2.8.1)\n",
      "Requirement already satisfied: kiwisolver>=1.0.1 in /opt/conda/lib/python3.8/site-packages (from matplotlib->catboost) (1.3.1)\n",
      "Requirement already satisfied: pyparsing!=2.0.4,!=2.1.2,!=2.1.6,>=2.0.3 in /opt/conda/lib/python3.8/site-packages (from matplotlib->catboost) (2.4.7)\n",
      "Requirement already satisfied: cycler>=0.10 in /opt/conda/lib/python3.8/site-packages (from matplotlib->catboost) (0.10.0)\n",
      "Requirement already satisfied: pillow>=6.2.0 in /opt/conda/lib/python3.8/site-packages (from matplotlib->catboost) (8.0.1)\n",
      "Requirement already satisfied: retrying>=1.3.3 in /opt/conda/lib/python3.8/site-packages (from plotly->catboost) (1.3.3)\n"
     ]
    }
   ],
   "source": [
    "!pip install sklearn\n",
    "!pip install catboost"
   ]
  },
  {
   "cell_type": "code",
   "execution_count": 45,
   "metadata": {},
   "outputs": [],
   "source": [
    "from sklearn.model_selection import train_test_split\n",
    "from catboost import CatBoostClassifier, CatBoostRegressor\n",
    "from sklearn.metrics import f1_score, accuracy_score"
   ]
  },
  {
   "cell_type": "code",
   "execution_count": 183,
   "metadata": {},
   "outputs": [],
   "source": [
    "temp = train.set_index('answer_idx').drop(columns=['context_idx', 'question_idx', \n",
    "                                          'questions_set', 'answers_tuple', \n",
    "                                          'context_old_idx', 'question_old_idx', 'answer_old_idx',\n",
    "                                          'stemmed_context_ru', 'stemmed_context_en', \n",
    "                                          'stemmed_question_ru', 'stemmed_question_en', \n",
    "                                          'stemmed_answer_ru', 'stemmed_answer_en', 'is_answered',\n",
    "                                          'context_ru', 'context_en', 'question_ru', 'question_en', 'answer_ru', 'answer_en'])"
   ]
  },
  {
   "cell_type": "code",
   "execution_count": 184,
   "metadata": {},
   "outputs": [],
   "source": [
    "ttrain, validation = temp[train['is_answered'] == True], temp[train['is_answered'] == False]"
   ]
  },
  {
   "cell_type": "code",
   "execution_count": 185,
   "metadata": {},
   "outputs": [],
   "source": [
    "X_train, y_train = ttrain.drop(columns=['label']), ttrain['label']"
   ]
  },
  {
   "cell_type": "code",
   "execution_count": 186,
   "metadata": {},
   "outputs": [],
   "source": [
    "train_size = 0.801\n",
    "X_train, X_test, y_train, y_test = X_train.iloc[:int(len(X_train.index) * train_size)], X_train.iloc[int(len(X_train.index) * train_size) + 1:], y_train.iloc[:int(len(y_train.index) * train_size)], y_train.iloc[int(len(y_train.index) * train_size) + 1:] "
   ]
  },
  {
   "cell_type": "code",
   "execution_count": 196,
   "metadata": {},
   "outputs": [],
   "source": [
    "catboost_classifier = CatBoostClassifier(depth=4, iterations=750, learning_rate=0.003, eval_metric='F1')"
   ]
  },
  {
   "cell_type": "code",
   "execution_count": 197,
   "metadata": {
    "scrolled": true
   },
   "outputs": [
    {
     "name": "stdout",
     "output_type": "stream",
     "text": [
      "0:\tlearn: 0.7168078\ttest: 0.6895128\tbest: 0.6895128 (0)\ttotal: 21.1ms\tremaining: 15.8s\n",
      "1:\tlearn: 0.7180287\ttest: 0.6994536\tbest: 0.6994536 (1)\ttotal: 40.9ms\tremaining: 15.3s\n",
      "2:\tlearn: 0.7375598\ttest: 0.7180984\tbest: 0.7180984 (2)\ttotal: 62ms\tremaining: 15.4s\n",
      "3:\tlearn: 0.7406878\ttest: 0.7190357\tbest: 0.7190357 (3)\ttotal: 82.6ms\tremaining: 15.4s\n",
      "4:\tlearn: 0.7491719\ttest: 0.7427184\tbest: 0.7427184 (4)\ttotal: 102ms\tremaining: 15.2s\n",
      "5:\tlearn: 0.7450030\ttest: 0.7254822\tbest: 0.7427184 (4)\ttotal: 122ms\tremaining: 15.1s\n",
      "6:\tlearn: 0.7408222\ttest: 0.7233523\tbest: 0.7427184 (4)\ttotal: 142ms\tremaining: 15s\n",
      "7:\tlearn: 0.7444814\ttest: 0.7259320\tbest: 0.7427184 (4)\ttotal: 159ms\tremaining: 14.8s\n",
      "8:\tlearn: 0.7504762\ttest: 0.7378641\tbest: 0.7427184 (4)\ttotal: 179ms\tremaining: 14.7s\n",
      "9:\tlearn: 0.7494501\ttest: 0.7396928\tbest: 0.7427184 (4)\ttotal: 195ms\tremaining: 14.5s\n",
      "10:\tlearn: 0.7512254\ttest: 0.7378247\tbest: 0.7427184 (4)\ttotal: 216ms\tremaining: 14.5s\n",
      "11:\tlearn: 0.7489199\ttest: 0.7340946\tbest: 0.7427184 (4)\ttotal: 236ms\tremaining: 14.5s\n",
      "12:\tlearn: 0.7495444\ttest: 0.7319079\tbest: 0.7427184 (4)\ttotal: 254ms\tremaining: 14.4s\n",
      "13:\tlearn: 0.7515459\ttest: 0.7354150\tbest: 0.7427184 (4)\ttotal: 274ms\tremaining: 14.4s\n",
      "14:\tlearn: 0.7525794\ttest: 0.7369717\tbest: 0.7427184 (4)\ttotal: 294ms\tremaining: 14.4s\n",
      "15:\tlearn: 0.7539426\ttest: 0.7361510\tbest: 0.7427184 (4)\ttotal: 315ms\tremaining: 14.5s\n",
      "16:\tlearn: 0.7542373\ttest: 0.7380074\tbest: 0.7427184 (4)\ttotal: 336ms\tremaining: 14.5s\n",
      "17:\tlearn: 0.7551103\ttest: 0.7380560\tbest: 0.7427184 (4)\ttotal: 356ms\tremaining: 14.5s\n",
      "18:\tlearn: 0.7558116\ttest: 0.7381443\tbest: 0.7427184 (4)\ttotal: 375ms\tremaining: 14.4s\n",
      "19:\tlearn: 0.7569914\ttest: 0.7402223\tbest: 0.7427184 (4)\ttotal: 394ms\tremaining: 14.4s\n",
      "20:\tlearn: 0.7553041\ttest: 0.7413509\tbest: 0.7427184 (4)\ttotal: 411ms\tremaining: 14.3s\n",
      "21:\tlearn: 0.7541612\ttest: 0.7390053\tbest: 0.7427184 (4)\ttotal: 428ms\tremaining: 14.2s\n",
      "22:\tlearn: 0.7535938\ttest: 0.7380165\tbest: 0.7427184 (4)\ttotal: 449ms\tremaining: 14.2s\n",
      "23:\tlearn: 0.7537374\ttest: 0.7390947\tbest: 0.7427184 (4)\ttotal: 468ms\tremaining: 14.2s\n",
      "24:\tlearn: 0.7559055\ttest: 0.7378800\tbest: 0.7427184 (4)\ttotal: 489ms\tremaining: 14.2s\n",
      "25:\tlearn: 0.7566586\ttest: 0.7395234\tbest: 0.7427184 (4)\ttotal: 509ms\tremaining: 14.2s\n",
      "26:\tlearn: 0.7563908\ttest: 0.7385755\tbest: 0.7427184 (4)\ttotal: 529ms\tremaining: 14.2s\n",
      "27:\tlearn: 0.7550298\ttest: 0.7364948\tbest: 0.7427184 (4)\ttotal: 548ms\tremaining: 14.1s\n",
      "28:\tlearn: 0.7551289\ttest: 0.7361913\tbest: 0.7427184 (4)\ttotal: 568ms\tremaining: 14.1s\n",
      "29:\tlearn: 0.7555106\ttest: 0.7391842\tbest: 0.7427184 (4)\ttotal: 586ms\tremaining: 14.1s\n",
      "30:\tlearn: 0.7569866\ttest: 0.7378401\tbest: 0.7427184 (4)\ttotal: 605ms\tremaining: 14s\n",
      "31:\tlearn: 0.7561444\ttest: 0.7385755\tbest: 0.7427184 (4)\ttotal: 623ms\tremaining: 14s\n",
      "32:\tlearn: 0.7550258\ttest: 0.7394889\tbest: 0.7427184 (4)\ttotal: 642ms\tremaining: 13.9s\n",
      "33:\tlearn: 0.7551289\ttest: 0.7373196\tbest: 0.7427184 (4)\ttotal: 661ms\tremaining: 13.9s\n",
      "34:\tlearn: 0.7542903\ttest: 0.7388797\tbest: 0.7427184 (4)\ttotal: 681ms\tremaining: 13.9s\n",
      "35:\tlearn: 0.7537871\ttest: 0.7373196\tbest: 0.7427184 (4)\ttotal: 702ms\tremaining: 13.9s\n",
      "36:\tlearn: 0.7543469\ttest: 0.7374948\tbest: 0.7427184 (4)\ttotal: 725ms\tremaining: 14s\n",
      "37:\tlearn: 0.7540950\ttest: 0.7381051\tbest: 0.7427184 (4)\ttotal: 747ms\tremaining: 14s\n",
      "38:\tlearn: 0.7547436\ttest: 0.7401900\tbest: 0.7427184 (4)\ttotal: 767ms\tremaining: 14s\n",
      "39:\tlearn: 0.7536642\ttest: 0.7371028\tbest: 0.7427184 (4)\ttotal: 789ms\tremaining: 14s\n",
      "40:\tlearn: 0.7541149\ttest: 0.7387906\tbest: 0.7427184 (4)\ttotal: 809ms\tremaining: 14s\n",
      "41:\tlearn: 0.7531313\ttest: 0.7353669\tbest: 0.7427184 (4)\ttotal: 830ms\tremaining: 14s\n",
      "42:\tlearn: 0.7536086\ttest: 0.7367120\tbest: 0.7427184 (4)\ttotal: 851ms\tremaining: 14s\n",
      "43:\tlearn: 0.7533542\ttest: 0.7378401\tbest: 0.7427184 (4)\ttotal: 872ms\tremaining: 14s\n",
      "44:\tlearn: 0.7530528\ttest: 0.7373196\tbest: 0.7427184 (4)\ttotal: 894ms\tremaining: 14s\n",
      "45:\tlearn: 0.7531001\ttest: 0.7381443\tbest: 0.7427184 (4)\ttotal: 915ms\tremaining: 14s\n",
      "46:\tlearn: 0.7536056\ttest: 0.7367120\tbest: 0.7427184 (4)\ttotal: 936ms\tremaining: 14s\n",
      "47:\tlearn: 0.7532755\ttest: 0.7377522\tbest: 0.7427184 (4)\ttotal: 955ms\tremaining: 14s\n",
      "48:\tlearn: 0.7533488\ttest: 0.7393989\tbest: 0.7427184 (4)\ttotal: 977ms\tremaining: 14s\n",
      "49:\tlearn: 0.7542834\ttest: 0.7395234\tbest: 0.7427184 (4)\ttotal: 996ms\tremaining: 13.9s\n",
      "50:\tlearn: 0.7542339\ttest: 0.7391842\tbest: 0.7427184 (4)\ttotal: 1.01s\tremaining: 13.9s\n",
      "51:\tlearn: 0.7548082\ttest: 0.7407407\tbest: 0.7427184 (4)\ttotal: 1.03s\tremaining: 13.9s\n",
      "52:\tlearn: 0.7540554\ttest: 0.7397035\tbest: 0.7427184 (4)\ttotal: 1.05s\tremaining: 13.8s\n",
      "53:\tlearn: 0.7533804\ttest: 0.7393989\tbest: 0.7427184 (4)\ttotal: 1.07s\tremaining: 13.8s\n",
      "54:\tlearn: 0.7534067\ttest: 0.7393989\tbest: 0.7427184 (4)\ttotal: 1.09s\tremaining: 13.8s\n",
      "55:\tlearn: 0.7542638\ttest: 0.7397035\tbest: 0.7427184 (4)\ttotal: 1.11s\tremaining: 13.8s\n",
      "56:\tlearn: 0.7546408\ttest: 0.7413509\tbest: 0.7427184 (4)\ttotal: 1.13s\tremaining: 13.8s\n",
      "57:\tlearn: 0.7544959\ttest: 0.7391842\tbest: 0.7427184 (4)\ttotal: 1.15s\tremaining: 13.8s\n",
      "58:\tlearn: 0.7553224\ttest: 0.7394889\tbest: 0.7427184 (4)\ttotal: 1.17s\tremaining: 13.7s\n",
      "59:\tlearn: 0.7540420\ttest: 0.7417492\tbest: 0.7427184 (4)\ttotal: 1.19s\tremaining: 13.7s\n",
      "60:\tlearn: 0.7544995\ttest: 0.7398844\tbest: 0.7427184 (4)\ttotal: 1.21s\tremaining: 13.6s\n",
      "61:\tlearn: 0.7550793\ttest: 0.7410161\tbest: 0.7427184 (4)\ttotal: 1.23s\tremaining: 13.6s\n",
      "62:\tlearn: 0.7551103\ttest: 0.7407102\tbest: 0.7427184 (4)\ttotal: 1.25s\tremaining: 13.6s\n",
      "63:\tlearn: 0.7562260\ttest: 0.7404045\tbest: 0.7427184 (4)\ttotal: 1.27s\tremaining: 13.6s\n",
      "64:\tlearn: 0.7568060\ttest: 0.7407102\tbest: 0.7427184 (4)\ttotal: 1.29s\tremaining: 13.6s\n",
      "65:\tlearn: 0.7566309\ttest: 0.7404959\tbest: 0.7427184 (4)\ttotal: 1.31s\tremaining: 13.6s\n",
      "66:\tlearn: 0.7564882\ttest: 0.7405875\tbest: 0.7427184 (4)\ttotal: 1.33s\tremaining: 13.6s\n",
      "67:\tlearn: 0.7564168\ttest: 0.7412008\tbest: 0.7427184 (4)\ttotal: 1.35s\tremaining: 13.5s\n",
      "68:\tlearn: 0.7561866\ttest: 0.7405875\tbest: 0.7427184 (4)\ttotal: 1.37s\tremaining: 13.5s\n",
      "69:\tlearn: 0.7564336\ttest: 0.7408020\tbest: 0.7427184 (4)\ttotal: 1.39s\tremaining: 13.5s\n",
      "70:\tlearn: 0.7564336\ttest: 0.7415359\tbest: 0.7427184 (4)\ttotal: 1.41s\tremaining: 13.4s\n",
      "71:\tlearn: 0.7567184\ttest: 0.7400662\tbest: 0.7427184 (4)\ttotal: 1.42s\tremaining: 13.4s\n",
      "72:\tlearn: 0.7562139\ttest: 0.7394541\tbest: 0.7427184 (4)\ttotal: 1.44s\tremaining: 13.4s\n",
      "73:\tlearn: 0.7561644\ttest: 0.7386270\tbest: 0.7427184 (4)\ttotal: 1.46s\tremaining: 13.4s\n",
      "74:\tlearn: 0.7560877\ttest: 0.7384106\tbest: 0.7427184 (4)\ttotal: 1.48s\tremaining: 13.3s\n",
      "75:\tlearn: 0.7560110\ttest: 0.7391484\tbest: 0.7427184 (4)\ttotal: 1.5s\tremaining: 13.3s\n",
      "76:\tlearn: 0.7557314\ttest: 0.7378882\tbest: 0.7427184 (4)\ttotal: 1.52s\tremaining: 13.3s\n",
      "77:\tlearn: 0.7557089\ttest: 0.7384106\tbest: 0.7427184 (4)\ttotal: 1.54s\tremaining: 13.3s\n",
      "78:\tlearn: 0.7559167\ttest: 0.7373654\tbest: 0.7427184 (4)\ttotal: 1.56s\tremaining: 13.3s\n",
      "79:\tlearn: 0.7556639\ttest: 0.7370600\tbest: 0.7427184 (4)\ttotal: 1.58s\tremaining: 13.3s\n",
      "80:\tlearn: 0.7551041\ttest: 0.7376709\tbest: 0.7427184 (4)\ttotal: 1.6s\tremaining: 13.3s\n",
      "81:\tlearn: 0.7556639\ttest: 0.7376709\tbest: 0.7427184 (4)\ttotal: 1.63s\tremaining: 13.2s\n",
      "82:\tlearn: 0.7553343\ttest: 0.7379768\tbest: 0.7427184 (4)\ttotal: 1.65s\tremaining: 13.2s\n",
      "83:\tlearn: 0.7551808\ttest: 0.7381939\tbest: 0.7427184 (4)\ttotal: 1.66s\tremaining: 13.2s\n",
      "84:\tlearn: 0.7553884\ttest: 0.7382829\tbest: 0.7427184 (4)\ttotal: 1.68s\tremaining: 13.2s\n",
      "85:\tlearn: 0.7555872\ttest: 0.7379768\tbest: 0.7427184 (4)\ttotal: 1.7s\tremaining: 13.1s\n",
      "86:\tlearn: 0.7562068\ttest: 0.7392027\tbest: 0.7427184 (4)\ttotal: 1.72s\tremaining: 13.1s\n",
      "87:\tlearn: 0.7560578\ttest: 0.7378479\tbest: 0.7427184 (4)\ttotal: 1.74s\tremaining: 13.1s\n",
      "88:\tlearn: 0.7563555\ttest: 0.7382829\tbest: 0.7427184 (4)\ttotal: 1.76s\tremaining: 13.1s\n",
      "89:\tlearn: 0.7568392\ttest: 0.7394191\tbest: 0.7427184 (4)\ttotal: 1.78s\tremaining: 13.1s\n",
      "90:\tlearn: 0.7568943\ttest: 0.7385892\tbest: 0.7427184 (4)\ttotal: 1.8s\tremaining: 13s\n",
      "91:\tlearn: 0.7568667\ttest: 0.7383721\tbest: 0.7427184 (4)\ttotal: 1.82s\tremaining: 13s\n",
      "92:\tlearn: 0.7567623\ttest: 0.7391124\tbest: 0.7427184 (4)\ttotal: 1.84s\tremaining: 13s\n",
      "93:\tlearn: 0.7571196\ttest: 0.7396352\tbest: 0.7427184 (4)\ttotal: 1.86s\tremaining: 13s\n",
      "94:\tlearn: 0.7572519\ttest: 0.7394191\tbest: 0.7427184 (4)\ttotal: 1.88s\tremaining: 13s\n",
      "95:\tlearn: 0.7580596\ttest: 0.7372354\tbest: 0.7427184 (4)\ttotal: 1.9s\tremaining: 12.9s\n",
      "96:\tlearn: 0.7580596\ttest: 0.7375415\tbest: 0.7427184 (4)\ttotal: 1.92s\tremaining: 12.9s\n",
      "97:\tlearn: 0.7580875\ttest: 0.7377593\tbest: 0.7427184 (4)\ttotal: 1.94s\tremaining: 12.9s\n",
      "98:\tlearn: 0.7584384\ttest: 0.7385892\tbest: 0.7427184 (4)\ttotal: 1.96s\tremaining: 12.9s\n",
      "99:\tlearn: 0.7580596\ttest: 0.7383721\tbest: 0.7427184 (4)\ttotal: 1.98s\tremaining: 12.9s\n",
      "100:\tlearn: 0.7583333\ttest: 0.7391124\tbest: 0.7427184 (4)\ttotal: 2s\tremaining: 12.9s\n",
      "101:\tlearn: 0.7583893\ttest: 0.7397260\tbest: 0.7427184 (4)\ttotal: 2.02s\tremaining: 12.9s\n",
      "102:\tlearn: 0.7583401\ttest: 0.7395098\tbest: 0.7427184 (4)\ttotal: 2.05s\tremaining: 12.9s\n",
      "103:\tlearn: 0.7582138\ttest: 0.7377593\tbest: 0.7427184 (4)\ttotal: 2.07s\tremaining: 12.8s\n",
      "104:\tlearn: 0.7581926\ttest: 0.7381546\tbest: 0.7427184 (4)\ttotal: 2.09s\tremaining: 12.8s\n",
      "105:\tlearn: 0.7582909\ttest: 0.7379368\tbest: 0.7427184 (4)\ttotal: 2.11s\tremaining: 12.8s\n",
      "106:\tlearn: 0.7582485\ttest: 0.7387687\tbest: 0.7427184 (4)\ttotal: 2.13s\tremaining: 12.8s\n",
      "107:\tlearn: 0.7587260\ttest: 0.7389859\tbest: 0.7427184 (4)\ttotal: 2.14s\tremaining: 12.7s\n",
      "108:\tlearn: 0.7588385\ttest: 0.7379368\tbest: 0.7427184 (4)\ttotal: 2.16s\tremaining: 12.7s\n",
      "109:\tlearn: 0.7586347\ttest: 0.7381546\tbest: 0.7427184 (4)\ttotal: 2.19s\tremaining: 12.7s\n",
      "110:\tlearn: 0.7590631\ttest: 0.7386789\tbest: 0.7427184 (4)\ttotal: 2.21s\tremaining: 12.7s\n",
      "111:\tlearn: 0.7588595\ttest: 0.7379368\tbest: 0.7427184 (4)\ttotal: 2.22s\tremaining: 12.7s\n",
      "112:\tlearn: 0.7591479\ttest: 0.7379368\tbest: 0.7427184 (4)\ttotal: 2.24s\tremaining: 12.7s\n",
      "113:\tlearn: 0.7592253\ttest: 0.7380258\tbest: 0.7427184 (4)\ttotal: 2.27s\tremaining: 12.6s\n",
      "114:\tlearn: 0.7592461\ttest: 0.7383333\tbest: 0.7427184 (4)\ttotal: 2.29s\tremaining: 12.6s\n",
      "115:\tlearn: 0.7596046\ttest: 0.7375000\tbest: 0.7427184 (4)\ttotal: 2.31s\tremaining: 12.6s\n",
      "116:\tlearn: 0.7598084\ttest: 0.7383333\tbest: 0.7427184 (4)\ttotal: 2.33s\tremaining: 12.6s\n",
      "117:\tlearn: 0.7594782\ttest: 0.7383333\tbest: 0.7427184 (4)\ttotal: 2.35s\tremaining: 12.6s\n",
      "118:\tlearn: 0.7598164\ttest: 0.7378074\tbest: 0.7427184 (4)\ttotal: 2.38s\tremaining: 12.6s\n",
      "119:\tlearn: 0.7596330\ttest: 0.7383333\tbest: 0.7427184 (4)\ttotal: 2.39s\tremaining: 12.6s\n",
      "120:\tlearn: 0.7600897\ttest: 0.7386411\tbest: 0.7427184 (4)\ttotal: 2.42s\tremaining: 12.6s\n",
      "121:\tlearn: 0.7599837\ttest: 0.7396918\tbest: 0.7427184 (4)\ttotal: 2.44s\tremaining: 12.5s\n",
      "122:\tlearn: 0.7600408\ttest: 0.7386411\tbest: 0.7427184 (4)\ttotal: 2.46s\tremaining: 12.5s\n",
      "123:\tlearn: 0.7597026\ttest: 0.7405248\tbest: 0.7427184 (4)\ttotal: 2.48s\tremaining: 12.5s\n",
      "124:\tlearn: 0.7599633\ttest: 0.7391667\tbest: 0.7427184 (4)\ttotal: 2.5s\tremaining: 12.5s\n",
      "125:\tlearn: 0.7597595\ttest: 0.7394748\tbest: 0.7427184 (4)\ttotal: 2.52s\tremaining: 12.5s\n",
      "126:\tlearn: 0.7599429\ttest: 0.7386411\tbest: 0.7427184 (4)\ttotal: 2.54s\tremaining: 12.5s\n",
      "127:\tlearn: 0.7604570\ttest: 0.7386411\tbest: 0.7427184 (4)\ttotal: 2.56s\tremaining: 12.4s\n",
      "128:\tlearn: 0.7607099\ttest: 0.7391667\tbest: 0.7427184 (4)\ttotal: 2.58s\tremaining: 12.4s\n",
      "129:\tlearn: 0.7608075\ttest: 0.7391667\tbest: 0.7427184 (4)\ttotal: 2.6s\tremaining: 12.4s\n",
      "130:\tlearn: 0.7608851\ttest: 0.7400000\tbest: 0.7427184 (4)\ttotal: 2.62s\tremaining: 12.4s\n",
      "131:\tlearn: 0.7617299\ttest: 0.7406172\tbest: 0.7427184 (4)\ttotal: 2.64s\tremaining: 12.4s\n",
      "132:\tlearn: 0.7613706\ttest: 0.7400918\tbest: 0.7427184 (4)\ttotal: 2.66s\tremaining: 12.3s\n",
      "133:\tlearn: 0.7611377\ttest: 0.7404007\tbest: 0.7427184 (4)\ttotal: 2.68s\tremaining: 12.3s\n",
      "134:\tlearn: 0.7610114\ttest: 0.7397832\tbest: 0.7427184 (4)\ttotal: 2.7s\tremaining: 12.3s\n",
      "135:\tlearn: 0.7608851\ttest: 0.7404007\tbest: 0.7427184 (4)\ttotal: 2.71s\tremaining: 12.3s\n",
      "136:\tlearn: 0.7606811\ttest: 0.7400918\tbest: 0.7427184 (4)\ttotal: 2.73s\tremaining: 12.2s\n",
      "137:\tlearn: 0.7609139\ttest: 0.7400918\tbest: 0.7427184 (4)\ttotal: 2.75s\tremaining: 12.2s\n",
      "138:\tlearn: 0.7611468\ttest: 0.7394748\tbest: 0.7427184 (4)\ttotal: 2.77s\tremaining: 12.2s\n",
      "139:\tlearn: 0.7614286\ttest: 0.7400918\tbest: 0.7427184 (4)\ttotal: 2.79s\tremaining: 12.2s\n",
      "140:\tlearn: 0.7613799\ttest: 0.7398747\tbest: 0.7427184 (4)\ttotal: 2.81s\tremaining: 12.1s\n",
      "141:\tlearn: 0.7615840\ttest: 0.7392574\tbest: 0.7427184 (4)\ttotal: 2.83s\tremaining: 12.1s\n",
      "142:\tlearn: 0.7611270\ttest: 0.7384230\tbest: 0.7427184 (4)\ttotal: 2.85s\tremaining: 12.1s\n",
      "143:\tlearn: 0.7616422\ttest: 0.7392574\tbest: 0.7427184 (4)\ttotal: 2.87s\tremaining: 12.1s\n",
      "144:\tlearn: 0.7614379\ttest: 0.7395659\tbest: 0.7427184 (4)\ttotal: 2.89s\tremaining: 12.1s\n",
      "145:\tlearn: 0.7614089\ttest: 0.7389491\tbest: 0.7427184 (4)\ttotal: 2.91s\tremaining: 12s\n",
      "146:\tlearn: 0.7616131\ttest: 0.7392574\tbest: 0.7427184 (4)\ttotal: 2.93s\tremaining: 12s\n",
      "147:\tlearn: 0.7617881\ttest: 0.7397832\tbest: 0.7427184 (4)\ttotal: 2.95s\tremaining: 12s\n",
      "148:\tlearn: 0.7619437\ttest: 0.7394748\tbest: 0.7427184 (4)\ttotal: 2.97s\tremaining: 12s\n",
      "149:\tlearn: 0.7616908\ttest: 0.7397832\tbest: 0.7427184 (4)\ttotal: 2.99s\tremaining: 12s\n",
      "150:\tlearn: 0.7619242\ttest: 0.7394748\tbest: 0.7427184 (4)\ttotal: 3.01s\tremaining: 12s\n",
      "151:\tlearn: 0.7614089\ttest: 0.7405248\tbest: 0.7427184 (4)\ttotal: 3.03s\tremaining: 11.9s\n",
      "152:\tlearn: 0.7615157\ttest: 0.7394748\tbest: 0.7427184 (4)\ttotal: 3.05s\tremaining: 11.9s\n",
      "153:\tlearn: 0.7615644\ttest: 0.7397832\tbest: 0.7427184 (4)\ttotal: 3.07s\tremaining: 11.9s\n",
      "154:\tlearn: 0.7617686\ttest: 0.7411421\tbest: 0.7427184 (4)\ttotal: 3.09s\tremaining: 11.9s\n",
      "155:\tlearn: 0.7615157\ttest: 0.7397832\tbest: 0.7427184 (4)\ttotal: 3.11s\tremaining: 11.8s\n",
      "156:\tlearn: 0.7612139\ttest: 0.7398747\tbest: 0.7427184 (4)\ttotal: 3.13s\tremaining: 11.8s\n",
      "157:\tlearn: 0.7615251\ttest: 0.7390397\tbest: 0.7427184 (4)\ttotal: 3.15s\tremaining: 11.8s\n",
      "158:\tlearn: 0.7618074\ttest: 0.7390397\tbest: 0.7427184 (4)\ttotal: 3.17s\tremaining: 11.8s\n",
      "159:\tlearn: 0.7617295\ttest: 0.7398747\tbest: 0.7427184 (4)\ttotal: 3.19s\tremaining: 11.8s\n",
      "160:\tlearn: 0.7618853\ttest: 0.7393484\tbest: 0.7427184 (4)\ttotal: 3.21s\tremaining: 11.7s\n",
      "161:\tlearn: 0.7617295\ttest: 0.7393484\tbest: 0.7427184 (4)\ttotal: 3.23s\tremaining: 11.7s\n",
      "162:\tlearn: 0.7618853\ttest: 0.7398747\tbest: 0.7427184 (4)\ttotal: 3.25s\tremaining: 11.7s\n",
      "163:\tlearn: 0.7620704\ttest: 0.7388216\tbest: 0.7427184 (4)\ttotal: 3.27s\tremaining: 11.7s\n",
      "164:\tlearn: 0.7625090\ttest: 0.7388216\tbest: 0.7427184 (4)\ttotal: 3.29s\tremaining: 11.7s\n",
      "165:\tlearn: 0.7622557\ttest: 0.7393484\tbest: 0.7427184 (4)\ttotal: 3.31s\tremaining: 11.7s\n",
      "166:\tlearn: 0.7624603\ttest: 0.7393484\tbest: 0.7427184 (4)\ttotal: 3.33s\tremaining: 11.6s\n",
      "167:\tlearn: 0.7623823\ttest: 0.7388216\tbest: 0.7427184 (4)\ttotal: 3.35s\tremaining: 11.6s\n",
      "168:\tlearn: 0.7623529\ttest: 0.7388216\tbest: 0.7427184 (4)\ttotal: 3.37s\tremaining: 11.6s\n",
      "169:\tlearn: 0.7624016\ttest: 0.7393484\tbest: 0.7427184 (4)\ttotal: 3.39s\tremaining: 11.6s\n",
      "170:\tlearn: 0.7624603\ttest: 0.7390397\tbest: 0.7427184 (4)\ttotal: 3.41s\tremaining: 11.6s\n",
      "171:\tlearn: 0.7624795\ttest: 0.7395659\tbest: 0.7427184 (4)\ttotal: 3.43s\tremaining: 11.5s\n",
      "172:\tlearn: 0.7623823\ttest: 0.7388216\tbest: 0.7427184 (4)\ttotal: 3.45s\tremaining: 11.5s\n",
      "173:\tlearn: 0.7625090\ttest: 0.7395659\tbest: 0.7427184 (4)\ttotal: 3.47s\tremaining: 11.5s\n",
      "174:\tlearn: 0.7624117\ttest: 0.7385129\tbest: 0.7427184 (4)\ttotal: 3.49s\tremaining: 11.5s\n",
      "175:\tlearn: 0.7627726\ttest: 0.7374582\tbest: 0.7427184 (4)\ttotal: 3.51s\tremaining: 11.4s\n",
      "176:\tlearn: 0.7628212\ttest: 0.7374582\tbest: 0.7427184 (4)\ttotal: 3.52s\tremaining: 11.4s\n",
      "177:\tlearn: 0.7630555\ttest: 0.7374582\tbest: 0.7427184 (4)\ttotal: 3.54s\tremaining: 11.4s\n",
      "178:\tlearn: 0.7631040\ttest: 0.7374582\tbest: 0.7427184 (4)\ttotal: 3.56s\tremaining: 11.4s\n",
      "179:\tlearn: 0.7628993\ttest: 0.7379858\tbest: 0.7427184 (4)\ttotal: 3.59s\tremaining: 11.4s\n",
      "180:\tlearn: 0.7628212\ttest: 0.7379858\tbest: 0.7427184 (4)\ttotal: 3.61s\tremaining: 11.3s\n",
      "181:\tlearn: 0.7630259\ttest: 0.7382943\tbest: 0.7427184 (4)\ttotal: 3.63s\tremaining: 11.3s\n",
      "182:\tlearn: 0.7636103\ttest: 0.7382943\tbest: 0.7427184 (4)\ttotal: 3.65s\tremaining: 11.3s\n",
      "183:\tlearn: 0.7635322\ttest: 0.7382943\tbest: 0.7427184 (4)\ttotal: 3.67s\tremaining: 11.3s\n",
      "184:\tlearn: 0.7639415\ttest: 0.7388216\tbest: 0.7427184 (4)\ttotal: 3.69s\tremaining: 11.3s\n",
      "185:\tlearn: 0.7637368\ttest: 0.7388216\tbest: 0.7427184 (4)\ttotal: 3.71s\tremaining: 11.2s\n",
      "186:\tlearn: 0.7640679\ttest: 0.7393484\tbest: 0.7427184 (4)\ttotal: 3.73s\tremaining: 11.2s\n",
      "187:\tlearn: 0.7639713\ttest: 0.7385129\tbest: 0.7427184 (4)\ttotal: 3.75s\tremaining: 11.2s\n",
      "188:\tlearn: 0.7640495\ttest: 0.7388216\tbest: 0.7427184 (4)\ttotal: 3.77s\tremaining: 11.2s\n",
      "189:\tlearn: 0.7645072\ttest: 0.7391304\tbest: 0.7427184 (4)\ttotal: 3.79s\tremaining: 11.2s\n",
      "190:\tlearn: 0.7649468\ttest: 0.7391304\tbest: 0.7427184 (4)\ttotal: 3.81s\tremaining: 11.1s\n",
      "191:\tlearn: 0.7647902\ttest: 0.7396573\tbest: 0.7427184 (4)\ttotal: 3.83s\tremaining: 11.1s\n",
      "192:\tlearn: 0.7647902\ttest: 0.7396573\tbest: 0.7427184 (4)\ttotal: 3.85s\tremaining: 11.1s\n",
      "193:\tlearn: 0.7649468\ttest: 0.7396573\tbest: 0.7427184 (4)\ttotal: 3.87s\tremaining: 11.1s\n",
      "194:\tlearn: 0.7648023\ttest: 0.7404931\tbest: 0.7427184 (4)\ttotal: 3.88s\tremaining: 11.1s\n",
      "195:\tlearn: 0.7652423\ttest: 0.7404931\tbest: 0.7427184 (4)\ttotal: 3.9s\tremaining: 11s\n",
      "196:\tlearn: 0.7653992\ttest: 0.7408027\tbest: 0.7427184 (4)\ttotal: 3.93s\tremaining: 11s\n",
      "197:\tlearn: 0.7651942\ttest: 0.7416388\tbest: 0.7427184 (4)\ttotal: 3.95s\tremaining: 11s\n",
      "198:\tlearn: 0.7653689\ttest: 0.7405858\tbest: 0.7427184 (4)\ttotal: 3.97s\tremaining: 11s\n",
      "199:\tlearn: 0.7649411\ttest: 0.7419490\tbest: 0.7427184 (4)\ttotal: 3.99s\tremaining: 11s\n",
      "200:\tlearn: 0.7653992\ttest: 0.7424749\tbest: 0.7427184 (4)\ttotal: 5.01s\tremaining: 13.7s\n",
      "201:\tlearn: 0.7654296\ttest: 0.7430004\tbest: 0.7430004 (201)\ttotal: 5.04s\tremaining: 13.7s\n",
      "202:\tlearn: 0.7657131\ttest: 0.7432150\tbest: 0.7432150 (202)\ttotal: 5.05s\tremaining: 13.6s\n",
      "203:\tlearn: 0.7654777\ttest: 0.7432150\tbest: 0.7432150 (202)\ttotal: 5.07s\tremaining: 13.6s\n",
      "204:\tlearn: 0.7655257\ttest: 0.7432150\tbest: 0.7432150 (202)\ttotal: 5.09s\tremaining: 13.5s\n",
      "205:\tlearn: 0.7656170\ttest: 0.7423800\tbest: 0.7432150 (202)\ttotal: 5.11s\tremaining: 13.5s\n",
      "206:\tlearn: 0.7656651\ttest: 0.7416388\tbest: 0.7432150 (202)\ttotal: 5.13s\tremaining: 13.5s\n",
      "207:\tlearn: 0.7659662\ttest: 0.7421646\tbest: 0.7432150 (202)\ttotal: 5.16s\tremaining: 13.4s\n",
      "208:\tlearn: 0.7664241\ttest: 0.7418546\tbest: 0.7432150 (202)\ttotal: 6.18s\tremaining: 16s\n",
      "209:\tlearn: 0.7664548\ttest: 0.7421646\tbest: 0.7432150 (202)\ttotal: 6.2s\tremaining: 15.9s\n",
      "210:\tlearn: 0.7665505\ttest: 0.7430004\tbest: 0.7432150 (202)\ttotal: 6.22s\tremaining: 15.9s\n",
      "211:\tlearn: 0.7668819\ttest: 0.7441472\tbest: 0.7441472 (211)\ttotal: 6.24s\tremaining: 15.8s\n",
      "212:\tlearn: 0.7671345\ttest: 0.7441472\tbest: 0.7441472 (211)\ttotal: 6.27s\tremaining: 15.8s\n",
      "213:\tlearn: 0.7672608\ttest: 0.7435255\tbest: 0.7441472 (211)\ttotal: 6.29s\tremaining: 15.7s\n",
      "214:\tlearn: 0.7671822\ttest: 0.7441472\tbest: 0.7441472 (211)\ttotal: 6.31s\tremaining: 15.7s\n",
      "215:\tlearn: 0.7670559\ttest: 0.7441472\tbest: 0.7441472 (211)\ttotal: 6.33s\tremaining: 15.7s\n",
      "216:\tlearn: 0.7675609\ttest: 0.7444584\tbest: 0.7444584 (216)\ttotal: 6.35s\tremaining: 15.6s\n",
      "217:\tlearn: 0.7679394\ttest: 0.7451963\tbest: 0.7451963 (217)\ttotal: 6.37s\tremaining: 15.6s\n",
      "218:\tlearn: 0.7676085\ttest: 0.7455077\tbest: 0.7455077 (218)\ttotal: 6.4s\tremaining: 15.5s\n",
      "219:\tlearn: 0.7678133\ttest: 0.7446720\tbest: 0.7455077 (218)\ttotal: 6.42s\tremaining: 15.5s\n",
      "220:\tlearn: 0.7678133\ttest: 0.7463435\tbest: 0.7463435 (220)\ttotal: 6.44s\tremaining: 15.4s\n",
      "221:\tlearn: 0.7676395\ttest: 0.7466555\tbest: 0.7466555 (221)\ttotal: 6.46s\tremaining: 15.4s\n",
      "222:\tlearn: 0.7676395\ttest: 0.7468672\tbest: 0.7468672 (222)\ttotal: 6.48s\tremaining: 15.3s\n",
      "223:\tlearn: 0.7678754\ttest: 0.7457203\tbest: 0.7468672 (222)\ttotal: 6.5s\tremaining: 15.3s\n",
      "224:\tlearn: 0.7675133\ttest: 0.7462437\tbest: 0.7468672 (222)\ttotal: 6.52s\tremaining: 15.2s\n",
      "225:\tlearn: 0.7677181\ttest: 0.7465553\tbest: 0.7468672 (222)\ttotal: 6.54s\tremaining: 15.2s\n",
      "226:\tlearn: 0.7677016\ttest: 0.7466555\tbest: 0.7468672 (222)\ttotal: 6.56s\tremaining: 15.1s\n",
      "227:\tlearn: 0.7679065\ttest: 0.7463435\tbest: 0.7468672 (222)\ttotal: 6.58s\tremaining: 15.1s\n",
      "228:\tlearn: 0.7677492\ttest: 0.7469678\tbest: 0.7469678 (228)\ttotal: 6.61s\tremaining: 15s\n",
      "229:\tlearn: 0.7677181\ttest: 0.7478043\tbest: 0.7478043 (229)\ttotal: 6.63s\tremaining: 15s\n",
      "230:\tlearn: 0.7680803\ttest: 0.7469678\tbest: 0.7478043 (229)\ttotal: 6.64s\tremaining: 14.9s\n",
      "231:\tlearn: 0.7679705\ttest: 0.7469678\tbest: 0.7478043 (229)\ttotal: 6.67s\tremaining: 14.9s\n",
      "232:\tlearn: 0.7676395\ttest: 0.7463435\tbest: 0.7478043 (229)\ttotal: 6.69s\tremaining: 14.8s\n",
      "233:\tlearn: 0.7683327\ttest: 0.7463435\tbest: 0.7478043 (229)\ttotal: 6.71s\tremaining: 14.8s\n",
      "234:\tlearn: 0.7679230\ttest: 0.7463435\tbest: 0.7478043 (229)\ttotal: 6.75s\tremaining: 14.8s\n",
      "235:\tlearn: 0.7681590\ttest: 0.7463435\tbest: 0.7478043 (229)\ttotal: 6.77s\tremaining: 14.7s\n",
      "236:\tlearn: 0.7682377\ttest: 0.7460317\tbest: 0.7478043 (229)\ttotal: 6.79s\tremaining: 14.7s\n",
      "237:\tlearn: 0.7683164\ttest: 0.7466555\tbest: 0.7478043 (229)\ttotal: 6.81s\tremaining: 14.7s\n",
      "238:\tlearn: 0.7681115\ttest: 0.7463435\tbest: 0.7478043 (229)\ttotal: 6.83s\tremaining: 14.6s\n",
      "239:\tlearn: 0.7680328\ttest: 0.7466555\tbest: 0.7478043 (229)\ttotal: 6.86s\tremaining: 14.6s\n",
      "240:\tlearn: 0.7683164\ttest: 0.7469678\tbest: 0.7478043 (229)\ttotal: 6.88s\tremaining: 14.5s\n",
      "241:\tlearn: 0.7685688\ttest: 0.7464435\tbest: 0.7478043 (229)\ttotal: 6.9s\tremaining: 14.5s\n",
      "242:\tlearn: 0.7685375\ttest: 0.7466555\tbest: 0.7478043 (229)\ttotal: 6.92s\tremaining: 14.4s\n",
      "243:\tlearn: 0.7688211\ttest: 0.7471793\tbest: 0.7478043 (229)\ttotal: 6.94s\tremaining: 14.4s\n",
      "244:\tlearn: 0.7689945\ttest: 0.7466555\tbest: 0.7478043 (229)\ttotal: 6.96s\tremaining: 14.3s\n",
      "245:\tlearn: 0.7686475\ttest: 0.7471793\tbest: 0.7478043 (229)\ttotal: 6.97s\tremaining: 14.3s\n",
      "246:\tlearn: 0.7682689\ttest: 0.7463435\tbest: 0.7478043 (229)\ttotal: 6.99s\tremaining: 14.2s\n",
      "247:\tlearn: 0.7681902\ttest: 0.7463435\tbest: 0.7478043 (229)\ttotal: 7.01s\tremaining: 14.2s\n",
      "248:\tlearn: 0.7681115\ttest: 0.7471793\tbest: 0.7478043 (229)\ttotal: 7.03s\tremaining: 14.1s\n",
      "249:\tlearn: 0.7683164\ttest: 0.7480150\tbest: 0.7480150 (249)\ttotal: 7.05s\tremaining: 14.1s\n",
      "250:\tlearn: 0.7681427\ttest: 0.7474916\tbest: 0.7480150 (249)\ttotal: 7.07s\tremaining: 14.1s\n",
      "251:\tlearn: 0.7685214\ttest: 0.7471793\tbest: 0.7480150 (249)\ttotal: 7.09s\tremaining: 14s\n",
      "252:\tlearn: 0.7686475\ttest: 0.7468672\tbest: 0.7480150 (249)\ttotal: 7.12s\tremaining: 14s\n",
      "253:\tlearn: 0.7686949\ttest: 0.7471793\tbest: 0.7480150 (249)\ttotal: 7.14s\tremaining: 13.9s\n",
      "254:\tlearn: 0.7686315\ttest: 0.7477026\tbest: 0.7480150 (249)\ttotal: 7.16s\tremaining: 13.9s\n",
      "255:\tlearn: 0.7689786\ttest: 0.7469678\tbest: 0.7480150 (249)\ttotal: 7.18s\tremaining: 13.9s\n",
      "256:\tlearn: 0.7692623\ttest: 0.7466555\tbest: 0.7480150 (249)\ttotal: 7.2s\tremaining: 13.8s\n",
      "257:\tlearn: 0.7693411\ttest: 0.7469678\tbest: 0.7480150 (249)\ttotal: 7.22s\tremaining: 13.8s\n",
      "258:\tlearn: 0.7694672\ttest: 0.7466555\tbest: 0.7480150 (249)\ttotal: 7.24s\tremaining: 13.7s\n",
      "259:\tlearn: 0.7692465\ttest: 0.7463435\tbest: 0.7480150 (249)\ttotal: 7.26s\tremaining: 13.7s\n",
      "260:\tlearn: 0.7693727\ttest: 0.7466555\tbest: 0.7480150 (249)\ttotal: 7.28s\tremaining: 13.6s\n",
      "261:\tlearn: 0.7694043\ttest: 0.7466555\tbest: 0.7480150 (249)\ttotal: 7.3s\tremaining: 13.6s\n",
      "262:\tlearn: 0.7693570\ttest: 0.7461313\tbest: 0.7480150 (249)\ttotal: 7.32s\tremaining: 13.5s\n",
      "263:\tlearn: 0.7694832\ttest: 0.7461313\tbest: 0.7480150 (249)\ttotal: 7.33s\tremaining: 13.5s\n",
      "264:\tlearn: 0.7696883\ttest: 0.7463435\tbest: 0.7480150 (249)\ttotal: 7.35s\tremaining: 13.5s\n",
      "265:\tlearn: 0.7699723\ttest: 0.7466555\tbest: 0.7480150 (249)\ttotal: 7.37s\tremaining: 13.4s\n",
      "266:\tlearn: 0.7705237\ttest: 0.7458194\tbest: 0.7480150 (249)\ttotal: 7.39s\tremaining: 13.4s\n",
      "267:\tlearn: 0.7703825\ttest: 0.7463435\tbest: 0.7480150 (249)\ttotal: 7.41s\tremaining: 13.3s\n",
      "268:\tlearn: 0.7706347\ttest: 0.7463435\tbest: 0.7480150 (249)\ttotal: 7.43s\tremaining: 13.3s\n",
      "269:\tlearn: 0.7705086\ttest: 0.7468672\tbest: 0.7480150 (249)\ttotal: 7.45s\tremaining: 13.2s\n",
      "270:\tlearn: 0.7708397\ttest: 0.7468672\tbest: 0.7480150 (249)\ttotal: 7.47s\tremaining: 13.2s\n",
      "271:\tlearn: 0.7706347\ttest: 0.7471793\tbest: 0.7480150 (249)\ttotal: 7.49s\tremaining: 13.2s\n",
      "272:\tlearn: 0.7703673\ttest: 0.7468672\tbest: 0.7480150 (249)\ttotal: 7.51s\tremaining: 13.1s\n",
      "273:\tlearn: 0.7701149\ttest: 0.7468672\tbest: 0.7480150 (249)\ttotal: 7.54s\tremaining: 13.1s\n",
      "274:\tlearn: 0.7702411\ttest: 0.7477026\tbest: 0.7480150 (249)\ttotal: 7.55s\tremaining: 13s\n",
      "275:\tlearn: 0.7698942\ttest: 0.7471793\tbest: 0.7480150 (249)\ttotal: 7.57s\tremaining: 13s\n",
      "276:\tlearn: 0.7700205\ttest: 0.7471793\tbest: 0.7480150 (249)\ttotal: 7.59s\tremaining: 13s\n",
      "277:\tlearn: 0.7702259\ttest: 0.7471793\tbest: 0.7480150 (249)\ttotal: 7.61s\tremaining: 12.9s\n",
      "278:\tlearn: 0.7700205\ttest: 0.7471793\tbest: 0.7480150 (249)\ttotal: 7.63s\tremaining: 12.9s\n",
      "279:\tlearn: 0.7699260\ttest: 0.7471793\tbest: 0.7480150 (249)\ttotal: 7.65s\tremaining: 12.8s\n",
      "280:\tlearn: 0.7700842\ttest: 0.7477026\tbest: 0.7480150 (249)\ttotal: 7.67s\tremaining: 12.8s\n",
      "281:\tlearn: 0.7701315\ttest: 0.7477026\tbest: 0.7480150 (249)\ttotal: 7.69s\tremaining: 12.8s\n",
      "282:\tlearn: 0.7702578\ttest: 0.7477026\tbest: 0.7480150 (249)\ttotal: 7.71s\tremaining: 12.7s\n",
      "283:\tlearn: 0.7703369\ttest: 0.7477026\tbest: 0.7480150 (249)\ttotal: 7.73s\tremaining: 12.7s\n",
      "284:\tlearn: 0.7704632\ttest: 0.7487479\tbest: 0.7487479 (284)\ttotal: 7.74s\tremaining: 12.6s\n",
      "285:\tlearn: 0.7706686\ttest: 0.7492699\tbest: 0.7492699 (285)\ttotal: 7.76s\tremaining: 12.6s\n",
      "286:\tlearn: 0.7707477\ttest: 0.7492699\tbest: 0.7492699 (285)\ttotal: 7.79s\tremaining: 12.6s\n",
      "287:\tlearn: 0.7707948\ttest: 0.7487479\tbest: 0.7492699 (285)\ttotal: 7.81s\tremaining: 12.5s\n",
      "288:\tlearn: 0.7706686\ttest: 0.7492699\tbest: 0.7492699 (285)\ttotal: 7.83s\tremaining: 12.5s\n",
      "289:\tlearn: 0.7708419\ttest: 0.7492699\tbest: 0.7492699 (285)\ttotal: 7.85s\tremaining: 12.4s\n",
      "290:\tlearn: 0.7709681\ttest: 0.7497915\tbest: 0.7497915 (290)\ttotal: 7.87s\tremaining: 12.4s\n",
      "291:\tlearn: 0.7714110\ttest: 0.7497915\tbest: 0.7497915 (290)\ttotal: 7.88s\tremaining: 12.4s\n",
      "292:\tlearn: 0.7718217\ttest: 0.7497915\tbest: 0.7497915 (290)\ttotal: 7.9s\tremaining: 12.3s\n",
      "293:\tlearn: 0.7719803\ttest: 0.7489575\tbest: 0.7497915 (290)\ttotal: 7.92s\tremaining: 12.3s\n",
      "294:\tlearn: 0.7718217\ttest: 0.7497915\tbest: 0.7497915 (290)\ttotal: 7.95s\tremaining: 12.3s\n",
      "295:\tlearn: 0.7718217\ttest: 0.7497915\tbest: 0.7497915 (290)\ttotal: 7.96s\tremaining: 12.2s\n",
      "296:\tlearn: 0.7722793\ttest: 0.7501043\tbest: 0.7501043 (296)\ttotal: 7.98s\tremaining: 12.2s\n",
      "297:\tlearn: 0.7720739\ttest: 0.7501043\tbest: 0.7501043 (296)\ttotal: 8s\tremaining: 12.1s\n",
      "298:\tlearn: 0.7720739\ttest: 0.7501043\tbest: 0.7501043 (296)\ttotal: 8.02s\tremaining: 12.1s\n",
      "299:\tlearn: 0.7722000\ttest: 0.7501043\tbest: 0.7501043 (296)\ttotal: 8.04s\tremaining: 12.1s\n",
      "300:\tlearn: 0.7716632\ttest: 0.7495826\tbest: 0.7501043 (296)\ttotal: 8.06s\tremaining: 12s\n",
      "301:\tlearn: 0.7718541\ttest: 0.7501043\tbest: 0.7501043 (296)\ttotal: 8.08s\tremaining: 12s\n",
      "302:\tlearn: 0.7715694\ttest: 0.7504174\tbest: 0.7504174 (302)\ttotal: 8.1s\tremaining: 11.9s\n",
      "303:\tlearn: 0.7723260\ttest: 0.7501043\tbest: 0.7504174 (302)\ttotal: 8.12s\tremaining: 11.9s\n",
      "304:\tlearn: 0.7723118\ttest: 0.7497915\tbest: 0.7504174 (302)\ttotal: 8.14s\tremaining: 11.9s\n",
      "305:\tlearn: 0.7725965\ttest: 0.7497915\tbest: 0.7504174 (302)\ttotal: 8.16s\tremaining: 11.8s\n",
      "306:\tlearn: 0.7727226\ttest: 0.7497915\tbest: 0.7504174 (302)\ttotal: 8.22s\tremaining: 11.9s\n",
      "307:\tlearn: 0.7729280\ttest: 0.7504174\tbest: 0.7504174 (302)\ttotal: 8.24s\tremaining: 11.8s\n",
      "308:\tlearn: 0.7731006\ttest: 0.7498956\tbest: 0.7504174 (302)\ttotal: 8.25s\tremaining: 11.8s\n",
      "309:\tlearn: 0.7727226\ttest: 0.7507307\tbest: 0.7507307 (309)\ttotal: 8.27s\tremaining: 11.7s\n",
      "310:\tlearn: 0.7724705\ttest: 0.7507307\tbest: 0.7507307 (309)\ttotal: 8.29s\tremaining: 11.7s\n",
      "311:\tlearn: 0.7726433\ttest: 0.7507307\tbest: 0.7507307 (309)\ttotal: 8.31s\tremaining: 11.7s\n",
      "312:\tlearn: 0.7725172\ttest: 0.7510443\tbest: 0.7510443 (312)\ttotal: 8.34s\tremaining: 11.6s\n",
      "313:\tlearn: 0.7729280\ttest: 0.7507307\tbest: 0.7510443 (312)\ttotal: 8.35s\tremaining: 11.6s\n",
      "314:\tlearn: 0.7726759\ttest: 0.7504174\tbest: 0.7510443 (312)\ttotal: 8.38s\tremaining: 11.6s\n",
      "315:\tlearn: 0.7725965\ttest: 0.7512521\tbest: 0.7512521 (315)\ttotal: 8.4s\tremaining: 11.5s\n",
      "316:\tlearn: 0.7727226\ttest: 0.7510443\tbest: 0.7512521 (315)\ttotal: 8.41s\tremaining: 11.5s\n",
      "317:\tlearn: 0.7728814\ttest: 0.7510443\tbest: 0.7512521 (315)\ttotal: 8.43s\tremaining: 11.5s\n",
      "318:\tlearn: 0.7725825\ttest: 0.7510443\tbest: 0.7512521 (315)\ttotal: 8.45s\tremaining: 11.4s\n",
      "319:\tlearn: 0.7726619\ttest: 0.7508361\tbest: 0.7512521 (315)\ttotal: 8.47s\tremaining: 11.4s\n",
      "320:\tlearn: 0.7727413\ttest: 0.7516722\tbest: 0.7516722 (320)\ttotal: 8.49s\tremaining: 11.3s\n",
      "321:\tlearn: 0.7727413\ttest: 0.7516722\tbest: 0.7516722 (320)\ttotal: 8.51s\tremaining: 11.3s\n",
      "322:\tlearn: 0.7728674\ttest: 0.7516722\tbest: 0.7516722 (320)\ttotal: 8.53s\tremaining: 11.3s\n",
      "323:\tlearn: 0.7729469\ttest: 0.7516722\tbest: 0.7516722 (320)\ttotal: 8.55s\tremaining: 11.2s\n",
      "324:\tlearn: 0.7729469\ttest: 0.7511501\tbest: 0.7516722 (320)\ttotal: 8.57s\tremaining: 11.2s\n",
      "325:\tlearn: 0.7732319\ttest: 0.7503137\tbest: 0.7516722 (320)\ttotal: 8.59s\tremaining: 11.2s\n",
      "326:\tlearn: 0.7732319\ttest: 0.7497908\tbest: 0.7516722 (320)\ttotal: 8.61s\tremaining: 11.1s\n",
      "327:\tlearn: 0.7732648\ttest: 0.7513581\tbest: 0.7516722 (320)\ttotal: 8.63s\tremaining: 11.1s\n",
      "328:\tlearn: 0.7733909\ttest: 0.7513581\tbest: 0.7516722 (320)\ttotal: 8.65s\tremaining: 11.1s\n",
      "329:\tlearn: 0.7733909\ttest: 0.7516722\tbest: 0.7516722 (320)\ttotal: 8.67s\tremaining: 11s\n",
      "330:\tlearn: 0.7734704\ttest: 0.7511501\tbest: 0.7516722 (320)\ttotal: 8.69s\tremaining: 11s\n",
      "331:\tlearn: 0.7734238\ttest: 0.7510443\tbest: 0.7516722 (320)\ttotal: 8.71s\tremaining: 11s\n",
      "332:\tlearn: 0.7736295\ttest: 0.7521939\tbest: 0.7521939 (332)\ttotal: 8.73s\tremaining: 10.9s\n",
      "333:\tlearn: 0.7737557\ttest: 0.7516722\tbest: 0.7521939 (332)\ttotal: 8.74s\tremaining: 10.9s\n",
      "334:\tlearn: 0.7738817\ttest: 0.7511501\tbest: 0.7521939 (332)\ttotal: 8.77s\tremaining: 10.9s\n",
      "335:\tlearn: 0.7742599\ttest: 0.7525084\tbest: 0.7525084 (335)\ttotal: 8.79s\tremaining: 10.8s\n",
      "336:\tlearn: 0.7744523\ttest: 0.7519866\tbest: 0.7525084 (335)\ttotal: 8.8s\tremaining: 10.8s\n",
      "337:\tlearn: 0.7739944\ttest: 0.7523013\tbest: 0.7525084 (335)\ttotal: 8.82s\tremaining: 10.8s\n",
      "338:\tlearn: 0.7742931\ttest: 0.7528231\tbest: 0.7528231 (338)\ttotal: 8.84s\tremaining: 10.7s\n",
      "339:\tlearn: 0.7740409\ttest: 0.7528231\tbest: 0.7528231 (338)\ttotal: 8.86s\tremaining: 10.7s\n",
      "340:\tlearn: 0.7741670\ttest: 0.7519866\tbest: 0.7528231 (338)\ttotal: 8.88s\tremaining: 10.7s\n",
      "341:\tlearn: 0.7740409\ttest: 0.7519866\tbest: 0.7528231 (338)\ttotal: 8.9s\tremaining: 10.6s\n",
      "342:\tlearn: 0.7740409\ttest: 0.7519866\tbest: 0.7528231 (338)\ttotal: 8.92s\tremaining: 10.6s\n",
      "343:\tlearn: 0.7740409\ttest: 0.7523013\tbest: 0.7528231 (338)\ttotal: 8.94s\tremaining: 10.5s\n",
      "344:\tlearn: 0.7742931\ttest: 0.7523013\tbest: 0.7528231 (338)\ttotal: 8.96s\tremaining: 10.5s\n",
      "345:\tlearn: 0.7743263\ttest: 0.7528231\tbest: 0.7528231 (338)\ttotal: 8.98s\tremaining: 10.5s\n",
      "346:\tlearn: 0.7740741\ttest: 0.7523013\tbest: 0.7528231 (338)\ttotal: 9s\tremaining: 10.4s\n",
      "347:\tlearn: 0.7745320\ttest: 0.7516722\tbest: 0.7528231 (338)\ttotal: 9.02s\tremaining: 10.4s\n",
      "348:\tlearn: 0.7746117\ttest: 0.7519866\tbest: 0.7528231 (338)\ttotal: 9.04s\tremaining: 10.4s\n",
      "349:\tlearn: 0.7744856\ttest: 0.7519866\tbest: 0.7528231 (338)\ttotal: 9.06s\tremaining: 10.4s\n",
      "350:\tlearn: 0.7744059\ttest: 0.7525084\tbest: 0.7528231 (338)\ttotal: 9.08s\tremaining: 10.3s\n",
      "351:\tlearn: 0.7746914\ttest: 0.7525084\tbest: 0.7528231 (338)\ttotal: 9.1s\tremaining: 10.3s\n",
      "352:\tlearn: 0.7746914\ttest: 0.7525084\tbest: 0.7528231 (338)\ttotal: 9.12s\tremaining: 10.3s\n",
      "353:\tlearn: 0.7749434\ttest: 0.7528231\tbest: 0.7528231 (338)\ttotal: 9.14s\tremaining: 10.2s\n",
      "354:\tlearn: 0.7748508\ttest: 0.7528231\tbest: 0.7528231 (338)\ttotal: 9.16s\tremaining: 10.2s\n",
      "355:\tlearn: 0.7748971\ttest: 0.7528231\tbest: 0.7528231 (338)\ttotal: 9.18s\tremaining: 10.2s\n",
      "356:\tlearn: 0.7753086\ttest: 0.7525084\tbest: 0.7528231 (338)\ttotal: 9.2s\tremaining: 10.1s\n",
      "357:\tlearn: 0.7753549\ttest: 0.7528231\tbest: 0.7528231 (338)\ttotal: 9.22s\tremaining: 10.1s\n",
      "358:\tlearn: 0.7750231\ttest: 0.7528231\tbest: 0.7528231 (338)\ttotal: 9.24s\tremaining: 10.1s\n",
      "359:\tlearn: 0.7750694\ttest: 0.7538654\tbest: 0.7538654 (359)\ttotal: 9.26s\tremaining: 10s\n",
      "360:\tlearn: 0.7753549\ttest: 0.7543860\tbest: 0.7543860 (360)\ttotal: 9.27s\tremaining: 9.99s\n",
      "361:\tlearn: 0.7754346\ttest: 0.7540710\tbest: 0.7543860 (360)\ttotal: 9.29s\tremaining: 9.96s\n",
      "362:\tlearn: 0.7756404\ttest: 0.7543860\tbest: 0.7543860 (360)\ttotal: 9.31s\tremaining: 9.93s\n",
      "363:\tlearn: 0.7758461\ttest: 0.7540710\tbest: 0.7543860 (360)\ttotal: 9.33s\tremaining: 9.89s\n",
      "364:\tlearn: 0.7754346\ttest: 0.7538654\tbest: 0.7543860 (360)\ttotal: 9.35s\tremaining: 9.86s\n",
      "365:\tlearn: 0.7757326\ttest: 0.7538654\tbest: 0.7543860 (360)\ttotal: 9.37s\tremaining: 9.83s\n",
      "366:\tlearn: 0.7756865\ttest: 0.7538654\tbest: 0.7543860 (360)\ttotal: 9.39s\tremaining: 9.8s\n",
      "367:\tlearn: 0.7758461\ttest: 0.7544960\tbest: 0.7544960 (367)\ttotal: 9.41s\tremaining: 9.77s\n",
      "368:\tlearn: 0.7757202\ttest: 0.7544960\tbest: 0.7544960 (367)\ttotal: 9.43s\tremaining: 9.74s\n",
      "369:\tlearn: 0.7760518\ttest: 0.7544960\tbest: 0.7544960 (367)\ttotal: 9.45s\tremaining: 9.71s\n",
      "370:\tlearn: 0.7761317\ttest: 0.7541806\tbest: 0.7544960 (367)\ttotal: 9.47s\tremaining: 9.68s\n",
      "371:\tlearn: 0.7760518\ttest: 0.7544960\tbest: 0.7544960 (367)\ttotal: 9.49s\tremaining: 9.64s\n",
      "372:\tlearn: 0.7760856\ttest: 0.7541806\tbest: 0.7544960 (367)\ttotal: 9.51s\tremaining: 9.61s\n",
      "373:\tlearn: 0.7758798\ttest: 0.7547012\tbest: 0.7547012 (373)\ttotal: 9.53s\tremaining: 9.58s\n",
      "374:\tlearn: 0.7763374\ttest: 0.7547012\tbest: 0.7547012 (373)\ttotal: 9.55s\tremaining: 9.55s\n",
      "375:\tlearn: 0.7766811\ttest: 0.7552214\tbest: 0.7552214 (375)\ttotal: 9.57s\tremaining: 9.52s\n",
      "376:\tlearn: 0.7764295\ttest: 0.7552214\tbest: 0.7552214 (375)\ttotal: 9.59s\tremaining: 9.49s\n",
      "377:\tlearn: 0.7765432\ttest: 0.7552214\tbest: 0.7552214 (375)\ttotal: 9.61s\tremaining: 9.46s\n",
      "378:\tlearn: 0.7760856\ttest: 0.7547012\tbest: 0.7552214 (375)\ttotal: 9.63s\tremaining: 9.43s\n",
      "379:\tlearn: 0.7761777\ttest: 0.7552214\tbest: 0.7552214 (375)\ttotal: 9.65s\tremaining: 9.4s\n",
      "380:\tlearn: 0.7764633\ttest: 0.7549061\tbest: 0.7552214 (375)\ttotal: 9.67s\tremaining: 9.37s\n",
      "381:\tlearn: 0.7763374\ttest: 0.7553325\tbest: 0.7553325 (381)\ttotal: 9.69s\tremaining: 9.33s\n",
      "382:\tlearn: 0.7763374\ttest: 0.7555370\tbest: 0.7555370 (382)\ttotal: 9.71s\tremaining: 9.3s\n",
      "383:\tlearn: 0.7763374\ttest: 0.7553325\tbest: 0.7555370 (382)\ttotal: 9.73s\tremaining: 9.27s\n",
      "384:\tlearn: 0.7764633\ttest: 0.7547012\tbest: 0.7555370 (382)\ttotal: 9.75s\tremaining: 9.24s\n",
      "385:\tlearn: 0.7764173\ttest: 0.7547012\tbest: 0.7555370 (382)\ttotal: 9.77s\tremaining: 9.21s\n",
      "386:\tlearn: 0.7765432\ttest: 0.7547012\tbest: 0.7555370 (382)\ttotal: 9.79s\tremaining: 9.18s\n",
      "387:\tlearn: 0.7766231\ttest: 0.7544960\tbest: 0.7555370 (382)\ttotal: 9.81s\tremaining: 9.15s\n",
      "388:\tlearn: 0.7765892\ttest: 0.7541806\tbest: 0.7555370 (382)\ttotal: 9.83s\tremaining: 9.12s\n",
      "389:\tlearn: 0.7768289\ttest: 0.7541806\tbest: 0.7555370 (382)\ttotal: 9.85s\tremaining: 9.09s\n",
      "390:\tlearn: 0.7766691\ttest: 0.7541806\tbest: 0.7555370 (382)\ttotal: 9.87s\tremaining: 9.06s\n",
      "391:\tlearn: 0.7770805\ttest: 0.7541806\tbest: 0.7555370 (382)\ttotal: 9.89s\tremaining: 9.03s\n",
      "392:\tlearn: 0.7773321\ttest: 0.7538654\tbest: 0.7555370 (382)\ttotal: 9.91s\tremaining: 9s\n",
      "393:\tlearn: 0.7771605\ttest: 0.7548117\tbest: 0.7555370 (382)\ttotal: 9.93s\tremaining: 8.97s\n",
      "394:\tlearn: 0.7772863\ttest: 0.7551277\tbest: 0.7555370 (382)\ttotal: 9.94s\tremaining: 8.94s\n",
      "395:\tlearn: 0.7772405\ttest: 0.7548117\tbest: 0.7555370 (382)\ttotal: 9.96s\tremaining: 8.91s\n",
      "396:\tlearn: 0.7771605\ttest: 0.7541806\tbest: 0.7555370 (382)\ttotal: 9.98s\tremaining: 8.88s\n",
      "397:\tlearn: 0.7772863\ttest: 0.7550167\tbest: 0.7555370 (382)\ttotal: 10s\tremaining: 8.85s\n",
      "398:\tlearn: 0.7770347\ttest: 0.7548117\tbest: 0.7555370 (382)\ttotal: 10s\tremaining: 8.82s\n",
      "399:\tlearn: 0.7774462\ttest: 0.7553325\tbest: 0.7555370 (382)\ttotal: 10s\tremaining: 8.79s\n",
      "400:\tlearn: 0.7775262\ttest: 0.7548117\tbest: 0.7555370 (382)\ttotal: 10.1s\tremaining: 8.76s\n",
      "401:\tlearn: 0.7778235\ttest: 0.7548117\tbest: 0.7555370 (382)\ttotal: 10.1s\tremaining: 8.73s\n",
      "402:\tlearn: 0.7775720\ttest: 0.7553325\tbest: 0.7555370 (382)\ttotal: 10.1s\tremaining: 8.7s\n",
      "403:\tlearn: 0.7775262\ttest: 0.7556485\tbest: 0.7556485 (403)\ttotal: 10.1s\tremaining: 8.67s\n",
      "404:\tlearn: 0.7775262\ttest: 0.7553325\tbest: 0.7556485 (403)\ttotal: 10.1s\tremaining: 8.64s\n",
      "405:\tlearn: 0.7774462\ttest: 0.7559648\tbest: 0.7559648 (405)\ttotal: 10.2s\tremaining: 8.61s\n",
      "406:\tlearn: 0.7775720\ttest: 0.7559648\tbest: 0.7559648 (405)\ttotal: 10.2s\tremaining: 8.59s\n",
      "407:\tlearn: 0.7775720\ttest: 0.7559648\tbest: 0.7559648 (405)\ttotal: 10.2s\tremaining: 8.55s\n",
      "408:\tlearn: 0.7774462\ttest: 0.7559648\tbest: 0.7559648 (405)\ttotal: 10.2s\tremaining: 8.53s\n",
      "409:\tlearn: 0.7775262\ttest: 0.7559648\tbest: 0.7559648 (405)\ttotal: 10.2s\tremaining: 8.5s\n",
      "410:\tlearn: 0.7775262\ttest: 0.7559648\tbest: 0.7559648 (405)\ttotal: 10.3s\tremaining: 8.47s\n",
      "411:\tlearn: 0.7776063\ttest: 0.7559648\tbest: 0.7559648 (405)\ttotal: 10.3s\tremaining: 8.44s\n",
      "412:\tlearn: 0.7777320\ttest: 0.7559648\tbest: 0.7559648 (405)\ttotal: 10.3s\tremaining: 8.41s\n",
      "413:\tlearn: 0.7781437\ttest: 0.7556485\tbest: 0.7559648 (405)\ttotal: 10.3s\tremaining: 8.38s\n",
      "414:\tlearn: 0.7780179\ttest: 0.7559648\tbest: 0.7559648 (405)\ttotal: 10.3s\tremaining: 8.35s\n",
      "415:\tlearn: 0.7778921\ttest: 0.7559648\tbest: 0.7559648 (405)\ttotal: 10.4s\tremaining: 8.32s\n",
      "416:\tlearn: 0.7781437\ttest: 0.7561690\tbest: 0.7561690 (416)\ttotal: 10.4s\tremaining: 8.29s\n",
      "417:\tlearn: 0.7781437\ttest: 0.7556485\tbest: 0.7561690 (416)\ttotal: 10.4s\tremaining: 8.26s\n",
      "418:\tlearn: 0.7780179\ttest: 0.7556485\tbest: 0.7561690 (416)\ttotal: 10.4s\tremaining: 8.23s\n",
      "419:\tlearn: 0.7782349\ttest: 0.7559648\tbest: 0.7561690 (416)\ttotal: 10.4s\tremaining: 8.2s\n",
      "420:\tlearn: 0.7783606\ttest: 0.7561690\tbest: 0.7561690 (416)\ttotal: 10.5s\tremaining: 8.17s\n",
      "421:\tlearn: 0.7785663\ttest: 0.7561690\tbest: 0.7561690 (416)\ttotal: 10.6s\tremaining: 8.22s\n",
      "422:\tlearn: 0.7785663\ttest: 0.7561690\tbest: 0.7561690 (416)\ttotal: 10.6s\tremaining: 8.19s\n",
      "423:\tlearn: 0.7787265\ttest: 0.7570054\tbest: 0.7570054 (423)\ttotal: 10.6s\tremaining: 8.16s\n",
      "424:\tlearn: 0.7787265\ttest: 0.7573222\tbest: 0.7573222 (424)\ttotal: 10.6s\tremaining: 8.13s\n",
      "425:\tlearn: 0.7788976\ttest: 0.7568020\tbest: 0.7573222 (424)\ttotal: 10.6s\tremaining: 8.1s\n",
      "426:\tlearn: 0.7792635\ttest: 0.7573222\tbest: 0.7573222 (424)\ttotal: 10.7s\tremaining: 8.07s\n",
      "427:\tlearn: 0.7792635\ttest: 0.7574361\tbest: 0.7574361 (427)\ttotal: 10.7s\tremaining: 8.04s\n",
      "428:\tlearn: 0.7795494\ttest: 0.7574361\tbest: 0.7574361 (427)\ttotal: 10.7s\tremaining: 8.01s\n",
      "429:\tlearn: 0.7792635\ttest: 0.7576392\tbest: 0.7576392 (429)\ttotal: 10.7s\tremaining: 7.98s\n",
      "430:\tlearn: 0.7796750\ttest: 0.7581590\tbest: 0.7581590 (430)\ttotal: 10.7s\tremaining: 7.95s\n",
      "431:\tlearn: 0.7798005\ttest: 0.7586784\tbest: 0.7586784 (431)\ttotal: 10.8s\tremaining: 7.92s\n",
      "432:\tlearn: 0.7794692\ttest: 0.7584763\tbest: 0.7586784 (431)\ttotal: 10.8s\tremaining: 7.9s\n",
      "433:\tlearn: 0.7792529\ttest: 0.7587940\tbest: 0.7587940 (433)\ttotal: 10.8s\tremaining: 7.87s\n",
      "434:\tlearn: 0.7792529\ttest: 0.7587940\tbest: 0.7587940 (433)\ttotal: 10.8s\tremaining: 7.84s\n",
      "435:\tlearn: 0.7795389\ttest: 0.7587940\tbest: 0.7587940 (433)\ttotal: 10.8s\tremaining: 7.81s\n",
      "436:\tlearn: 0.7794935\ttest: 0.7582740\tbest: 0.7587940 (433)\ttotal: 10.9s\tremaining: 7.78s\n",
      "437:\tlearn: 0.7794935\ttest: 0.7577536\tbest: 0.7587940 (433)\ttotal: 10.9s\tremaining: 7.75s\n",
      "438:\tlearn: 0.7794133\ttest: 0.7585918\tbest: 0.7587940 (433)\ttotal: 10.9s\tremaining: 7.73s\n",
      "439:\tlearn: 0.7795843\ttest: 0.7587940\tbest: 0.7587940 (433)\ttotal: 10.9s\tremaining: 7.7s\n",
      "440:\tlearn: 0.7795843\ttest: 0.7582740\tbest: 0.7587940 (433)\ttotal: 10.9s\tremaining: 7.67s\n",
      "441:\tlearn: 0.7794935\ttest: 0.7585918\tbest: 0.7587940 (433)\ttotal: 11s\tremaining: 7.64s\n",
      "442:\tlearn: 0.7795738\ttest: 0.7589099\tbest: 0.7589099 (442)\ttotal: 11s\tremaining: 7.62s\n",
      "443:\tlearn: 0.7796191\ttest: 0.7587940\tbest: 0.7589099 (442)\ttotal: 11s\tremaining: 7.59s\n",
      "444:\tlearn: 0.7796191\ttest: 0.7594300\tbest: 0.7594300 (444)\ttotal: 11s\tremaining: 7.56s\n",
      "445:\tlearn: 0.7796191\ttest: 0.7594300\tbest: 0.7594300 (444)\ttotal: 11.1s\tremaining: 7.54s\n",
      "446:\tlearn: 0.7795738\ttest: 0.7591119\tbest: 0.7594300 (444)\ttotal: 11.1s\tremaining: 7.5s\n",
      "447:\tlearn: 0.7796191\ttest: 0.7585918\tbest: 0.7594300 (444)\ttotal: 11.1s\tremaining: 7.48s\n",
      "448:\tlearn: 0.7797448\ttest: 0.7585918\tbest: 0.7594300 (444)\ttotal: 11.1s\tremaining: 7.45s\n",
      "449:\tlearn: 0.7798600\ttest: 0.7585918\tbest: 0.7594300 (444)\ttotal: 11.1s\tremaining: 7.42s\n",
      "450:\tlearn: 0.7796540\ttest: 0.7594300\tbest: 0.7594300 (444)\ttotal: 11.2s\tremaining: 7.39s\n",
      "451:\tlearn: 0.7799856\ttest: 0.7591119\tbest: 0.7594300 (444)\ttotal: 11.2s\tremaining: 7.36s\n",
      "452:\tlearn: 0.7798600\ttest: 0.7591119\tbest: 0.7594300 (444)\ttotal: 11.2s\tremaining: 7.33s\n",
      "453:\tlearn: 0.7798146\ttest: 0.7594300\tbest: 0.7594300 (444)\ttotal: 11.2s\tremaining: 7.31s\n",
      "454:\tlearn: 0.7799403\ttest: 0.7594300\tbest: 0.7594300 (444)\ttotal: 11.2s\tremaining: 7.28s\n",
      "455:\tlearn: 0.7796087\ttest: 0.7594300\tbest: 0.7594300 (444)\ttotal: 11.3s\tremaining: 7.27s\n",
      "456:\tlearn: 0.7798949\ttest: 0.7591119\tbest: 0.7594300 (444)\ttotal: 11.3s\tremaining: 7.24s\n",
      "457:\tlearn: 0.7801009\ttest: 0.7591119\tbest: 0.7594300 (444)\ttotal: 11.3s\tremaining: 7.21s\n",
      "458:\tlearn: 0.7804325\ttest: 0.7594300\tbest: 0.7594300 (444)\ttotal: 11.3s\tremaining: 7.19s\n",
      "459:\tlearn: 0.7805129\ttest: 0.7599497\tbest: 0.7599497 (459)\ttotal: 11.4s\tremaining: 7.16s\n",
      "460:\tlearn: 0.7804677\ttest: 0.7602682\tbest: 0.7602682 (460)\ttotal: 11.4s\tremaining: 7.13s\n",
      "461:\tlearn: 0.7806737\ttest: 0.7597484\tbest: 0.7602682 (460)\ttotal: 11.4s\tremaining: 7.11s\n",
      "462:\tlearn: 0.7807542\ttest: 0.7597484\tbest: 0.7602682 (460)\ttotal: 11.4s\tremaining: 7.08s\n",
      "463:\tlearn: 0.7804677\ttest: 0.7599497\tbest: 0.7602682 (460)\ttotal: 11.4s\tremaining: 7.05s\n",
      "464:\tlearn: 0.7805129\ttest: 0.7599497\tbest: 0.7602682 (460)\ttotal: 11.5s\tremaining: 7.02s\n",
      "465:\tlearn: 0.7811760\ttest: 0.7602682\tbest: 0.7602682 (460)\ttotal: 11.5s\tremaining: 7s\n",
      "466:\tlearn: 0.7807641\ttest: 0.7607876\tbest: 0.7607876 (466)\ttotal: 11.5s\tremaining: 6.97s\n",
      "467:\tlearn: 0.7813015\ttest: 0.7613065\tbest: 0.7613065 (467)\ttotal: 11.5s\tremaining: 6.94s\n",
      "468:\tlearn: 0.7817583\ttest: 0.7616255\tbest: 0.7616255 (468)\ttotal: 11.5s\tremaining: 6.92s\n",
      "469:\tlearn: 0.7820447\ttest: 0.7607876\tbest: 0.7616255 (468)\ttotal: 11.6s\tremaining: 6.89s\n",
      "470:\tlearn: 0.7818388\ttest: 0.7607876\tbest: 0.7616255 (468)\ttotal: 11.6s\tremaining: 6.86s\n",
      "471:\tlearn: 0.7820447\ttest: 0.7607876\tbest: 0.7616255 (468)\ttotal: 11.6s\tremaining: 6.84s\n",
      "472:\tlearn: 0.7821701\ttest: 0.7607876\tbest: 0.7616255 (468)\ttotal: 11.6s\tremaining: 6.81s\n",
      "473:\tlearn: 0.7822506\ttest: 0.7611065\tbest: 0.7616255 (468)\ttotal: 11.6s\tremaining: 6.78s\n",
      "474:\tlearn: 0.7825013\ttest: 0.7611065\tbest: 0.7616255 (468)\ttotal: 11.7s\tremaining: 6.75s\n",
      "475:\tlearn: 0.7826713\ttest: 0.7616255\tbest: 0.7616255 (468)\ttotal: 11.7s\tremaining: 6.73s\n",
      "476:\tlearn: 0.7830024\ttest: 0.7616255\tbest: 0.7616255 (468)\ttotal: 11.7s\tremaining: 6.7s\n",
      "477:\tlearn: 0.7830024\ttest: 0.7616255\tbest: 0.7616255 (468)\ttotal: 11.7s\tremaining: 6.67s\n",
      "478:\tlearn: 0.7828771\ttest: 0.7616255\tbest: 0.7616255 (468)\ttotal: 11.8s\tremaining: 6.65s\n",
      "479:\tlearn: 0.7827966\ttest: 0.7618250\tbest: 0.7618250 (479)\ttotal: 11.8s\tremaining: 6.62s\n",
      "480:\tlearn: 0.7826713\ttest: 0.7618250\tbest: 0.7618250 (479)\ttotal: 11.8s\tremaining: 6.59s\n",
      "481:\tlearn: 0.7827966\ttest: 0.7618250\tbest: 0.7618250 (479)\ttotal: 11.8s\tremaining: 6.57s\n",
      "482:\tlearn: 0.7827966\ttest: 0.7621441\tbest: 0.7621441 (482)\ttotal: 11.8s\tremaining: 6.54s\n",
      "483:\tlearn: 0.7829577\ttest: 0.7621441\tbest: 0.7621441 (482)\ttotal: 11.9s\tremaining: 6.52s\n",
      "484:\tlearn: 0.7831189\ttest: 0.7621441\tbest: 0.7621441 (482)\ttotal: 11.9s\tremaining: 6.49s\n",
      "485:\tlearn: 0.7831635\ttest: 0.7621441\tbest: 0.7621441 (482)\ttotal: 11.9s\tremaining: 6.46s\n",
      "486:\tlearn: 0.7831189\ttest: 0.7621441\tbest: 0.7621441 (482)\ttotal: 11.9s\tremaining: 6.44s\n",
      "487:\tlearn: 0.7832081\ttest: 0.7621441\tbest: 0.7621441 (482)\ttotal: 11.9s\tremaining: 6.41s\n",
      "488:\tlearn: 0.7832081\ttest: 0.7621441\tbest: 0.7621441 (482)\ttotal: 12s\tremaining: 6.38s\n",
      "489:\tlearn: 0.7832081\ttest: 0.7621441\tbest: 0.7621441 (482)\ttotal: 12s\tremaining: 6.36s\n",
      "490:\tlearn: 0.7835391\ttest: 0.7621441\tbest: 0.7621441 (482)\ttotal: 12s\tremaining: 6.33s\n",
      "491:\tlearn: 0.7834945\ttest: 0.7621441\tbest: 0.7621441 (482)\ttotal: 12s\tremaining: 6.3s\n",
      "492:\tlearn: 0.7835752\ttest: 0.7621441\tbest: 0.7621441 (482)\ttotal: 12s\tremaining: 6.28s\n",
      "493:\tlearn: 0.7839424\ttest: 0.7624633\tbest: 0.7624633 (493)\ttotal: 12.1s\tremaining: 6.25s\n",
      "494:\tlearn: 0.7836920\ttest: 0.7624633\tbest: 0.7624633 (493)\ttotal: 12.1s\tremaining: 6.23s\n",
      "495:\tlearn: 0.7836920\ttest: 0.7624633\tbest: 0.7624633 (493)\ttotal: 12.1s\tremaining: 6.2s\n",
      "496:\tlearn: 0.7835306\ttest: 0.7624633\tbest: 0.7624633 (493)\ttotal: 12.3s\tremaining: 6.26s\n",
      "497:\tlearn: 0.7839062\ttest: 0.7619447\tbest: 0.7624633 (493)\ttotal: 12.3s\tremaining: 6.23s\n",
      "498:\tlearn: 0.7840231\ttest: 0.7624633\tbest: 0.7624633 (493)\ttotal: 12.3s\tremaining: 6.21s\n",
      "499:\tlearn: 0.7843985\ttest: 0.7622642\tbest: 0.7624633 (493)\ttotal: 12.4s\tremaining: 6.18s\n",
      "500:\tlearn: 0.7845679\ttest: 0.7619447\tbest: 0.7624633 (493)\ttotal: 12.4s\tremaining: 6.15s\n",
      "501:\tlearn: 0.7846486\ttest: 0.7622642\tbest: 0.7624633 (493)\ttotal: 12.4s\tremaining: 6.12s\n",
      "502:\tlearn: 0.7847294\ttest: 0.7616255\tbest: 0.7624633 (493)\ttotal: 12.4s\tremaining: 6.1s\n",
      "503:\tlearn: 0.7848544\ttest: 0.7616255\tbest: 0.7624633 (493)\ttotal: 12.4s\tremaining: 6.07s\n",
      "504:\tlearn: 0.7848544\ttest: 0.7621441\tbest: 0.7624633 (493)\ttotal: 12.5s\tremaining: 6.04s\n",
      "505:\tlearn: 0.7848101\ttest: 0.7616255\tbest: 0.7624633 (493)\ttotal: 12.5s\tremaining: 6.02s\n",
      "506:\tlearn: 0.7848101\ttest: 0.7616255\tbest: 0.7624633 (493)\ttotal: 12.5s\tremaining: 5.99s\n",
      "507:\tlearn: 0.7847294\ttest: 0.7614256\tbest: 0.7624633 (493)\ttotal: 12.5s\tremaining: 5.96s\n",
      "508:\tlearn: 0.7851852\ttest: 0.7621441\tbest: 0.7624633 (493)\ttotal: 13.3s\tremaining: 6.3s\n",
      "509:\tlearn: 0.7851852\ttest: 0.7616255\tbest: 0.7624633 (493)\ttotal: 13.3s\tremaining: 6.27s\n",
      "510:\tlearn: 0.7851044\ttest: 0.7624633\tbest: 0.7624633 (493)\ttotal: 13.3s\tremaining: 6.24s\n",
      "511:\tlearn: 0.7854792\ttest: 0.7621441\tbest: 0.7624633 (493)\ttotal: 13.4s\tremaining: 6.21s\n",
      "512:\tlearn: 0.7853985\ttest: 0.7624633\tbest: 0.7624633 (493)\ttotal: 13.4s\tremaining: 6.18s\n",
      "513:\tlearn: 0.7854351\ttest: 0.7629816\tbest: 0.7629816 (513)\ttotal: 13.4s\tremaining: 6.15s\n",
      "514:\tlearn: 0.7851044\ttest: 0.7629816\tbest: 0.7629816 (513)\ttotal: 13.4s\tremaining: 6.13s\n",
      "515:\tlearn: 0.7853102\ttest: 0.7624633\tbest: 0.7629816 (513)\ttotal: 13.4s\tremaining: 6.1s\n",
      "516:\tlearn: 0.7853909\ttest: 0.7629816\tbest: 0.7629816 (513)\ttotal: 13.5s\tremaining: 6.07s\n",
      "517:\tlearn: 0.7853909\ttest: 0.7629816\tbest: 0.7629816 (513)\ttotal: 13.5s\tremaining: 6.04s\n",
      "518:\tlearn: 0.7854718\ttest: 0.7634994\tbest: 0.7634994 (518)\ttotal: 13.5s\tremaining: 6.01s\n",
      "519:\tlearn: 0.7855967\ttest: 0.7638191\tbest: 0.7638191 (519)\ttotal: 13.5s\tremaining: 5.98s\n",
      "520:\tlearn: 0.7856775\ttest: 0.7638191\tbest: 0.7638191 (519)\ttotal: 13.5s\tremaining: 5.95s\n",
      "521:\tlearn: 0.7857584\ttest: 0.7643365\tbest: 0.7643365 (521)\ttotal: 13.6s\tremaining: 5.92s\n",
      "522:\tlearn: 0.7858833\ttest: 0.7643365\tbest: 0.7643365 (521)\ttotal: 13.6s\tremaining: 5.9s\n",
      "523:\tlearn: 0.7858833\ttest: 0.7646566\tbest: 0.7646566 (523)\ttotal: 13.6s\tremaining: 5.87s\n",
      "524:\tlearn: 0.7858833\ttest: 0.7646566\tbest: 0.7646566 (523)\ttotal: 13.6s\tremaining: 5.84s\n",
      "525:\tlearn: 0.7857584\ttest: 0.7643365\tbest: 0.7646566 (523)\ttotal: 13.6s\tremaining: 5.81s\n",
      "526:\tlearn: 0.7858833\ttest: 0.7646566\tbest: 0.7646566 (523)\ttotal: 13.7s\tremaining: 5.78s\n",
      "527:\tlearn: 0.7858025\ttest: 0.7646566\tbest: 0.7646566 (523)\ttotal: 13.7s\tremaining: 5.75s\n",
      "528:\tlearn: 0.7856775\ttest: 0.7646566\tbest: 0.7646566 (523)\ttotal: 13.7s\tremaining: 5.72s\n",
      "529:\tlearn: 0.7855967\ttest: 0.7646566\tbest: 0.7646566 (523)\ttotal: 13.7s\tremaining: 5.7s\n",
      "530:\tlearn: 0.7858833\ttest: 0.7646566\tbest: 0.7646566 (523)\ttotal: 13.7s\tremaining: 5.67s\n",
      "531:\tlearn: 0.7857584\ttest: 0.7652976\tbest: 0.7652976 (531)\ttotal: 13.8s\tremaining: 5.64s\n",
      "532:\tlearn: 0.7860082\ttest: 0.7652976\tbest: 0.7652976 (531)\ttotal: 13.8s\tremaining: 5.61s\n",
      "533:\tlearn: 0.7858465\ttest: 0.7647799\tbest: 0.7652976 (531)\ttotal: 13.8s\tremaining: 5.58s\n",
      "534:\tlearn: 0.7858465\ttest: 0.7651007\tbest: 0.7652976 (531)\ttotal: 13.8s\tremaining: 5.55s\n",
      "535:\tlearn: 0.7857216\ttest: 0.7651007\tbest: 0.7652976 (531)\ttotal: 13.8s\tremaining: 5.53s\n",
      "536:\tlearn: 0.7858025\ttest: 0.7651007\tbest: 0.7652976 (531)\ttotal: 13.9s\tremaining: 5.5s\n",
      "537:\tlearn: 0.7860082\ttest: 0.7659396\tbest: 0.7659396 (537)\ttotal: 14.5s\tremaining: 5.7s\n",
      "538:\tlearn: 0.7858833\ttest: 0.7656184\tbest: 0.7659396 (537)\ttotal: 14.5s\tremaining: 5.67s\n",
      "539:\tlearn: 0.7860082\ttest: 0.7651007\tbest: 0.7659396 (537)\ttotal: 14.5s\tremaining: 5.64s\n",
      "540:\tlearn: 0.7861331\ttest: 0.7651007\tbest: 0.7659396 (537)\ttotal: 14.5s\tremaining: 5.61s\n",
      "541:\tlearn: 0.7860082\ttest: 0.7654217\tbest: 0.7659396 (537)\ttotal: 14.5s\tremaining: 5.58s\n",
      "542:\tlearn: 0.7860523\ttest: 0.7664570\tbest: 0.7664570 (542)\ttotal: 14.6s\tremaining: 5.55s\n",
      "543:\tlearn: 0.7864267\ttest: 0.7664570\tbest: 0.7664570 (542)\ttotal: 14.6s\tremaining: 5.52s\n",
      "544:\tlearn: 0.7864267\ttest: 0.7664570\tbest: 0.7664570 (542)\ttotal: 14.6s\tremaining: 5.49s\n",
      "545:\tlearn: 0.7863459\ttest: 0.7659396\tbest: 0.7664570 (542)\ttotal: 14.7s\tremaining: 5.48s\n",
      "546:\tlearn: 0.7865076\ttest: 0.7664570\tbest: 0.7664570 (542)\ttotal: 14.7s\tremaining: 5.45s\n",
      "547:\tlearn: 0.7868380\ttest: 0.7664570\tbest: 0.7664570 (542)\ttotal: 14.7s\tremaining: 5.42s\n",
      "548:\tlearn: 0.7865076\ttest: 0.7664570\tbest: 0.7664570 (542)\ttotal: 14.7s\tremaining: 5.39s\n",
      "549:\tlearn: 0.7864267\ttest: 0.7664570\tbest: 0.7664570 (542)\ttotal: 14.7s\tremaining: 5.36s\n",
      "550:\tlearn: 0.7865885\ttest: 0.7659396\tbest: 0.7664570 (542)\ttotal: 14.8s\tremaining: 5.33s\n",
      "551:\tlearn: 0.7867942\ttest: 0.7659396\tbest: 0.7664570 (542)\ttotal: 14.8s\tremaining: 5.3s\n",
      "552:\tlearn: 0.7869190\ttest: 0.7659396\tbest: 0.7664570 (542)\ttotal: 14.8s\tremaining: 5.28s\n",
      "553:\tlearn: 0.7870875\ttest: 0.7659396\tbest: 0.7664570 (542)\ttotal: 14.8s\tremaining: 5.25s\n",
      "554:\tlearn: 0.7869628\ttest: 0.7659396\tbest: 0.7664570 (542)\ttotal: 14.9s\tremaining: 5.22s\n",
      "555:\tlearn: 0.7869628\ttest: 0.7661358\tbest: 0.7664570 (542)\ttotal: 14.9s\tremaining: 5.2s\n",
      "556:\tlearn: 0.7869628\ttest: 0.7661358\tbest: 0.7664570 (542)\ttotal: 14.9s\tremaining: 5.17s\n",
      "557:\tlearn: 0.7873368\ttest: 0.7656184\tbest: 0.7664570 (542)\ttotal: 14.9s\tremaining: 5.14s\n",
      "558:\tlearn: 0.7874178\ttest: 0.7661358\tbest: 0.7664570 (542)\ttotal: 15s\tremaining: 5.11s\n",
      "559:\tlearn: 0.7874178\ttest: 0.7661358\tbest: 0.7664570 (542)\ttotal: 15s\tremaining: 5.08s\n",
      "560:\tlearn: 0.7873368\ttest: 0.7656184\tbest: 0.7664570 (542)\ttotal: 15s\tremaining: 5.05s\n",
      "561:\tlearn: 0.7875424\ttest: 0.7661358\tbest: 0.7664570 (542)\ttotal: 15s\tremaining: 5.02s\n",
      "562:\tlearn: 0.7875424\ttest: 0.7664570\tbest: 0.7664570 (542)\ttotal: 15s\tremaining: 4.99s\n",
      "563:\tlearn: 0.7875861\ttest: 0.7656184\tbest: 0.7664570 (542)\ttotal: 15.1s\tremaining: 4.96s\n",
      "564:\tlearn: 0.7876234\ttest: 0.7661358\tbest: 0.7664570 (542)\ttotal: 15.1s\tremaining: 4.94s\n",
      "565:\tlearn: 0.7874987\ttest: 0.7661358\tbest: 0.7664570 (542)\ttotal: 15.1s\tremaining: 4.91s\n",
      "566:\tlearn: 0.7873368\ttest: 0.7661358\tbest: 0.7664570 (542)\ttotal: 15.1s\tremaining: 4.88s\n",
      "567:\tlearn: 0.7875424\ttest: 0.7666527\tbest: 0.7666527 (567)\ttotal: 15.1s\tremaining: 4.85s\n",
      "568:\tlearn: 0.7877853\ttest: 0.7669740\tbest: 0.7669740 (568)\ttotal: 15.2s\tremaining: 4.82s\n",
      "569:\tlearn: 0.7879473\ttest: 0.7666527\tbest: 0.7669740 (568)\ttotal: 15.2s\tremaining: 4.79s\n",
      "570:\tlearn: 0.7877853\ttest: 0.7669740\tbest: 0.7669740 (568)\ttotal: 15.2s\tremaining: 4.76s\n",
      "571:\tlearn: 0.7878663\ttest: 0.7666527\tbest: 0.7669740 (568)\ttotal: 15.2s\tremaining: 4.74s\n",
      "572:\tlearn: 0.7879473\ttest: 0.7671692\tbest: 0.7671692 (572)\ttotal: 15.2s\tremaining: 4.71s\n",
      "573:\tlearn: 0.7881094\ttest: 0.7671692\tbest: 0.7671692 (572)\ttotal: 15.3s\tremaining: 4.68s\n",
      "574:\tlearn: 0.7880284\ttest: 0.7671692\tbest: 0.7671692 (572)\ttotal: 15.3s\tremaining: 4.65s\n",
      "575:\tlearn: 0.7878227\ttest: 0.7674906\tbest: 0.7674906 (575)\ttotal: 15.3s\tremaining: 4.62s\n",
      "576:\tlearn: 0.7880284\ttest: 0.7680067\tbest: 0.7680067 (576)\ttotal: 15.3s\tremaining: 4.59s\n",
      "577:\tlearn: 0.7880284\ttest: 0.7680067\tbest: 0.7680067 (576)\ttotal: 15.3s\tremaining: 4.57s\n",
      "578:\tlearn: 0.7880284\ttest: 0.7685224\tbest: 0.7685224 (578)\ttotal: 15.4s\tremaining: 4.54s\n",
      "579:\tlearn: 0.7880284\ttest: 0.7685224\tbest: 0.7685224 (578)\ttotal: 15.4s\tremaining: 4.51s\n",
      "580:\tlearn: 0.7880720\ttest: 0.7685224\tbest: 0.7685224 (578)\ttotal: 15.4s\tremaining: 4.48s\n",
      "581:\tlearn: 0.7881530\ttest: 0.7682008\tbest: 0.7685224 (578)\ttotal: 15.4s\tremaining: 4.45s\n",
      "582:\tlearn: 0.7882341\ttest: 0.7682008\tbest: 0.7685224 (578)\ttotal: 15.4s\tremaining: 4.42s\n",
      "583:\tlearn: 0.7882776\ttest: 0.7682008\tbest: 0.7685224 (578)\ttotal: 15.5s\tremaining: 4.4s\n",
      "584:\tlearn: 0.7886079\ttest: 0.7687160\tbest: 0.7687160 (584)\ttotal: 15.5s\tremaining: 4.37s\n",
      "585:\tlearn: 0.7885644\ttest: 0.7690377\tbest: 0.7690377 (585)\ttotal: 15.5s\tremaining: 4.34s\n",
      "586:\tlearn: 0.7885644\ttest: 0.7687160\tbest: 0.7690377 (585)\ttotal: 15.5s\tremaining: 4.31s\n",
      "587:\tlearn: 0.7885644\ttest: 0.7687160\tbest: 0.7690377 (585)\ttotal: 15.6s\tremaining: 4.29s\n",
      "588:\tlearn: 0.7885644\ttest: 0.7690377\tbest: 0.7690377 (585)\ttotal: 15.6s\tremaining: 4.26s\n",
      "589:\tlearn: 0.7885644\ttest: 0.7690377\tbest: 0.7690377 (585)\ttotal: 15.6s\tremaining: 4.23s\n",
      "590:\tlearn: 0.7886455\ttest: 0.7685224\tbest: 0.7690377 (585)\ttotal: 15.6s\tremaining: 4.2s\n",
      "591:\tlearn: 0.7886455\ttest: 0.7690377\tbest: 0.7690377 (585)\ttotal: 15.6s\tremaining: 4.17s\n",
      "592:\tlearn: 0.7885209\ttest: 0.7685224\tbest: 0.7690377 (585)\ttotal: 15.7s\tremaining: 4.15s\n",
      "593:\tlearn: 0.7885209\ttest: 0.7685224\tbest: 0.7690377 (585)\ttotal: 15.7s\tremaining: 4.12s\n",
      "594:\tlearn: 0.7885209\ttest: 0.7685224\tbest: 0.7690377 (585)\ttotal: 15.7s\tremaining: 4.09s\n",
      "595:\tlearn: 0.7883963\ttest: 0.7685224\tbest: 0.7690377 (585)\ttotal: 15.7s\tremaining: 4.06s\n",
      "596:\tlearn: 0.7883963\ttest: 0.7690377\tbest: 0.7690377 (585)\ttotal: 15.7s\tremaining: 4.04s\n",
      "597:\tlearn: 0.7886020\ttest: 0.7690377\tbest: 0.7690377 (585)\ttotal: 15.8s\tremaining: 4.01s\n",
      "598:\tlearn: 0.7884774\ttest: 0.7690377\tbest: 0.7690377 (585)\ttotal: 15.8s\tremaining: 3.98s\n",
      "599:\tlearn: 0.7886020\ttest: 0.7690377\tbest: 0.7690377 (585)\ttotal: 15.8s\tremaining: 3.95s\n",
      "600:\tlearn: 0.7886396\ttest: 0.7690377\tbest: 0.7690377 (585)\ttotal: 15.8s\tremaining: 3.92s\n",
      "601:\tlearn: 0.7888077\ttest: 0.7690377\tbest: 0.7690377 (585)\ttotal: 15.8s\tremaining: 3.9s\n",
      "602:\tlearn: 0.7890512\ttest: 0.7690377\tbest: 0.7690377 (585)\ttotal: 15.9s\tremaining: 3.87s\n",
      "603:\tlearn: 0.7890947\ttest: 0.7695525\tbest: 0.7695525 (603)\ttotal: 15.9s\tremaining: 3.84s\n",
      "604:\tlearn: 0.7890947\ttest: 0.7695525\tbest: 0.7695525 (603)\ttotal: 15.9s\tremaining: 3.81s\n",
      "605:\tlearn: 0.7892192\ttest: 0.7695525\tbest: 0.7695525 (603)\ttotal: 15.9s\tremaining: 3.79s\n",
      "606:\tlearn: 0.7889266\ttest: 0.7695525\tbest: 0.7695525 (603)\ttotal: 15.9s\tremaining: 3.76s\n",
      "607:\tlearn: 0.7891758\ttest: 0.7695525\tbest: 0.7695525 (603)\ttotal: 16s\tremaining: 3.73s\n",
      "608:\tlearn: 0.7893004\ttest: 0.7695525\tbest: 0.7695525 (603)\ttotal: 16s\tremaining: 3.7s\n",
      "609:\tlearn: 0.7893816\ttest: 0.7705809\tbest: 0.7705809 (609)\ttotal: 16s\tremaining: 3.67s\n",
      "610:\tlearn: 0.7894629\ttest: 0.7705809\tbest: 0.7705809 (609)\ttotal: 16s\tremaining: 3.65s\n",
      "611:\tlearn: 0.7896687\ttest: 0.7710944\tbest: 0.7710944 (611)\ttotal: 16.1s\tremaining: 3.62s\n",
      "612:\tlearn: 0.7898745\ttest: 0.7710944\tbest: 0.7710944 (611)\ttotal: 16.1s\tremaining: 3.59s\n",
      "613:\tlearn: 0.7897499\ttest: 0.7716075\tbest: 0.7716075 (613)\ttotal: 16.1s\tremaining: 3.56s\n",
      "614:\tlearn: 0.7896254\ttest: 0.7705809\tbest: 0.7716075 (613)\ttotal: 16.1s\tremaining: 3.54s\n",
      "615:\tlearn: 0.7898745\ttest: 0.7714166\tbest: 0.7716075 (613)\ttotal: 16.1s\tremaining: 3.51s\n",
      "616:\tlearn: 0.7896254\ttest: 0.7716075\tbest: 0.7716075 (613)\ttotal: 16.2s\tremaining: 3.48s\n",
      "617:\tlearn: 0.7897499\ttest: 0.7719298\tbest: 0.7719298 (617)\ttotal: 16.2s\tremaining: 3.46s\n",
      "618:\tlearn: 0.7897499\ttest: 0.7719298\tbest: 0.7719298 (617)\ttotal: 16.2s\tremaining: 3.43s\n",
      "619:\tlearn: 0.7897932\ttest: 0.7722524\tbest: 0.7722524 (619)\ttotal: 16.2s\tremaining: 3.4s\n",
      "620:\tlearn: 0.7897119\ttest: 0.7722524\tbest: 0.7722524 (619)\ttotal: 16.2s\tremaining: 3.37s\n",
      "621:\tlearn: 0.7898364\ttest: 0.7722524\tbest: 0.7722524 (619)\ttotal: 16.3s\tremaining: 3.35s\n",
      "622:\tlearn: 0.7900422\ttest: 0.7717391\tbest: 0.7722524 (619)\ttotal: 16.3s\tremaining: 3.32s\n",
      "623:\tlearn: 0.7900422\ttest: 0.7717391\tbest: 0.7722524 (619)\ttotal: 16.3s\tremaining: 3.29s\n",
      "624:\tlearn: 0.7900422\ttest: 0.7717391\tbest: 0.7722524 (619)\ttotal: 17.3s\tremaining: 3.46s\n",
      "625:\tlearn: 0.7899177\ttest: 0.7715481\tbest: 0.7722524 (619)\ttotal: 17.3s\tremaining: 3.43s\n",
      "626:\tlearn: 0.7899990\ttest: 0.7715481\tbest: 0.7722524 (619)\ttotal: 17.3s\tremaining: 3.4s\n",
      "627:\tlearn: 0.7900422\ttest: 0.7718711\tbest: 0.7722524 (619)\ttotal: 17.3s\tremaining: 3.37s\n",
      "628:\tlearn: 0.7899990\ttest: 0.7718711\tbest: 0.7722524 (619)\ttotal: 17.4s\tremaining: 3.34s\n",
      "629:\tlearn: 0.7899990\ttest: 0.7718711\tbest: 0.7722524 (619)\ttotal: 17.4s\tremaining: 3.31s\n",
      "630:\tlearn: 0.7902048\ttest: 0.7715481\tbest: 0.7722524 (619)\ttotal: 17.4s\tremaining: 3.28s\n",
      "631:\tlearn: 0.7902048\ttest: 0.7715481\tbest: 0.7722524 (619)\ttotal: 17.4s\tremaining: 3.25s\n",
      "632:\tlearn: 0.7900803\ttest: 0.7721943\tbest: 0.7722524 (619)\ttotal: 17.4s\tremaining: 3.22s\n",
      "633:\tlearn: 0.7901997\ttest: 0.7721943\tbest: 0.7722524 (619)\ttotal: 17.5s\tremaining: 3.19s\n",
      "634:\tlearn: 0.7907360\ttest: 0.7721943\tbest: 0.7722524 (619)\ttotal: 17.5s\tremaining: 3.17s\n",
      "635:\tlearn: 0.7907360\ttest: 0.7721943\tbest: 0.7722524 (619)\ttotal: 17.5s\tremaining: 3.14s\n",
      "636:\tlearn: 0.7907360\ttest: 0.7721943\tbest: 0.7722524 (619)\ttotal: 18.4s\tremaining: 3.27s\n",
      "637:\tlearn: 0.7907360\ttest: 0.7732218\tbest: 0.7732218 (637)\ttotal: 18.5s\tremaining: 3.24s\n",
      "638:\tlearn: 0.7906115\ttest: 0.7727082\tbest: 0.7732218 (637)\ttotal: 18.5s\tremaining: 3.21s\n",
      "639:\tlearn: 0.7906115\ttest: 0.7730318\tbest: 0.7732218 (637)\ttotal: 18.5s\tremaining: 3.18s\n",
      "640:\tlearn: 0.7906115\ttest: 0.7735454\tbest: 0.7735454 (640)\ttotal: 18.5s\tremaining: 3.15s\n",
      "641:\tlearn: 0.7908174\ttest: 0.7738693\tbest: 0.7738693 (641)\ttotal: 18.5s\tremaining: 3.12s\n",
      "642:\tlearn: 0.7908174\ttest: 0.7743826\tbest: 0.7743826 (642)\ttotal: 18.6s\tremaining: 3.09s\n",
      "643:\tlearn: 0.7908174\ttest: 0.7740586\tbest: 0.7743826 (642)\ttotal: 18.6s\tremaining: 3.06s\n",
      "644:\tlearn: 0.7909849\ttest: 0.7740586\tbest: 0.7743826 (642)\ttotal: 18.6s\tremaining: 3.03s\n",
      "645:\tlearn: 0.7911093\ttest: 0.7740586\tbest: 0.7743826 (642)\ttotal: 18.6s\tremaining: 3s\n",
      "646:\tlearn: 0.7909849\ttest: 0.7740586\tbest: 0.7743826 (642)\ttotal: 18.6s\tremaining: 2.96s\n",
      "647:\tlearn: 0.7911907\ttest: 0.7745713\tbest: 0.7745713 (647)\ttotal: 18.6s\tremaining: 2.94s\n",
      "648:\tlearn: 0.7910663\ttest: 0.7735454\tbest: 0.7745713 (647)\ttotal: 18.7s\tremaining: 2.9s\n",
      "649:\tlearn: 0.7910663\ttest: 0.7743826\tbest: 0.7745713 (647)\ttotal: 18.7s\tremaining: 2.87s\n",
      "650:\tlearn: 0.7910663\ttest: 0.7748954\tbest: 0.7748954 (650)\ttotal: 18.7s\tremaining: 2.85s\n",
      "651:\tlearn: 0.7911907\ttest: 0.7754078\tbest: 0.7754078 (651)\ttotal: 18.7s\tremaining: 2.81s\n",
      "652:\tlearn: 0.7912292\ttest: 0.7752198\tbest: 0.7754078 (651)\ttotal: 18.8s\tremaining: 2.79s\n",
      "653:\tlearn: 0.7914780\ttest: 0.7755444\tbest: 0.7755444 (653)\ttotal: 18.8s\tremaining: 2.75s\n",
      "654:\tlearn: 0.7916023\ttest: 0.7755444\tbest: 0.7755444 (653)\ttotal: 18.8s\tremaining: 2.73s\n",
      "655:\tlearn: 0.7916838\ttest: 0.7765690\tbest: 0.7765690 (655)\ttotal: 18.8s\tremaining: 2.69s\n",
      "656:\tlearn: 0.7916023\ttest: 0.7765690\tbest: 0.7765690 (655)\ttotal: 18.8s\tremaining: 2.67s\n",
      "657:\tlearn: 0.7916838\ttest: 0.7775920\tbest: 0.7775920 (657)\ttotal: 18.8s\tremaining: 2.63s\n",
      "658:\tlearn: 0.7917224\ttest: 0.7777778\tbest: 0.7777778 (658)\ttotal: 18.9s\tremaining: 2.6s\n",
      "659:\tlearn: 0.7918040\ttest: 0.7777778\tbest: 0.7777778 (658)\ttotal: 18.9s\tremaining: 2.58s\n",
      "660:\tlearn: 0.7915980\ttest: 0.7782881\tbest: 0.7782881 (660)\ttotal: 18.9s\tremaining: 2.54s\n",
      "661:\tlearn: 0.7915980\ttest: 0.7782881\tbest: 0.7782881 (660)\ttotal: 18.9s\tremaining: 2.52s\n",
      "662:\tlearn: 0.7917611\ttest: 0.7782881\tbest: 0.7782881 (660)\ttotal: 18.9s\tremaining: 2.48s\n",
      "663:\tlearn: 0.7916366\ttest: 0.7782881\tbest: 0.7782881 (660)\ttotal: 19s\tremaining: 2.46s\n",
      "664:\tlearn: 0.7916409\ttest: 0.7786132\tbest: 0.7786132 (664)\ttotal: 19s\tremaining: 2.42s\n",
      "665:\tlearn: 0.7919283\ttest: 0.7786132\tbest: 0.7786132 (664)\ttotal: 19s\tremaining: 2.4s\n",
      "666:\tlearn: 0.7917611\ttest: 0.7786132\tbest: 0.7786132 (664)\ttotal: 19s\tremaining: 2.37s\n",
      "667:\tlearn: 0.7918040\ttest: 0.7786132\tbest: 0.7786132 (664)\ttotal: 19s\tremaining: 2.34s\n",
      "668:\tlearn: 0.7918040\ttest: 0.7786132\tbest: 0.7786132 (664)\ttotal: 19.1s\tremaining: 2.31s\n",
      "669:\tlearn: 0.7920527\ttest: 0.7779633\tbest: 0.7786132 (664)\ttotal: 19.1s\tremaining: 2.28s\n",
      "670:\tlearn: 0.7920527\ttest: 0.7782881\tbest: 0.7786132 (664)\ttotal: 19.1s\tremaining: 2.25s\n",
      "671:\tlearn: 0.7920527\ttest: 0.7782881\tbest: 0.7786132 (664)\ttotal: 19.1s\tremaining: 2.22s\n",
      "672:\tlearn: 0.7921770\ttest: 0.7782881\tbest: 0.7786132 (664)\ttotal: 19.1s\tremaining: 2.19s\n",
      "673:\tlearn: 0.7921343\ttest: 0.7782881\tbest: 0.7786132 (664)\ttotal: 19.2s\tremaining: 2.16s\n",
      "674:\tlearn: 0.7922586\ttest: 0.7784731\tbest: 0.7786132 (664)\ttotal: 19.2s\tremaining: 2.13s\n",
      "675:\tlearn: 0.7921770\ttest: 0.7782881\tbest: 0.7786132 (664)\ttotal: 19.2s\tremaining: 2.1s\n",
      "676:\tlearn: 0.7923829\ttest: 0.7782881\tbest: 0.7786132 (664)\ttotal: 19.2s\tremaining: 2.07s\n",
      "677:\tlearn: 0.7922586\ttest: 0.7782881\tbest: 0.7786132 (664)\ttotal: 19.2s\tremaining: 2.04s\n",
      "678:\tlearn: 0.7923829\ttest: 0.7782881\tbest: 0.7786132 (664)\ttotal: 19.3s\tremaining: 2.01s\n",
      "679:\tlearn: 0.7923402\ttest: 0.7782881\tbest: 0.7786132 (664)\ttotal: 19.3s\tremaining: 1.99s\n",
      "680:\tlearn: 0.7923402\ttest: 0.7782881\tbest: 0.7786132 (664)\ttotal: 19.3s\tremaining: 1.96s\n",
      "681:\tlearn: 0.7923402\ttest: 0.7787980\tbest: 0.7787980 (681)\ttotal: 19.3s\tremaining: 1.93s\n",
      "682:\tlearn: 0.7922586\ttest: 0.7782881\tbest: 0.7787980 (681)\ttotal: 19.3s\tremaining: 1.9s\n",
      "683:\tlearn: 0.7925461\ttest: 0.7786132\tbest: 0.7787980 (681)\ttotal: 19.4s\tremaining: 1.87s\n",
      "684:\tlearn: 0.7925033\ttest: 0.7786132\tbest: 0.7787980 (681)\ttotal: 19.4s\tremaining: 1.84s\n",
      "685:\tlearn: 0.7925461\ttest: 0.7786132\tbest: 0.7787980 (681)\ttotal: 19.4s\tremaining: 1.81s\n",
      "686:\tlearn: 0.7925850\ttest: 0.7781028\tbest: 0.7787980 (681)\ttotal: 19.4s\tremaining: 1.78s\n",
      "687:\tlearn: 0.7927482\ttest: 0.7786132\tbest: 0.7787980 (681)\ttotal: 19.5s\tremaining: 1.75s\n",
      "688:\tlearn: 0.7926666\ttest: 0.7786132\tbest: 0.7787980 (681)\ttotal: 19.5s\tremaining: 1.72s\n",
      "689:\tlearn: 0.7927482\ttest: 0.7786132\tbest: 0.7787980 (681)\ttotal: 19.5s\tremaining: 1.7s\n",
      "690:\tlearn: 0.7925422\ttest: 0.7786132\tbest: 0.7787980 (681)\ttotal: 19.5s\tremaining: 1.67s\n",
      "691:\tlearn: 0.7924178\ttest: 0.7791232\tbest: 0.7791232 (691)\ttotal: 19.5s\tremaining: 1.64s\n",
      "692:\tlearn: 0.7924178\ttest: 0.7786132\tbest: 0.7791232 (691)\ttotal: 19.6s\tremaining: 1.61s\n",
      "693:\tlearn: 0.7926239\ttest: 0.7789386\tbest: 0.7791232 (691)\ttotal: 19.6s\tremaining: 1.58s\n",
      "694:\tlearn: 0.7925422\ttest: 0.7794486\tbest: 0.7794486 (694)\ttotal: 19.6s\tremaining: 1.55s\n",
      "695:\tlearn: 0.7926239\ttest: 0.7794486\tbest: 0.7794486 (694)\ttotal: 19.6s\tremaining: 1.52s\n",
      "696:\tlearn: 0.7926239\ttest: 0.7794486\tbest: 0.7794486 (694)\ttotal: 19.6s\tremaining: 1.49s\n",
      "697:\tlearn: 0.7927482\ttest: 0.7791232\tbest: 0.7794486 (694)\ttotal: 19.7s\tremaining: 1.46s\n",
      "698:\tlearn: 0.7929543\ttest: 0.7791232\tbest: 0.7794486 (694)\ttotal: 19.7s\tremaining: 1.44s\n",
      "699:\tlearn: 0.7929116\ttest: 0.7794486\tbest: 0.7794486 (694)\ttotal: 19.7s\tremaining: 1.41s\n",
      "700:\tlearn: 0.7931603\ttest: 0.7794486\tbest: 0.7794486 (694)\ttotal: 19.7s\tremaining: 1.38s\n",
      "701:\tlearn: 0.7931603\ttest: 0.7794486\tbest: 0.7794486 (694)\ttotal: 19.7s\tremaining: 1.35s\n",
      "702:\tlearn: 0.7931603\ttest: 0.7794486\tbest: 0.7794486 (694)\ttotal: 19.8s\tremaining: 1.32s\n",
      "703:\tlearn: 0.7930360\ttest: 0.7794486\tbest: 0.7794486 (694)\ttotal: 19.8s\tremaining: 1.29s\n",
      "704:\tlearn: 0.7931603\ttest: 0.7794486\tbest: 0.7794486 (694)\ttotal: 19.8s\tremaining: 1.26s\n",
      "705:\tlearn: 0.7933272\ttest: 0.7794486\tbest: 0.7794486 (694)\ttotal: 19.8s\tremaining: 1.24s\n",
      "706:\tlearn: 0.7932029\ttest: 0.7794486\tbest: 0.7794486 (694)\ttotal: 19.8s\tremaining: 1.21s\n",
      "707:\tlearn: 0.7932029\ttest: 0.7791232\tbest: 0.7794486 (694)\ttotal: 19.9s\tremaining: 1.18s\n",
      "708:\tlearn: 0.7933272\ttest: 0.7791232\tbest: 0.7794486 (694)\ttotal: 19.9s\tremaining: 1.15s\n",
      "709:\tlearn: 0.7933272\ttest: 0.7791232\tbest: 0.7794486 (694)\ttotal: 20.3s\tremaining: 1.14s\n",
      "710:\tlearn: 0.7931603\ttest: 0.7791232\tbest: 0.7794486 (694)\ttotal: 20.3s\tremaining: 1.11s\n",
      "711:\tlearn: 0.7932846\ttest: 0.7791232\tbest: 0.7794486 (694)\ttotal: 20.3s\tremaining: 1.08s\n",
      "712:\tlearn: 0.7932846\ttest: 0.7794486\tbest: 0.7794486 (694)\ttotal: 20.4s\tremaining: 1.06s\n",
      "713:\tlearn: 0.7933663\ttest: 0.7794486\tbest: 0.7794486 (694)\ttotal: 20.4s\tremaining: 1.03s\n",
      "714:\tlearn: 0.7932420\ttest: 0.7791232\tbest: 0.7794486 (694)\ttotal: 20.4s\tremaining: 999ms\n",
      "715:\tlearn: 0.7931177\ttest: 0.7791232\tbest: 0.7794486 (694)\ttotal: 20.4s\tremaining: 970ms\n",
      "716:\tlearn: 0.7932420\ttest: 0.7791232\tbest: 0.7794486 (694)\ttotal: 20.4s\tremaining: 941ms\n",
      "717:\tlearn: 0.7932420\ttest: 0.7791232\tbest: 0.7794486 (694)\ttotal: 20.5s\tremaining: 912ms\n",
      "718:\tlearn: 0.7931603\ttest: 0.7791232\tbest: 0.7794486 (694)\ttotal: 20.5s\tremaining: 883ms\n",
      "719:\tlearn: 0.7933663\ttest: 0.7791232\tbest: 0.7794486 (694)\ttotal: 20.5s\tremaining: 855ms\n",
      "720:\tlearn: 0.7932846\ttest: 0.7796327\tbest: 0.7796327 (720)\ttotal: 20.5s\tremaining: 826ms\n",
      "721:\tlearn: 0.7934089\ttest: 0.7796327\tbest: 0.7796327 (720)\ttotal: 20.6s\tremaining: 797ms\n",
      "722:\tlearn: 0.7936573\ttest: 0.7796327\tbest: 0.7796327 (720)\ttotal: 20.6s\tremaining: 768ms\n",
      "723:\tlearn: 0.7937391\ttest: 0.7801418\tbest: 0.7801418 (723)\ttotal: 20.6s\tremaining: 740ms\n",
      "724:\tlearn: 0.7933663\ttest: 0.7801418\tbest: 0.7801418 (723)\ttotal: 20.6s\tremaining: 711ms\n",
      "725:\tlearn: 0.7935723\ttest: 0.7801418\tbest: 0.7801418 (723)\ttotal: 20.6s\tremaining: 682ms\n",
      "726:\tlearn: 0.7934906\ttest: 0.7801418\tbest: 0.7801418 (723)\ttotal: 20.7s\tremaining: 654ms\n",
      "727:\tlearn: 0.7933663\ttest: 0.7801418\tbest: 0.7801418 (723)\ttotal: 21.3s\tremaining: 643ms\n",
      "728:\tlearn: 0.7936148\ttest: 0.7806505\tbest: 0.7806505 (728)\ttotal: 21.3s\tremaining: 614ms\n",
      "729:\tlearn: 0.7936148\ttest: 0.7806505\tbest: 0.7806505 (728)\ttotal: 21.3s\tremaining: 584ms\n",
      "730:\tlearn: 0.7936966\ttest: 0.7806505\tbest: 0.7806505 (728)\ttotal: 21.3s\tremaining: 555ms\n",
      "731:\tlearn: 0.7938633\ttest: 0.7806505\tbest: 0.7806505 (728)\ttotal: 21.4s\tremaining: 525ms\n",
      "732:\tlearn: 0.7940692\ttest: 0.7806505\tbest: 0.7806505 (728)\ttotal: 21.4s\tremaining: 496ms\n",
      "733:\tlearn: 0.7940268\ttest: 0.7806505\tbest: 0.7806505 (728)\ttotal: 21.4s\tremaining: 466ms\n",
      "734:\tlearn: 0.7942327\ttest: 0.7806505\tbest: 0.7806505 (728)\ttotal: 21.4s\tremaining: 437ms\n",
      "735:\tlearn: 0.7942327\ttest: 0.7806505\tbest: 0.7806505 (728)\ttotal: 21.4s\tremaining: 408ms\n",
      "736:\tlearn: 0.7946052\ttest: 0.7811588\tbest: 0.7811588 (736)\ttotal: 21.4s\tremaining: 378ms\n",
      "737:\tlearn: 0.7948111\ttest: 0.7811588\tbest: 0.7811588 (736)\ttotal: 21.5s\tremaining: 349ms\n",
      "738:\tlearn: 0.7946870\ttest: 0.7816667\tbest: 0.7816667 (738)\ttotal: 21.5s\tremaining: 320ms\n",
      "739:\tlearn: 0.7947293\ttest: 0.7816667\tbest: 0.7816667 (738)\ttotal: 21.5s\tremaining: 291ms\n",
      "740:\tlearn: 0.7950592\ttest: 0.7811588\tbest: 0.7816667 (738)\ttotal: 21.5s\tremaining: 262ms\n",
      "741:\tlearn: 0.7948111\ttest: 0.7811588\tbest: 0.7816667 (738)\ttotal: 21.6s\tremaining: 232ms\n",
      "742:\tlearn: 0.7948929\ttest: 0.7814846\tbest: 0.7816667 (738)\ttotal: 21.6s\tremaining: 203ms\n",
      "743:\tlearn: 0.7948929\ttest: 0.7814846\tbest: 0.7816667 (738)\ttotal: 21.6s\tremaining: 174ms\n",
      "744:\tlearn: 0.7948929\ttest: 0.7819925\tbest: 0.7819925 (744)\ttotal: 21.6s\tremaining: 145ms\n",
      "745:\tlearn: 0.7948929\ttest: 0.7819925\tbest: 0.7819925 (744)\ttotal: 21.6s\tremaining: 116ms\n",
      "746:\tlearn: 0.7950988\ttest: 0.7819925\tbest: 0.7819925 (744)\ttotal: 21.6s\tremaining: 87ms\n",
      "747:\tlearn: 0.7951410\ttest: 0.7819925\tbest: 0.7819925 (744)\ttotal: 21.7s\tremaining: 57.9ms\n",
      "748:\tlearn: 0.7950592\ttest: 0.7819925\tbest: 0.7819925 (744)\ttotal: 21.7s\tremaining: 29ms\n",
      "749:\tlearn: 0.7953072\ttest: 0.7819925\tbest: 0.7819925 (744)\ttotal: 21.7s\tremaining: 0us\n",
      "\n",
      "bestTest = 0.7819924969\n",
      "bestIteration = 744\n",
      "\n",
      "Shrink model to first 745 iterations.\n"
     ]
    },
    {
     "data": {
      "text/plain": [
       "<catboost.core.CatBoostClassifier at 0x7fd79728e100>"
      ]
     },
     "execution_count": 197,
     "metadata": {},
     "output_type": "execute_result"
    }
   ],
   "source": [
    "catboost_classifier.fit(X_train,\n",
    "          y_train,\n",
    "          verbose=True, \n",
    "          eval_set=(X_test, y_test))"
   ]
  },
  {
   "cell_type": "code",
   "execution_count": 198,
   "metadata": {},
   "outputs": [
    {
     "data": {
      "text/plain": [
       "0.7819924968736973"
      ]
     },
     "execution_count": 198,
     "metadata": {},
     "output_type": "execute_result"
    }
   ],
   "source": [
    "f1_score(y_test, catboost_classifier.predict(X_test)) # 0.9119295436349079"
   ]
  },
  {
   "cell_type": "code",
   "execution_count": 199,
   "metadata": {},
   "outputs": [
    {
     "data": {
      "text/plain": [
       "0.8146704464918497"
      ]
     },
     "execution_count": 199,
     "metadata": {},
     "output_type": "execute_result"
    }
   ],
   "source": [
    "accuracy_score(y_test, catboost_classifier.predict(X_test))"
   ]
  },
  {
   "cell_type": "code",
   "execution_count": 200,
   "metadata": {
    "scrolled": true
   },
   "outputs": [
    {
     "data": {
      "text/plain": [
       "[(0.03153750071401803,\n",
       "  'original_bert_answers_similarity_by_use_top_9_square_mean_by_question'),\n",
       " (0.03417502744498837,\n",
       "  'original_bert_answers_similarity_by_use_top_7_square_mean_by_question'),\n",
       " (0.03702755222430536,\n",
       "  'original_bert_answers_similarity_by_use_top_6_sum_by_question'),\n",
       " (0.03763597025945289,\n",
       "  'original_bert_answers_similarity_by_use_mean_min_by_question'),\n",
       " (0.03820657754201338,\n",
       "  'original_bert_answers_similarity_by_use_max_min_by_question'),\n",
       " (0.03824347646238866,\n",
       "  'original_bert_answers_similarity_by_use_top_7_mean_by_question'),\n",
       " (0.04051086980865091, 'words_amount_in_answer_ru_std_by_question'),\n",
       " (0.04060475895414786,\n",
       "  'original_bert_answers_similarity_by_use_top_1_std_by_question'),\n",
       " (0.0408361233743744,\n",
       "  'original_bert_answers_similarity_by_use_top_2_square_mean_by_question'),\n",
       " (0.04184906512331114,\n",
       "  'original_bert_answers_similarity_by_use_top_2_median_by_question'),\n",
       " (0.04566233089422451, 'original_bert_answers_similarity_by_use_min'),\n",
       " (0.0506865206560491, 'same_words_context_answer_en_min_by_question'),\n",
       " (0.052195541906244626,\n",
       "  'original_bert_answers_similarity_by_use_top_0_median_by_question'),\n",
       " (0.05252378889734505, 'stems_same_stems_ratio_answer_en_sum_by_question'),\n",
       " (0.05334834707011535,\n",
       "  'original_bert_answers_similarity_by_use_top_5_sum_by_question'),\n",
       " (0.05634070125697047, 'answers_amount'),\n",
       " (0.05706636483126145, 'original_bert_answers_similarity_by_use_top_3'),\n",
       " (0.05894369898186672, 'words_amount_in_answer_en_square_mean_by_question'),\n",
       " (0.06053913274291604, 'same_words_context_answer_en_std_by_question'),\n",
       " (0.060866745879393946,\n",
       "  'original_bert_answers_similarity_by_use_top_1_median_by_question'),\n",
       " (0.06176398608724245, 'original_bert_answers_similarity_by_use_std'),\n",
       " (0.06444404205004015, 'words_amount_in_answer_en_max_by_question'),\n",
       " (0.06879735648169913,\n",
       "  'original_bert_answers_similarity_by_use_top_6_mean_by_question'),\n",
       " (0.0696813990126599, 'words_amount_in_answer_ru_square_mean_by_question'),\n",
       " (0.07115968727759849, 'words_amount_in_answer_ru_sum_by_question'),\n",
       " (0.07904293855996082, 'original_bert_answers_similarity_by_use_top_4'),\n",
       " (0.08009100732666108, 'original_bert_answers_similarity_by_use_top_5'),\n",
       " (0.08085821676911017, 'words_amount_in_answer_en_harmonic_mean_by_question'),\n",
       " (0.08726455807404265, 'words_amount_in_answer_ru_median_by_question'),\n",
       " (0.08782523204681454,\n",
       "  'original_t5_answers_similarity_by_use_geometric_mean_by_question'),\n",
       " (0.09081329439260447, 'same_words_context_answer_ru_std_by_question'),\n",
       " (0.09142818809261379, 'words_amount_in_answer_ru_harmonic_mean_by_question'),\n",
       " (0.09198436499704121,\n",
       "  'original_bert_answers_similarity_by_use_top_6_median_by_question'),\n",
       " (0.09209802597816694,\n",
       "  'original_bert_answers_similarity_by_use_top_0_sum_by_question'),\n",
       " (0.09626928250888726, 'words_amount_in_answer_en_sum_by_question'),\n",
       " (0.09822715020711484,\n",
       "  'original_bert_answers_similarity_by_use_median_geometric_mean_by_question'),\n",
       " (0.1030384000173407,\n",
       "  'original_bert_answers_similarity_by_use_top_0_mean_by_question'),\n",
       " (0.11228583837043792,\n",
       "  'original_bert_answers_similarity_by_use_top_4_mean_by_question'),\n",
       " (0.12009935220900561, 'original_bert_answers_similarity_by_use_top_0'),\n",
       " (0.12065340154588398, 'words_amount_in_answer_en_geometric_mean_by_question'),\n",
       " (0.1268813344345312, 'same_words_context_answer_en_max_by_question'),\n",
       " (0.12914175295720146, 'same_words_context_answer_ru_min_by_question'),\n",
       " (0.13080846086071118, 'words_amount_in_answer_en_mean_by_question'),\n",
       " (0.1330455332489733, 'same_words_context_answer_ru_max_by_question'),\n",
       " (0.1344766484034589, 'words_amount_in_answer_ru_mean_by_question'),\n",
       " (0.14728161206782944,\n",
       "  'original_t5_answers_similarity_by_use_std_by_question'),\n",
       " (0.1755577153571344, 'original_bert_answers_similarity_by_use_top_2'),\n",
       " (0.17643805676547675,\n",
       "  'original_t5_answers_similarity_by_use_max_by_question'),\n",
       " (0.18137816940930732,\n",
       "  'original_bert_answers_similarity_by_use_mean_harmonic_mean_by_question'),\n",
       " (0.18319650383822367, 'words_amount_in_answer_en_median_by_question'),\n",
       " (0.18424372808649545,\n",
       "  'original_bert_answers_similarity_by_use_median_max_by_question'),\n",
       " (0.20030967419021137, 'original_bert_answers_similarity_by_use_top_1'),\n",
       " (0.21167896563121522,\n",
       "  'original_bert_answers_similarity_by_use_max_max_by_question'),\n",
       " (0.21720671473952605, 'words_amount_in_answer_ru_geometric_mean_by_question'),\n",
       " (0.2174833087855554,\n",
       "  'same_words_context_answer_en_harmonic_mean_by_question'),\n",
       " (0.2336958456479493, 'same_words_context_answer_ru_square_mean_by_question'),\n",
       " (0.24242255299095097, 'original_bert_answers_similarity_by_use_top_6'),\n",
       " (0.28141762037077805,\n",
       "  'original_t5_answers_similarity_by_use_square_mean_by_question'),\n",
       " (0.28710706936343683,\n",
       "  'original_bert_answers_similarity_by_use_median_square_mean_by_question'),\n",
       " (0.28979388087345137,\n",
       "  'same_words_context_answer_en_geometric_mean_by_question'),\n",
       " (0.31243545047050364, 'same_words_context_answer_en_mean_by_question'),\n",
       " (0.3334928325547082, 'original_t5_answers_similarity_by_use_sum_by_question'),\n",
       " (0.3589250756371119,\n",
       "  'original_bert_answers_similarity_by_use_median_std_by_question'),\n",
       " (0.3632602019577274, 'same_words_context_answer_en_square_mean_by_question'),\n",
       " (0.3685887842800031,\n",
       "  'original_bert_answers_similarity_by_use_max_geometric_mean_by_question'),\n",
       " (0.3685978047580928,\n",
       "  'original_bert_answers_similarity_by_use_mean_max_by_question'),\n",
       " (0.41092329532092353, 'same_words_context_answer_en_sum_by_question'),\n",
       " (0.43996532375679936,\n",
       "  'original_t5_answers_similarity_by_use_mean_by_question'),\n",
       " (0.44905032263916145,\n",
       "  'original_bert_answers_similarity_by_use_mean_sum_by_question'),\n",
       " (0.48584883424754627,\n",
       "  'original_t5_answers_similarity_by_use_median_by_question'),\n",
       " (0.5000328631936282,\n",
       "  'original_bert_answers_similarity_by_use_mean_geometric_mean_by_question'),\n",
       " (0.5030765801619761,\n",
       "  'original_bert_answers_similarity_by_use_max_sum_by_question'),\n",
       " (0.5221657069086302,\n",
       "  'original_bert_answers_similarity_by_use_median_sum_by_question'),\n",
       " (0.5445239073607897,\n",
       "  'original_bert_answers_similarity_by_use_median_median_by_question'),\n",
       " (0.5532863309426244, 'same_words_context_answer_ru_mean_by_question'),\n",
       " (0.5664555700628758, 'same_words_context_answer_ru_sum_by_question'),\n",
       " (0.582256279605523,\n",
       "  'original_bert_answers_similarity_by_use_max_harmonic_mean_by_question'),\n",
       " (0.5977381627055113,\n",
       "  'same_words_context_answer_ru_geometric_mean_by_question'),\n",
       " (0.609278231007797, 'stems_amount_in_answer_en'),\n",
       " (0.6399694994736972, 'same_words_context_answer_en_median_by_question'),\n",
       " (0.682110139877198,\n",
       "  'original_bert_answers_similarity_by_use_median_mean_by_question'),\n",
       " (0.7810103837674086,\n",
       "  'original_bert_answers_similarity_by_use_mean_std_by_question'),\n",
       " (0.7884545221397208,\n",
       "  'original_bert_answers_similarity_by_use_mean_square_mean_by_question'),\n",
       " (0.8159142432668787,\n",
       "  'original_bert_answers_similarity_by_use_max_square_mean_by_question'),\n",
       " (0.8216866661861651, 'stems_amount_in_answer_ru'),\n",
       " (0.9480484892521848,\n",
       "  'original_bert_answers_similarity_by_use_max_mean_by_question'),\n",
       " (1.0349102714863934,\n",
       "  'original_bert_answers_similarity_by_use_max_std_by_question'),\n",
       " (1.0987527050017871,\n",
       "  'original_bert_answers_similarity_by_use_mean_mean_by_question'),\n",
       " (1.2877338625993406,\n",
       "  'original_bert_answers_similarity_by_use_mean_median_by_question'),\n",
       " (1.3918298219694478, 'original_bert_answers_similarity_by_use_median'),\n",
       " (1.5057769539061936,\n",
       "  'original_bert_answers_similarity_by_use_max_median_by_question'),\n",
       " (1.6651410354160863,\n",
       "  'same_words_context_answer_ru_harmonic_mean_by_question'),\n",
       " (2.0237873633183137, 'words_amount_in_answer_en'),\n",
       " (2.0989404017990108, 'same_words_context_answer_ru_median_by_question'),\n",
       " (3.08145965888989, 'words_amount_in_answer_ru'),\n",
       " (5.277485626166444, 'same_words_context_answer_en'),\n",
       " (7.244260869762337, 'original_t5_answers_similarity_by_use'),\n",
       " (13.304993083509592, 'original_bert_answers_similarity_by_use_mean'),\n",
       " (14.141668728184484, 'same_words_context_answer_ru'),\n",
       " (23.125477694191222, 'original_bert_answers_similarity_by_use_max')]"
      ]
     },
     "execution_count": 200,
     "metadata": {},
     "output_type": "execute_result"
    }
   ],
   "source": [
    "sorted(list(zip(catboost_classifier.get_feature_importance(), X_train.columns)))[-100:]"
   ]
  },
  {
   "cell_type": "code",
   "execution_count": 219,
   "metadata": {},
   "outputs": [
    {
     "name": "stdout",
     "output_type": "stream",
     "text": [
      "call me toagng.jsonl\n"
     ]
    }
   ],
   "source": [
    "save_predictions(catboost_classifier.predict(validation), filename=\"toagng\")"
   ]
  },
  {
   "cell_type": "code",
   "execution_count": 213,
   "metadata": {},
   "outputs": [],
   "source": [
    "def process_probabilities(data):\n",
    "    temp = data\n",
    "    temp = pd.concat([temp.reset_index(), pd.DataFrame(list(map(lambda x: x[1], catboost_classifier.predict_proba(temp))), columns=['predicted_probability'])], axis=1)\n",
    "    temp = pd.merge(temp, train[['question_idx', 'answer_idx']], on='answer_idx')\n",
    "    temp = temp.drop(columns=['answer_idx']).groupby('question_idx').agg(['mean', 'std', 'median', 'max', 'min', 'sum', square_mean, geometric_mean, harmonic_mean])\n",
    "    temp.columns = ['_'.join(col).strip() for col in temp.columns.values]\n",
    "    temp = pd.merge(temp, train[['question_idx']], on='question_idx', how='inner').drop_duplicates('question_idx')\n",
    "    temp = pd.merge(temp, train[['label', 'question_idx']].groupby('question_idx').sum(), on='question_idx', how='inner')\n",
    "    temp = temp.set_index('question_idx')\n",
    "    temp = temp.fillna(0)\n",
    "    return temp"
   ]
  },
  {
   "cell_type": "code",
   "execution_count": 202,
   "metadata": {
    "scrolled": true
   },
   "outputs": [
    {
     "data": {
      "application/vnd.jupyter.widget-view+json": {
       "model_id": "e53cecbb18d246a1aaf46f08822cc460",
       "version_major": 2,
       "version_minor": 0
      },
      "text/plain": [
       "HBox(children=(FloatProgress(value=0.0, max=2.0), HTML(value='')))"
      ]
     },
     "metadata": {},
     "output_type": "display_data"
    },
    {
     "name": "stderr",
     "output_type": "stream",
     "text": [
      "/opt/conda/lib/python3.8/site-packages/pandas/core/dtypes/cast.py:252: ComplexWarning: Casting complex values to real discards the imaginary part\n",
      "  return result.astype(dtype)\n"
     ]
    },
    {
     "name": "stdout",
     "output_type": "stream",
     "text": [
      "\n"
     ]
    }
   ],
   "source": [
    "X_tune_train, X_tune_test = [process_probabilities(data) for data in tqdm([X_train, X_test])]"
   ]
  },
  {
   "cell_type": "code",
   "execution_count": 203,
   "metadata": {},
   "outputs": [],
   "source": [
    "y_tune_train, y_tune_test = X_tune_train['label'], X_tune_test['label']"
   ]
  },
  {
   "cell_type": "code",
   "execution_count": 204,
   "metadata": {},
   "outputs": [],
   "source": [
    "X_tune_train, X_tune_test = X_tune_train.drop(columns=['label']), X_tune_test.drop(columns=['label'])"
   ]
  },
  {
   "cell_type": "code",
   "execution_count": 205,
   "metadata": {},
   "outputs": [],
   "source": [
    "tuner = CatBoostClassifier(depth=4, iterations=100, learning_rate=0.1, eval_metric='Accuracy')"
   ]
  },
  {
   "cell_type": "code",
   "execution_count": 206,
   "metadata": {},
   "outputs": [
    {
     "name": "stderr",
     "output_type": "stream",
     "text": [
      "/opt/conda/lib/python3.8/site-packages/catboost/core.py:966: ComplexWarning: Casting complex values to real discards the imaginary part\n",
      "  self._init_pool(data, label, cat_features, text_features, embedding_features, pairs, weight, group_id, group_weight, subgroup_id, pairs_weight, baseline, feature_names, thread_count)\n"
     ]
    },
    {
     "name": "stdout",
     "output_type": "stream",
     "text": [
      "0:\tlearn: 0.9484386\ttest: 0.9241071\tbest: 0.9241071 (0)\ttotal: 116ms\tremaining: 11.5s\n",
      "1:\tlearn: 0.9480755\ttest: 0.9255952\tbest: 0.9255952 (1)\ttotal: 218ms\tremaining: 10.7s\n",
      "2:\tlearn: 0.9480755\ttest: 0.9255952\tbest: 0.9255952 (1)\ttotal: 321ms\tremaining: 10.4s\n",
      "3:\tlearn: 0.9480755\ttest: 0.9255952\tbest: 0.9255952 (1)\ttotal: 421ms\tremaining: 10.1s\n",
      "4:\tlearn: 0.9480755\ttest: 0.9255952\tbest: 0.9255952 (1)\ttotal: 526ms\tremaining: 9.99s\n",
      "5:\tlearn: 0.9480755\ttest: 0.9255952\tbest: 0.9255952 (1)\ttotal: 633ms\tremaining: 9.92s\n",
      "6:\tlearn: 0.9480755\ttest: 0.9255952\tbest: 0.9255952 (1)\ttotal: 739ms\tremaining: 9.81s\n",
      "7:\tlearn: 0.9480755\ttest: 0.9255952\tbest: 0.9255952 (1)\ttotal: 846ms\tremaining: 9.72s\n",
      "8:\tlearn: 0.9480755\ttest: 0.9255952\tbest: 0.9255952 (1)\ttotal: 950ms\tremaining: 9.61s\n",
      "9:\tlearn: 0.9480755\ttest: 0.9255952\tbest: 0.9255952 (1)\ttotal: 1.05s\tremaining: 9.5s\n",
      "10:\tlearn: 0.9484386\ttest: 0.9255952\tbest: 0.9255952 (1)\ttotal: 1.16s\tremaining: 9.39s\n",
      "11:\tlearn: 0.9484386\ttest: 0.9255952\tbest: 0.9255952 (1)\ttotal: 1.27s\tremaining: 9.29s\n",
      "12:\tlearn: 0.9484386\ttest: 0.9255952\tbest: 0.9255952 (1)\ttotal: 1.37s\tremaining: 9.15s\n",
      "13:\tlearn: 0.9484386\ttest: 0.9255952\tbest: 0.9255952 (1)\ttotal: 1.47s\tremaining: 9.05s\n",
      "14:\tlearn: 0.9484386\ttest: 0.9255952\tbest: 0.9255952 (1)\ttotal: 1.58s\tremaining: 8.94s\n",
      "15:\tlearn: 0.9484386\ttest: 0.9255952\tbest: 0.9255952 (1)\ttotal: 1.68s\tremaining: 8.82s\n",
      "16:\tlearn: 0.9484386\ttest: 0.9255952\tbest: 0.9255952 (1)\ttotal: 1.78s\tremaining: 8.71s\n",
      "17:\tlearn: 0.9484386\ttest: 0.9255952\tbest: 0.9255952 (1)\ttotal: 1.89s\tremaining: 8.61s\n",
      "18:\tlearn: 0.9484386\ttest: 0.9255952\tbest: 0.9255952 (1)\ttotal: 2s\tremaining: 8.51s\n",
      "19:\tlearn: 0.9484386\ttest: 0.9241071\tbest: 0.9255952 (1)\ttotal: 2.1s\tremaining: 8.4s\n",
      "20:\tlearn: 0.9488017\ttest: 0.9241071\tbest: 0.9255952 (1)\ttotal: 2.2s\tremaining: 8.29s\n",
      "21:\tlearn: 0.9502542\ttest: 0.9241071\tbest: 0.9255952 (1)\ttotal: 2.31s\tremaining: 8.18s\n",
      "22:\tlearn: 0.9527959\ttest: 0.9241071\tbest: 0.9255952 (1)\ttotal: 2.41s\tremaining: 8.07s\n",
      "23:\tlearn: 0.9538853\ttest: 0.9300595\tbest: 0.9300595 (23)\ttotal: 2.51s\tremaining: 7.95s\n",
      "24:\tlearn: 0.9553377\ttest: 0.9300595\tbest: 0.9300595 (23)\ttotal: 2.61s\tremaining: 7.83s\n",
      "25:\tlearn: 0.9546115\ttest: 0.9300595\tbest: 0.9300595 (23)\ttotal: 2.71s\tremaining: 7.72s\n",
      "26:\tlearn: 0.9546115\ttest: 0.9315476\tbest: 0.9315476 (26)\ttotal: 2.81s\tremaining: 7.61s\n",
      "27:\tlearn: 0.9557008\ttest: 0.9300595\tbest: 0.9315476 (26)\ttotal: 2.92s\tremaining: 7.5s\n",
      "28:\tlearn: 0.9564270\ttest: 0.9315476\tbest: 0.9315476 (26)\ttotal: 3.02s\tremaining: 7.39s\n",
      "29:\tlearn: 0.9571532\ttest: 0.9300595\tbest: 0.9315476 (26)\ttotal: 3.12s\tremaining: 7.29s\n",
      "30:\tlearn: 0.9567901\ttest: 0.9300595\tbest: 0.9315476 (26)\ttotal: 3.22s\tremaining: 7.17s\n",
      "31:\tlearn: 0.9578794\ttest: 0.9315476\tbest: 0.9315476 (26)\ttotal: 3.33s\tremaining: 7.07s\n",
      "32:\tlearn: 0.9589688\ttest: 0.9330357\tbest: 0.9330357 (32)\ttotal: 3.43s\tremaining: 6.96s\n",
      "33:\tlearn: 0.9596950\ttest: 0.9330357\tbest: 0.9330357 (32)\ttotal: 3.53s\tremaining: 6.85s\n",
      "34:\tlearn: 0.9596950\ttest: 0.9330357\tbest: 0.9330357 (32)\ttotal: 3.63s\tremaining: 6.74s\n",
      "35:\tlearn: 0.9604212\ttest: 0.9330357\tbest: 0.9330357 (32)\ttotal: 3.73s\tremaining: 6.64s\n",
      "36:\tlearn: 0.9604212\ttest: 0.9330357\tbest: 0.9330357 (32)\ttotal: 3.83s\tremaining: 6.53s\n",
      "37:\tlearn: 0.9607843\ttest: 0.9330357\tbest: 0.9330357 (32)\ttotal: 3.94s\tremaining: 6.42s\n",
      "38:\tlearn: 0.9607843\ttest: 0.9330357\tbest: 0.9330357 (32)\ttotal: 4.04s\tremaining: 6.32s\n",
      "39:\tlearn: 0.9607843\ttest: 0.9330357\tbest: 0.9330357 (32)\ttotal: 4.14s\tremaining: 6.21s\n",
      "40:\tlearn: 0.9611474\ttest: 0.9330357\tbest: 0.9330357 (32)\ttotal: 4.24s\tremaining: 6.11s\n",
      "41:\tlearn: 0.9611474\ttest: 0.9330357\tbest: 0.9330357 (32)\ttotal: 4.34s\tremaining: 6s\n",
      "42:\tlearn: 0.9611474\ttest: 0.9330357\tbest: 0.9330357 (32)\ttotal: 4.44s\tremaining: 5.89s\n",
      "43:\tlearn: 0.9615105\ttest: 0.9330357\tbest: 0.9330357 (32)\ttotal: 4.55s\tremaining: 5.79s\n",
      "44:\tlearn: 0.9611474\ttest: 0.9330357\tbest: 0.9330357 (32)\ttotal: 4.65s\tremaining: 5.69s\n",
      "45:\tlearn: 0.9611474\ttest: 0.9330357\tbest: 0.9330357 (32)\ttotal: 4.75s\tremaining: 5.58s\n",
      "46:\tlearn: 0.9611474\ttest: 0.9330357\tbest: 0.9330357 (32)\ttotal: 4.85s\tremaining: 5.47s\n",
      "47:\tlearn: 0.9611474\ttest: 0.9345238\tbest: 0.9345238 (47)\ttotal: 4.95s\tremaining: 5.36s\n",
      "48:\tlearn: 0.9611474\ttest: 0.9345238\tbest: 0.9345238 (47)\ttotal: 5.05s\tremaining: 5.26s\n",
      "49:\tlearn: 0.9611474\ttest: 0.9345238\tbest: 0.9345238 (47)\ttotal: 5.15s\tremaining: 5.15s\n",
      "50:\tlearn: 0.9615105\ttest: 0.9345238\tbest: 0.9345238 (47)\ttotal: 5.25s\tremaining: 5.05s\n",
      "51:\tlearn: 0.9618736\ttest: 0.9345238\tbest: 0.9345238 (47)\ttotal: 5.36s\tremaining: 4.95s\n",
      "52:\tlearn: 0.9618736\ttest: 0.9345238\tbest: 0.9345238 (47)\ttotal: 5.46s\tremaining: 4.84s\n",
      "53:\tlearn: 0.9618736\ttest: 0.9345238\tbest: 0.9345238 (47)\ttotal: 5.56s\tremaining: 4.74s\n",
      "54:\tlearn: 0.9618736\ttest: 0.9345238\tbest: 0.9345238 (47)\ttotal: 5.67s\tremaining: 4.63s\n",
      "55:\tlearn: 0.9622367\ttest: 0.9345238\tbest: 0.9345238 (47)\ttotal: 5.78s\tremaining: 4.54s\n",
      "56:\tlearn: 0.9629630\ttest: 0.9345238\tbest: 0.9345238 (47)\ttotal: 5.88s\tremaining: 4.43s\n",
      "57:\tlearn: 0.9629630\ttest: 0.9345238\tbest: 0.9345238 (47)\ttotal: 5.98s\tremaining: 4.33s\n",
      "58:\tlearn: 0.9633261\ttest: 0.9345238\tbest: 0.9345238 (47)\ttotal: 6.09s\tremaining: 4.23s\n",
      "59:\tlearn: 0.9636892\ttest: 0.9345238\tbest: 0.9345238 (47)\ttotal: 6.2s\tremaining: 4.13s\n",
      "60:\tlearn: 0.9625999\ttest: 0.9345238\tbest: 0.9345238 (47)\ttotal: 6.3s\tremaining: 4.03s\n",
      "61:\tlearn: 0.9629630\ttest: 0.9345238\tbest: 0.9345238 (47)\ttotal: 6.4s\tremaining: 3.92s\n",
      "62:\tlearn: 0.9640523\ttest: 0.9345238\tbest: 0.9345238 (47)\ttotal: 6.5s\tremaining: 3.82s\n",
      "63:\tlearn: 0.9636892\ttest: 0.9345238\tbest: 0.9345238 (47)\ttotal: 6.61s\tremaining: 3.71s\n",
      "64:\tlearn: 0.9640523\ttest: 0.9345238\tbest: 0.9345238 (47)\ttotal: 6.71s\tremaining: 3.61s\n",
      "65:\tlearn: 0.9644154\ttest: 0.9345238\tbest: 0.9345238 (47)\ttotal: 6.81s\tremaining: 3.51s\n",
      "66:\tlearn: 0.9644154\ttest: 0.9345238\tbest: 0.9345238 (47)\ttotal: 6.91s\tremaining: 3.4s\n",
      "67:\tlearn: 0.9644154\ttest: 0.9345238\tbest: 0.9345238 (47)\ttotal: 7.01s\tremaining: 3.3s\n",
      "68:\tlearn: 0.9640523\ttest: 0.9345238\tbest: 0.9345238 (47)\ttotal: 7.11s\tremaining: 3.2s\n",
      "69:\tlearn: 0.9640523\ttest: 0.9345238\tbest: 0.9345238 (47)\ttotal: 7.22s\tremaining: 3.09s\n",
      "70:\tlearn: 0.9640523\ttest: 0.9345238\tbest: 0.9345238 (47)\ttotal: 7.32s\tremaining: 2.99s\n",
      "71:\tlearn: 0.9640523\ttest: 0.9345238\tbest: 0.9345238 (47)\ttotal: 7.42s\tremaining: 2.88s\n",
      "72:\tlearn: 0.9640523\ttest: 0.9345238\tbest: 0.9345238 (47)\ttotal: 7.52s\tremaining: 2.78s\n",
      "73:\tlearn: 0.9640523\ttest: 0.9345238\tbest: 0.9345238 (47)\ttotal: 7.63s\tremaining: 2.68s\n",
      "74:\tlearn: 0.9640523\ttest: 0.9345238\tbest: 0.9345238 (47)\ttotal: 7.73s\tremaining: 2.58s\n",
      "75:\tlearn: 0.9640523\ttest: 0.9345238\tbest: 0.9345238 (47)\ttotal: 7.83s\tremaining: 2.47s\n",
      "76:\tlearn: 0.9640523\ttest: 0.9345238\tbest: 0.9345238 (47)\ttotal: 7.93s\tremaining: 2.37s\n",
      "77:\tlearn: 0.9640523\ttest: 0.9345238\tbest: 0.9345238 (47)\ttotal: 8.03s\tremaining: 2.26s\n",
      "78:\tlearn: 0.9640523\ttest: 0.9345238\tbest: 0.9345238 (47)\ttotal: 8.13s\tremaining: 2.16s\n",
      "79:\tlearn: 0.9640523\ttest: 0.9345238\tbest: 0.9345238 (47)\ttotal: 8.23s\tremaining: 2.06s\n",
      "80:\tlearn: 0.9644154\ttest: 0.9345238\tbest: 0.9345238 (47)\ttotal: 8.33s\tremaining: 1.95s\n",
      "81:\tlearn: 0.9644154\ttest: 0.9345238\tbest: 0.9345238 (47)\ttotal: 8.43s\tremaining: 1.85s\n",
      "82:\tlearn: 0.9644154\ttest: 0.9345238\tbest: 0.9345238 (47)\ttotal: 8.54s\tremaining: 1.75s\n",
      "83:\tlearn: 0.9640523\ttest: 0.9345238\tbest: 0.9345238 (47)\ttotal: 8.64s\tremaining: 1.65s\n",
      "84:\tlearn: 0.9644154\ttest: 0.9345238\tbest: 0.9345238 (47)\ttotal: 8.74s\tremaining: 1.54s\n",
      "85:\tlearn: 0.9640523\ttest: 0.9345238\tbest: 0.9345238 (47)\ttotal: 8.84s\tremaining: 1.44s\n",
      "86:\tlearn: 0.9644154\ttest: 0.9345238\tbest: 0.9345238 (47)\ttotal: 8.95s\tremaining: 1.34s\n",
      "87:\tlearn: 0.9640523\ttest: 0.9345238\tbest: 0.9345238 (47)\ttotal: 9.04s\tremaining: 1.23s\n",
      "88:\tlearn: 0.9640523\ttest: 0.9345238\tbest: 0.9345238 (47)\ttotal: 9.15s\tremaining: 1.13s\n",
      "89:\tlearn: 0.9640523\ttest: 0.9345238\tbest: 0.9345238 (47)\ttotal: 9.25s\tremaining: 1.03s\n",
      "90:\tlearn: 0.9644154\ttest: 0.9345238\tbest: 0.9345238 (47)\ttotal: 9.35s\tremaining: 925ms\n",
      "91:\tlearn: 0.9644154\ttest: 0.9345238\tbest: 0.9345238 (47)\ttotal: 9.45s\tremaining: 822ms\n",
      "92:\tlearn: 0.9644154\ttest: 0.9345238\tbest: 0.9345238 (47)\ttotal: 9.55s\tremaining: 719ms\n",
      "93:\tlearn: 0.9644154\ttest: 0.9345238\tbest: 0.9345238 (47)\ttotal: 9.65s\tremaining: 616ms\n",
      "94:\tlearn: 0.9644154\ttest: 0.9345238\tbest: 0.9345238 (47)\ttotal: 9.76s\tremaining: 513ms\n",
      "95:\tlearn: 0.9644154\ttest: 0.9345238\tbest: 0.9345238 (47)\ttotal: 9.86s\tremaining: 411ms\n",
      "96:\tlearn: 0.9644154\ttest: 0.9345238\tbest: 0.9345238 (47)\ttotal: 9.96s\tremaining: 308ms\n",
      "97:\tlearn: 0.9644154\ttest: 0.9345238\tbest: 0.9345238 (47)\ttotal: 10.1s\tremaining: 205ms\n",
      "98:\tlearn: 0.9644154\ttest: 0.9345238\tbest: 0.9345238 (47)\ttotal: 10.2s\tremaining: 103ms\n",
      "99:\tlearn: 0.9644154\ttest: 0.9345238\tbest: 0.9345238 (47)\ttotal: 10.3s\tremaining: 0us\n",
      "\n",
      "bestTest = 0.9345238095\n",
      "bestIteration = 47\n",
      "\n",
      "Shrink model to first 48 iterations.\n"
     ]
    },
    {
     "data": {
      "text/plain": [
       "<catboost.core.CatBoostClassifier at 0x7fd7b2cdaa30>"
      ]
     },
     "execution_count": 206,
     "metadata": {},
     "output_type": "execute_result"
    }
   ],
   "source": [
    "tuner.fit(X_tune_train,\n",
    "          y_tune_train,\n",
    "          verbose=True, \n",
    "          eval_set=(X_tune_test, y_tune_test))"
   ]
  },
  {
   "cell_type": "code",
   "execution_count": 207,
   "metadata": {
    "scrolled": true
   },
   "outputs": [
    {
     "data": {
      "text/plain": [
       "[(0.0886205517602137,\n",
       "  'stems_same_stems_ratio_answer_ru_geometric_mean_by_question_sum'),\n",
       " (0.08941392472181785,\n",
       "  'original_bert_answers_similarity_by_use_max_geometric_mean_by_question_mean'),\n",
       " (0.09026025042117139,\n",
       "  'original_bert_answers_similarity_by_use_top_4_max_by_question_min'),\n",
       " (0.09057062559889054, 'original_bert_answers_similarity_by_use_std_std'),\n",
       " (0.09286921628092908,\n",
       "  'same_words_context_quesiton_ru_max_by_question_geometric_mean'),\n",
       " (0.09612925336918768,\n",
       "  'original_bert_answers_similarity_by_use_top_4_mean_by_question_max'),\n",
       " (0.10149841767916565, 'same_words_context_answer_ru_mean_by_question_max'),\n",
       " (0.10188547833834502, 'same_words_context_answer_ru_sum_by_question_median'),\n",
       " (0.10496521114905158, 'same_words_context_quesiton_ru_max_by_question_sum'),\n",
       " (0.10983384725830139, 'words_amount_in_context_en_max'),\n",
       " (0.1119973038709989,\n",
       "  'original_bert_answers_similarity_by_use_std_median_by_question_sum'),\n",
       " (0.1126464175241103, 'words_amount_in_context_en_min'),\n",
       " (0.11433704180979683,\n",
       "  'original_bert_answers_similarity_by_use_top_0_min_by_question_harmonic_mean'),\n",
       " (0.11804336593897101, 'answers_amount_geometric_mean'),\n",
       " (0.11920965506005055,\n",
       "  'same_words_context_answer_en_mean_by_question_harmonic_mean'),\n",
       " (0.12148315381246412,\n",
       "  'original_bert_answers_similarity_by_use_top_0_min_by_question_min'),\n",
       " (0.12797016133468872,\n",
       "  'original_bert_answers_similarity_by_use_top_1_geometric_mean_by_question_median'),\n",
       " (0.12825846182971465, 'stems_same_stems_ratio_answer_ru_max_by_question_sum'),\n",
       " (0.13231272544324102, 'stems_same_stems_ratio_answer_ru_sum_by_question_min'),\n",
       " (0.13462664029579216,\n",
       "  'original_bert_answers_similarity_by_use_top_0_square_mean_by_question_median'),\n",
       " (0.13506105681807878,\n",
       "  'original_bert_answers_similarity_by_use_top_3_harmonic_mean_by_question_max'),\n",
       " (0.1409690598825928,\n",
       "  'same_words_context_quesiton_en_harmonic_mean_by_question_sum'),\n",
       " (0.15065700550929048,\n",
       "  'original_bert_answers_similarity_by_use_top_3_min_by_question_mean'),\n",
       " (0.15199711181624884,\n",
       "  'original_bert_answers_similarity_by_use_top_8_mean_by_question_mean'),\n",
       " (0.1565318417935152,\n",
       "  'stems_same_stems_ratio_answer_ru_sum_by_question_geometric_mean'),\n",
       " (0.16016723498001878, 'same_words_context_answer_ru_min_by_question_min'),\n",
       " (0.1619093417619645, 'words_amount_in_question_en_harmonic_mean'),\n",
       " (0.1620664142419096,\n",
       "  'original_bert_answers_similarity_by_use_std_geometric_mean_by_question_harmonic_mean'),\n",
       " (0.1624928830206368, 'words_amount_in_answer_en_sum_by_question_mean'),\n",
       " (0.16682637623976235,\n",
       "  'original_bert_answers_similarity_by_use_top_7_geometric_mean_by_question_sum'),\n",
       " (0.1706965447301422, 'same_words_context_answer_en_max_by_question_min'),\n",
       " (0.17108774174181587, 'same_words_context_quesiton_ru_geometric_mean'),\n",
       " (0.1725750617197034,\n",
       "  'same_words_context_answer_ru_geometric_mean_by_question_square_mean'),\n",
       " (0.17414783432976969, 'stems_same_stems_ratio_answer_en_sum_by_question_sum'),\n",
       " (0.1743966024616785, 'words_amount_in_answer_en_median_by_question_max'),\n",
       " (0.17730185523770084, 'original_bert_answers_similarity_by_use_top_0_min'),\n",
       " (0.1813198110642426, 'words_amount_in_answer_en_mean_by_question_mean'),\n",
       " (0.18652335065600845,\n",
       "  'words_amount_in_answer_en_harmonic_mean_by_question_mean'),\n",
       " (0.18770105415371005, 'stems_same_stems_ratio_answer_en_sum_by_question_max'),\n",
       " (0.1882689352339045,\n",
       "  'words_amount_in_answer_en_geometric_mean_by_question_harmonic_mean'),\n",
       " (0.18896543071738664,\n",
       "  'original_bert_answers_similarity_by_use_top_9_square_mean_by_question_harmonic_mean'),\n",
       " (0.18962945410525142,\n",
       "  'original_bert_answers_similarity_by_use_top_1_mean_by_question_min'),\n",
       " (0.19476734643921131,\n",
       "  'words_amount_in_answer_en_square_mean_by_question_min'),\n",
       " (0.1958147777288009,\n",
       "  'same_words_context_quesiton_ru_mean_by_question_median'),\n",
       " (0.20527580670873732,\n",
       "  'words_amount_in_answer_en_std_by_question_square_mean'),\n",
       " (0.2062838351158279,\n",
       "  'words_amount_in_answer_ru_geometric_mean_by_question_mean'),\n",
       " (0.2105821666654153,\n",
       "  'words_amount_in_answer_ru_std_by_question_harmonic_mean'),\n",
       " (0.21324229871046504,\n",
       "  'original_bert_answers_similarity_by_use_top_1_harmonic_mean_by_question_sum'),\n",
       " (0.2132468711089482, 'quesitons_amount_sum'),\n",
       " (0.21324697939494142,\n",
       "  'words_amount_in_answer_ru_geometric_mean_by_question_sum'),\n",
       " (0.21595178836593995, 'stems_amount_in_context_en_median'),\n",
       " (0.2161691338427222,\n",
       "  'original_bert_answers_similarity_by_use_max_geometric_mean_by_question_median'),\n",
       " (0.22071684366638733, 'original_t5_answers_similarity_by_use_sum'),\n",
       " (0.22757713647955807,\n",
       "  'words_amount_in_answer_ru_geometric_mean_by_question_max'),\n",
       " (0.22870858355248738,\n",
       "  'original_bert_answers_similarity_by_use_max_sum_by_question_min'),\n",
       " (0.23395349738821822,\n",
       "  'same_words_context_answer_ru_harmonic_mean_by_question_mean'),\n",
       " (0.23464630621949206, 'same_words_answer_question_ru_std'),\n",
       " (0.23962366163895968, 'same_words_context_answer_en_mean_by_question_median'),\n",
       " (0.24057074115402707, 'stems_same_stems_ratio_answer_en_sum_by_question_min'),\n",
       " (0.24138718803540815, 'words_amount_in_answer_en_min'),\n",
       " (0.24253899286957392, 'same_words_context_answer_en_std_by_question_sum'),\n",
       " (0.25084249852121077, 'words_amount_in_answer_en_sum_by_question_sum'),\n",
       " (0.26536972096791733,\n",
       "  'original_bert_answers_similarity_by_use_top_7_max_by_question_sum'),\n",
       " (0.26576232551865353,\n",
       "  'original_bert_answers_similarity_by_use_std_sum_by_question_mean'),\n",
       " (0.26751017500475255,\n",
       "  'same_words_context_answer_en_harmonic_mean_by_question_min'),\n",
       " (0.2708824374339155,\n",
       "  'original_bert_answers_similarity_by_use_std_mean_by_question_sum'),\n",
       " (0.2752271422371709,\n",
       "  'original_bert_answers_similarity_by_use_std_mean_by_question_square_mean'),\n",
       " (0.28813406950968595, 'stems_same_stems_ratio_answer_ru_sum_by_question_sum'),\n",
       " (0.29499640115786424,\n",
       "  'original_bert_answers_similarity_by_use_top_1_median_by_question_mean'),\n",
       " (0.2953516911130525,\n",
       "  'original_bert_answers_similarity_by_use_top_3_mean_by_question_sum'),\n",
       " (0.32066657446284524, 'stems_same_stems_ratio_answer_en_max_by_question_sum'),\n",
       " (0.32410650798419377, 'words_amount_in_answer_ru_median_by_question_sum'),\n",
       " (0.3618071332909656, 'words_amount_in_answer_en_std_by_question_sum'),\n",
       " (0.36442260453352554,\n",
       "  'original_bert_answers_similarity_by_use_top_8_min_by_question_mean'),\n",
       " (0.36704843894421435, 'words_amount_in_answer_en_std_by_question_mean'),\n",
       " (0.3751835826770417,\n",
       "  'words_amount_in_answer_ru_std_by_question_geometric_mean'),\n",
       " (0.3787229928071123, 'same_words_context_quesiton_en_square_mean'),\n",
       " (0.382754725918824, 'words_amount_in_context_en_sum'),\n",
       " (0.39432217691824334, 'same_words_context_answer_ru_sum_by_question_sum'),\n",
       " (0.5000280203985835,\n",
       "  'original_bert_answers_similarity_by_use_top_1_max_by_question_sum'),\n",
       " (0.5153342968836891,\n",
       "  'same_words_context_quesiton_en_square_mean_by_question_geometric_mean'),\n",
       " (0.5748679981857907,\n",
       "  'words_amount_in_answer_en_harmonic_mean_by_question_sum'),\n",
       " (0.5864558618621284,\n",
       "  'original_t5_answers_similarity_by_use_min_by_question_geometric_mean'),\n",
       " (0.6109493281004318, 'same_words_context_answer_ru_sum_by_question_max'),\n",
       " (0.6171734159991433, 'words_amount_in_answer_ru_std_by_question_sum'),\n",
       " (0.661562110676529, 'words_amount_in_context_ru_sum'),\n",
       " (0.8218222404355833, 'answers_amount_harmonic_mean'),\n",
       " (1.0598146679785623, 'answers_amount_max'),\n",
       " (1.2289709635008892, 'stems_same_stems_ratio_answer_en_mean_by_question_sum'),\n",
       " (1.2645217577340204,\n",
       "  'stems_same_stems_ratio_answer_ru_median_by_question_sum'),\n",
       " (1.3147471779798046, 'answers_amount_mean'),\n",
       " (2.6506951115575936,\n",
       "  'stems_same_stems_ratio_answer_ru_sum_by_question_median'),\n",
       " (2.6980624585803326, 'answers_amount_median'),\n",
       " (3.130171537087782, 'answers_amount_square_mean'),\n",
       " (4.860827832344284, 'stems_same_stems_ratio_answer_en_min_by_question_sum'),\n",
       " (4.871681357548508, 'stems_same_stems_ratio_answer_ru_min_by_question_sum'),\n",
       " (5.021819741825679, 'predicted_probability_sum'),\n",
       " (8.229866726721141, 'answers_amount_sum'),\n",
       " (11.458556006066255,\n",
       "  'stems_same_stems_ratio_answer_en_median_by_question_sum'),\n",
       " (29.07527794099847, 'stems_same_stems_ratio_answer_ru_mean_by_question_sum')]"
      ]
     },
     "execution_count": 207,
     "metadata": {},
     "output_type": "execute_result"
    }
   ],
   "source": [
    "sorted(list(zip(tuner.get_feature_importance(), X_tune_train.columns)))[-100:]"
   ]
  },
  {
   "cell_type": "code",
   "execution_count": 208,
   "metadata": {
    "scrolled": false
   },
   "outputs": [
    {
     "data": {
      "text/plain": [
       "0.9345238095238095"
      ]
     },
     "execution_count": 208,
     "metadata": {},
     "output_type": "execute_result"
    }
   ],
   "source": [
    "accuracy_score(tuner.predict(X_tune_test), y_tune_test)"
   ]
  },
  {
   "cell_type": "code",
   "execution_count": 209,
   "metadata": {},
   "outputs": [
    {
     "data": {
      "application/vnd.jupyter.widget-view+json": {
       "model_id": "ccea5c2da0fd400ba6e5af8680c01663",
       "version_major": 2,
       "version_minor": 0
      },
      "text/plain": [
       "HBox(children=(FloatProgress(value=0.0, max=2484.0), HTML(value='')))"
      ]
     },
     "metadata": {},
     "output_type": "display_data"
    },
    {
     "name": "stdout",
     "output_type": "stream",
     "text": [
      "\n"
     ]
    },
    {
     "name": "stderr",
     "output_type": "stream",
     "text": [
      "/opt/conda/lib/python3.8/site-packages/pandas/core/dtypes/cast.py:997: ComplexWarning: Casting complex values to real discards the imaginary part\n",
      "  return arr.astype(dtype, copy=True)\n"
     ]
    },
    {
     "data": {
      "application/vnd.jupyter.widget-view+json": {
       "model_id": "57994de504e145a496b72d90222cd3ff",
       "version_major": 2,
       "version_minor": 0
      },
      "text/plain": [
       "HBox(children=(FloatProgress(value=0.0, max=2484.0), HTML(value='')))"
      ]
     },
     "metadata": {},
     "output_type": "display_data"
    },
    {
     "name": "stdout",
     "output_type": "stream",
     "text": [
      "\n"
     ]
    }
   ],
   "source": [
    "for data in [X_tune_train, X_tune_test]:\n",
    "    for col in tqdm(data.columns):\n",
    "        data[col] = data[col].astype(np.float64)"
   ]
  },
  {
   "cell_type": "code",
   "execution_count": 210,
   "metadata": {
    "scrolled": true
   },
   "outputs": [
    {
     "name": "stderr",
     "output_type": "stream",
     "text": [
      "/opt/conda/lib/python3.8/site-packages/sklearn/linear_model/_logistic.py:763: ConvergenceWarning: lbfgs failed to converge (status=1):\n",
      "STOP: TOTAL NO. of ITERATIONS REACHED LIMIT.\n",
      "\n",
      "Increase the number of iterations (max_iter) or scale the data as shown in:\n",
      "    https://scikit-learn.org/stable/modules/preprocessing.html\n",
      "Please also refer to the documentation for alternative solver options:\n",
      "    https://scikit-learn.org/stable/modules/linear_model.html#logistic-regression\n",
      "  n_iter_i = _check_optimize_result(\n"
     ]
    }
   ],
   "source": [
    "from sklearn.linear_model import LogisticRegression\n",
    "regressor = LogisticRegression().fit(X_tune_train, y_tune_train)"
   ]
  },
  {
   "cell_type": "code",
   "execution_count": 211,
   "metadata": {},
   "outputs": [
    {
     "data": {
      "text/plain": [
       "0.9270833333333334"
      ]
     },
     "execution_count": 211,
     "metadata": {},
     "output_type": "execute_result"
    }
   ],
   "source": [
    "accuracy_score(regressor.predict(X_tune_test), y_tune_test)"
   ]
  },
  {
   "cell_type": "markdown",
   "metadata": {},
   "source": [
    "# LightBDSM"
   ]
  },
  {
   "cell_type": "code",
   "execution_count": 134,
   "metadata": {
    "collapsed": true
   },
   "outputs": [
    {
     "name": "stdout",
     "output_type": "stream",
     "text": [
      "Collecting lightgbm\n",
      "  Downloading lightgbm-3.1.1-py2.py3-none-manylinux1_x86_64.whl (1.8 MB)\n",
      "\u001b[K     |████████████████████████████████| 1.8 MB 781 kB/s eta 0:00:01\n",
      "\u001b[?25hRequirement already satisfied: numpy in /opt/conda/lib/python3.8/site-packages (from lightgbm) (1.18.0)\n",
      "Requirement already satisfied: scipy in /opt/conda/lib/python3.8/site-packages (from lightgbm) (1.4.1)\n",
      "Requirement already satisfied: scikit-learn!=0.22.0 in /opt/conda/lib/python3.8/site-packages (from lightgbm) (0.24.0)\n",
      "Requirement already satisfied: wheel in /opt/conda/lib/python3.8/site-packages (from lightgbm) (0.36.2)\n",
      "Requirement already satisfied: joblib>=0.11 in /opt/conda/lib/python3.8/site-packages (from scikit-learn!=0.22.0->lightgbm) (1.0.0)\n",
      "Requirement already satisfied: threadpoolctl>=2.0.0 in /opt/conda/lib/python3.8/site-packages (from scikit-learn!=0.22.0->lightgbm) (2.1.0)\n",
      "Installing collected packages: lightgbm\n",
      "Successfully installed lightgbm-3.1.1\n"
     ]
    }
   ],
   "source": [
    "!pip install lightgbm"
   ]
  },
  {
   "cell_type": "code",
   "execution_count": 95,
   "metadata": {},
   "outputs": [],
   "source": [
    "import lightgbm"
   ]
  },
  {
   "cell_type": "code",
   "execution_count": 96,
   "metadata": {},
   "outputs": [],
   "source": [
    "def lgb_f1_score(y_hat, data):\n",
    "    y_true = data.get_label()\n",
    "    y_hat = np.round(y_hat)\n",
    "    return 'f1', f1_score(y_true, y_hat), True"
   ]
  },
  {
   "cell_type": "code",
   "execution_count": 97,
   "metadata": {},
   "outputs": [],
   "source": [
    "train_data = lightgbm.Dataset(X_train, label=y_train)\n",
    "test_data = lightgbm.Dataset(X_test, label=y_test)"
   ]
  },
  {
   "cell_type": "code",
   "execution_count": 98,
   "metadata": {},
   "outputs": [],
   "source": [
    "parameters = {\n",
    "    'num_estimators' : 300,\n",
    "    'num_leaves': 100,\n",
    "    'max_depth': 25,\n",
    "    'num_rounds': 5000\n",
    "}"
   ]
  },
  {
   "cell_type": "code",
   "execution_count": 99,
   "metadata": {
    "scrolled": true
   },
   "outputs": [
    {
     "name": "stderr",
     "output_type": "stream",
     "text": [
      "/opt/conda/lib/python3.8/site-packages/lightgbm/engine.py:151: UserWarning: Found `num_rounds` in params. Will use it instead of argument\n",
      "  warnings.warn(\"Found `{}` in params. Will use it instead of argument\".format(alias))\n"
     ]
    },
    {
     "name": "stdout",
     "output_type": "stream",
     "text": [
      "[LightGBM] [Warning] Unknown parameter: num_estimators\n",
      "[LightGBM] [Warning] Unknown parameter: num_estimators\n",
      "[LightGBM] [Warning] Auto-choosing col-wise multi-threading, the overhead of testing was 0.032638 seconds.\n",
      "You can set `force_col_wise=true` to remove the overhead.\n",
      "[LightGBM] [Info] Total Bins 133004\n",
      "[LightGBM] [Info] Number of data points in the train set: 11362, number of used features: 602\n",
      "[LightGBM] [Warning] Unknown parameter: num_estimators\n",
      "[LightGBM] [Info] Start training from score 0.449569\n",
      "[1]\tvalid_0's f1: 0.467732\n",
      "[2]\tvalid_0's f1: 0.778863\n",
      "[3]\tvalid_0's f1: 0.802913\n",
      "[4]\tvalid_0's f1: 0.811631\n",
      "[5]\tvalid_0's f1: 0.819549\n",
      "[6]\tvalid_0's f1: 0.825924\n",
      "[7]\tvalid_0's f1: 0.830846\n",
      "[8]\tvalid_0's f1: 0.833471\n",
      "[9]\tvalid_0's f1: 0.835318\n",
      "[10]\tvalid_0's f1: 0.839264\n",
      "[11]\tvalid_0's f1: 0.842921\n",
      "[12]\tvalid_0's f1: 0.843305\n",
      "[13]\tvalid_0's f1: 0.845747\n",
      "[14]\tvalid_0's f1: 0.84703\n",
      "[15]\tvalid_0's f1: 0.844842\n",
      "[16]\tvalid_0's f1: 0.846964\n",
      "[17]\tvalid_0's f1: 0.847896\n",
      "[18]\tvalid_0's f1: 0.850668\n",
      "[19]\tvalid_0's f1: 0.850445\n",
      "[20]\tvalid_0's f1: 0.851717\n",
      "[21]\tvalid_0's f1: 0.852525\n",
      "[22]\tvalid_0's f1: 0.852061\n",
      "[23]\tvalid_0's f1: 0.852882\n",
      "[24]\tvalid_0's f1: 0.853226\n",
      "[25]\tvalid_0's f1: 0.853344\n",
      "[26]\tvalid_0's f1: 0.853\n",
      "[27]\tvalid_0's f1: 0.853107\n",
      "[28]\tvalid_0's f1: 0.854032\n",
      "[29]\tvalid_0's f1: 0.852989\n",
      "[30]\tvalid_0's f1: 0.853107\n",
      "[31]\tvalid_0's f1: 0.853914\n",
      "[32]\tvalid_0's f1: 0.856336\n",
      "[33]\tvalid_0's f1: 0.855067\n",
      "[34]\tvalid_0's f1: 0.856336\n",
      "[35]\tvalid_0's f1: 0.855645\n",
      "[36]\tvalid_0's f1: 0.855874\n",
      "[37]\tvalid_0's f1: 0.855874\n",
      "[38]\tvalid_0's f1: 0.857373\n",
      "[39]\tvalid_0's f1: 0.857373\n",
      "[40]\tvalid_0's f1: 0.858065\n",
      "[41]\tvalid_0's f1: 0.85795\n",
      "[42]\tvalid_0's f1: 0.858525\n",
      "[43]\tvalid_0's f1: 0.856681\n",
      "[44]\tvalid_0's f1: 0.856912\n",
      "[45]\tvalid_0's f1: 0.85772\n",
      "[46]\tvalid_0's f1: 0.858182\n",
      "[47]\tvalid_0's f1: 0.857835\n",
      "[48]\tvalid_0's f1: 0.857258\n",
      "[49]\tvalid_0's f1: 0.856912\n",
      "[50]\tvalid_0's f1: 0.857374\n",
      "[51]\tvalid_0's f1: 0.857489\n",
      "[52]\tvalid_0's f1: 0.85795\n",
      "[53]\tvalid_0's f1: 0.857604\n",
      "[54]\tvalid_0's f1: 0.857143\n",
      "[55]\tvalid_0's f1: 0.85795\n",
      "[56]\tvalid_0's f1: 0.858296\n",
      "[57]\tvalid_0's f1: 0.858182\n",
      "[58]\tvalid_0's f1: 0.858182\n",
      "[59]\tvalid_0's f1: 0.85795\n",
      "[60]\tvalid_0's f1: 0.858525\n",
      "[61]\tvalid_0's f1: 0.858411\n",
      "[62]\tvalid_0's f1: 0.858411\n",
      "[63]\tvalid_0's f1: 0.85795\n",
      "[64]\tvalid_0's f1: 0.858065\n",
      "[65]\tvalid_0's f1: 0.857833\n",
      "[66]\tvalid_0's f1: 0.858179\n",
      "[67]\tvalid_0's f1: 0.858179\n",
      "[68]\tvalid_0's f1: 0.857373\n",
      "[69]\tvalid_0's f1: 0.856683\n",
      "[70]\tvalid_0's f1: 0.857028\n",
      "[71]\tvalid_0's f1: 0.857948\n",
      "[72]\tvalid_0's f1: 0.857719\n",
      "[73]\tvalid_0's f1: 0.857373\n",
      "[74]\tvalid_0's f1: 0.858179\n",
      "[75]\tvalid_0's f1: 0.857719\n",
      "[76]\tvalid_0's f1: 0.857258\n",
      "[77]\tvalid_0's f1: 0.858525\n",
      "[78]\tvalid_0's f1: 0.858065\n",
      "[79]\tvalid_0's f1: 0.857143\n",
      "[80]\tvalid_0's f1: 0.858293\n",
      "[81]\tvalid_0's f1: 0.858639\n",
      "[82]\tvalid_0's f1: 0.858179\n",
      "[83]\tvalid_0's f1: 0.856913\n",
      "[84]\tvalid_0's f1: 0.857604\n",
      "[85]\tvalid_0's f1: 0.857258\n",
      "[86]\tvalid_0's f1: 0.857258\n",
      "[87]\tvalid_0's f1: 0.857258\n",
      "[88]\tvalid_0's f1: 0.857604\n",
      "[89]\tvalid_0's f1: 0.858065\n",
      "[90]\tvalid_0's f1: 0.858639\n",
      "[91]\tvalid_0's f1: 0.857948\n",
      "[92]\tvalid_0's f1: 0.858293\n",
      "[93]\tvalid_0's f1: 0.858753\n",
      "[94]\tvalid_0's f1: 0.858985\n",
      "[95]\tvalid_0's f1: 0.858293\n",
      "[96]\tvalid_0's f1: 0.858525\n",
      "[97]\tvalid_0's f1: 0.857488\n",
      "[98]\tvalid_0's f1: 0.856683\n",
      "[99]\tvalid_0's f1: 0.858179\n",
      "[100]\tvalid_0's f1: 0.857948\n",
      "[101]\tvalid_0's f1: 0.857948\n",
      "[102]\tvalid_0's f1: 0.856913\n",
      "[103]\tvalid_0's f1: 0.857258\n",
      "[104]\tvalid_0's f1: 0.856797\n",
      "[105]\tvalid_0's f1: 0.856797\n",
      "[106]\tvalid_0's f1: 0.856797\n",
      "[107]\tvalid_0's f1: 0.85599\n",
      "[108]\tvalid_0's f1: 0.856452\n",
      "[109]\tvalid_0's f1: 0.856567\n",
      "[110]\tvalid_0's f1: 0.856797\n",
      "[111]\tvalid_0's f1: 0.856797\n",
      "[112]\tvalid_0's f1: 0.857719\n",
      "[113]\tvalid_0's f1: 0.857488\n",
      "[114]\tvalid_0's f1: 0.857028\n",
      "[115]\tvalid_0's f1: 0.857719\n",
      "[116]\tvalid_0's f1: 0.857373\n",
      "[117]\tvalid_0's f1: 0.857719\n",
      "[118]\tvalid_0's f1: 0.857719\n",
      "[119]\tvalid_0's f1: 0.857719\n",
      "[120]\tvalid_0's f1: 0.858871\n",
      "[121]\tvalid_0's f1: 0.858525\n",
      "[122]\tvalid_0's f1: 0.859331\n",
      "[123]\tvalid_0's f1: 0.859444\n",
      "[124]\tvalid_0's f1: 0.859444\n",
      "[125]\tvalid_0's f1: 0.858985\n",
      "[126]\tvalid_0's f1: 0.858179\n",
      "[127]\tvalid_0's f1: 0.857373\n",
      "[128]\tvalid_0's f1: 0.858065\n",
      "[129]\tvalid_0's f1: 0.858871\n",
      "[130]\tvalid_0's f1: 0.858871\n",
      "[131]\tvalid_0's f1: 0.858065\n",
      "[132]\tvalid_0's f1: 0.857719\n",
      "[133]\tvalid_0's f1: 0.857258\n",
      "[134]\tvalid_0's f1: 0.857258\n",
      "[135]\tvalid_0's f1: 0.857258\n",
      "[136]\tvalid_0's f1: 0.857719\n",
      "[137]\tvalid_0's f1: 0.857373\n",
      "[138]\tvalid_0's f1: 0.856567\n",
      "[139]\tvalid_0's f1: 0.857028\n",
      "[140]\tvalid_0's f1: 0.857028\n",
      "[141]\tvalid_0's f1: 0.857488\n",
      "[142]\tvalid_0's f1: 0.857143\n",
      "[143]\tvalid_0's f1: 0.857603\n",
      "[144]\tvalid_0's f1: 0.857948\n",
      "[145]\tvalid_0's f1: 0.857948\n",
      "[146]\tvalid_0's f1: 0.858407\n",
      "[147]\tvalid_0's f1: 0.858407\n",
      "[148]\tvalid_0's f1: 0.859212\n",
      "[149]\tvalid_0's f1: 0.859212\n",
      "[150]\tvalid_0's f1: 0.859098\n",
      "[151]\tvalid_0's f1: 0.859557\n",
      "[152]\tvalid_0's f1: 0.859212\n",
      "[153]\tvalid_0's f1: 0.859212\n",
      "[154]\tvalid_0's f1: 0.859557\n",
      "[155]\tvalid_0's f1: 0.860016\n",
      "[156]\tvalid_0's f1: 0.860016\n",
      "[157]\tvalid_0's f1: 0.860016\n",
      "[158]\tvalid_0's f1: 0.860016\n",
      "[159]\tvalid_0's f1: 0.859212\n",
      "[160]\tvalid_0's f1: 0.859557\n",
      "[161]\tvalid_0's f1: 0.859557\n",
      "[162]\tvalid_0's f1: 0.859557\n",
      "[163]\tvalid_0's f1: 0.859557\n",
      "[164]\tvalid_0's f1: 0.860016\n",
      "[165]\tvalid_0's f1: 0.859557\n",
      "[166]\tvalid_0's f1: 0.859557\n",
      "[167]\tvalid_0's f1: 0.859098\n",
      "[168]\tvalid_0's f1: 0.859903\n",
      "[169]\tvalid_0's f1: 0.860362\n",
      "[170]\tvalid_0's f1: 0.860362\n",
      "[171]\tvalid_0's f1: 0.860016\n",
      "[172]\tvalid_0's f1: 0.860016\n",
      "[173]\tvalid_0's f1: 0.859557\n",
      "[174]\tvalid_0's f1: 0.859903\n",
      "[175]\tvalid_0's f1: 0.859903\n",
      "[176]\tvalid_0's f1: 0.860362\n",
      "[177]\tvalid_0's f1: 0.860362\n",
      "[178]\tvalid_0's f1: 0.860362\n",
      "[179]\tvalid_0's f1: 0.860362\n",
      "[180]\tvalid_0's f1: 0.859903\n",
      "[181]\tvalid_0's f1: 0.859444\n",
      "[182]\tvalid_0's f1: 0.859444\n",
      "[183]\tvalid_0's f1: 0.858525\n",
      "[184]\tvalid_0's f1: 0.859331\n",
      "[185]\tvalid_0's f1: 0.858871\n",
      "[186]\tvalid_0's f1: 0.859331\n",
      "[187]\tvalid_0's f1: 0.859331\n",
      "[188]\tvalid_0's f1: 0.859331\n",
      "[189]\tvalid_0's f1: 0.859331\n",
      "[190]\tvalid_0's f1: 0.859677\n",
      "[191]\tvalid_0's f1: 0.859677\n",
      "[192]\tvalid_0's f1: 0.859677\n",
      "[193]\tvalid_0's f1: 0.859677\n",
      "[194]\tvalid_0's f1: 0.859677\n",
      "[195]\tvalid_0's f1: 0.859677\n",
      "[196]\tvalid_0's f1: 0.859677\n",
      "[197]\tvalid_0's f1: 0.859677\n",
      "[198]\tvalid_0's f1: 0.85979\n",
      "[199]\tvalid_0's f1: 0.860137\n",
      "[200]\tvalid_0's f1: 0.859677\n",
      "[201]\tvalid_0's f1: 0.859331\n",
      "[202]\tvalid_0's f1: 0.859331\n",
      "[203]\tvalid_0's f1: 0.860137\n",
      "[204]\tvalid_0's f1: 0.860484\n",
      "[205]\tvalid_0's f1: 0.860484\n",
      "[206]\tvalid_0's f1: 0.860137\n",
      "[207]\tvalid_0's f1: 0.860137\n",
      "[208]\tvalid_0's f1: 0.85979\n",
      "[209]\tvalid_0's f1: 0.859331\n",
      "[210]\tvalid_0's f1: 0.85979\n",
      "[211]\tvalid_0's f1: 0.859331\n",
      "[212]\tvalid_0's f1: 0.859331\n",
      "[213]\tvalid_0's f1: 0.859331\n",
      "[214]\tvalid_0's f1: 0.85979\n",
      "[215]\tvalid_0's f1: 0.860137\n",
      "[216]\tvalid_0's f1: 0.860024\n",
      "[217]\tvalid_0's f1: 0.860024\n",
      "[218]\tvalid_0's f1: 0.859677\n",
      "[219]\tvalid_0's f1: 0.859564\n",
      "[220]\tvalid_0's f1: 0.859564\n",
      "[221]\tvalid_0's f1: 0.859911\n",
      "[222]\tvalid_0's f1: 0.859564\n",
      "[223]\tvalid_0's f1: 0.860484\n",
      "[224]\tvalid_0's f1: 0.860484\n",
      "[225]\tvalid_0's f1: 0.860484\n",
      "[226]\tvalid_0's f1: 0.860484\n",
      "[227]\tvalid_0's f1: 0.860024\n",
      "[228]\tvalid_0's f1: 0.859677\n",
      "[229]\tvalid_0's f1: 0.860137\n",
      "[230]\tvalid_0's f1: 0.860137\n",
      "[231]\tvalid_0's f1: 0.860596\n",
      "[232]\tvalid_0's f1: 0.860137\n",
      "[233]\tvalid_0's f1: 0.859677\n",
      "[234]\tvalid_0's f1: 0.859677\n",
      "[235]\tvalid_0's f1: 0.859677\n",
      "[236]\tvalid_0's f1: 0.860484\n",
      "[237]\tvalid_0's f1: 0.860484\n",
      "[238]\tvalid_0's f1: 0.860484\n",
      "[239]\tvalid_0's f1: 0.860024\n",
      "[240]\tvalid_0's f1: 0.860484\n",
      "[241]\tvalid_0's f1: 0.860943\n",
      "[242]\tvalid_0's f1: 0.861749\n",
      "[243]\tvalid_0's f1: 0.861638\n",
      "[244]\tvalid_0's f1: 0.861178\n",
      "[245]\tvalid_0's f1: 0.861178\n",
      "[246]\tvalid_0's f1: 0.861638\n",
      "[247]\tvalid_0's f1: 0.862097\n",
      "[248]\tvalid_0's f1: 0.861638\n",
      "[249]\tvalid_0's f1: 0.861638\n",
      "[250]\tvalid_0's f1: 0.862097\n",
      "[251]\tvalid_0's f1: 0.86129\n",
      "[252]\tvalid_0's f1: 0.86129\n",
      "[253]\tvalid_0's f1: 0.860831\n",
      "[254]\tvalid_0's f1: 0.861749\n",
      "[255]\tvalid_0's f1: 0.86129\n",
      "[256]\tvalid_0's f1: 0.86129\n",
      "[257]\tvalid_0's f1: 0.86129\n",
      "[258]\tvalid_0's f1: 0.86129\n",
      "[259]\tvalid_0's f1: 0.86129\n",
      "[260]\tvalid_0's f1: 0.861749\n",
      "[261]\tvalid_0's f1: 0.862666\n",
      "[262]\tvalid_0's f1: 0.862208\n",
      "[263]\tvalid_0's f1: 0.862208\n",
      "[264]\tvalid_0's f1: 0.862666\n",
      "[265]\tvalid_0's f1: 0.862666\n",
      "[266]\tvalid_0's f1: 0.862666\n",
      "[267]\tvalid_0's f1: 0.862666\n",
      "[268]\tvalid_0's f1: 0.862666\n",
      "[269]\tvalid_0's f1: 0.862208\n",
      "[270]\tvalid_0's f1: 0.862666\n",
      "[271]\tvalid_0's f1: 0.863124\n",
      "[272]\tvalid_0's f1: 0.863124\n",
      "[273]\tvalid_0's f1: 0.863124\n",
      "[274]\tvalid_0's f1: 0.863124\n",
      "[275]\tvalid_0's f1: 0.863124\n",
      "[276]\tvalid_0's f1: 0.863124\n",
      "[277]\tvalid_0's f1: 0.863124\n",
      "[278]\tvalid_0's f1: 0.863124\n",
      "[279]\tvalid_0's f1: 0.863581\n",
      "[280]\tvalid_0's f1: 0.862666\n",
      "[281]\tvalid_0's f1: 0.862666\n",
      "[282]\tvalid_0's f1: 0.862666\n",
      "[283]\tvalid_0's f1: 0.863124\n",
      "[284]\tvalid_0's f1: 0.862777\n",
      "[285]\tvalid_0's f1: 0.863124\n",
      "[286]\tvalid_0's f1: 0.863124\n",
      "[287]\tvalid_0's f1: 0.863124\n",
      "[288]\tvalid_0's f1: 0.863124\n",
      "[289]\tvalid_0's f1: 0.862319\n",
      "[290]\tvalid_0's f1: 0.862319\n",
      "[291]\tvalid_0's f1: 0.861861\n",
      "[292]\tvalid_0's f1: 0.861861\n",
      "[293]\tvalid_0's f1: 0.861861\n",
      "[294]\tvalid_0's f1: 0.861861\n",
      "[295]\tvalid_0's f1: 0.862319\n",
      "[296]\tvalid_0's f1: 0.861861\n",
      "[297]\tvalid_0's f1: 0.862319\n",
      "[298]\tvalid_0's f1: 0.862319\n",
      "[299]\tvalid_0's f1: 0.862319\n",
      "[300]\tvalid_0's f1: 0.862319\n",
      "[301]\tvalid_0's f1: 0.862777\n",
      "[302]\tvalid_0's f1: 0.862777\n",
      "[303]\tvalid_0's f1: 0.862319\n",
      "[304]\tvalid_0's f1: 0.862319\n",
      "[305]\tvalid_0's f1: 0.862319\n",
      "[306]\tvalid_0's f1: 0.862777\n",
      "[307]\tvalid_0's f1: 0.862777\n",
      "[308]\tvalid_0's f1: 0.862777\n",
      "[309]\tvalid_0's f1: 0.862777\n",
      "[310]\tvalid_0's f1: 0.862777\n",
      "[311]\tvalid_0's f1: 0.86243\n",
      "[312]\tvalid_0's f1: 0.86243\n",
      "[313]\tvalid_0's f1: 0.86243\n",
      "[314]\tvalid_0's f1: 0.86243\n",
      "[315]\tvalid_0's f1: 0.861972\n",
      "[316]\tvalid_0's f1: 0.86243\n",
      "[317]\tvalid_0's f1: 0.862777\n",
      "[318]\tvalid_0's f1: 0.862777\n",
      "[319]\tvalid_0's f1: 0.861861\n",
      "[320]\tvalid_0's f1: 0.861861\n",
      "[321]\tvalid_0's f1: 0.861861\n",
      "[322]\tvalid_0's f1: 0.861861\n",
      "[323]\tvalid_0's f1: 0.862319\n",
      "[324]\tvalid_0's f1: 0.862319\n",
      "[325]\tvalid_0's f1: 0.862319\n",
      "[326]\tvalid_0's f1: 0.862777\n",
      "[327]\tvalid_0's f1: 0.862777\n",
      "[328]\tvalid_0's f1: 0.862777\n",
      "[329]\tvalid_0's f1: 0.862777\n",
      "[330]\tvalid_0's f1: 0.862777\n",
      "[331]\tvalid_0's f1: 0.862777\n",
      "[332]\tvalid_0's f1: 0.862777\n",
      "[333]\tvalid_0's f1: 0.862777\n",
      "[334]\tvalid_0's f1: 0.862777\n",
      "[335]\tvalid_0's f1: 0.862319\n",
      "[336]\tvalid_0's f1: 0.862319\n",
      "[337]\tvalid_0's f1: 0.862319\n",
      "[338]\tvalid_0's f1: 0.862319\n",
      "[339]\tvalid_0's f1: 0.862319\n",
      "[340]\tvalid_0's f1: 0.862319\n",
      "[341]\tvalid_0's f1: 0.861861\n",
      "[342]\tvalid_0's f1: 0.862319\n",
      "[343]\tvalid_0's f1: 0.861861\n",
      "[344]\tvalid_0's f1: 0.861861\n",
      "[345]\tvalid_0's f1: 0.861861\n",
      "[346]\tvalid_0's f1: 0.861861\n",
      "[347]\tvalid_0's f1: 0.862208\n",
      "[348]\tvalid_0's f1: 0.862208\n",
      "[349]\tvalid_0's f1: 0.862208\n",
      "[350]\tvalid_0's f1: 0.862208\n",
      "[351]\tvalid_0's f1: 0.862208\n",
      "[352]\tvalid_0's f1: 0.862208\n",
      "[353]\tvalid_0's f1: 0.862208\n",
      "[354]\tvalid_0's f1: 0.862208\n",
      "[355]\tvalid_0's f1: 0.862208\n",
      "[356]\tvalid_0's f1: 0.862208\n",
      "[357]\tvalid_0's f1: 0.862208\n",
      "[358]\tvalid_0's f1: 0.862208\n",
      "[359]\tvalid_0's f1: 0.862208\n",
      "[360]\tvalid_0's f1: 0.862208\n",
      "[361]\tvalid_0's f1: 0.862208\n",
      "[362]\tvalid_0's f1: 0.862666\n",
      "[363]\tvalid_0's f1: 0.862666\n",
      "[364]\tvalid_0's f1: 0.862666\n",
      "[365]\tvalid_0's f1: 0.862666\n",
      "[366]\tvalid_0's f1: 0.862666\n",
      "[367]\tvalid_0's f1: 0.862208\n",
      "[368]\tvalid_0's f1: 0.862208\n",
      "[369]\tvalid_0's f1: 0.862666\n",
      "[370]\tvalid_0's f1: 0.862666\n",
      "[371]\tvalid_0's f1: 0.862666\n",
      "[372]\tvalid_0's f1: 0.862208\n",
      "[373]\tvalid_0's f1: 0.862208\n",
      "[374]\tvalid_0's f1: 0.862208\n",
      "[375]\tvalid_0's f1: 0.862208\n",
      "[376]\tvalid_0's f1: 0.862666\n",
      "[377]\tvalid_0's f1: 0.862666\n",
      "[378]\tvalid_0's f1: 0.862666\n",
      "[379]\tvalid_0's f1: 0.862208\n",
      "[380]\tvalid_0's f1: 0.862208\n",
      "[381]\tvalid_0's f1: 0.861861\n",
      "[382]\tvalid_0's f1: 0.861861\n",
      "[383]\tvalid_0's f1: 0.861861\n",
      "[384]\tvalid_0's f1: 0.862666\n",
      "[385]\tvalid_0's f1: 0.863124\n",
      "[386]\tvalid_0's f1: 0.863124\n",
      "[387]\tvalid_0's f1: 0.862777\n",
      "[388]\tvalid_0's f1: 0.862777\n",
      "[389]\tvalid_0's f1: 0.863124\n",
      "[390]\tvalid_0's f1: 0.862777\n",
      "[391]\tvalid_0's f1: 0.862777\n",
      "[392]\tvalid_0's f1: 0.862777\n",
      "[393]\tvalid_0's f1: 0.862777\n",
      "[394]\tvalid_0's f1: 0.862777\n",
      "[395]\tvalid_0's f1: 0.862777\n",
      "[396]\tvalid_0's f1: 0.862777\n",
      "[397]\tvalid_0's f1: 0.862777\n",
      "[398]\tvalid_0's f1: 0.862777\n",
      "[399]\tvalid_0's f1: 0.86243\n",
      "[400]\tvalid_0's f1: 0.861972\n",
      "[401]\tvalid_0's f1: 0.862319\n",
      "[402]\tvalid_0's f1: 0.862319\n",
      "[403]\tvalid_0's f1: 0.862319\n",
      "[404]\tvalid_0's f1: 0.862319\n",
      "[405]\tvalid_0's f1: 0.862319\n",
      "[406]\tvalid_0's f1: 0.862319\n",
      "[407]\tvalid_0's f1: 0.862319\n",
      "[408]\tvalid_0's f1: 0.862777\n",
      "[409]\tvalid_0's f1: 0.862319\n",
      "[410]\tvalid_0's f1: 0.862319\n",
      "[411]\tvalid_0's f1: 0.862777\n",
      "[412]\tvalid_0's f1: 0.862777\n",
      "[413]\tvalid_0's f1: 0.862777\n",
      "[414]\tvalid_0's f1: 0.862777\n",
      "[415]\tvalid_0's f1: 0.862777\n",
      "[416]\tvalid_0's f1: 0.862777\n",
      "[417]\tvalid_0's f1: 0.862777\n",
      "[418]\tvalid_0's f1: 0.862777\n",
      "[419]\tvalid_0's f1: 0.863124\n",
      "[420]\tvalid_0's f1: 0.863124\n",
      "[421]\tvalid_0's f1: 0.862666\n",
      "[422]\tvalid_0's f1: 0.862666\n",
      "[423]\tvalid_0's f1: 0.862666\n",
      "[424]\tvalid_0's f1: 0.862666\n",
      "[425]\tvalid_0's f1: 0.862666\n",
      "[426]\tvalid_0's f1: 0.862666\n",
      "[427]\tvalid_0's f1: 0.862666\n",
      "[428]\tvalid_0's f1: 0.862666\n",
      "[429]\tvalid_0's f1: 0.863124\n",
      "[430]\tvalid_0's f1: 0.863124\n",
      "[431]\tvalid_0's f1: 0.863124\n",
      "[432]\tvalid_0's f1: 0.862666\n",
      "[433]\tvalid_0's f1: 0.862666\n",
      "[434]\tvalid_0's f1: 0.862666\n",
      "[435]\tvalid_0's f1: 0.862666\n",
      "[436]\tvalid_0's f1: 0.862666\n",
      "[437]\tvalid_0's f1: 0.862666\n",
      "[438]\tvalid_0's f1: 0.862208\n",
      "[439]\tvalid_0's f1: 0.862208\n",
      "[440]\tvalid_0's f1: 0.862666\n",
      "[441]\tvalid_0's f1: 0.862208\n",
      "[442]\tvalid_0's f1: 0.862666\n",
      "[443]\tvalid_0's f1: 0.862666\n",
      "[444]\tvalid_0's f1: 0.862666\n",
      "[445]\tvalid_0's f1: 0.862319\n",
      "[446]\tvalid_0's f1: 0.861861\n",
      "[447]\tvalid_0's f1: 0.862666\n",
      "[448]\tvalid_0's f1: 0.862666\n",
      "[449]\tvalid_0's f1: 0.862666\n",
      "[450]\tvalid_0's f1: 0.862666\n",
      "[451]\tvalid_0's f1: 0.862666\n",
      "[452]\tvalid_0's f1: 0.862666\n",
      "[453]\tvalid_0's f1: 0.862666\n",
      "[454]\tvalid_0's f1: 0.862208\n",
      "[455]\tvalid_0's f1: 0.862208\n",
      "[456]\tvalid_0's f1: 0.862208\n",
      "[457]\tvalid_0's f1: 0.862208\n",
      "[458]\tvalid_0's f1: 0.862208\n",
      "[459]\tvalid_0's f1: 0.862208\n",
      "[460]\tvalid_0's f1: 0.862208\n",
      "[461]\tvalid_0's f1: 0.862208\n",
      "[462]\tvalid_0's f1: 0.862208\n",
      "[463]\tvalid_0's f1: 0.862208\n",
      "[464]\tvalid_0's f1: 0.862208\n",
      "[465]\tvalid_0's f1: 0.862208\n",
      "[466]\tvalid_0's f1: 0.862208\n",
      "[467]\tvalid_0's f1: 0.862208\n",
      "[468]\tvalid_0's f1: 0.862208\n",
      "[469]\tvalid_0's f1: 0.862208\n",
      "[470]\tvalid_0's f1: 0.862208\n",
      "[471]\tvalid_0's f1: 0.862208\n",
      "[472]\tvalid_0's f1: 0.862208\n",
      "[473]\tvalid_0's f1: 0.862208\n",
      "[474]\tvalid_0's f1: 0.862208\n",
      "[475]\tvalid_0's f1: 0.862208\n",
      "[476]\tvalid_0's f1: 0.862208\n",
      "[477]\tvalid_0's f1: 0.862208\n",
      "[478]\tvalid_0's f1: 0.862208\n",
      "[479]\tvalid_0's f1: 0.862666\n",
      "[480]\tvalid_0's f1: 0.862666\n",
      "[481]\tvalid_0's f1: 0.862666\n",
      "[482]\tvalid_0's f1: 0.862666\n",
      "[483]\tvalid_0's f1: 0.862666\n",
      "[484]\tvalid_0's f1: 0.862666\n",
      "[485]\tvalid_0's f1: 0.862666\n",
      "[486]\tvalid_0's f1: 0.862666\n",
      "[487]\tvalid_0's f1: 0.862666\n",
      "[488]\tvalid_0's f1: 0.863124\n",
      "[489]\tvalid_0's f1: 0.863124\n",
      "[490]\tvalid_0's f1: 0.863124\n",
      "[491]\tvalid_0's f1: 0.863124\n",
      "[492]\tvalid_0's f1: 0.863124\n",
      "[493]\tvalid_0's f1: 0.863124\n",
      "[494]\tvalid_0's f1: 0.863124\n",
      "[495]\tvalid_0's f1: 0.863124\n",
      "[496]\tvalid_0's f1: 0.863124\n",
      "[497]\tvalid_0's f1: 0.863124\n",
      "[498]\tvalid_0's f1: 0.863124\n",
      "[499]\tvalid_0's f1: 0.863124\n",
      "[500]\tvalid_0's f1: 0.863124\n",
      "[501]\tvalid_0's f1: 0.863124\n",
      "[502]\tvalid_0's f1: 0.863124\n",
      "[503]\tvalid_0's f1: 0.862666\n",
      "[504]\tvalid_0's f1: 0.862666\n",
      "[505]\tvalid_0's f1: 0.862666\n",
      "[506]\tvalid_0's f1: 0.862666\n",
      "[507]\tvalid_0's f1: 0.862666\n",
      "[508]\tvalid_0's f1: 0.862666\n",
      "[509]\tvalid_0's f1: 0.862666\n",
      "[510]\tvalid_0's f1: 0.862666\n",
      "[511]\tvalid_0's f1: 0.862666\n",
      "[512]\tvalid_0's f1: 0.862666\n",
      "[513]\tvalid_0's f1: 0.862666\n",
      "[514]\tvalid_0's f1: 0.862666\n",
      "[515]\tvalid_0's f1: 0.862666\n",
      "[516]\tvalid_0's f1: 0.862666\n",
      "[517]\tvalid_0's f1: 0.862666\n",
      "[518]\tvalid_0's f1: 0.862666\n",
      "[519]\tvalid_0's f1: 0.862666\n",
      "[520]\tvalid_0's f1: 0.862319\n",
      "[521]\tvalid_0's f1: 0.862666\n",
      "[522]\tvalid_0's f1: 0.862666\n",
      "[523]\tvalid_0's f1: 0.862666\n",
      "[524]\tvalid_0's f1: 0.862666\n",
      "[525]\tvalid_0's f1: 0.862319\n",
      "[526]\tvalid_0's f1: 0.862319\n",
      "[527]\tvalid_0's f1: 0.862319\n",
      "[528]\tvalid_0's f1: 0.862319\n",
      "[529]\tvalid_0's f1: 0.862319\n",
      "[530]\tvalid_0's f1: 0.862319\n",
      "[531]\tvalid_0's f1: 0.862319\n",
      "[532]\tvalid_0's f1: 0.862319\n",
      "[533]\tvalid_0's f1: 0.862319\n",
      "[534]\tvalid_0's f1: 0.862319\n",
      "[535]\tvalid_0's f1: 0.862319\n",
      "[536]\tvalid_0's f1: 0.862319\n",
      "[537]\tvalid_0's f1: 0.862319\n",
      "[538]\tvalid_0's f1: 0.862319\n",
      "[539]\tvalid_0's f1: 0.862319\n",
      "[540]\tvalid_0's f1: 0.862319\n",
      "[541]\tvalid_0's f1: 0.862319\n",
      "[542]\tvalid_0's f1: 0.862319\n",
      "[543]\tvalid_0's f1: 0.862319\n",
      "[544]\tvalid_0's f1: 0.862319\n",
      "[545]\tvalid_0's f1: 0.862319\n",
      "[546]\tvalid_0's f1: 0.862319\n",
      "[547]\tvalid_0's f1: 0.862319\n",
      "[548]\tvalid_0's f1: 0.862319\n",
      "[549]\tvalid_0's f1: 0.861972\n",
      "[550]\tvalid_0's f1: 0.861972\n",
      "[551]\tvalid_0's f1: 0.861972\n",
      "[552]\tvalid_0's f1: 0.861972\n",
      "[553]\tvalid_0's f1: 0.862319\n",
      "[554]\tvalid_0's f1: 0.862319\n",
      "[555]\tvalid_0's f1: 0.861972\n",
      "[556]\tvalid_0's f1: 0.861972\n",
      "[557]\tvalid_0's f1: 0.861972\n",
      "[558]\tvalid_0's f1: 0.861972\n",
      "[559]\tvalid_0's f1: 0.861972\n",
      "[560]\tvalid_0's f1: 0.861972\n",
      "[561]\tvalid_0's f1: 0.861972\n",
      "[562]\tvalid_0's f1: 0.861972\n",
      "[563]\tvalid_0's f1: 0.861972\n",
      "[564]\tvalid_0's f1: 0.861972\n",
      "[565]\tvalid_0's f1: 0.861972\n",
      "[566]\tvalid_0's f1: 0.861972\n",
      "[567]\tvalid_0's f1: 0.861972\n",
      "[568]\tvalid_0's f1: 0.861972\n",
      "[569]\tvalid_0's f1: 0.861972\n",
      "[570]\tvalid_0's f1: 0.861972\n",
      "[571]\tvalid_0's f1: 0.861972\n",
      "[572]\tvalid_0's f1: 0.861972\n",
      "[573]\tvalid_0's f1: 0.861972\n",
      "[574]\tvalid_0's f1: 0.861972\n",
      "[575]\tvalid_0's f1: 0.861972\n",
      "[576]\tvalid_0's f1: 0.861972\n",
      "[577]\tvalid_0's f1: 0.861972\n",
      "[578]\tvalid_0's f1: 0.861972\n",
      "[579]\tvalid_0's f1: 0.861972\n",
      "[580]\tvalid_0's f1: 0.861972\n",
      "[581]\tvalid_0's f1: 0.861972\n",
      "[582]\tvalid_0's f1: 0.861972\n",
      "[583]\tvalid_0's f1: 0.861972\n",
      "[584]\tvalid_0's f1: 0.861972\n",
      "[585]\tvalid_0's f1: 0.861972\n",
      "[586]\tvalid_0's f1: 0.861972\n",
      "[587]\tvalid_0's f1: 0.861972\n",
      "[588]\tvalid_0's f1: 0.861972\n",
      "[589]\tvalid_0's f1: 0.861972\n",
      "[590]\tvalid_0's f1: 0.861972\n",
      "[591]\tvalid_0's f1: 0.861972\n",
      "[592]\tvalid_0's f1: 0.861972\n",
      "[593]\tvalid_0's f1: 0.861972\n",
      "[594]\tvalid_0's f1: 0.861972\n",
      "[595]\tvalid_0's f1: 0.861972\n",
      "[596]\tvalid_0's f1: 0.861972\n",
      "[597]\tvalid_0's f1: 0.861972\n",
      "[598]\tvalid_0's f1: 0.861972\n",
      "[599]\tvalid_0's f1: 0.861972\n",
      "[600]\tvalid_0's f1: 0.861972\n",
      "[601]\tvalid_0's f1: 0.86243\n",
      "[602]\tvalid_0's f1: 0.86243\n",
      "[603]\tvalid_0's f1: 0.861972\n",
      "[604]\tvalid_0's f1: 0.861514\n",
      "[605]\tvalid_0's f1: 0.861514\n",
      "[606]\tvalid_0's f1: 0.861514\n",
      "[607]\tvalid_0's f1: 0.861167\n",
      "[608]\tvalid_0's f1: 0.861167\n",
      "[609]\tvalid_0's f1: 0.861167\n",
      "[610]\tvalid_0's f1: 0.861167\n",
      "[611]\tvalid_0's f1: 0.861167\n",
      "[612]\tvalid_0's f1: 0.861167\n",
      "[613]\tvalid_0's f1: 0.861167\n",
      "[614]\tvalid_0's f1: 0.861167\n",
      "[615]\tvalid_0's f1: 0.861167\n",
      "[616]\tvalid_0's f1: 0.861167\n",
      "[617]\tvalid_0's f1: 0.861167\n",
      "[618]\tvalid_0's f1: 0.861625\n",
      "[619]\tvalid_0's f1: 0.862083\n",
      "[620]\tvalid_0's f1: 0.862083\n",
      "[621]\tvalid_0's f1: 0.862083\n",
      "[622]\tvalid_0's f1: 0.861625\n",
      "[623]\tvalid_0's f1: 0.861625\n",
      "[624]\tvalid_0's f1: 0.861625\n",
      "[625]\tvalid_0's f1: 0.861625\n",
      "[626]\tvalid_0's f1: 0.861625\n",
      "[627]\tvalid_0's f1: 0.861625\n",
      "[628]\tvalid_0's f1: 0.861625\n",
      "[629]\tvalid_0's f1: 0.861972\n",
      "[630]\tvalid_0's f1: 0.861972\n",
      "[631]\tvalid_0's f1: 0.861972\n",
      "[632]\tvalid_0's f1: 0.861972\n",
      "[633]\tvalid_0's f1: 0.861972\n",
      "[634]\tvalid_0's f1: 0.86243\n",
      "[635]\tvalid_0's f1: 0.86243\n",
      "[636]\tvalid_0's f1: 0.86243\n",
      "[637]\tvalid_0's f1: 0.86243\n",
      "[638]\tvalid_0's f1: 0.861972\n",
      "[639]\tvalid_0's f1: 0.861972\n",
      "[640]\tvalid_0's f1: 0.861972\n",
      "[641]\tvalid_0's f1: 0.861972\n",
      "[642]\tvalid_0's f1: 0.861972\n",
      "[643]\tvalid_0's f1: 0.861972\n",
      "[644]\tvalid_0's f1: 0.861625\n",
      "[645]\tvalid_0's f1: 0.861972\n",
      "[646]\tvalid_0's f1: 0.861972\n",
      "[647]\tvalid_0's f1: 0.861972\n",
      "[648]\tvalid_0's f1: 0.861972\n",
      "[649]\tvalid_0's f1: 0.861972\n",
      "[650]\tvalid_0's f1: 0.861972\n",
      "[651]\tvalid_0's f1: 0.861625\n",
      "[652]\tvalid_0's f1: 0.861625\n",
      "[653]\tvalid_0's f1: 0.861625\n",
      "[654]\tvalid_0's f1: 0.861972\n",
      "[655]\tvalid_0's f1: 0.861972\n",
      "[656]\tvalid_0's f1: 0.861972\n",
      "[657]\tvalid_0's f1: 0.861972\n",
      "[658]\tvalid_0's f1: 0.861972\n",
      "[659]\tvalid_0's f1: 0.861625\n",
      "[660]\tvalid_0's f1: 0.861625\n",
      "[661]\tvalid_0's f1: 0.861625\n",
      "[662]\tvalid_0's f1: 0.861625\n",
      "[663]\tvalid_0's f1: 0.861625\n",
      "[664]\tvalid_0's f1: 0.861625\n",
      "[665]\tvalid_0's f1: 0.861625\n",
      "[666]\tvalid_0's f1: 0.861625\n",
      "[667]\tvalid_0's f1: 0.861625\n",
      "[668]\tvalid_0's f1: 0.861625\n",
      "[669]\tvalid_0's f1: 0.861625\n",
      "[670]\tvalid_0's f1: 0.861625\n",
      "[671]\tvalid_0's f1: 0.861625\n",
      "[672]\tvalid_0's f1: 0.861625\n",
      "[673]\tvalid_0's f1: 0.861625\n",
      "[674]\tvalid_0's f1: 0.861625\n",
      "[675]\tvalid_0's f1: 0.861625\n",
      "[676]\tvalid_0's f1: 0.861625\n",
      "[677]\tvalid_0's f1: 0.861625\n",
      "[678]\tvalid_0's f1: 0.861625\n",
      "[679]\tvalid_0's f1: 0.861625\n",
      "[680]\tvalid_0's f1: 0.861625\n",
      "[681]\tvalid_0's f1: 0.861625\n",
      "[682]\tvalid_0's f1: 0.861625\n",
      "[683]\tvalid_0's f1: 0.861625\n"
     ]
    },
    {
     "ename": "KeyboardInterrupt",
     "evalue": "",
     "output_type": "error",
     "traceback": [
      "\u001b[0;31m\u001b[0m",
      "\u001b[0;31mKeyboardInterrupt\u001b[0mTraceback (most recent call last)",
      "\u001b[0;32m<ipython-input-99-f5b273b7f43f>\u001b[0m in \u001b[0;36m<module>\u001b[0;34m\u001b[0m\n\u001b[0;32m----> 1\u001b[0;31m lightgbm_classifier = lightgbm.train(parameters,\n\u001b[0m\u001b[1;32m      2\u001b[0m                        \u001b[0mtrain_data\u001b[0m\u001b[0;34m,\u001b[0m\u001b[0;34m\u001b[0m\u001b[0;34m\u001b[0m\u001b[0m\n\u001b[1;32m      3\u001b[0m                        \u001b[0mvalid_sets\u001b[0m\u001b[0;34m=\u001b[0m\u001b[0mtest_data\u001b[0m\u001b[0;34m,\u001b[0m\u001b[0;34m\u001b[0m\u001b[0;34m\u001b[0m\u001b[0m\n\u001b[1;32m      4\u001b[0m                        feval=lgb_f1_score)\n",
      "\u001b[0;32m/opt/conda/lib/python3.8/site-packages/lightgbm/engine.py\u001b[0m in \u001b[0;36mtrain\u001b[0;34m(params, train_set, num_boost_round, valid_sets, valid_names, fobj, feval, init_model, feature_name, categorical_feature, early_stopping_rounds, evals_result, verbose_eval, learning_rates, keep_training_booster, callbacks)\u001b[0m\n\u001b[1;32m    250\u001b[0m                                     evaluation_result_list=None))\n\u001b[1;32m    251\u001b[0m \u001b[0;34m\u001b[0m\u001b[0m\n\u001b[0;32m--> 252\u001b[0;31m         \u001b[0mbooster\u001b[0m\u001b[0;34m.\u001b[0m\u001b[0mupdate\u001b[0m\u001b[0;34m(\u001b[0m\u001b[0mfobj\u001b[0m\u001b[0;34m=\u001b[0m\u001b[0mfobj\u001b[0m\u001b[0;34m)\u001b[0m\u001b[0;34m\u001b[0m\u001b[0;34m\u001b[0m\u001b[0m\n\u001b[0m\u001b[1;32m    253\u001b[0m \u001b[0;34m\u001b[0m\u001b[0m\n\u001b[1;32m    254\u001b[0m         \u001b[0mevaluation_result_list\u001b[0m \u001b[0;34m=\u001b[0m \u001b[0;34m[\u001b[0m\u001b[0;34m]\u001b[0m\u001b[0;34m\u001b[0m\u001b[0;34m\u001b[0m\u001b[0m\n",
      "\u001b[0;32m/opt/conda/lib/python3.8/site-packages/lightgbm/basic.py\u001b[0m in \u001b[0;36mupdate\u001b[0;34m(self, train_set, fobj)\u001b[0m\n\u001b[1;32m   2456\u001b[0m             \u001b[0;32mif\u001b[0m \u001b[0mself\u001b[0m\u001b[0;34m.\u001b[0m\u001b[0m__set_objective_to_none\u001b[0m\u001b[0;34m:\u001b[0m\u001b[0;34m\u001b[0m\u001b[0;34m\u001b[0m\u001b[0m\n\u001b[1;32m   2457\u001b[0m                 \u001b[0;32mraise\u001b[0m \u001b[0mLightGBMError\u001b[0m\u001b[0;34m(\u001b[0m\u001b[0;34m'Cannot update due to null objective function.'\u001b[0m\u001b[0;34m)\u001b[0m\u001b[0;34m\u001b[0m\u001b[0;34m\u001b[0m\u001b[0m\n\u001b[0;32m-> 2458\u001b[0;31m             _safe_call(_LIB.LGBM_BoosterUpdateOneIter(\n\u001b[0m\u001b[1;32m   2459\u001b[0m                 \u001b[0mself\u001b[0m\u001b[0;34m.\u001b[0m\u001b[0mhandle\u001b[0m\u001b[0;34m,\u001b[0m\u001b[0;34m\u001b[0m\u001b[0;34m\u001b[0m\u001b[0m\n\u001b[1;32m   2460\u001b[0m                 ctypes.byref(is_finished)))\n",
      "\u001b[0;31mKeyboardInterrupt\u001b[0m: "
     ]
    }
   ],
   "source": [
    "lightgbm_classifier = lightgbm.train(parameters,\n",
    "                       train_data,\n",
    "                       valid_sets=test_data,\n",
    "                       feval=lgb_f1_score)"
   ]
  },
  {
   "cell_type": "code",
   "execution_count": 47,
   "metadata": {},
   "outputs": [
    {
     "data": {
      "text/plain": [
       "0.9573122529644269"
      ]
     },
     "execution_count": 47,
     "metadata": {},
     "output_type": "execute_result"
    }
   ],
   "source": [
    "f1_score(list(map(lambda x: 1 if x > 0.5 else 0, lightgbm_classifier.predict(X_test))), y_test)"
   ]
  },
  {
   "cell_type": "code",
   "execution_count": 48,
   "metadata": {
    "scrolled": true
   },
   "outputs": [
    {
     "data": {
      "text/plain": [
       "[(3, 'text_5char_count_sum_by_question'),\n",
       " (4, '121'),\n",
       " (4, '135'),\n",
       " (4, '142'),\n",
       " (4, '157_std_by_question'),\n",
       " (4, '166'),\n",
       " (4, '167_min_by_question'),\n",
       " (4, '170'),\n",
       " (4, '21_mean_by_question'),\n",
       " (4, '30'),\n",
       " (4, '41'),\n",
       " (4, '54_min_by_question'),\n",
       " (4, '54_sum_by_question'),\n",
       " (4, '69'),\n",
       " (4, '7_std_by_context'),\n",
       " (4, '90_std_by_context'),\n",
       " (4, '96_median_by_context'),\n",
       " (4, 'magic_numbers_LC_sum_by_question'),\n",
       " (4, 'magic_scores_LC_mean_by_question'),\n",
       " (4,\n",
       "  'original_bert_answers_similarity_by_roberta_mean_square_mean_by_question'),\n",
       " (4, 'original_bert_answers_similarity_by_roberta_min_min_by_question'),\n",
       " (4, 'original_bert_answers_similarity_by_roberta_std_max_by_question'),\n",
       " (4, 'original_bert_answers_similarity_by_roberta_top_4_mean_by_question'),\n",
       " (4, 'original_bert_answers_similarity_by_use_std'),\n",
       " (4, 'original_bert_answers_similarity_by_use_top_9'),\n",
       " (4, 'original_roberta_answers_similarity_by_use_min'),\n",
       " (4, 'original_roberta_answers_similarity_by_use_std'),\n",
       " (4, 'stems_amount_in_answer_ru'),\n",
       " (4, 'text_3char_count_median_by_context'),\n",
       " (5, '23_sum_by_question'),\n",
       " (5, '37_sum_by_question'),\n",
       " (5, '91'),\n",
       " (5, 'original_bert_answers_similarity_by_roberta_top_3'),\n",
       " (5, 'original_bert_answers_similarity_by_roberta_top_5'),\n",
       " (5, 'original_bert_answers_similarity_by_use_max'),\n",
       " (5, 'original_roberta_answers_similarity_by_use_mean'),\n",
       " (5, 'original_t5_answers_similarity_by_roberta_median_by_question'),\n",
       " (5, 'sentence_answer_similarity_by_roberta_std'),\n",
       " (6, '108'),\n",
       " (6, '133'),\n",
       " (6, '37'),\n",
       " (6, '40'),\n",
       " (6, '45'),\n",
       " (6, '59_std_by_question'),\n",
       " (6, '82'),\n",
       " (6, '92'),\n",
       " (6, 'context_answers_encoding_distance_by_roberta'),\n",
       " (6, 'magic_numbers_LC_mean_by_question'),\n",
       " (6, 'magic_scores_sum_by_question'),\n",
       " (6, 'original_bert_answers_similarity_by_roberta_top_6'),\n",
       " (6, 'original_bert_answers_similarity_by_roberta_top_6_min_by_question'),\n",
       " (6, 'original_bert_answers_similarity_by_use_min'),\n",
       " (6, 'original_t5_answers_similarity_by_use'),\n",
       " (6, 'sentence_answer_similarity_by_roberta_max'),\n",
       " (6, 'text_5avg_word_length'),\n",
       " (6, 'words_amount_in_answer_ru'),\n",
       " (7, '0'),\n",
       " (7, '13'),\n",
       " (7, '167'),\n",
       " (7, '88'),\n",
       " (7, '89'),\n",
       " (7, 'magic_numbers_std_by_question'),\n",
       " (7, 'magic_scores_LC_geometric_mean_by_question'),\n",
       " (7, 'magic_scores_LC_square_mean_by_question'),\n",
       " (7, 'original_bert_answers_similarity_by_use_top_1'),\n",
       " (7, 'original_bert_answers_similarity_by_use_top_4'),\n",
       " (7, 'original_bert_answers_similarity_by_use_top_5'),\n",
       " (8, '61'),\n",
       " (8, 'magic_numbers_LC_std_by_question'),\n",
       " (8, 'original_bert_answers_similarity_by_roberta_top_8'),\n",
       " (9, 'magic_scores_LC_median_by_question'),\n",
       " (9, 'magic_scores_geometric_mean_by_question'),\n",
       " (9, 'magic_scores_square_mean_by_question'),\n",
       " (9, 'original_bert_answers_similarity_by_roberta_mean'),\n",
       " (9, 'original_bert_answers_similarity_by_roberta_std'),\n",
       " (9, 'original_bert_answers_similarity_by_roberta_top_1'),\n",
       " (9, 'super_magic_numbers_std_by_question'),\n",
       " (10, 'magic_scores_mean_by_question'),\n",
       " (11, 'magic_numbers_LC'),\n",
       " (11, 'magic_scores_LC_sum_by_question'),\n",
       " (11, 'original_bert_answers_similarity_by_roberta_top_4'),\n",
       " (12, 'original_bert_answers_similarity_by_roberta_max'),\n",
       " (12, 'same_words_context_answer_ru_harmonic_mean_by_question'),\n",
       " (13, 'magic_numbers_mean_by_question'),\n",
       " (13, 'original_bert_answers_similarity_by_roberta_top_2'),\n",
       " (13, 'text_5char_count'),\n",
       " (14, '122'),\n",
       " (15, 'original_bert_answers_similarity_by_roberta_median'),\n",
       " (16, 'same_words_context_answer_ru'),\n",
       " (19, 'magic_numbers'),\n",
       " (19, 'original_t5_answers_similarity_by_roberta'),\n",
       " (21, '90'),\n",
       " (23, '1'),\n",
       " (27, '14'),\n",
       " (28, 'magic_scores_LC'),\n",
       " (30, 'super_magic_numbers'),\n",
       " (31, 'facebook_mnli'),\n",
       " (36, 'magic_scores_std_by_question'),\n",
       " (55, 'super_magic_numbers_mean_by_question'),\n",
       " (58, 'magic_scores')]"
      ]
     },
     "execution_count": 48,
     "metadata": {},
     "output_type": "execute_result"
    }
   ],
   "source": [
    "sorted(list(zip(lightgbm_classifier.feature_importance(), X_train.columns)))[-100:]"
   ]
  },
  {
   "cell_type": "markdown",
   "metadata": {},
   "source": [
    "# BoobsBOOST"
   ]
  },
  {
   "cell_type": "code",
   "execution_count": 264,
   "metadata": {},
   "outputs": [
    {
     "name": "stdout",
     "output_type": "stream",
     "text": [
      "Collecting xgboost\n",
      "  Downloading xgboost-1.3.1-py3-none-manylinux2010_x86_64.whl (157.5 MB)\n",
      "\u001b[K     |████████████████████████████████| 157.5 MB 20 kB/s s eta 0:00:01\n",
      "\u001b[?25hRequirement already satisfied: numpy in /opt/conda/lib/python3.8/site-packages (from xgboost) (1.18.0)\n",
      "Requirement already satisfied: scipy in /opt/conda/lib/python3.8/site-packages (from xgboost) (1.4.1)\n",
      "Installing collected packages: xgboost\n",
      "Successfully installed xgboost-1.3.1\n"
     ]
    }
   ],
   "source": [
    "!pip install xgboost"
   ]
  },
  {
   "cell_type": "code",
   "execution_count": 107,
   "metadata": {},
   "outputs": [],
   "source": [
    "import xgboost as xgb"
   ]
  },
  {
   "cell_type": "code",
   "execution_count": 108,
   "metadata": {},
   "outputs": [],
   "source": [
    "def xgb_f1(y_pred, dtrain):\n",
    "    y_true = dtrain.get_label()\n",
    "    err = 1-f1_score(y_true, np.round(y_pred))\n",
    "    return 'f1', err"
   ]
  },
  {
   "cell_type": "code",
   "execution_count": 112,
   "metadata": {},
   "outputs": [],
   "source": [
    "xgb_classifier = xgb.XGBClassifier(max_depth=6, learning_rate=0.1, n_estimators=500,\n",
    "                              objective='binary:logistic', booster='gbtree', verbosity=0)"
   ]
  },
  {
   "cell_type": "code",
   "execution_count": 113,
   "metadata": {
    "scrolled": true
   },
   "outputs": [
    {
     "name": "stderr",
     "output_type": "stream",
     "text": [
      "/opt/conda/lib/python3.8/site-packages/xgboost/sklearn.py:892: UserWarning: The use of label encoder in XGBClassifier is deprecated and will be removed in a future release. To remove this warning, do the following: 1) Pass option use_label_encoder=False when constructing XGBClassifier object; and 2) Encode your labels (y) as integers starting with 0, i.e. 0, 1, 2, ..., [num_class - 1].\n",
      "  warnings.warn(label_encoder_deprecation_msg, UserWarning)\n"
     ]
    },
    {
     "data": {
      "text/plain": [
       "XGBClassifier(base_score=0.5, booster='gbtree', colsample_bylevel=1,\n",
       "              colsample_bynode=1, colsample_bytree=1, gamma=0, gpu_id=-1,\n",
       "              importance_type='gain', interaction_constraints='',\n",
       "              learning_rate=0.1, max_delta_step=0, max_depth=6,\n",
       "              min_child_weight=1, missing=nan, monotone_constraints='()',\n",
       "              n_estimators=500, n_jobs=16, num_parallel_tree=1, random_state=0,\n",
       "              reg_alpha=0, reg_lambda=1, scale_pos_weight=1, subsample=1,\n",
       "              tree_method='exact', validate_parameters=1, verbosity=0)"
      ]
     },
     "execution_count": 113,
     "metadata": {},
     "output_type": "execute_result"
    }
   ],
   "source": [
    "xgb_classifier.fit(X_train, y_train, eval_metric=xgb_f1, verbose=True)"
   ]
  },
  {
   "cell_type": "code",
   "execution_count": 114,
   "metadata": {},
   "outputs": [
    {
     "data": {
      "text/plain": [
       "0.9533227848101266"
      ]
     },
     "execution_count": 114,
     "metadata": {},
     "output_type": "execute_result"
    }
   ],
   "source": [
    "f1_score(xgb_classifier.predict(X_test), y_test)"
   ]
  },
  {
   "cell_type": "markdown",
   "metadata": {},
   "source": [
    "# Ensemble"
   ]
  },
  {
   "cell_type": "code",
   "execution_count": 115,
   "metadata": {},
   "outputs": [],
   "source": [
    "xgb_probas = list(map(lambda x: x[1], list(xgb_classifier.predict_proba(X_test))))"
   ]
  },
  {
   "cell_type": "code",
   "execution_count": 116,
   "metadata": {},
   "outputs": [],
   "source": [
    "gbm_probas = lightgbm_classifier.predict(X_test) # validation.drop(columns=['label'])"
   ]
  },
  {
   "cell_type": "code",
   "execution_count": 117,
   "metadata": {},
   "outputs": [],
   "source": [
    "cat_probas = list(map(lambda x: x[1], catboost_classifier.predict_proba(X_test)))"
   ]
  },
  {
   "cell_type": "code",
   "execution_count": 118,
   "metadata": {},
   "outputs": [],
   "source": [
    "ensemble = pd.DataFrame()"
   ]
  },
  {
   "cell_type": "code",
   "execution_count": 119,
   "metadata": {},
   "outputs": [],
   "source": [
    "ensemble['xgb'] = xgb_probas"
   ]
  },
  {
   "cell_type": "code",
   "execution_count": 120,
   "metadata": {},
   "outputs": [],
   "source": [
    "ensemble['gbm'] = gbm_probas"
   ]
  },
  {
   "cell_type": "code",
   "execution_count": 121,
   "metadata": {},
   "outputs": [],
   "source": [
    "ensemble['cat'] = cat_probas"
   ]
  },
  {
   "cell_type": "code",
   "execution_count": 145,
   "metadata": {},
   "outputs": [],
   "source": [
    "X_ensemble_train, X_ensemble_test, y_ensemble_train, y_ensemble_test = train_test_split(ensemble, y_test, test_size=0.50, shuffle=True)"
   ]
  },
  {
   "cell_type": "code",
   "execution_count": 146,
   "metadata": {},
   "outputs": [],
   "source": [
    "ens = CatBoostClassifier(depth=2, iterations=1000, eval_metric='F1')"
   ]
  },
  {
   "cell_type": "code",
   "execution_count": null,
   "metadata": {},
   "outputs": [],
   "source": [
    "f1_score(ens.predict(X_ensemble_test), y_ensemble_test)"
   ]
  },
  {
   "cell_type": "code",
   "execution_count": 119,
   "metadata": {},
   "outputs": [
    {
     "name": "stdout",
     "output_type": "stream",
     "text": [
      "call me vovamolodec.jsonl\n"
     ]
    }
   ],
   "source": [
    "save_predictions(ens.predict(ensemble), filename=\"vovamolodec\")"
   ]
  },
  {
   "cell_type": "code",
   "execution_count": 85,
   "metadata": {},
   "outputs": [
    {
     "data": {
      "text/plain": [
       "array([0.00222571, 0.0041309 , 0.98454024, ..., 0.00386887, 0.98150476,\n",
       "       0.98958818])"
      ]
     },
     "execution_count": 85,
     "metadata": {},
     "output_type": "execute_result"
    }
   ],
   "source": [
    "np.load('data/probatestttt.npy')"
   ]
  },
  {
   "cell_type": "markdown",
   "metadata": {},
   "source": [
    "# Genius regression (NO!)"
   ]
  },
  {
   "cell_type": "code",
   "execution_count": 212,
   "metadata": {},
   "outputs": [],
   "source": [
    "def process_probabilities(data):\n",
    "    temp = pd.concat([pd.DataFrame(data.index), pd.DataFrame(list(map(lambda x: x[1], catboost_classifier.predict_proba(data))), columns=['predicted_probability'])], axis=1)\n",
    "    temp = pd.merge(temp, train[['question_idx', 'answer_idx']], on='answer_idx')\n",
    "    temp = temp[['question_idx', 'predicted_probability']].groupby('question_idx').agg(['mean', 'std', 'median', 'max', 'min', 'sum', square_mean, geometric_mean, harmonic_mean])\n",
    "    temp.columns = ['_'.join(col).strip() for col in temp.columns.values]\n",
    "    temp = pd.merge(temp, train[['question_idx', 'answers_amount']], on='question_idx', how='inner').drop_duplicates('question_idx')\n",
    "    temp = pd.merge(temp, train[['label', 'question_idx']].groupby('question_idx').sum(), on='question_idx', how='inner')\n",
    "    temp = temp.set_index('question_idx')\n",
    "    temp = temp.fillna(0)\n",
    "    return temp"
   ]
  },
  {
   "cell_type": "code",
   "execution_count": 162,
   "metadata": {},
   "outputs": [
    {
     "data": {
      "text/plain": [
       "array([0.95833608, 0.07738942, 0.06259   , ..., 0.00998107, 0.94316109,\n",
       "       0.00524368])"
      ]
     },
     "execution_count": 162,
     "metadata": {},
     "output_type": "execute_result"
    }
   ],
   "source": [
    "lightgbm_classifier.predict(X_train)"
   ]
  },
  {
   "cell_type": "code",
   "execution_count": 241,
   "metadata": {},
   "outputs": [],
   "source": [
    "X_to_tune_train, X_to_tune_test, y_to_tune_train, y_to_tune_test = train_test_split(X_test, y_test, test_size=0.50709, shuffle=False)"
   ]
  },
  {
   "cell_type": "code",
   "execution_count": 269,
   "metadata": {},
   "outputs": [
    {
     "name": "stderr",
     "output_type": "stream",
     "text": [
      "/opt/conda/lib/python3.8/site-packages/pandas/core/dtypes/cast.py:252: ComplexWarning: Casting complex values to real discards the imaginary part\n",
      "  return result.astype(dtype)\n"
     ]
    }
   ],
   "source": [
    "X_tune_train = process_probabilities(X_to_tune_train)\n",
    "X_tune_train = X_tune_train.drop(columns=[col for col in X_tune_train.columns if 'label' in col])\n",
    "y_tune_train = process_probabilities(X_to_tune_train)['label']"
   ]
  },
  {
   "cell_type": "code",
   "execution_count": 270,
   "metadata": {},
   "outputs": [],
   "source": [
    "X_tune_test = process_probabilities(X_to_tune_test)\n",
    "X_tune_test = X_tune_test.drop(columns=[col for col in X_tune_test.columns if 'label' in col])\n",
    "y_tune_test = process_probabilities(X_to_tune_test)['label']"
   ]
  },
  {
   "cell_type": "code",
   "execution_count": 117,
   "metadata": {},
   "outputs": [],
   "source": [
    "X_tune = process_probabilities(X_test).drop(columns=['label'])"
   ]
  },
  {
   "cell_type": "code",
   "execution_count": null,
   "metadata": {},
   "outputs": [],
   "source": []
  },
  {
   "cell_type": "code",
   "execution_count": 116,
   "metadata": {},
   "outputs": [],
   "source": [
    "X_tune = process_probabilities(X_test).drop(columns=['label'])"
   ]
  },
  {
   "cell_type": "code",
   "execution_count": 118,
   "metadata": {},
   "outputs": [],
   "source": [
    "y_tune = pd.merge(y_test, train[['question_idx', 'answer_idx']], on='answer_idx')[['question_idx', 'label']].groupby('question_idx').sum()"
   ]
  },
  {
   "cell_type": "code",
   "execution_count": 69,
   "metadata": {},
   "outputs": [
    {
     "data": {
      "text/html": [
       "<div>\n",
       "<style scoped>\n",
       "    .dataframe tbody tr th:only-of-type {\n",
       "        vertical-align: middle;\n",
       "    }\n",
       "\n",
       "    .dataframe tbody tr th {\n",
       "        vertical-align: top;\n",
       "    }\n",
       "\n",
       "    .dataframe thead th {\n",
       "        text-align: right;\n",
       "    }\n",
       "</style>\n",
       "<table border=\"1\" class=\"dataframe\">\n",
       "  <thead>\n",
       "    <tr style=\"text-align: right;\">\n",
       "      <th></th>\n",
       "      <th>label</th>\n",
       "    </tr>\n",
       "    <tr>\n",
       "      <th>question_idx</th>\n",
       "      <th></th>\n",
       "    </tr>\n",
       "  </thead>\n",
       "  <tbody>\n",
       "    <tr>\n",
       "      <th>2754</th>\n",
       "      <td>1.0</td>\n",
       "    </tr>\n",
       "    <tr>\n",
       "      <th>2755</th>\n",
       "      <td>1.0</td>\n",
       "    </tr>\n",
       "    <tr>\n",
       "      <th>2756</th>\n",
       "      <td>1.0</td>\n",
       "    </tr>\n",
       "    <tr>\n",
       "      <th>2757</th>\n",
       "      <td>2.0</td>\n",
       "    </tr>\n",
       "    <tr>\n",
       "      <th>2758</th>\n",
       "      <td>2.0</td>\n",
       "    </tr>\n",
       "    <tr>\n",
       "      <th>...</th>\n",
       "      <td>...</td>\n",
       "    </tr>\n",
       "    <tr>\n",
       "      <th>3421</th>\n",
       "      <td>2.0</td>\n",
       "    </tr>\n",
       "    <tr>\n",
       "      <th>3422</th>\n",
       "      <td>2.0</td>\n",
       "    </tr>\n",
       "    <tr>\n",
       "      <th>3423</th>\n",
       "      <td>2.0</td>\n",
       "    </tr>\n",
       "    <tr>\n",
       "      <th>3424</th>\n",
       "      <td>2.0</td>\n",
       "    </tr>\n",
       "    <tr>\n",
       "      <th>3425</th>\n",
       "      <td>2.0</td>\n",
       "    </tr>\n",
       "  </tbody>\n",
       "</table>\n",
       "<p>672 rows × 1 columns</p>\n",
       "</div>"
      ],
      "text/plain": [
       "              label\n",
       "question_idx       \n",
       "2754            1.0\n",
       "2755            1.0\n",
       "2756            1.0\n",
       "2757            2.0\n",
       "2758            2.0\n",
       "...             ...\n",
       "3421            2.0\n",
       "3422            2.0\n",
       "3423            2.0\n",
       "3424            2.0\n",
       "3425            2.0\n",
       "\n",
       "[672 rows x 1 columns]"
      ]
     },
     "execution_count": 69,
     "metadata": {},
     "output_type": "execute_result"
    }
   ],
   "source": [
    "y_tune"
   ]
  },
  {
   "cell_type": "code",
   "execution_count": 106,
   "metadata": {},
   "outputs": [],
   "source": [
    "X_tune_train, X_tune_test, y_tune_train, y_tune_test = train_test_split(X_tune, y_tune, test_size=0.50, shuffle=False)"
   ]
  },
  {
   "cell_type": "code",
   "execution_count": 277,
   "metadata": {},
   "outputs": [],
   "source": [
    "tuner = CatBoostClassifier(depth=4, iterations=125, learning_rate=0.105615)"
   ]
  },
  {
   "cell_type": "code",
   "execution_count": 278,
   "metadata": {
    "scrolled": true
   },
   "outputs": [
    {
     "name": "stdout",
     "output_type": "stream",
     "text": [
      "0:\tlearn: 1.1568503\ttest: 1.1755557\tbest: 1.1755557 (0)\ttotal: 155ms\tremaining: 19.2s\n",
      "1:\tlearn: 1.0139731\ttest: 1.0441050\tbest: 1.0441050 (1)\ttotal: 308ms\tremaining: 18.9s\n",
      "2:\tlearn: 0.8999715\ttest: 0.9399861\tbest: 0.9399861 (2)\ttotal: 469ms\tremaining: 19.1s\n",
      "3:\tlearn: 0.7957350\ttest: 0.8504528\tbest: 0.8504528 (3)\ttotal: 633ms\tremaining: 19.1s\n",
      "4:\tlearn: 0.7152887\ttest: 0.7808175\tbest: 0.7808175 (4)\ttotal: 795ms\tremaining: 19.1s\n",
      "5:\tlearn: 0.6514372\ttest: 0.7243100\tbest: 0.7243100 (5)\ttotal: 955ms\tremaining: 18.9s\n",
      "6:\tlearn: 0.5983227\ttest: 0.6764765\tbest: 0.6764765 (6)\ttotal: 1.11s\tremaining: 18.8s\n",
      "7:\tlearn: 0.5520228\ttest: 0.6333256\tbest: 0.6333256 (7)\ttotal: 1.27s\tremaining: 18.6s\n",
      "8:\tlearn: 0.5110437\ttest: 0.6001402\tbest: 0.6001402 (8)\ttotal: 1.44s\tremaining: 18.6s\n",
      "9:\tlearn: 0.4770016\ttest: 0.5718659\tbest: 0.5718659 (9)\ttotal: 1.6s\tremaining: 18.4s\n",
      "10:\tlearn: 0.4453465\ttest: 0.5460700\tbest: 0.5460700 (10)\ttotal: 1.75s\tremaining: 18.2s\n",
      "11:\tlearn: 0.4168149\ttest: 0.5231515\tbest: 0.5231515 (11)\ttotal: 1.91s\tremaining: 18s\n",
      "12:\tlearn: 0.3930141\ttest: 0.5043551\tbest: 0.5043551 (12)\ttotal: 2.07s\tremaining: 17.8s\n",
      "13:\tlearn: 0.3715920\ttest: 0.4869590\tbest: 0.4869590 (13)\ttotal: 2.22s\tremaining: 17.6s\n",
      "14:\tlearn: 0.3510559\ttest: 0.4694430\tbest: 0.4694430 (14)\ttotal: 2.38s\tremaining: 17.4s\n",
      "15:\tlearn: 0.3327689\ttest: 0.4563079\tbest: 0.4563079 (15)\ttotal: 2.53s\tremaining: 17.3s\n",
      "16:\tlearn: 0.3170752\ttest: 0.4430802\tbest: 0.4430802 (16)\ttotal: 2.69s\tremaining: 17.1s\n",
      "17:\tlearn: 0.3024845\ttest: 0.4333772\tbest: 0.4333772 (17)\ttotal: 2.85s\tremaining: 16.9s\n",
      "18:\tlearn: 0.2894377\ttest: 0.4228070\tbest: 0.4228070 (18)\ttotal: 3s\tremaining: 16.8s\n",
      "19:\tlearn: 0.2789887\ttest: 0.4160743\tbest: 0.4160743 (19)\ttotal: 3.16s\tremaining: 16.6s\n",
      "20:\tlearn: 0.2703237\ttest: 0.4098226\tbest: 0.4098226 (20)\ttotal: 3.32s\tremaining: 16.4s\n",
      "21:\tlearn: 0.2607876\ttest: 0.4027902\tbest: 0.4027902 (21)\ttotal: 3.48s\tremaining: 16.3s\n",
      "22:\tlearn: 0.2523948\ttest: 0.3968801\tbest: 0.3968801 (22)\ttotal: 3.64s\tremaining: 16.2s\n",
      "23:\tlearn: 0.2442923\ttest: 0.3907746\tbest: 0.3907746 (23)\ttotal: 3.8s\tremaining: 16s\n",
      "24:\tlearn: 0.2372139\ttest: 0.3862490\tbest: 0.3862490 (24)\ttotal: 3.95s\tremaining: 15.8s\n",
      "25:\tlearn: 0.2309531\ttest: 0.3821352\tbest: 0.3821352 (25)\ttotal: 4.11s\tremaining: 15.7s\n",
      "26:\tlearn: 0.2252874\ttest: 0.3792261\tbest: 0.3792261 (26)\ttotal: 4.27s\tremaining: 15.5s\n",
      "27:\tlearn: 0.2201583\ttest: 0.3763346\tbest: 0.3763346 (27)\ttotal: 4.43s\tremaining: 15.3s\n",
      "28:\tlearn: 0.2125132\ttest: 0.3715845\tbest: 0.3715845 (28)\ttotal: 4.58s\tremaining: 15.2s\n",
      "29:\tlearn: 0.2078351\ttest: 0.3691906\tbest: 0.3691906 (29)\ttotal: 4.74s\tremaining: 15s\n",
      "30:\tlearn: 0.2026891\ttest: 0.3677208\tbest: 0.3677208 (30)\ttotal: 4.9s\tremaining: 14.9s\n",
      "31:\tlearn: 0.1982522\ttest: 0.3664401\tbest: 0.3664401 (31)\ttotal: 5.06s\tremaining: 14.7s\n",
      "32:\tlearn: 0.1952364\ttest: 0.3649055\tbest: 0.3649055 (32)\ttotal: 5.22s\tremaining: 14.5s\n",
      "33:\tlearn: 0.1921410\ttest: 0.3644747\tbest: 0.3644747 (33)\ttotal: 5.37s\tremaining: 14.4s\n",
      "34:\tlearn: 0.1896853\ttest: 0.3632713\tbest: 0.3632713 (34)\ttotal: 5.53s\tremaining: 14.2s\n",
      "35:\tlearn: 0.1869983\ttest: 0.3624047\tbest: 0.3624047 (35)\ttotal: 5.68s\tremaining: 14.1s\n",
      "36:\tlearn: 0.1837303\ttest: 0.3607201\tbest: 0.3607201 (36)\ttotal: 5.84s\tremaining: 13.9s\n",
      "37:\tlearn: 0.1795020\ttest: 0.3585795\tbest: 0.3585795 (37)\ttotal: 6s\tremaining: 13.7s\n",
      "38:\tlearn: 0.1771568\ttest: 0.3578686\tbest: 0.3578686 (38)\ttotal: 6.16s\tremaining: 13.6s\n",
      "39:\tlearn: 0.1750883\ttest: 0.3571070\tbest: 0.3571070 (39)\ttotal: 6.32s\tremaining: 13.4s\n",
      "40:\tlearn: 0.1729328\ttest: 0.3563322\tbest: 0.3563322 (40)\ttotal: 6.48s\tremaining: 13.3s\n",
      "41:\tlearn: 0.1713160\ttest: 0.3560463\tbest: 0.3560463 (41)\ttotal: 6.64s\tremaining: 13.1s\n",
      "42:\tlearn: 0.1696196\ttest: 0.3549817\tbest: 0.3549817 (42)\ttotal: 6.8s\tremaining: 13s\n",
      "43:\tlearn: 0.1673401\ttest: 0.3547774\tbest: 0.3547774 (43)\ttotal: 6.96s\tremaining: 12.8s\n",
      "44:\tlearn: 0.1643362\ttest: 0.3542360\tbest: 0.3542360 (44)\ttotal: 7.12s\tremaining: 12.7s\n",
      "45:\tlearn: 0.1619509\ttest: 0.3538051\tbest: 0.3538051 (45)\ttotal: 7.28s\tremaining: 12.5s\n",
      "46:\tlearn: 0.1600067\ttest: 0.3535328\tbest: 0.3535328 (46)\ttotal: 7.43s\tremaining: 12.3s\n",
      "47:\tlearn: 0.1587776\ttest: 0.3528215\tbest: 0.3528215 (47)\ttotal: 7.59s\tremaining: 12.2s\n",
      "48:\tlearn: 0.1547753\ttest: 0.3518151\tbest: 0.3518151 (48)\ttotal: 7.75s\tremaining: 12s\n",
      "49:\tlearn: 0.1513372\ttest: 0.3505788\tbest: 0.3505788 (49)\ttotal: 7.9s\tremaining: 11.8s\n",
      "50:\tlearn: 0.1492935\ttest: 0.3495169\tbest: 0.3495169 (50)\ttotal: 8.3s\tremaining: 12s\n",
      "51:\tlearn: 0.1471519\ttest: 0.3490942\tbest: 0.3490942 (51)\ttotal: 8.46s\tremaining: 11.9s\n",
      "52:\tlearn: 0.1450090\ttest: 0.3492150\tbest: 0.3490942 (51)\ttotal: 8.62s\tremaining: 11.7s\n",
      "53:\tlearn: 0.1436605\ttest: 0.3489022\tbest: 0.3489022 (53)\ttotal: 8.77s\tremaining: 11.5s\n",
      "54:\tlearn: 0.1418434\ttest: 0.3485114\tbest: 0.3485114 (54)\ttotal: 8.93s\tremaining: 11.4s\n",
      "55:\tlearn: 0.1391275\ttest: 0.3498316\tbest: 0.3485114 (54)\ttotal: 9.09s\tremaining: 11.2s\n",
      "56:\tlearn: 0.1368208\ttest: 0.3506700\tbest: 0.3485114 (54)\ttotal: 9.25s\tremaining: 11s\n",
      "57:\tlearn: 0.1349132\ttest: 0.3501526\tbest: 0.3485114 (54)\ttotal: 9.4s\tremaining: 10.9s\n",
      "58:\tlearn: 0.1335828\ttest: 0.3507468\tbest: 0.3485114 (54)\ttotal: 9.56s\tremaining: 10.7s\n",
      "59:\tlearn: 0.1318267\ttest: 0.3502915\tbest: 0.3485114 (54)\ttotal: 9.72s\tremaining: 10.5s\n",
      "60:\tlearn: 0.1311699\ttest: 0.3505308\tbest: 0.3485114 (54)\ttotal: 9.88s\tremaining: 10.4s\n",
      "61:\tlearn: 0.1296025\ttest: 0.3506780\tbest: 0.3485114 (54)\ttotal: 10s\tremaining: 10.2s\n",
      "62:\tlearn: 0.1279445\ttest: 0.3513567\tbest: 0.3485114 (54)\ttotal: 10.2s\tremaining: 10s\n",
      "63:\tlearn: 0.1262876\ttest: 0.3520343\tbest: 0.3485114 (54)\ttotal: 10.4s\tremaining: 9.88s\n",
      "64:\tlearn: 0.1242240\ttest: 0.3519533\tbest: 0.3485114 (54)\ttotal: 10.5s\tremaining: 9.72s\n",
      "65:\tlearn: 0.1233503\ttest: 0.3518522\tbest: 0.3485114 (54)\ttotal: 10.7s\tremaining: 9.56s\n",
      "66:\tlearn: 0.1220809\ttest: 0.3511850\tbest: 0.3485114 (54)\ttotal: 10.9s\tremaining: 9.39s\n",
      "67:\tlearn: 0.1197828\ttest: 0.3505955\tbest: 0.3485114 (54)\ttotal: 11s\tremaining: 9.24s\n",
      "68:\tlearn: 0.1185369\ttest: 0.3503360\tbest: 0.3485114 (54)\ttotal: 11.2s\tremaining: 9.07s\n",
      "69:\tlearn: 0.1173962\ttest: 0.3494929\tbest: 0.3485114 (54)\ttotal: 11.3s\tremaining: 8.9s\n",
      "70:\tlearn: 0.1159373\ttest: 0.3503776\tbest: 0.3485114 (54)\ttotal: 11.5s\tremaining: 8.74s\n",
      "71:\tlearn: 0.1148634\ttest: 0.3505548\tbest: 0.3485114 (54)\ttotal: 11.7s\tremaining: 8.58s\n",
      "72:\tlearn: 0.1134857\ttest: 0.3496947\tbest: 0.3485114 (54)\ttotal: 11.8s\tremaining: 8.41s\n",
      "73:\tlearn: 0.1122770\ttest: 0.3490874\tbest: 0.3485114 (54)\ttotal: 12s\tremaining: 8.25s\n",
      "74:\tlearn: 0.1115668\ttest: 0.3489915\tbest: 0.3485114 (54)\ttotal: 12.1s\tremaining: 8.08s\n",
      "75:\tlearn: 0.1106753\ttest: 0.3486703\tbest: 0.3485114 (54)\ttotal: 12.3s\tremaining: 7.92s\n",
      "76:\tlearn: 0.1086278\ttest: 0.3469957\tbest: 0.3469957 (76)\ttotal: 12.4s\tremaining: 7.76s\n",
      "77:\tlearn: 0.1079250\ttest: 0.3473991\tbest: 0.3469957 (76)\ttotal: 12.6s\tremaining: 7.59s\n",
      "78:\tlearn: 0.1072042\ttest: 0.3473508\tbest: 0.3469957 (76)\ttotal: 12.8s\tremaining: 7.43s\n",
      "79:\tlearn: 0.1047200\ttest: 0.3457599\tbest: 0.3457599 (79)\ttotal: 12.9s\tremaining: 7.27s\n",
      "80:\tlearn: 0.1040762\ttest: 0.3462870\tbest: 0.3457599 (79)\ttotal: 13.1s\tremaining: 7.11s\n",
      "81:\tlearn: 0.1023934\ttest: 0.3457030\tbest: 0.3457030 (81)\ttotal: 13.2s\tremaining: 6.95s\n",
      "82:\tlearn: 0.1013798\ttest: 0.3456573\tbest: 0.3456573 (82)\ttotal: 13.4s\tremaining: 6.78s\n",
      "83:\tlearn: 0.0999874\ttest: 0.3456363\tbest: 0.3456363 (83)\ttotal: 13.6s\tremaining: 6.62s\n",
      "84:\tlearn: 0.0979476\ttest: 0.3451312\tbest: 0.3451312 (84)\ttotal: 13.7s\tremaining: 6.45s\n",
      "85:\tlearn: 0.0968013\ttest: 0.3453886\tbest: 0.3451312 (84)\ttotal: 13.9s\tremaining: 6.29s\n",
      "86:\tlearn: 0.0959624\ttest: 0.3456280\tbest: 0.3451312 (84)\ttotal: 14s\tremaining: 6.13s\n",
      "87:\tlearn: 0.0934762\ttest: 0.3449563\tbest: 0.3449563 (87)\ttotal: 14.2s\tremaining: 5.96s\n",
      "88:\tlearn: 0.0929572\ttest: 0.3447579\tbest: 0.3447579 (88)\ttotal: 14.3s\tremaining: 5.8s\n",
      "89:\tlearn: 0.0925020\ttest: 0.3441062\tbest: 0.3441062 (89)\ttotal: 14.5s\tremaining: 5.64s\n",
      "90:\tlearn: 0.0909449\ttest: 0.3431903\tbest: 0.3431903 (90)\ttotal: 14.7s\tremaining: 5.47s\n",
      "91:\tlearn: 0.0892152\ttest: 0.3422763\tbest: 0.3422763 (91)\ttotal: 14.8s\tremaining: 5.31s\n",
      "92:\tlearn: 0.0887757\ttest: 0.3421072\tbest: 0.3421072 (92)\ttotal: 15s\tremaining: 5.15s\n",
      "93:\tlearn: 0.0873540\ttest: 0.3410144\tbest: 0.3410144 (93)\ttotal: 15.1s\tremaining: 4.99s\n",
      "94:\tlearn: 0.0863130\ttest: 0.3411395\tbest: 0.3410144 (93)\ttotal: 15.3s\tremaining: 4.83s\n",
      "95:\tlearn: 0.0853643\ttest: 0.3417430\tbest: 0.3410144 (93)\ttotal: 15.4s\tremaining: 4.67s\n",
      "96:\tlearn: 0.0847722\ttest: 0.3415411\tbest: 0.3410144 (93)\ttotal: 15.6s\tremaining: 4.51s\n",
      "97:\tlearn: 0.0843651\ttest: 0.3415965\tbest: 0.3410144 (93)\ttotal: 15.8s\tremaining: 4.34s\n",
      "98:\tlearn: 0.0839162\ttest: 0.3413969\tbest: 0.3410144 (93)\ttotal: 15.9s\tremaining: 4.18s\n",
      "99:\tlearn: 0.0829046\ttest: 0.3410443\tbest: 0.3410144 (93)\ttotal: 16.1s\tremaining: 4.02s\n",
      "100:\tlearn: 0.0821223\ttest: 0.3407796\tbest: 0.3407796 (100)\ttotal: 16.3s\tremaining: 3.86s\n",
      "101:\tlearn: 0.0817184\ttest: 0.3407333\tbest: 0.3407333 (101)\ttotal: 16.4s\tremaining: 3.7s\n",
      "102:\tlearn: 0.0812149\ttest: 0.3404485\tbest: 0.3404485 (102)\ttotal: 16.6s\tremaining: 3.54s\n",
      "103:\tlearn: 0.0801150\ttest: 0.3407969\tbest: 0.3404485 (102)\ttotal: 16.7s\tremaining: 3.38s\n",
      "104:\tlearn: 0.0788764\ttest: 0.3408289\tbest: 0.3404485 (102)\ttotal: 18.6s\tremaining: 3.54s\n",
      "105:\tlearn: 0.0780822\ttest: 0.3409734\tbest: 0.3404485 (102)\ttotal: 18.7s\tremaining: 3.35s\n",
      "106:\tlearn: 0.0769140\ttest: 0.3410665\tbest: 0.3404485 (102)\ttotal: 18.9s\tremaining: 3.17s\n",
      "107:\tlearn: 0.0766337\ttest: 0.3408052\tbest: 0.3404485 (102)\ttotal: 19s\tremaining: 3s\n",
      "108:\tlearn: 0.0762774\ttest: 0.3403673\tbest: 0.3403673 (108)\ttotal: 19.2s\tremaining: 2.82s\n",
      "109:\tlearn: 0.0759715\ttest: 0.3403330\tbest: 0.3403330 (109)\ttotal: 19.3s\tremaining: 2.64s\n",
      "110:\tlearn: 0.0753913\ttest: 0.3405173\tbest: 0.3403330 (109)\ttotal: 19.5s\tremaining: 2.46s\n",
      "111:\tlearn: 0.0739533\ttest: 0.3399051\tbest: 0.3399051 (111)\ttotal: 19.7s\tremaining: 2.28s\n",
      "112:\tlearn: 0.0725753\ttest: 0.3394780\tbest: 0.3394780 (112)\ttotal: 19.8s\tremaining: 2.1s\n",
      "113:\tlearn: 0.0718729\ttest: 0.3390234\tbest: 0.3390234 (113)\ttotal: 20s\tremaining: 1.93s\n",
      "114:\tlearn: 0.0712944\ttest: 0.3384883\tbest: 0.3384883 (114)\ttotal: 20.1s\tremaining: 1.75s\n",
      "115:\tlearn: 0.0708712\ttest: 0.3388938\tbest: 0.3384883 (114)\ttotal: 20.3s\tremaining: 1.57s\n",
      "116:\tlearn: 0.0702003\ttest: 0.3389032\tbest: 0.3384883 (114)\ttotal: 20.4s\tremaining: 1.4s\n",
      "117:\tlearn: 0.0698556\ttest: 0.3388955\tbest: 0.3384883 (114)\ttotal: 20.6s\tremaining: 1.22s\n",
      "118:\tlearn: 0.0692813\ttest: 0.3392981\tbest: 0.3384883 (114)\ttotal: 20.8s\tremaining: 1.05s\n",
      "119:\tlearn: 0.0690254\ttest: 0.3390681\tbest: 0.3384883 (114)\ttotal: 20.9s\tremaining: 871ms\n",
      "120:\tlearn: 0.0687966\ttest: 0.3388665\tbest: 0.3384883 (114)\ttotal: 21.1s\tremaining: 697ms\n",
      "121:\tlearn: 0.0681950\ttest: 0.3394680\tbest: 0.3384883 (114)\ttotal: 21.2s\tremaining: 522ms\n",
      "122:\tlearn: 0.0671677\ttest: 0.3388060\tbest: 0.3384883 (114)\ttotal: 21.4s\tremaining: 348ms\n",
      "123:\tlearn: 0.0668796\ttest: 0.3384727\tbest: 0.3384727 (123)\ttotal: 21.5s\tremaining: 174ms\n",
      "124:\tlearn: 0.0663327\ttest: 0.3386377\tbest: 0.3384727 (123)\ttotal: 21.7s\tremaining: 0us\n",
      "\n",
      "bestTest = 0.3384726957\n",
      "bestIteration = 123\n",
      "\n",
      "Shrink model to first 124 iterations.\n"
     ]
    },
    {
     "data": {
      "text/plain": [
       "<catboost.core.CatBoostClassifier at 0x7f90e5d95130>"
      ]
     },
     "execution_count": 278,
     "metadata": {},
     "output_type": "execute_result"
    }
   ],
   "source": [
    "tuner.fit(X_tune_train, y_tune_train, eval_set=(X_tune_test, y_tune_test))"
   ]
  },
  {
   "cell_type": "code",
   "execution_count": 279,
   "metadata": {},
   "outputs": [
    {
     "data": {
      "text/plain": [
       "[(0.204650893325906,\n",
       "  'words_amount_in_answer_ru_std_by_question_geometric_mean'),\n",
       " (0.21572899884672253,\n",
       "  'original_bert_answers_similarity_by_use_top_8_std_by_question_sum'),\n",
       " (0.22554867910706294, 'same_words_answer_question_ru_square_mean'),\n",
       " (0.2269722963689778,\n",
       "  'original_bert_answers_similarity_by_roberta_top_1_mean_by_question_median'),\n",
       " (0.22726680256213308,\n",
       "  'original_roberta_answers_similarity_by_use_top_1_median_by_question_geometric_mean'),\n",
       " (0.22770951762268116,\n",
       "  'original_bert_answers_similarity_by_roberta_top_3_sum_by_question_mean'),\n",
       " (0.2288520404481081, 'original_bert_answers_similarity_by_use_mean_std'),\n",
       " (0.23018867215179045,\n",
       "  'sentence_answer_similarity_by_roberta_min_harmonic_mean_by_question_harmonic_mean'),\n",
       " (0.23369056021275816,\n",
       "  'sentence_answer_similarity_by_roberta_sum_square_mean_by_question_median'),\n",
       " (0.23421647626018047,\n",
       "  'original_bert_answers_similarity_by_use_median_geometric_mean_by_question_harmonic_mean'),\n",
       " (0.2359217058181931,\n",
       "  'sentence_answer_similarity_by_roberta_std_max_by_question_mean'),\n",
       " (0.23690602343290515, 'facebook_mnli_min_by_question_geometric_mean'),\n",
       " (0.23876443867450356,\n",
       "  'original_bert_answers_similarity_by_use_std_sum_by_question_sum'),\n",
       " (0.2394012711475241,\n",
       "  'original_bert_answers_similarity_by_use_max_geometric_mean_by_question_median'),\n",
       " (0.2396498494936994,\n",
       "  'original_bert_answers_similarity_by_roberta_std_mean_by_question_min'),\n",
       " (0.23991999669013012,\n",
       "  'context_answers_encoding_distance_by_roberta_max_by_question_mean'),\n",
       " (0.24336600059148497,\n",
       "  'original_roberta_answers_similarity_by_use_top_2_geometric_mean_by_question_harmonic_mean'),\n",
       " (0.25576162716633827,\n",
       "  'original_bert_answers_similarity_by_roberta_top_1_mean_by_question_harmonic_mean'),\n",
       " (0.25667036301638313,\n",
       "  'original_t5_answers_similarity_by_use_mean_by_question_geometric_mean'),\n",
       " (0.2656917614010699,\n",
       "  'original_bert_answers_similarity_by_roberta_std_std_by_question_sum'),\n",
       " (0.2760779064011779, 'original_bert_answers_similarity_by_roberta_min_mean'),\n",
       " (0.27629736046789183,\n",
       "  'original_roberta_answers_similarity_by_use_top_0_median_by_question_max'),\n",
       " (0.27867872383153003,\n",
       "  'original_roberta_answers_similarity_by_use_max_median_by_question_mean'),\n",
       " (0.2792114532634843,\n",
       "  'original_roberta_answers_similarity_by_use_top_1_harmonic_mean_by_question_median'),\n",
       " (0.2792433491592987,\n",
       "  'original_bert_answers_similarity_by_use_max_harmonic_mean_by_question_sum'),\n",
       " (0.2795673693532507,\n",
       "  'original_t5-3b_answers_similarity_by_roberta_mean_by_question_harmonic_mean'),\n",
       " (0.28876031810390296,\n",
       "  'original_bert_answers_similarity_by_roberta_max_std_by_question_sum'),\n",
       " (0.29029490124436924, 'quesitons_amount_sum'),\n",
       " (0.29112539256825287,\n",
       "  'original_bert_answers_similarity_by_use_top_0_mean_by_question_harmonic_mean'),\n",
       " (0.2954976181137727,\n",
       "  'original_bert_answers_similarity_by_use_top_7_sum_by_question_min'),\n",
       " (0.3115774872639648,\n",
       "  'sentence_answer_similarity_by_roberta_max_square_mean_by_question_max'),\n",
       " (0.3195456727142873,\n",
       "  'original_bert_answers_similarity_by_roberta_std_max_by_question_median'),\n",
       " (0.3326884708433466,\n",
       "  'original_bert_answers_similarity_by_use_top_0_harmonic_mean'),\n",
       " (0.33827870920747677,\n",
       "  'sentence_answer_similarity_by_roberta_mean_mean_by_question_harmonic_mean'),\n",
       " (0.3514279655423983,\n",
       "  'words_amount_in_answer_ru_square_mean_by_question_median'),\n",
       " (0.3568285267137782,\n",
       "  'sentence_answer_similarity_by_roberta_sum_min_by_question_sum'),\n",
       " (0.3587002268592562,\n",
       "  'sentence_answer_similarity_by_roberta_max_median_by_question_median'),\n",
       " (0.36540454326612104,\n",
       "  'original_bert_answers_similarity_by_roberta_min_harmonic_mean_by_question_min'),\n",
       " (0.3700607385160565,\n",
       "  'original_roberta_answers_similarity_by_use_std_std_by_question_median'),\n",
       " (0.384342964999049,\n",
       "  'sentence_answer_similarity_by_roberta_mean_harmonic_mean_by_question_geometric_mean'),\n",
       " (0.3843468464604865, 'facebook_mnli_median_by_question_mean'),\n",
       " (0.38825413246486584,\n",
       "  'original_roberta_answers_similarity_by_use_top_0_min_by_question_max'),\n",
       " (0.3892899160794105,\n",
       "  'original_t5-3b_answers_similarity_by_roberta_mean_by_question_sum'),\n",
       " (0.39370806561229116,\n",
       "  'sentence_answer_similarity_by_roberta_std_sum_by_question_geometric_mean'),\n",
       " (0.3983372181227341,\n",
       "  'original_bert_answers_similarity_by_roberta_median_sum'),\n",
       " (0.39878969164848677,\n",
       "  'original_bert_answers_similarity_by_roberta_top_0_std_by_question_median'),\n",
       " (0.40512545437811914, 'original_bert_answers_similarity_by_use_top_7_std'),\n",
       " (0.40612919273307657,\n",
       "  'sentence_answer_similarity_by_roberta_std_min_by_question_square_mean'),\n",
       " (0.406782348906604,\n",
       "  'context_answers_encoding_distance_by_roberta_sum_by_question_median'),\n",
       " (0.4133285971720901,\n",
       "  'sentence_answer_similarity_by_roberta_max_sum_by_question_square_mean'),\n",
       " (0.42801453497628955,\n",
       "  'original_roberta_answers_similarity_by_use_max_square_mean_by_question_median'),\n",
       " (0.42968820694879006,\n",
       "  'original_bert_answers_similarity_by_roberta_top_1_min_by_question_mean'),\n",
       " (0.43141198060917996,\n",
       "  'original_bert_answers_similarity_by_roberta_top_1_std_by_question_median'),\n",
       " (0.4423938963187104,\n",
       "  'original_bert_answers_similarity_by_roberta_top_3_sum_by_question_geometric_mean'),\n",
       " (0.44709300077310093,\n",
       "  'sentence_answer_similarity_by_roberta_min_median_by_question_median'),\n",
       " (0.45814942443188117,\n",
       "  'original_roberta_answers_similarity_by_use_top_2_geometric_mean_by_question_max'),\n",
       " (0.4700956797290995,\n",
       "  'original_roberta_answers_similarity_by_use_min_sum_by_question_square_mean'),\n",
       " (0.5081590605777931,\n",
       "  'sentence_answer_similarity_by_roberta_mean_square_mean'),\n",
       " (0.5242601022692505,\n",
       "  'original_roberta_answers_similarity_by_use_mean_harmonic_mean'),\n",
       " (0.544868012735179,\n",
       "  'original_bert_answers_similarity_by_use_min_max_by_question_sum'),\n",
       " (0.5477755269388211,\n",
       "  'same_words_context_answer_ru_square_mean_by_question_sum'),\n",
       " (0.5705126760704402, 'facebook_mnli_square_mean_by_question_min'),\n",
       " (0.5709574827748054, 'original_t5_answers_similarity_by_use_std'),\n",
       " (0.5744645381197668, 'context_idx_sum'),\n",
       " (0.5953115116867962,\n",
       "  'sentence_answer_similarity_by_roberta_median_min_by_question_max'),\n",
       " (0.6005603096235427, 'facebook_mnli_square_mean_by_question_median'),\n",
       " (0.6088408684020845,\n",
       "  'original_bert_answers_similarity_by_roberta_max_mean_by_question_sum'),\n",
       " (0.608954221135175,\n",
       "  'sentence_answer_similarity_by_roberta_std_square_mean_by_question_sum'),\n",
       " (0.6115559274608714,\n",
       "  'original_bert_answers_similarity_by_use_min_max_by_question_square_mean'),\n",
       " (0.6211575100818196,\n",
       "  'sentence_answer_similarity_by_roberta_sum_max_by_question_square_mean'),\n",
       " (0.6234149846890294, 'original_bert_answers_similarity_by_use_mean_min'),\n",
       " (0.6329189288046323,\n",
       "  'original_bert_answers_similarity_by_roberta_top_1_min_by_question_square_mean'),\n",
       " (0.634648848427626,\n",
       "  'stems_same_stems_ratio_answer_ru_sum_by_question_geometric_mean'),\n",
       " (0.7187015471669536, 'facebook_mnli_square_mean_by_question_square_mean'),\n",
       " (0.7756403790309238, 'words_amount_in_context_en_sum'),\n",
       " (0.7807205832959876,\n",
       "  'sentence_answer_similarity_by_roberta_sum_max_by_question_min'),\n",
       " (0.8599221126777807, 'answer_old_idx_std'),\n",
       " (0.8667635611377994, 'facebook_mnli_square_mean_by_question_mean'),\n",
       " (0.8768071037316096, 'facebook_mnli_square_mean_by_question_geometric_mean'),\n",
       " (0.8800641310350311, 'answers_amount_sum'),\n",
       " (0.9270437561041172,\n",
       "  'sentence_answer_similarity_by_roberta_mean_sum_by_question_max'),\n",
       " (0.9503851155482445,\n",
       "  'sentence_answer_similarity_by_roberta_max_mean_by_question_sum'),\n",
       " (0.9620116371391457,\n",
       "  'sentence_answer_similarity_by_roberta_std_sum_by_question_min'),\n",
       " (1.0986631042019155, 'answers_amount_median'),\n",
       " (1.1245098458454907, 'stems_amount_in_context_en_sum'),\n",
       " (1.3416891929112387, 'facebook_mnli_square_mean_by_question_max'),\n",
       " (1.3736844816941156, 'stems_same_stems_ratio_answer_ru_min_by_question_sum'),\n",
       " (1.5446165938017538, 'words_amount_in_context_ru_sum'),\n",
       " (1.5588684364561636, 'stems_same_stems_ratio_answer_ru_sum_by_question_sum'),\n",
       " (1.570046693531317, 'stems_same_stems_ratio_answer_en_mean_by_question_sum'),\n",
       " (1.5875312735623888,\n",
       "  'sentence_answer_similarity_by_roberta_median_harmonic_mean'),\n",
       " (1.7632772351910564, 'answers_amount_max'),\n",
       " (2.1745949636347435, 'stems_same_stems_ratio_answer_ru_mean_by_question_sum'),\n",
       " (2.5576285405102004, 'facebook_mnli_median_by_question_max'),\n",
       " (3.5066549959974056, 'stems_amount_in_context_ru_sum'),\n",
       " (4.553894938927889,\n",
       "  'stems_same_stems_ratio_answer_ru_geometric_mean_by_question_sum'),\n",
       " (4.764066559853422, 'facebook_mnli_mean_by_question_max'),\n",
       " (4.981679935823536, 'facebook_mnli_mean_by_question_harmonic_mean'),\n",
       " (5.215426928977097, 'stems_same_stems_ratio_answer_ru_max_by_question_sum'),\n",
       " (5.678302960517291, 'answer_idx_std')]"
      ]
     },
     "execution_count": 279,
     "metadata": {},
     "output_type": "execute_result"
    }
   ],
   "source": [
    "sorted(list(zip(tuner.get_feature_importance(), X_tune_train.columns)))[-100:]"
   ]
  },
  {
   "cell_type": "code",
   "execution_count": 274,
   "metadata": {},
   "outputs": [
    {
     "data": {
      "text/plain": [
       "0.9149560117302052"
      ]
     },
     "execution_count": 274,
     "metadata": {},
     "output_type": "execute_result"
    }
   ],
   "source": [
    "accuracy_score(tuner.predict(X_tune_test), y_tune_test)"
   ]
  },
  {
   "cell_type": "code",
   "execution_count": 214,
   "metadata": {},
   "outputs": [],
   "source": [
    "def proceed_probabilities(d, threshold=0.80):\n",
    "    answers_amount = tuner.predict(process_probabilities(d).drop(columns=['label']))\n",
    "    model_answers = catboost_classifier.predict_proba(d)\n",
    "    a = pd.merge(train[['question_idx', 'answer_idx', 'answers_tuple']], d, on='answer_idx')[['question_idx', 'answers_tuple']].drop_duplicates('question_idx').values\n",
    "    start_question, start_answer = a[0][0], a[0][1][0]\n",
    "    proceeded = [0] * len(model_answers)\n",
    "    for question_idx, answers_tuple in a:\n",
    "        answer_limit = int(answers_amount[question_idx - start_question])\n",
    "        model_answer = sorted([(model_answers[answer_idx - start_answer][1], answer_idx) for answer_idx in answers_tuple], reverse=True)\n",
    "        answer_limit = min(answer_limit, len(model_answer))\n",
    "        for i in range(int(answer_limit)):\n",
    "            proceeded[model_answer[i][1] - start_answer] = 1\n",
    "        for i in range(int(len(model_answer))):\n",
    "            if model_answer[i][0] > threshold:\n",
    "                proceeded[model_answer[i][1] - start_answer] = 1\n",
    "    return proceeded"
   ]
  },
  {
   "cell_type": "code",
   "execution_count": 215,
   "metadata": {},
   "outputs": [
    {
     "data": {
      "text/plain": [
       "0.7819924968736973"
      ]
     },
     "execution_count": 215,
     "metadata": {},
     "output_type": "execute_result"
    }
   ],
   "source": [
    "f1_score(catboost_classifier.predict(X_test), y_test)"
   ]
  },
  {
   "cell_type": "code",
   "execution_count": 217,
   "metadata": {
    "scrolled": true
   },
   "outputs": [
    {
     "name": "stderr",
     "output_type": "stream",
     "text": [
      "/opt/conda/lib/python3.8/site-packages/pandas/core/dtypes/cast.py:252: ComplexWarning: Casting complex values to real discards the imaginary part\n",
      "  return result.astype(dtype)\n",
      "/opt/conda/lib/python3.8/site-packages/catboost/core.py:966: ComplexWarning: Casting complex values to real discards the imaginary part\n",
      "  self._init_pool(data, label, cat_features, text_features, embedding_features, pairs, weight, group_id, group_weight, subgroup_id, pairs_weight, baseline, feature_names, thread_count)\n"
     ]
    },
    {
     "data": {
      "text/plain": [
       "0.8318794607454402"
      ]
     },
     "execution_count": 217,
     "metadata": {},
     "output_type": "execute_result"
    }
   ],
   "source": [
    "f1_score(proceed_probabilities(X_test, threshold=0.8), y_test)"
   ]
  },
  {
   "cell_type": "code",
   "execution_count": 110,
   "metadata": {},
   "outputs": [
    {
     "name": "stderr",
     "output_type": "stream",
     "text": [
      "/opt/conda/lib/python3.8/site-packages/catboost/core.py:966: ComplexWarning: Casting complex values to real discards the imaginary part\n",
      "  self._init_pool(data, label, cat_features, text_features, embedding_features, pairs, weight, group_id, group_weight, subgroup_id, pairs_weight, baseline, feature_names, thread_count)\n"
     ]
    },
    {
     "name": "stdout",
     "output_type": "stream",
     "text": [
      "call me aaaasha.jsonl\n"
     ]
    }
   ],
   "source": [
    "save_predictions(proceed_probabilities(validation, threshold=0.6), filename=\"aaaasha\")"
   ]
  },
  {
   "cell_type": "code",
   "execution_count": 101,
   "metadata": {},
   "outputs": [],
   "source": [
    "from sklearn.linear_model import LogisticRegression"
   ]
  },
  {
   "cell_type": "code",
   "execution_count": 123,
   "metadata": {},
   "outputs": [],
   "source": [
    "import pickle"
   ]
  },
  {
   "cell_type": "code",
   "execution_count": 124,
   "metadata": {},
   "outputs": [],
   "source": [
    "with open('amount_regressor.pkl', 'rb') as fin:\n",
    "    tuner = pickle.load(fin)"
   ]
  },
  {
   "cell_type": "code",
   "execution_count": 119,
   "metadata": {
    "scrolled": true
   },
   "outputs": [
    {
     "name": "stderr",
     "output_type": "stream",
     "text": [
      "/opt/conda/lib/python3.8/site-packages/sklearn/utils/validation.py:63: DataConversionWarning: A column-vector y was passed when a 1d array was expected. Please change the shape of y to (n_samples, ), for example using ravel().\n",
      "  return f(*args, **kwargs)\n",
      "/opt/conda/lib/python3.8/site-packages/sklearn/linear_model/_logistic.py:763: ConvergenceWarning: lbfgs failed to converge (status=1):\n",
      "STOP: TOTAL NO. of ITERATIONS REACHED LIMIT.\n",
      "\n",
      "Increase the number of iterations (max_iter) or scale the data as shown in:\n",
      "    https://scikit-learn.org/stable/modules/preprocessing.html\n",
      "Please also refer to the documentation for alternative solver options:\n",
      "    https://scikit-learn.org/stable/modules/linear_model.html#logistic-regression\n",
      "  n_iter_i = _check_optimize_result(\n"
     ]
    }
   ],
   "source": [
    "from sklearn.linear_model import LogisticRegression\n",
    "regressor = LogisticRegression().fit(X_tune, y_tune)"
   ]
  },
  {
   "cell_type": "code",
   "execution_count": 112,
   "metadata": {},
   "outputs": [
    {
     "name": "stderr",
     "output_type": "stream",
     "text": [
      "/opt/conda/lib/python3.8/site-packages/sklearn/utils/validation.py:63: DataConversionWarning: A column-vector y was passed when a 1d array was expected. Please change the shape of y to (n_samples, ), for example using ravel().\n",
      "  return f(*args, **kwargs)\n",
      "/opt/conda/lib/python3.8/site-packages/sklearn/linear_model/_logistic.py:763: ConvergenceWarning: lbfgs failed to converge (status=1):\n",
      "STOP: TOTAL NO. of ITERATIONS REACHED LIMIT.\n",
      "\n",
      "Increase the number of iterations (max_iter) or scale the data as shown in:\n",
      "    https://scikit-learn.org/stable/modules/preprocessing.html\n",
      "Please also refer to the documentation for alternative solver options:\n",
      "    https://scikit-learn.org/stable/modules/linear_model.html#logistic-regression\n",
      "  n_iter_i = _check_optimize_result(\n"
     ]
    },
    {
     "data": {
      "text/plain": [
       "0.9017857142857143"
      ]
     },
     "execution_count": 112,
     "metadata": {},
     "output_type": "execute_result"
    }
   ],
   "source": [
    "regressor = LogisticRegression().fit(X_tune_train, y_tune_train)\n",
    "accuracy_score(regressor.predict(X_tune_test), y_tune_test)"
   ]
  },
  {
   "cell_type": "markdown",
   "metadata": {
    "id": "DDzAWwmAicIk"
   },
   "source": [
    "# Zero-Shot Classification"
   ]
  },
  {
   "cell_type": "markdown",
   "metadata": {},
   "source": [
    "Install required libraries"
   ]
  },
  {
   "cell_type": "code",
   "execution_count": null,
   "metadata": {
    "colab": {
     "base_uri": "https://localhost:8080/"
    },
    "id": "rZC23VBwuC2W",
    "outputId": "b74772cc-87a2-4af9-c001-19ce4af26750",
    "scrolled": true
   },
   "outputs": [],
   "source": [
    "!pip install transformers\n",
    "!pip install sentencepiece\n",
    "!pip install catboost"
   ]
  },
  {
   "cell_type": "markdown",
   "metadata": {},
   "source": [
    "Import pipeline"
   ]
  },
  {
   "cell_type": "code",
   "execution_count": 26,
   "metadata": {
    "id": "z1kPdFH8ieOX"
   },
   "outputs": [],
   "source": [
    "from transformers import pipeline"
   ]
  },
  {
   "cell_type": "markdown",
   "metadata": {},
   "source": [
    "Initialize classifier"
   ]
  },
  {
   "cell_type": "code",
   "execution_count": null,
   "metadata": {
    "colab": {
     "base_uri": "https://localhost:8080/",
     "height": 384,
     "referenced_widgets": [
      "1f51157727944af08bac7e4c7de2e360",
      "975ffb552f0c4946a3ba692c63b9d1c4",
      "b12e3abae2c8495a9769eb4796d2d7b5",
      "a44da864f4aa4ef2a37b832123c8c1c4",
      "7ae73612065f47949c5abb73b7b616b5",
      "c1987f46b58340a78575838886586d74",
      "f5418ee6e90940f9a2ab9cbd9c8f7cf1",
      "b997bbcb2a3b4ee79b79fa54615ef01e",
      "3b803d0e66444725be11059dba7c6dbb",
      "056d3f2ab4874666b2c9cd2494f58404",
      "241d67bcf61448d09c7c2cb9622ab4c5",
      "8cc67f8da2904fd68c1b2c5430b64019",
      "9518b650c18b4c5387aa01e14ba965d2",
      "a2d1e2cdc3804c619364c1f54a689891",
      "577fe3392ee444788290561610a1896d",
      "52321bb23d944cc58b38f9e72b078433",
      "ebd03e1603b3499596c16b767ee1894b",
      "fee8a940a7db483eba9f813b526aa4b3",
      "fb2d8a1ec90b4ad4ba409984bafe21c3",
      "4629bf23f6514cf39495caac76f45af9",
      "48ec6b30008b4d94830d8b76c67fb862",
      "fd68ffbb286a4768b3763d3972a19160",
      "6afaf7a3ff4247d4a7d3f94b24ed5ab3",
      "f049f1311e144535a48a22159ca59374",
      "a456f9567d98478a887fd08816d30d17",
      "68ead30cee9f4a73968c7e2877c5f51e",
      "8a34ca81ade1481d801a4008c5d58803",
      "27fd24291bf8450fa39d060a396c02dd",
      "f529f7ab67ac42a3af7d0ba0a0fcc23b",
      "7707afd95f7f477d88905ccb6939a39f",
      "1576ea7676574c76bb3b0fdacbf11a73",
      "bb7da8978d7241ea9dfc7157c36b16a0",
      "96f2619e7bcc4c81b8ea4718809a52aa",
      "14cb21886fb147259d5754250808bb16",
      "e5f9ab8cd90c47fdbfe739d0eef28efd",
      "65dbfd0fa4cb4637b0b4dc41c34fc21d",
      "ba2c821713f04908ad5b5120d22a1c96",
      "dc5be56e06c7421ebad533799d15b7fa",
      "1406a32fd93d479a93078a7249165a23",
      "e8ff0b58b0aa40269c043fec36fab17e"
     ]
    },
    "id": "PZzX9Onxiiif",
    "outputId": "28e06cae-faed-4cde-976b-b183ba5618d5",
    "scrolled": true
   },
   "outputs": [],
   "source": [
    "classifier = pipeline(\"zero-shot-classification\", model='facebook/bart-large-mnli', device=0)"
   ]
  },
  {
   "cell_type": "markdown",
   "metadata": {},
   "source": [
    "Extract feature"
   ]
  },
  {
   "cell_type": "code",
   "execution_count": null,
   "metadata": {
    "colab": {
     "base_uri": "https://localhost:8080/",
     "height": 66,
     "referenced_widgets": [
      "6b7ca6a872554e1ebb59d2ecd473b4ce",
      "61f66ef589904e66b539701bb18ad8ee",
      "86a29af0bb6f4b158958dfe3af3f0c91",
      "1cf3da08789a4d6d8c66aa622491660d",
      "0143e831e2e84dc7ab3836f758d011da",
      "f5220c5fcd2c44b2af7fb19b17e3f90f",
      "570b5f91b6924d0d901b32eb57b878bc",
      "0f3bc179d7594f0095b3f986e234a232"
     ]
    },
    "id": "nJ-0y5goumXX",
    "outputId": "9cb5a5c8-abfd-4654-b51d-d66acff46157"
   },
   "outputs": [],
   "source": [
    "temp = {}\n",
    "for corpus in tqdm(simplify_data(data, split_answers=False)):\n",
    "  question = corpus['question']\n",
    "  answers = [(answer['idx'], answer['text']) for answer in corpus['answers']]\n",
    "  sentence = make_string(corpus, use=['context', 'question'])\n",
    "  raw_result = classifier(sentence, list(map(lambda answer: answer['text'], corpus['answers'])))\n",
    "  temp_answers = answers.copy()\n",
    "  result = {}\n",
    "  for i in list(zip(raw_result['labels'], raw_result['scores'])):\n",
    "    for j in range(len(temp_answers)):\n",
    "      if i[0] == temp_answers[j][1]:\n",
    "        id = temp_answers.pop(j)[0]\n",
    "        result[id] = i[1]\n",
    "        break\n",
    "  for idx, answer in answers:\n",
    "    temp[idx] = result[idx]"
   ]
  },
  {
   "cell_type": "markdown",
   "metadata": {},
   "source": [
    "Save feature"
   ]
  },
  {
   "cell_type": "code",
   "execution_count": null,
   "metadata": {
    "colab": {
     "base_uri": "https://localhost:8080/",
     "height": 745
    },
    "id": "hlWrfQgmnerB",
    "outputId": "2813ba94-bcc7-4286-e1b3-ae5705a3952b"
   },
   "outputs": [],
   "source": [
    "pd.DataFrame([{'answer_idx': i[0], 'facebook_mnli': i[1]} for i in temp.items()]).set_index('answer_idx').to_csv('data/facebook_mnli.csv')"
   ]
  },
  {
   "cell_type": "markdown",
   "metadata": {},
   "source": [
    "# Encoding"
   ]
  },
  {
   "cell_type": "code",
   "execution_count": null,
   "metadata": {},
   "outputs": [],
   "source": [
    "!pip install sentence_transformers"
   ]
  },
  {
   "cell_type": "code",
   "execution_count": 65,
   "metadata": {},
   "outputs": [],
   "source": [
    "from sentence_transformers import util"
   ]
  },
  {
   "cell_type": "code",
   "execution_count": 37,
   "metadata": {},
   "outputs": [],
   "source": [
    "cosine_similarity = lambda a, b: util.pytorch_cos_sim(a, b)[0][0].item()"
   ]
  },
  {
   "cell_type": "markdown",
   "metadata": {},
   "source": [
    "## Roberta"
   ]
  },
  {
   "cell_type": "code",
   "execution_count": 22,
   "metadata": {},
   "outputs": [],
   "source": [
    "from sentence_transformers import SentenceTransformer, util"
   ]
  },
  {
   "cell_type": "code",
   "execution_count": 23,
   "metadata": {},
   "outputs": [],
   "source": [
    "encoder = SentenceTransformer('stsb-roberta-large')"
   ]
  },
  {
   "cell_type": "code",
   "execution_count": 24,
   "metadata": {},
   "outputs": [],
   "source": [
    "def encode_by_roberta(model_answers, source_answers=train['answer_en']):\n",
    "    encoded_source_answers = encoder.encode(source_answers, show_progress_bar=True)\n",
    "    if type(model_answers[0]) is list:\n",
    "        result = []\n",
    "        for q, a in tqdm(train[['question_idx', 'answer_idx']].values):\n",
    "            encoded_model_answers = encoder.encode(model_answers[q])\n",
    "            result.append([cosine_similarity(encoded_source_answers[a], encoded_answer) for encoded_answer in encoded_model_answers])\n",
    "        return result\n",
    "    else:\n",
    "        encoded_model_answers = encoder.encode(model_answers, show_progress_bar=True)\n",
    "        return [cosine_similarity(encoded_source_answers[a], encoded_model[q]) for q, a in train[['question_idx', 'answer_idx']].values]   \n"
   ]
  },
  {
   "cell_type": "code",
   "execution_count": null,
   "metadata": {},
   "outputs": [],
   "source": [
    "encode_by_roberta(pd.read_csv('./data/t5_answers.csv').set_index('Unnamed: 0'))"
   ]
  },
  {
   "cell_type": "code",
   "execution_count": null,
   "metadata": {},
   "outputs": [],
   "source": [
    "encode_by_roberta(pd.read_csv('./data/t5-3b_answers.csv').set_index('Unnamed: 0'))"
   ]
  },
  {
   "cell_type": "code",
   "execution_count": 106,
   "metadata": {},
   "outputs": [],
   "source": [
    "bert_answers = pd.read_csv('./data/bert_answers_large.csv').set_index('question_idx')\n",
    "bert_answers['bert_answers_en'] = [list(ast.literal_eval(value)) for value in bert_answers['bert_answers_en']]\n",
    "bert_answers['bert_answer_en_scores'] = [list(ast.literal_eval(value)) for value in bert_answers['bert_answer_en_scores']]\n",
    "encode_by_roberta(bert_answers['bert_answers_en'])"
   ]
  },
  {
   "cell_type": "code",
   "execution_count": null,
   "metadata": {
    "scrolled": true
   },
   "outputs": [],
   "source": [
    "roberta_answers = pd.read_csv('./data/roberta_answers.csv').set_index('question_idx')\n",
    "roberta_answers['roberta_answers_en'] = [list(ast.literal_eval(value)) for value in roberta_answers['roberta_answers_en']]\n",
    "roberta_answers['roberta_answer_en_scores'] = [list(ast.literal_eval(value)) for value in roberta_answers['roberta_answer_en_scores']]\n",
    "encode_by_roberta(bert_answers['roberta_answers_en'])"
   ]
  },
  {
   "cell_type": "markdown",
   "metadata": {},
   "source": [
    "## Google USE"
   ]
  },
  {
   "cell_type": "code",
   "execution_count": 2,
   "metadata": {
    "collapsed": true
   },
   "outputs": [
    {
     "name": "stdout",
     "output_type": "stream",
     "text": [
      "Collecting tensorflow_hub\n",
      "  Downloading tensorflow_hub-0.10.0-py2.py3-none-any.whl (107 kB)\n",
      "\u001b[K     |████████████████████████████████| 107 kB 742 kB/s eta 0:00:01\n",
      "\u001b[?25hRequirement already satisfied: protobuf>=3.8.0 in /home/jovyan/.local/lib/python3.8/site-packages (from tensorflow_hub) (3.14.0)\n",
      "Requirement already satisfied: numpy>=1.12.0 in /opt/conda/lib/python3.8/site-packages (from tensorflow_hub) (1.19.4)\n",
      "Requirement already satisfied: six>=1.9 in /opt/conda/lib/python3.8/site-packages (from protobuf>=3.8.0->tensorflow_hub) (1.15.0)\n",
      "Installing collected packages: tensorflow-hub\n",
      "Successfully installed tensorflow-hub-0.10.0\n"
     ]
    }
   ],
   "source": [
    "!pip install tensorflow_hub"
   ]
  },
  {
   "cell_type": "code",
   "execution_count": 26,
   "metadata": {},
   "outputs": [],
   "source": [
    "import tensorflow_hub as hub"
   ]
  },
  {
   "cell_type": "code",
   "execution_count": 27,
   "metadata": {},
   "outputs": [
    {
     "name": "stderr",
     "output_type": "stream",
     "text": [
      "INFO:absl:Using /tmp/tfhub_modules to cache modules.\n"
     ]
    }
   ],
   "source": [
    "embed = hub.load(\"https://tfhub.dev/google/universal-sentence-encoder/4\")"
   ]
  },
  {
   "cell_type": "code",
   "execution_count": 33,
   "metadata": {},
   "outputs": [],
   "source": [
    "def encode_by_use(model_answers, column_name, source_answers=train[['answer_en', 'question_idx']]):\n",
    "    result = []\n",
    "    for source_answer, generated_answer in tqdm(pd.merge(\n",
    "            source_answers, model_answers,\n",
    "            on='question_idx')[['answer_en', column_name]].values.tolist()):\n",
    "        a, b = embed([source_answer, generated_answer])\n",
    "        result.append(cosine_similarity(np.array(a), np.array(b)))\n",
    "    return result"
   ]
  },
  {
   "cell_type": "code",
   "execution_count": 29,
   "metadata": {},
   "outputs": [],
   "source": [
    "t5_answers = pd.read_csv('./data/t5_answers.csv').set_index('Unnamed: 0')\n",
    "t5_answers['question_idx'] = t5_answers.index"
   ]
  },
  {
   "cell_type": "code",
   "execution_count": 41,
   "metadata": {},
   "outputs": [],
   "source": [
    "pd.DataFrame(encode_by_use(t5_answers, 't4_answers'), columns=['original_t5_answers_similarity_by_use']).to_csv('data/original_t5_answers_similarity_by_use.csv')"
   ]
  },
  {
   "cell_type": "code",
   "execution_count": null,
   "metadata": {},
   "outputs": [],
   "source": [
    "t5_3b_answers = pd.read_csv('./data/t5-3b_answers.csv').set_index('Unnamed: 0')\n",
    "t5_3b_answers['question_idx'] = t5_3b_answers.index"
   ]
  },
  {
   "cell_type": "code",
   "execution_count": null,
   "metadata": {},
   "outputs": [],
   "source": [
    "pd.DataFrame(encode_by_use(t5_answers, 't4-3b_answers'), columns=['original_t5_3b_answers_similarity_by_use']).to_csv('data/original_t5_3b_answers_similarity_by_use.csv')"
   ]
  },
  {
   "cell_type": "code",
   "execution_count": 58,
   "metadata": {},
   "outputs": [],
   "source": [
    "bert_answers = pd.read_csv('./data/bert_answers.csv')\n",
    "bert_answers['bert_answers_en'] = [list(ast.literal_eval(value)) for value in bert_answers['bert_answers_en']]\n",
    "bert_answers['bert_answer_en_scores'] = [list(ast.literal_eval(value)) for value in bert_answers['bert_answer_en_scores']]"
   ]
  },
  {
   "cell_type": "code",
   "execution_count": 59,
   "metadata": {
    "scrolled": true
   },
   "outputs": [
    {
     "data": {
      "application/vnd.jupyter.widget-view+json": {
       "model_id": "bb7529ac3f204f95a646476dc6e19ef8",
       "version_major": 2,
       "version_minor": 0
      },
      "text/plain": [
       "HBox(children=(FloatProgress(value=0.0, max=21799.0), HTML(value='')))"
      ]
     },
     "metadata": {},
     "output_type": "display_data"
    },
    {
     "name": "stdout",
     "output_type": "stream",
     "text": [
      "\n"
     ]
    }
   ],
   "source": [
    "result = []\n",
    "for original_answer, generated_answers in tqdm(pd.merge(\n",
    "        train[['answer_en', 'question_idx']], bert_answers,\n",
    "        on='question_idx')[['answer_en', 'bert_answers_en']].values.tolist()):\n",
    "    temp = []\n",
    "    for generated_answer in generated_answers:\n",
    "        a, b = embed([original_answer, generated_answer])\n",
    "        temp.append(cosine_similarity(np.array(a), np.array(b)))\n",
    "    result.append(temp)"
   ]
  },
  {
   "cell_type": "markdown",
   "metadata": {},
   "source": [
    "Save result to bert_encoded_by_use.csv"
   ]
  },
  {
   "cell_type": "code",
   "execution_count": 66,
   "metadata": {},
   "outputs": [],
   "source": [
    "roberta_answers = pd.read_csv('./data/roberta_answers.csv').set_index('question_idx')\n",
    "roberta_answers['roberta_answer_en'] = [list(ast.literal_eval(value)) for value in roberta_answers['roberta_answer_en']]\n",
    "roberta_answers['roberta_answer_en_score'] = [list(ast.literal_eval(value)) for value in roberta_answers['roberta_answer_en_score']]"
   ]
  },
  {
   "cell_type": "code",
   "execution_count": null,
   "metadata": {},
   "outputs": [],
   "source": [
    "result = []\n",
    "for original_answer, generated_answers in tqdm(pd.merge(\n",
    "        train[['answer_en', 'question_idx']], roberta_answers,\n",
    "        on='question_idx')[['answer_en', 'roberta_answer_en']].values.tolist()):\n",
    "    temp = []\n",
    "    for generated_answer in generated_answers:\n",
    "        a, b = embed([original_answer, generated_answer])\n",
    "        temp.append(cosine_similarity(np.array(a), np.array(b)))\n",
    "    result.append(temp)"
   ]
  },
  {
   "cell_type": "markdown",
   "metadata": {},
   "source": [
    "Save result to roberta_encoded_by_use.csv"
   ]
  },
  {
   "cell_type": "markdown",
   "metadata": {},
   "source": [
    "# Question Answering"
   ]
  },
  {
   "cell_type": "code",
   "execution_count": null,
   "metadata": {},
   "outputs": [],
   "source": [
    "!pip install transformers\n",
    "!pip3 install --user --upgrade tensorflow\n",
    "!pip install torch==1.7.1+cpu torchvision==0.8.2+cpu torchaudio==0.7.2 -f https://download.pytorch.org/whl/torch_stable.html"
   ]
  },
  {
   "cell_type": "code",
   "execution_count": 34,
   "metadata": {},
   "outputs": [],
   "source": [
    "from transformers import pipeline"
   ]
  },
  {
   "cell_type": "markdown",
   "metadata": {},
   "source": [
    "## Question Answering: Google T5 "
   ]
  },
  {
   "cell_type": "code",
   "execution_count": 35,
   "metadata": {},
   "outputs": [],
   "source": [
    "make_t5qa = lambda question, context: 'question: ' + question + ' context: ' + context"
   ]
  },
  {
   "cell_type": "markdown",
   "metadata": {},
   "source": [
    "### Using: Large"
   ]
  },
  {
   "cell_type": "code",
   "execution_count": 55,
   "metadata": {},
   "outputs": [
    {
     "name": "stderr",
     "output_type": "stream",
     "text": [
      "Some weights of the model checkpoint at t5-large were not used when initializing T5Model: ['decoder.block.0.layer.1.EncDecAttention.relative_attention_bias.weight']\n",
      "- This IS expected if you are initializing T5Model from the checkpoint of a model trained on another task or with another architecture (e.g. initializing a BertForSequenceClassification model from a BertForPreTraining model).\n",
      "- This IS NOT expected if you are initializing T5Model from the checkpoint of a model that you expect to be exactly identical (initializing a BertForSequenceClassification model from a BertForSequenceClassification model).\n",
      "Some weights of the model checkpoint at t5-large were not used when initializing T5ForConditionalGeneration: ['decoder.block.0.layer.1.EncDecAttention.relative_attention_bias.weight']\n",
      "- This IS expected if you are initializing T5ForConditionalGeneration from the checkpoint of a model trained on another task or with another architecture (e.g. initializing a BertForSequenceClassification model from a BertForPreTraining model).\n",
      "- This IS NOT expected if you are initializing T5ForConditionalGeneration from the checkpoint of a model that you expect to be exactly identical (initializing a BertForSequenceClassification model from a BertForSequenceClassification model).\n"
     ]
    }
   ],
   "source": [
    "model = pipeline(\"text2text-generation\", model='t5-large')"
   ]
  },
  {
   "cell_type": "code",
   "execution_count": null,
   "metadata": {},
   "outputs": [],
   "source": [
    "answers = []\n",
    "for corpus in tqdm(simplify_data(data, split_questions=False)):\n",
    "    for question in corpus['questions']:\n",
    "        q, c = question['question_en'], corpus['context_en']\n",
    "        answer = model(make_t5qa(q, c), return_tensors=True)\n",
    "        print(q, answer[0]['generated_text'])\n",
    "        answers.append(answer[0]['generated_text'])"
   ]
  },
  {
   "cell_type": "code",
   "execution_count": 57,
   "metadata": {},
   "outputs": [],
   "source": [
    "result = pd.DataFrame(answers, columns=['t5_answers'])"
   ]
  },
  {
   "cell_type": "code",
   "execution_count": 58,
   "metadata": {},
   "outputs": [
    {
     "data": {
      "text/html": [
       "<div>\n",
       "<style scoped>\n",
       "    .dataframe tbody tr th:only-of-type {\n",
       "        vertical-align: middle;\n",
       "    }\n",
       "\n",
       "    .dataframe tbody tr th {\n",
       "        vertical-align: top;\n",
       "    }\n",
       "\n",
       "    .dataframe thead th {\n",
       "        text-align: right;\n",
       "    }\n",
       "</style>\n",
       "<table border=\"1\" class=\"dataframe\">\n",
       "  <thead>\n",
       "    <tr style=\"text-align: right;\">\n",
       "      <th></th>\n",
       "      <th>t4_answers</th>\n",
       "    </tr>\n",
       "  </thead>\n",
       "  <tbody>\n",
       "    <tr>\n",
       "      <th>0</th>\n",
       "      <td>park</td>\n",
       "    </tr>\n",
       "    <tr>\n",
       "      <th>1</th>\n",
       "      <td>Lyudochka at first dodged Artemka's grasping h...</td>\n",
       "    </tr>\n",
       "    <tr>\n",
       "      <th>2</th>\n",
       "      <td>playing cards, drinking, fighting</td>\n",
       "    </tr>\n",
       "    <tr>\n",
       "      <th>3</th>\n",
       "      <td>Artemka began to grab her in various places</td>\n",
       "    </tr>\n",
       "    <tr>\n",
       "      <th>4</th>\n",
       "      <td>foamed white head</td>\n",
       "    </tr>\n",
       "  </tbody>\n",
       "</table>\n",
       "</div>"
      ],
      "text/plain": [
       "                                          t4_answers\n",
       "0                                               park\n",
       "1  Lyudochka at first dodged Artemka's grasping h...\n",
       "2                  playing cards, drinking, fighting\n",
       "3        Artemka began to grab her in various places\n",
       "4                                  foamed white head"
      ]
     },
     "execution_count": 58,
     "metadata": {},
     "output_type": "execute_result"
    }
   ],
   "source": [
    "result.head()"
   ]
  },
  {
   "cell_type": "code",
   "execution_count": null,
   "metadata": {},
   "outputs": [],
   "source": [
    "result.to_csv('t5_answers.csv')"
   ]
  },
  {
   "cell_type": "markdown",
   "metadata": {},
   "source": [
    "### Using: 3b"
   ]
  },
  {
   "cell_type": "code",
   "execution_count": null,
   "metadata": {},
   "outputs": [],
   "source": [
    "from transformers import T5TokenizerFast, T5ForConditionalGeneration"
   ]
  },
  {
   "cell_type": "code",
   "execution_count": null,
   "metadata": {},
   "outputs": [],
   "source": [
    "tokenizer = T5TokenizerFast.from_pretrained('t5-3b') \n",
    "model = T5ForConditionalGeneration.from_pretrained('t5-3b')"
   ]
  },
  {
   "cell_type": "code",
   "execution_count": null,
   "metadata": {},
   "outputs": [],
   "source": [
    "model.cuda('cuda:0');"
   ]
  },
  {
   "cell_type": "code",
   "execution_count": null,
   "metadata": {},
   "outputs": [],
   "source": [
    "import gc \n",
    "import torch\n",
    "torch.cuda.empty_cache() \n",
    "gc.collect()"
   ]
  },
  {
   "cell_type": "code",
   "execution_count": null,
   "metadata": {},
   "outputs": [],
   "source": [
    "def t5_predict(text):\n",
    "  input_ids = tokenizer(text, return_tensors=\"pt\").input_ids.to(model.device)\n",
    "  outputs = model.generate(input_ids)\n",
    "  return tokenizer.decode(outputs[0], skip_special_tokens=True)"
   ]
  },
  {
   "cell_type": "code",
   "execution_count": null,
   "metadata": {},
   "outputs": [],
   "source": [
    "answers = []\n",
    "for corpus in tqdm(simplify_data(data, split_questions=False)):\n",
    "    for question in corpus['questions']:\n",
    "        answers.append(t5_predict(make_t5qa(question['question_en'], corpus['context_en'])))"
   ]
  },
  {
   "cell_type": "code",
   "execution_count": null,
   "metadata": {},
   "outputs": [],
   "source": [
    "pd.DataFrame(list(map(lambda answer: answer[0]['generated_text'], answers)), columns=['t5_answers']).to_csv('t5-3b_answers.csv')"
   ]
  },
  {
   "cell_type": "markdown",
   "metadata": {},
   "source": [
    "## Question Answering: Bert"
   ]
  },
  {
   "cell_type": "code",
   "execution_count": 45,
   "metadata": {
    "scrolled": true
   },
   "outputs": [],
   "source": [
    "model = pipeline(model=\"bert-large-uncased-whole-word-masking-finetuned-squad\", tokenizer=\"bert-large-uncased-whole-word-masking-finetuned-squad\", task=\"question-answering\")"
   ]
  },
  {
   "cell_type": "code",
   "execution_count": null,
   "metadata": {},
   "outputs": [],
   "source": [
    "answers = []\n",
    "for corpus in tqdm(simplify_data(data, split_questions=False)):\n",
    "    for question in corpus['questions']:\n",
    "        q, c = question['question_en'], corpus['context_en']\n",
    "        model_answers, model_scores = [], []\n",
    "        for answer in model(question=q, context=c, topk=10):\n",
    "            print(q, answer['answer'], answer['score'])\n",
    "            model_answers.append(answer['answer'])\n",
    "            model_scores.append(answer['score'])\n",
    "        answers.append({'question_idx': question['idx'], 'bert_answers_en': model_answers, 'bert_answer_en_scores': model_scores})"
   ]
  },
  {
   "cell_type": "code",
   "execution_count": 53,
   "metadata": {},
   "outputs": [],
   "source": [
    "result = pd.DataFrame(answers).set_index('question_idx')"
   ]
  },
  {
   "cell_type": "code",
   "execution_count": 54,
   "metadata": {},
   "outputs": [
    {
     "data": {
      "text/html": [
       "<div>\n",
       "<style scoped>\n",
       "    .dataframe tbody tr th:only-of-type {\n",
       "        vertical-align: middle;\n",
       "    }\n",
       "\n",
       "    .dataframe tbody tr th {\n",
       "        vertical-align: top;\n",
       "    }\n",
       "\n",
       "    .dataframe thead th {\n",
       "        text-align: right;\n",
       "    }\n",
       "</style>\n",
       "<table border=\"1\" class=\"dataframe\">\n",
       "  <thead>\n",
       "    <tr style=\"text-align: right;\">\n",
       "      <th></th>\n",
       "      <th>bert_answers_en</th>\n",
       "      <th>bert_answer_en_scores</th>\n",
       "    </tr>\n",
       "    <tr>\n",
       "      <th>question_idx</th>\n",
       "      <th></th>\n",
       "      <th></th>\n",
       "    </tr>\n",
       "  </thead>\n",
       "  <tbody>\n",
       "    <tr>\n",
       "      <th>0</th>\n",
       "      <td>[park, the park, park, the park, Children were...</td>\n",
       "      <td>[0.0011988749029114842, 0.001067683333531022, ...</td>\n",
       "    </tr>\n",
       "    <tr>\n",
       "      <th>1</th>\n",
       "      <td>[a typewriter and punched him to the point of ...</td>\n",
       "      <td>[0.029752859845757484, 0.022927209734916687, 0...</td>\n",
       "    </tr>\n",
       "    <tr>\n",
       "      <th>2</th>\n",
       "      <td>[playing cards, drinking, fighting, playing ca...</td>\n",
       "      <td>[0.03989074006676674, 0.0164101030677557, 0.01...</td>\n",
       "    </tr>\n",
       "    <tr>\n",
       "      <th>3</th>\n",
       "      <td>[Artemka began to grab her in various places, ...</td>\n",
       "      <td>[0.011022879742085934, 0.010331939905881882, 0...</td>\n",
       "    </tr>\n",
       "    <tr>\n",
       "      <th>4</th>\n",
       "      <td>[white, white head, foamed white, horns, foame...</td>\n",
       "      <td>[0.021356692537665367, 0.019242199137806892, 0...</td>\n",
       "    </tr>\n",
       "  </tbody>\n",
       "</table>\n",
       "</div>"
      ],
      "text/plain": [
       "                                                bert_answers_en  \\\n",
       "question_idx                                                      \n",
       "0             [park, the park, park, the park, Children were...   \n",
       "1             [a typewriter and punched him to the point of ...   \n",
       "2             [playing cards, drinking, fighting, playing ca...   \n",
       "3             [Artemka began to grab her in various places, ...   \n",
       "4             [white, white head, foamed white, horns, foame...   \n",
       "\n",
       "                                          bert_answer_en_scores  \n",
       "question_idx                                                     \n",
       "0             [0.0011988749029114842, 0.001067683333531022, ...  \n",
       "1             [0.029752859845757484, 0.022927209734916687, 0...  \n",
       "2             [0.03989074006676674, 0.0164101030677557, 0.01...  \n",
       "3             [0.011022879742085934, 0.010331939905881882, 0...  \n",
       "4             [0.021356692537665367, 0.019242199137806892, 0...  "
      ]
     },
     "execution_count": 54,
     "metadata": {},
     "output_type": "execute_result"
    }
   ],
   "source": [
    "result.head()"
   ]
  },
  {
   "cell_type": "code",
   "execution_count": 137,
   "metadata": {},
   "outputs": [],
   "source": [
    "result.to_csv('bert_answers.csv')"
   ]
  },
  {
   "cell_type": "markdown",
   "metadata": {},
   "source": [
    "## Question Answering: Roberta"
   ]
  },
  {
   "cell_type": "code",
   "execution_count": null,
   "metadata": {},
   "outputs": [],
   "source": [
    "model = pipeline(model=\"deepset/roberta-base-squad2\", tokenizer=\"deepset/roberta-base-squad2\", task=\"question-answering\")"
   ]
  },
  {
   "cell_type": "code",
   "execution_count": null,
   "metadata": {},
   "outputs": [],
   "source": [
    "answers = []\n",
    "for corpus in tqdm(simplify_data(data, split_questions=False)):\n",
    "    for question in corpus['questions']:\n",
    "        q, c = question['question_en'], corpus['context_en']\n",
    "        model_answers, model_scores = [], []\n",
    "        for answer in model(question=q, context=c, topk=10):\n",
    "            # print(q, answer['answer'], answer['score'])\n",
    "            model_answers.append(answer['answer'])\n",
    "            model_scores.append(answer['score'])\n",
    "        answers.append({'question_idx': question['idx'], 'roberta_answers_en': model_answers, 'roberta_answer_en_scores': model_scores})"
   ]
  },
  {
   "cell_type": "code",
   "execution_count": 62,
   "metadata": {},
   "outputs": [],
   "source": [
    "result = pd.DataFrame(answers).set_index('question_idx')"
   ]
  },
  {
   "cell_type": "code",
   "execution_count": 63,
   "metadata": {},
   "outputs": [
    {
     "data": {
      "text/html": [
       "<div>\n",
       "<style scoped>\n",
       "    .dataframe tbody tr th:only-of-type {\n",
       "        vertical-align: middle;\n",
       "    }\n",
       "\n",
       "    .dataframe tbody tr th {\n",
       "        vertical-align: top;\n",
       "    }\n",
       "\n",
       "    .dataframe thead th {\n",
       "        text-align: right;\n",
       "    }\n",
       "</style>\n",
       "<table border=\"1\" class=\"dataframe\">\n",
       "  <thead>\n",
       "    <tr style=\"text-align: right;\">\n",
       "      <th></th>\n",
       "      <th>roberta_answers_en</th>\n",
       "      <th>roberta_answer_en_scores</th>\n",
       "    </tr>\n",
       "    <tr>\n",
       "      <th>question_idx</th>\n",
       "      <th></th>\n",
       "      <th></th>\n",
       "    </tr>\n",
       "  </thead>\n",
       "  <tbody>\n",
       "    <tr>\n",
       "      <th>0</th>\n",
       "      <td>[in the park, the park, Children were running ...</td>\n",
       "      <td>[0.060799576342105865, 0.04899249225854874, 0....</td>\n",
       "    </tr>\n",
       "    <tr>\n",
       "      <th>1</th>\n",
       "      <td>[pacify the rags on Artemka's violent head, po...</td>\n",
       "      <td>[0.009742982685565948, 0.009318677708506584, 0...</td>\n",
       "    </tr>\n",
       "    <tr>\n",
       "      <th>2</th>\n",
       "      <td>[playing cards, drinking, fighting, playing ca...</td>\n",
       "      <td>[0.22169041633605957, 0.15358535945415497, 0.1...</td>\n",
       "    </tr>\n",
       "    <tr>\n",
       "      <th>3</th>\n",
       "      <td>[nothing came of it, nothing, nothing came, no...</td>\n",
       "      <td>[0.28527218103408813, 0.06536954641342163, 0.0...</td>\n",
       "    </tr>\n",
       "    <tr>\n",
       "      <th>4</th>\n",
       "      <td>[white, foamed white, white head, foamed white...</td>\n",
       "      <td>[0.6820794939994812, 0.15562763810157776, 0.10...</td>\n",
       "    </tr>\n",
       "  </tbody>\n",
       "</table>\n",
       "</div>"
      ],
      "text/plain": [
       "                                             roberta_answers_en  \\\n",
       "question_idx                                                      \n",
       "0             [in the park, the park, Children were running ...   \n",
       "1             [pacify the rags on Artemka's violent head, po...   \n",
       "2             [playing cards, drinking, fighting, playing ca...   \n",
       "3             [nothing came of it, nothing, nothing came, no...   \n",
       "4             [white, foamed white, white head, foamed white...   \n",
       "\n",
       "                                       roberta_answer_en_scores  \n",
       "question_idx                                                     \n",
       "0             [0.060799576342105865, 0.04899249225854874, 0....  \n",
       "1             [0.009742982685565948, 0.009318677708506584, 0...  \n",
       "2             [0.22169041633605957, 0.15358535945415497, 0.1...  \n",
       "3             [0.28527218103408813, 0.06536954641342163, 0.0...  \n",
       "4             [0.6820794939994812, 0.15562763810157776, 0.10...  "
      ]
     },
     "execution_count": 63,
     "metadata": {},
     "output_type": "execute_result"
    }
   ],
   "source": [
    "result.head()"
   ]
  },
  {
   "cell_type": "code",
   "execution_count": null,
   "metadata": {},
   "outputs": [],
   "source": [
    "result.to_csv('roberta_answers.csv')"
   ]
  }
 ],
 "metadata": {
  "colab": {
   "collapsed_sections": [
    "aWX0ONNZGjIR",
    "MA-X55ZSOkz8",
    "ihXEq4xwRopv",
    "H8OkLze2g5GB",
    "dekf0LonGjIS"
   ],
   "name": "Solution.ipynb",
   "provenance": [],
   "toc_visible": true
  },
  "kernelspec": {
   "display_name": "Python 3",
   "language": "python",
   "name": "python3"
  },
  "language_info": {
   "codemirror_mode": {
    "name": "ipython",
    "version": 3
   },
   "file_extension": ".py",
   "mimetype": "text/x-python",
   "name": "python",
   "nbconvert_exporter": "python",
   "pygments_lexer": "ipython3",
   "version": "3.8.6"
  },
  "widgets": {
   "application/vnd.jupyter.widget-state+json": {
    "0143e831e2e84dc7ab3836f758d011da": {
     "model_module": "@jupyter-widgets/controls",
     "model_name": "ProgressStyleModel",
     "state": {
      "_model_module": "@jupyter-widgets/controls",
      "_model_module_version": "1.5.0",
      "_model_name": "ProgressStyleModel",
      "_view_count": null,
      "_view_module": "@jupyter-widgets/base",
      "_view_module_version": "1.2.0",
      "_view_name": "StyleView",
      "bar_color": null,
      "description_width": "initial"
     }
    },
    "056d3f2ab4874666b2c9cd2494f58404": {
     "model_module": "@jupyter-widgets/base",
     "model_name": "LayoutModel",
     "state": {
      "_model_module": "@jupyter-widgets/base",
      "_model_module_version": "1.2.0",
      "_model_name": "LayoutModel",
      "_view_count": null,
      "_view_module": "@jupyter-widgets/base",
      "_view_module_version": "1.2.0",
      "_view_name": "LayoutView",
      "align_content": null,
      "align_items": null,
      "align_self": null,
      "border": null,
      "bottom": null,
      "display": null,
      "flex": null,
      "flex_flow": null,
      "grid_area": null,
      "grid_auto_columns": null,
      "grid_auto_flow": null,
      "grid_auto_rows": null,
      "grid_column": null,
      "grid_gap": null,
      "grid_row": null,
      "grid_template_areas": null,
      "grid_template_columns": null,
      "grid_template_rows": null,
      "height": null,
      "justify_content": null,
      "justify_items": null,
      "left": null,
      "margin": null,
      "max_height": null,
      "max_width": null,
      "min_height": null,
      "min_width": null,
      "object_fit": null,
      "object_position": null,
      "order": null,
      "overflow": null,
      "overflow_x": null,
      "overflow_y": null,
      "padding": null,
      "right": null,
      "top": null,
      "visibility": null,
      "width": null
     }
    },
    "065411e7ac6c484aa7deaab7d716667d": {
     "model_module": "@jupyter-widgets/base",
     "model_name": "LayoutModel",
     "state": {
      "_model_module": "@jupyter-widgets/base",
      "_model_module_version": "1.2.0",
      "_model_name": "LayoutModel",
      "_view_count": null,
      "_view_module": "@jupyter-widgets/base",
      "_view_module_version": "1.2.0",
      "_view_name": "LayoutView",
      "align_content": null,
      "align_items": null,
      "align_self": null,
      "border": null,
      "bottom": null,
      "display": null,
      "flex": null,
      "flex_flow": null,
      "grid_area": null,
      "grid_auto_columns": null,
      "grid_auto_flow": null,
      "grid_auto_rows": null,
      "grid_column": null,
      "grid_gap": null,
      "grid_row": null,
      "grid_template_areas": null,
      "grid_template_columns": null,
      "grid_template_rows": null,
      "height": null,
      "justify_content": null,
      "justify_items": null,
      "left": null,
      "margin": null,
      "max_height": null,
      "max_width": null,
      "min_height": null,
      "min_width": null,
      "object_fit": null,
      "object_position": null,
      "order": null,
      "overflow": null,
      "overflow_x": null,
      "overflow_y": null,
      "padding": null,
      "right": null,
      "top": null,
      "visibility": null,
      "width": null
     }
    },
    "0f3bc179d7594f0095b3f986e234a232": {
     "model_module": "@jupyter-widgets/base",
     "model_name": "LayoutModel",
     "state": {
      "_model_module": "@jupyter-widgets/base",
      "_model_module_version": "1.2.0",
      "_model_name": "LayoutModel",
      "_view_count": null,
      "_view_module": "@jupyter-widgets/base",
      "_view_module_version": "1.2.0",
      "_view_name": "LayoutView",
      "align_content": null,
      "align_items": null,
      "align_self": null,
      "border": null,
      "bottom": null,
      "display": null,
      "flex": null,
      "flex_flow": null,
      "grid_area": null,
      "grid_auto_columns": null,
      "grid_auto_flow": null,
      "grid_auto_rows": null,
      "grid_column": null,
      "grid_gap": null,
      "grid_row": null,
      "grid_template_areas": null,
      "grid_template_columns": null,
      "grid_template_rows": null,
      "height": null,
      "justify_content": null,
      "justify_items": null,
      "left": null,
      "margin": null,
      "max_height": null,
      "max_width": null,
      "min_height": null,
      "min_width": null,
      "object_fit": null,
      "object_position": null,
      "order": null,
      "overflow": null,
      "overflow_x": null,
      "overflow_y": null,
      "padding": null,
      "right": null,
      "top": null,
      "visibility": null,
      "width": null
     }
    },
    "1406a32fd93d479a93078a7249165a23": {
     "model_module": "@jupyter-widgets/controls",
     "model_name": "DescriptionStyleModel",
     "state": {
      "_model_module": "@jupyter-widgets/controls",
      "_model_module_version": "1.5.0",
      "_model_name": "DescriptionStyleModel",
      "_view_count": null,
      "_view_module": "@jupyter-widgets/base",
      "_view_module_version": "1.2.0",
      "_view_name": "StyleView",
      "description_width": ""
     }
    },
    "14cb21886fb147259d5754250808bb16": {
     "model_module": "@jupyter-widgets/base",
     "model_name": "LayoutModel",
     "state": {
      "_model_module": "@jupyter-widgets/base",
      "_model_module_version": "1.2.0",
      "_model_name": "LayoutModel",
      "_view_count": null,
      "_view_module": "@jupyter-widgets/base",
      "_view_module_version": "1.2.0",
      "_view_name": "LayoutView",
      "align_content": null,
      "align_items": null,
      "align_self": null,
      "border": null,
      "bottom": null,
      "display": null,
      "flex": null,
      "flex_flow": null,
      "grid_area": null,
      "grid_auto_columns": null,
      "grid_auto_flow": null,
      "grid_auto_rows": null,
      "grid_column": null,
      "grid_gap": null,
      "grid_row": null,
      "grid_template_areas": null,
      "grid_template_columns": null,
      "grid_template_rows": null,
      "height": null,
      "justify_content": null,
      "justify_items": null,
      "left": null,
      "margin": null,
      "max_height": null,
      "max_width": null,
      "min_height": null,
      "min_width": null,
      "object_fit": null,
      "object_position": null,
      "order": null,
      "overflow": null,
      "overflow_x": null,
      "overflow_y": null,
      "padding": null,
      "right": null,
      "top": null,
      "visibility": null,
      "width": null
     }
    },
    "1576ea7676574c76bb3b0fdacbf11a73": {
     "model_module": "@jupyter-widgets/controls",
     "model_name": "DescriptionStyleModel",
     "state": {
      "_model_module": "@jupyter-widgets/controls",
      "_model_module_version": "1.5.0",
      "_model_name": "DescriptionStyleModel",
      "_view_count": null,
      "_view_module": "@jupyter-widgets/base",
      "_view_module_version": "1.2.0",
      "_view_name": "StyleView",
      "description_width": ""
     }
    },
    "1631afbe74914563933d58791622ddef": {
     "model_module": "@jupyter-widgets/controls",
     "model_name": "FloatProgressModel",
     "state": {
      "_dom_classes": [],
      "_model_module": "@jupyter-widgets/controls",
      "_model_module_version": "1.5.0",
      "_model_name": "FloatProgressModel",
      "_view_count": null,
      "_view_module": "@jupyter-widgets/controls",
      "_view_module_version": "1.5.0",
      "_view_name": "ProgressView",
      "bar_style": "success",
      "description": "Epochs 0/1. Running Loss:    0.6351: 100%",
      "description_tooltip": null,
      "layout": "IPY_MODEL_4cff600caaec43a79981c1289f150cfd",
      "max": 1774,
      "min": 0,
      "orientation": "horizontal",
      "style": "IPY_MODEL_2fc3411c9d4541c48936115b0bd8447d",
      "value": 1774
     }
    },
    "1ccc66e77b134bed9bc2e5969821aa72": {
     "model_module": "@jupyter-widgets/controls",
     "model_name": "FloatProgressModel",
     "state": {
      "_dom_classes": [],
      "_model_module": "@jupyter-widgets/controls",
      "_model_module_version": "1.5.0",
      "_model_name": "FloatProgressModel",
      "_view_count": null,
      "_view_module": "@jupyter-widgets/controls",
      "_view_module_version": "1.5.0",
      "_view_name": "ProgressView",
      "bar_style": "success",
      "description": "Epoch 1 of 1: 100%",
      "description_tooltip": null,
      "layout": "IPY_MODEL_7b5501c7ed9041e8a7ae6be0ce29c72b",
      "max": 1,
      "min": 0,
      "orientation": "horizontal",
      "style": "IPY_MODEL_f1e28efc02dd4c51a28d817f200d9042",
      "value": 1
     }
    },
    "1cf3da08789a4d6d8c66aa622491660d": {
     "model_module": "@jupyter-widgets/controls",
     "model_name": "HTMLModel",
     "state": {
      "_dom_classes": [],
      "_model_module": "@jupyter-widgets/controls",
      "_model_module_version": "1.5.0",
      "_model_name": "HTMLModel",
      "_view_count": null,
      "_view_module": "@jupyter-widgets/controls",
      "_view_module_version": "1.5.0",
      "_view_name": "HTMLView",
      "description": "",
      "description_tooltip": null,
      "layout": "IPY_MODEL_0f3bc179d7594f0095b3f986e234a232",
      "placeholder": "​",
      "style": "IPY_MODEL_570b5f91b6924d0d901b32eb57b878bc",
      "value": " 5239/5239 [19:35&lt;00:00,  4.46it/s]"
     }
    },
    "1f51157727944af08bac7e4c7de2e360": {
     "model_module": "@jupyter-widgets/controls",
     "model_name": "HBoxModel",
     "state": {
      "_dom_classes": [],
      "_model_module": "@jupyter-widgets/controls",
      "_model_module_version": "1.5.0",
      "_model_name": "HBoxModel",
      "_view_count": null,
      "_view_module": "@jupyter-widgets/controls",
      "_view_module_version": "1.5.0",
      "_view_name": "HBoxView",
      "box_style": "",
      "children": [
       "IPY_MODEL_b12e3abae2c8495a9769eb4796d2d7b5",
       "IPY_MODEL_a44da864f4aa4ef2a37b832123c8c1c4"
      ],
      "layout": "IPY_MODEL_975ffb552f0c4946a3ba692c63b9d1c4"
     }
    },
    "23052b9ca5d042908245f46af5078189": {
     "model_module": "@jupyter-widgets/controls",
     "model_name": "HTMLModel",
     "state": {
      "_dom_classes": [],
      "_model_module": "@jupyter-widgets/controls",
      "_model_module_version": "1.5.0",
      "_model_name": "HTMLModel",
      "_view_count": null,
      "_view_module": "@jupyter-widgets/controls",
      "_view_module_version": "1.5.0",
      "_view_name": "HTMLView",
      "description": "",
      "description_tooltip": null,
      "layout": "IPY_MODEL_6b9f1490a5ab433492a16d3097ec83df",
      "placeholder": "​",
      "style": "IPY_MODEL_f108ca9719fc4630bfd3ec47c504cabd",
      "value": " 1774/1774 [00:46&lt;00:00, 38.40it/s]"
     }
    },
    "241d67bcf61448d09c7c2cb9622ab4c5": {
     "model_module": "@jupyter-widgets/controls",
     "model_name": "FloatProgressModel",
     "state": {
      "_dom_classes": [],
      "_model_module": "@jupyter-widgets/controls",
      "_model_module_version": "1.5.0",
      "_model_name": "FloatProgressModel",
      "_view_count": null,
      "_view_module": "@jupyter-widgets/controls",
      "_view_module_version": "1.5.0",
      "_view_name": "ProgressView",
      "bar_style": "success",
      "description": "Downloading: 100%",
      "description_tooltip": null,
      "layout": "IPY_MODEL_a2d1e2cdc3804c619364c1f54a689891",
      "max": 1629486723,
      "min": 0,
      "orientation": "horizontal",
      "style": "IPY_MODEL_9518b650c18b4c5387aa01e14ba965d2",
      "value": 1629486723
     }
    },
    "255b96370b894952aeaa45c57905fbb1": {
     "model_module": "@jupyter-widgets/controls",
     "model_name": "ProgressStyleModel",
     "state": {
      "_model_module": "@jupyter-widgets/controls",
      "_model_module_version": "1.5.0",
      "_model_name": "ProgressStyleModel",
      "_view_count": null,
      "_view_module": "@jupyter-widgets/base",
      "_view_module_version": "1.2.0",
      "_view_name": "StyleView",
      "bar_color": null,
      "description_width": "initial"
     }
    },
    "27fd24291bf8450fa39d060a396c02dd": {
     "model_module": "@jupyter-widgets/controls",
     "model_name": "HTMLModel",
     "state": {
      "_dom_classes": [],
      "_model_module": "@jupyter-widgets/controls",
      "_model_module_version": "1.5.0",
      "_model_name": "HTMLModel",
      "_view_count": null,
      "_view_module": "@jupyter-widgets/controls",
      "_view_module_version": "1.5.0",
      "_view_name": "HTMLView",
      "description": "",
      "description_tooltip": null,
      "layout": "IPY_MODEL_bb7da8978d7241ea9dfc7157c36b16a0",
      "placeholder": "​",
      "style": "IPY_MODEL_1576ea7676574c76bb3b0fdacbf11a73",
      "value": " 456k/456k [00:12&lt;00:00, 38.0kB/s]"
     }
    },
    "2aef1594fe6547fea140b626907018ee": {
     "model_module": "@jupyter-widgets/base",
     "model_name": "LayoutModel",
     "state": {
      "_model_module": "@jupyter-widgets/base",
      "_model_module_version": "1.2.0",
      "_model_name": "LayoutModel",
      "_view_count": null,
      "_view_module": "@jupyter-widgets/base",
      "_view_module_version": "1.2.0",
      "_view_name": "LayoutView",
      "align_content": null,
      "align_items": null,
      "align_self": null,
      "border": null,
      "bottom": null,
      "display": null,
      "flex": null,
      "flex_flow": null,
      "grid_area": null,
      "grid_auto_columns": null,
      "grid_auto_flow": null,
      "grid_auto_rows": null,
      "grid_column": null,
      "grid_gap": null,
      "grid_row": null,
      "grid_template_areas": null,
      "grid_template_columns": null,
      "grid_template_rows": null,
      "height": null,
      "justify_content": null,
      "justify_items": null,
      "left": null,
      "margin": null,
      "max_height": null,
      "max_width": null,
      "min_height": null,
      "min_width": null,
      "object_fit": null,
      "object_position": null,
      "order": null,
      "overflow": null,
      "overflow_x": null,
      "overflow_y": null,
      "padding": null,
      "right": null,
      "top": null,
      "visibility": null,
      "width": null
     }
    },
    "2fc3411c9d4541c48936115b0bd8447d": {
     "model_module": "@jupyter-widgets/controls",
     "model_name": "ProgressStyleModel",
     "state": {
      "_model_module": "@jupyter-widgets/controls",
      "_model_module_version": "1.5.0",
      "_model_name": "ProgressStyleModel",
      "_view_count": null,
      "_view_module": "@jupyter-widgets/base",
      "_view_module_version": "1.2.0",
      "_view_name": "StyleView",
      "bar_color": null,
      "description_width": "initial"
     }
    },
    "3332f07ec28f4f7e912061f818ce2e31": {
     "model_module": "@jupyter-widgets/controls",
     "model_name": "ProgressStyleModel",
     "state": {
      "_model_module": "@jupyter-widgets/controls",
      "_model_module_version": "1.5.0",
      "_model_name": "ProgressStyleModel",
      "_view_count": null,
      "_view_module": "@jupyter-widgets/base",
      "_view_module_version": "1.2.0",
      "_view_name": "StyleView",
      "bar_color": null,
      "description_width": "initial"
     }
    },
    "3431a91b86ff456c805cf8a57e0ff376": {
     "model_module": "@jupyter-widgets/base",
     "model_name": "LayoutModel",
     "state": {
      "_model_module": "@jupyter-widgets/base",
      "_model_module_version": "1.2.0",
      "_model_name": "LayoutModel",
      "_view_count": null,
      "_view_module": "@jupyter-widgets/base",
      "_view_module_version": "1.2.0",
      "_view_name": "LayoutView",
      "align_content": null,
      "align_items": null,
      "align_self": null,
      "border": null,
      "bottom": null,
      "display": null,
      "flex": null,
      "flex_flow": null,
      "grid_area": null,
      "grid_auto_columns": null,
      "grid_auto_flow": null,
      "grid_auto_rows": null,
      "grid_column": null,
      "grid_gap": null,
      "grid_row": null,
      "grid_template_areas": null,
      "grid_template_columns": null,
      "grid_template_rows": null,
      "height": null,
      "justify_content": null,
      "justify_items": null,
      "left": null,
      "margin": null,
      "max_height": null,
      "max_width": null,
      "min_height": null,
      "min_width": null,
      "object_fit": null,
      "object_position": null,
      "order": null,
      "overflow": null,
      "overflow_x": null,
      "overflow_y": null,
      "padding": null,
      "right": null,
      "top": null,
      "visibility": null,
      "width": null
     }
    },
    "37d8a7643f2b43b5b35a1cf8742693bd": {
     "model_module": "@jupyter-widgets/controls",
     "model_name": "HTMLModel",
     "state": {
      "_dom_classes": [],
      "_model_module": "@jupyter-widgets/controls",
      "_model_module_version": "1.5.0",
      "_model_name": "HTMLModel",
      "_view_count": null,
      "_view_module": "@jupyter-widgets/controls",
      "_view_module_version": "1.5.0",
      "_view_name": "HTMLView",
      "description": "",
      "description_tooltip": null,
      "layout": "IPY_MODEL_87e788541dff4cecaf4717cdead0d52c",
      "placeholder": "​",
      "style": "IPY_MODEL_887b3b961ebf4a7eb0514c5e18377a26",
      "value": " 14185/14185 [07:18&lt;00:00, 32.35it/s]"
     }
    },
    "3b803d0e66444725be11059dba7c6dbb": {
     "model_module": "@jupyter-widgets/controls",
     "model_name": "HBoxModel",
     "state": {
      "_dom_classes": [],
      "_model_module": "@jupyter-widgets/controls",
      "_model_module_version": "1.5.0",
      "_model_name": "HBoxModel",
      "_view_count": null,
      "_view_module": "@jupyter-widgets/controls",
      "_view_module_version": "1.5.0",
      "_view_name": "HBoxView",
      "box_style": "",
      "children": [
       "IPY_MODEL_241d67bcf61448d09c7c2cb9622ab4c5",
       "IPY_MODEL_8cc67f8da2904fd68c1b2c5430b64019"
      ],
      "layout": "IPY_MODEL_056d3f2ab4874666b2c9cd2494f58404"
     }
    },
    "4629bf23f6514cf39495caac76f45af9": {
     "model_module": "@jupyter-widgets/controls",
     "model_name": "HTMLModel",
     "state": {
      "_dom_classes": [],
      "_model_module": "@jupyter-widgets/controls",
      "_model_module_version": "1.5.0",
      "_model_name": "HTMLModel",
      "_view_count": null,
      "_view_module": "@jupyter-widgets/controls",
      "_view_module_version": "1.5.0",
      "_view_name": "HTMLView",
      "description": "",
      "description_tooltip": null,
      "layout": "IPY_MODEL_f049f1311e144535a48a22159ca59374",
      "placeholder": "​",
      "style": "IPY_MODEL_6afaf7a3ff4247d4a7d3f94b24ed5ab3",
      "value": " 899k/899k [00:00&lt;00:00, 4.05MB/s]"
     }
    },
    "48ec6b30008b4d94830d8b76c67fb862": {
     "model_module": "@jupyter-widgets/controls",
     "model_name": "ProgressStyleModel",
     "state": {
      "_model_module": "@jupyter-widgets/controls",
      "_model_module_version": "1.5.0",
      "_model_name": "ProgressStyleModel",
      "_view_count": null,
      "_view_module": "@jupyter-widgets/base",
      "_view_module_version": "1.2.0",
      "_view_name": "StyleView",
      "bar_color": null,
      "description_width": "initial"
     }
    },
    "4cff600caaec43a79981c1289f150cfd": {
     "model_module": "@jupyter-widgets/base",
     "model_name": "LayoutModel",
     "state": {
      "_model_module": "@jupyter-widgets/base",
      "_model_module_version": "1.2.0",
      "_model_name": "LayoutModel",
      "_view_count": null,
      "_view_module": "@jupyter-widgets/base",
      "_view_module_version": "1.2.0",
      "_view_name": "LayoutView",
      "align_content": null,
      "align_items": null,
      "align_self": null,
      "border": null,
      "bottom": null,
      "display": null,
      "flex": null,
      "flex_flow": null,
      "grid_area": null,
      "grid_auto_columns": null,
      "grid_auto_flow": null,
      "grid_auto_rows": null,
      "grid_column": null,
      "grid_gap": null,
      "grid_row": null,
      "grid_template_areas": null,
      "grid_template_columns": null,
      "grid_template_rows": null,
      "height": null,
      "justify_content": null,
      "justify_items": null,
      "left": null,
      "margin": null,
      "max_height": null,
      "max_width": null,
      "min_height": null,
      "min_width": null,
      "object_fit": null,
      "object_position": null,
      "order": null,
      "overflow": null,
      "overflow_x": null,
      "overflow_y": null,
      "padding": null,
      "right": null,
      "top": null,
      "visibility": null,
      "width": null
     }
    },
    "52321bb23d944cc58b38f9e72b078433": {
     "model_module": "@jupyter-widgets/base",
     "model_name": "LayoutModel",
     "state": {
      "_model_module": "@jupyter-widgets/base",
      "_model_module_version": "1.2.0",
      "_model_name": "LayoutModel",
      "_view_count": null,
      "_view_module": "@jupyter-widgets/base",
      "_view_module_version": "1.2.0",
      "_view_name": "LayoutView",
      "align_content": null,
      "align_items": null,
      "align_self": null,
      "border": null,
      "bottom": null,
      "display": null,
      "flex": null,
      "flex_flow": null,
      "grid_area": null,
      "grid_auto_columns": null,
      "grid_auto_flow": null,
      "grid_auto_rows": null,
      "grid_column": null,
      "grid_gap": null,
      "grid_row": null,
      "grid_template_areas": null,
      "grid_template_columns": null,
      "grid_template_rows": null,
      "height": null,
      "justify_content": null,
      "justify_items": null,
      "left": null,
      "margin": null,
      "max_height": null,
      "max_width": null,
      "min_height": null,
      "min_width": null,
      "object_fit": null,
      "object_position": null,
      "order": null,
      "overflow": null,
      "overflow_x": null,
      "overflow_y": null,
      "padding": null,
      "right": null,
      "top": null,
      "visibility": null,
      "width": null
     }
    },
    "570b5f91b6924d0d901b32eb57b878bc": {
     "model_module": "@jupyter-widgets/controls",
     "model_name": "DescriptionStyleModel",
     "state": {
      "_model_module": "@jupyter-widgets/controls",
      "_model_module_version": "1.5.0",
      "_model_name": "DescriptionStyleModel",
      "_view_count": null,
      "_view_module": "@jupyter-widgets/base",
      "_view_module_version": "1.2.0",
      "_view_name": "StyleView",
      "description_width": ""
     }
    },
    "577fe3392ee444788290561610a1896d": {
     "model_module": "@jupyter-widgets/controls",
     "model_name": "DescriptionStyleModel",
     "state": {
      "_model_module": "@jupyter-widgets/controls",
      "_model_module_version": "1.5.0",
      "_model_name": "DescriptionStyleModel",
      "_view_count": null,
      "_view_module": "@jupyter-widgets/base",
      "_view_module_version": "1.2.0",
      "_view_name": "StyleView",
      "description_width": ""
     }
    },
    "5ce50a653b314cbfb15f5f5c0dd343c1": {
     "model_module": "@jupyter-widgets/controls",
     "model_name": "HBoxModel",
     "state": {
      "_dom_classes": [],
      "_model_module": "@jupyter-widgets/controls",
      "_model_module_version": "1.5.0",
      "_model_name": "HBoxModel",
      "_view_count": null,
      "_view_module": "@jupyter-widgets/controls",
      "_view_module_version": "1.5.0",
      "_view_name": "HBoxView",
      "box_style": "",
      "children": [
       "IPY_MODEL_804eda819a2343d1b9124d8ed8431dac",
       "IPY_MODEL_37d8a7643f2b43b5b35a1cf8742693bd"
      ],
      "layout": "IPY_MODEL_7153c9ae6270446cb82759491e94a27d"
     }
    },
    "61f66ef589904e66b539701bb18ad8ee": {
     "model_module": "@jupyter-widgets/base",
     "model_name": "LayoutModel",
     "state": {
      "_model_module": "@jupyter-widgets/base",
      "_model_module_version": "1.2.0",
      "_model_name": "LayoutModel",
      "_view_count": null,
      "_view_module": "@jupyter-widgets/base",
      "_view_module_version": "1.2.0",
      "_view_name": "LayoutView",
      "align_content": null,
      "align_items": null,
      "align_self": null,
      "border": null,
      "bottom": null,
      "display": null,
      "flex": null,
      "flex_flow": null,
      "grid_area": null,
      "grid_auto_columns": null,
      "grid_auto_flow": null,
      "grid_auto_rows": null,
      "grid_column": null,
      "grid_gap": null,
      "grid_row": null,
      "grid_template_areas": null,
      "grid_template_columns": null,
      "grid_template_rows": null,
      "height": null,
      "justify_content": null,
      "justify_items": null,
      "left": null,
      "margin": null,
      "max_height": null,
      "max_width": null,
      "min_height": null,
      "min_width": null,
      "object_fit": null,
      "object_position": null,
      "order": null,
      "overflow": null,
      "overflow_x": null,
      "overflow_y": null,
      "padding": null,
      "right": null,
      "top": null,
      "visibility": null,
      "width": null
     }
    },
    "65dbfd0fa4cb4637b0b4dc41c34fc21d": {
     "model_module": "@jupyter-widgets/controls",
     "model_name": "HTMLModel",
     "state": {
      "_dom_classes": [],
      "_model_module": "@jupyter-widgets/controls",
      "_model_module_version": "1.5.0",
      "_model_name": "HTMLModel",
      "_view_count": null,
      "_view_module": "@jupyter-widgets/controls",
      "_view_module_version": "1.5.0",
      "_view_name": "HTMLView",
      "description": "",
      "description_tooltip": null,
      "layout": "IPY_MODEL_e8ff0b58b0aa40269c043fec36fab17e",
      "placeholder": "​",
      "style": "IPY_MODEL_1406a32fd93d479a93078a7249165a23",
      "value": " 1.36M/1.36M [00:01&lt;00:00, 1.28MB/s]"
     }
    },
    "68ead30cee9f4a73968c7e2877c5f51e": {
     "model_module": "@jupyter-widgets/base",
     "model_name": "LayoutModel",
     "state": {
      "_model_module": "@jupyter-widgets/base",
      "_model_module_version": "1.2.0",
      "_model_name": "LayoutModel",
      "_view_count": null,
      "_view_module": "@jupyter-widgets/base",
      "_view_module_version": "1.2.0",
      "_view_name": "LayoutView",
      "align_content": null,
      "align_items": null,
      "align_self": null,
      "border": null,
      "bottom": null,
      "display": null,
      "flex": null,
      "flex_flow": null,
      "grid_area": null,
      "grid_auto_columns": null,
      "grid_auto_flow": null,
      "grid_auto_rows": null,
      "grid_column": null,
      "grid_gap": null,
      "grid_row": null,
      "grid_template_areas": null,
      "grid_template_columns": null,
      "grid_template_rows": null,
      "height": null,
      "justify_content": null,
      "justify_items": null,
      "left": null,
      "margin": null,
      "max_height": null,
      "max_width": null,
      "min_height": null,
      "min_width": null,
      "object_fit": null,
      "object_position": null,
      "order": null,
      "overflow": null,
      "overflow_x": null,
      "overflow_y": null,
      "padding": null,
      "right": null,
      "top": null,
      "visibility": null,
      "width": null
     }
    },
    "6afaf7a3ff4247d4a7d3f94b24ed5ab3": {
     "model_module": "@jupyter-widgets/controls",
     "model_name": "DescriptionStyleModel",
     "state": {
      "_model_module": "@jupyter-widgets/controls",
      "_model_module_version": "1.5.0",
      "_model_name": "DescriptionStyleModel",
      "_view_count": null,
      "_view_module": "@jupyter-widgets/base",
      "_view_module_version": "1.2.0",
      "_view_name": "StyleView",
      "description_width": ""
     }
    },
    "6b7ca6a872554e1ebb59d2ecd473b4ce": {
     "model_module": "@jupyter-widgets/controls",
     "model_name": "HBoxModel",
     "state": {
      "_dom_classes": [],
      "_model_module": "@jupyter-widgets/controls",
      "_model_module_version": "1.5.0",
      "_model_name": "HBoxModel",
      "_view_count": null,
      "_view_module": "@jupyter-widgets/controls",
      "_view_module_version": "1.5.0",
      "_view_name": "HBoxView",
      "box_style": "",
      "children": [
       "IPY_MODEL_86a29af0bb6f4b158958dfe3af3f0c91",
       "IPY_MODEL_1cf3da08789a4d6d8c66aa622491660d"
      ],
      "layout": "IPY_MODEL_61f66ef589904e66b539701bb18ad8ee"
     }
    },
    "6b9f1490a5ab433492a16d3097ec83df": {
     "model_module": "@jupyter-widgets/base",
     "model_name": "LayoutModel",
     "state": {
      "_model_module": "@jupyter-widgets/base",
      "_model_module_version": "1.2.0",
      "_model_name": "LayoutModel",
      "_view_count": null,
      "_view_module": "@jupyter-widgets/base",
      "_view_module_version": "1.2.0",
      "_view_name": "LayoutView",
      "align_content": null,
      "align_items": null,
      "align_self": null,
      "border": null,
      "bottom": null,
      "display": null,
      "flex": null,
      "flex_flow": null,
      "grid_area": null,
      "grid_auto_columns": null,
      "grid_auto_flow": null,
      "grid_auto_rows": null,
      "grid_column": null,
      "grid_gap": null,
      "grid_row": null,
      "grid_template_areas": null,
      "grid_template_columns": null,
      "grid_template_rows": null,
      "height": null,
      "justify_content": null,
      "justify_items": null,
      "left": null,
      "margin": null,
      "max_height": null,
      "max_width": null,
      "min_height": null,
      "min_width": null,
      "object_fit": null,
      "object_position": null,
      "order": null,
      "overflow": null,
      "overflow_x": null,
      "overflow_y": null,
      "padding": null,
      "right": null,
      "top": null,
      "visibility": null,
      "width": null
     }
    },
    "7153c9ae6270446cb82759491e94a27d": {
     "model_module": "@jupyter-widgets/base",
     "model_name": "LayoutModel",
     "state": {
      "_model_module": "@jupyter-widgets/base",
      "_model_module_version": "1.2.0",
      "_model_name": "LayoutModel",
      "_view_count": null,
      "_view_module": "@jupyter-widgets/base",
      "_view_module_version": "1.2.0",
      "_view_name": "LayoutView",
      "align_content": null,
      "align_items": null,
      "align_self": null,
      "border": null,
      "bottom": null,
      "display": null,
      "flex": null,
      "flex_flow": null,
      "grid_area": null,
      "grid_auto_columns": null,
      "grid_auto_flow": null,
      "grid_auto_rows": null,
      "grid_column": null,
      "grid_gap": null,
      "grid_row": null,
      "grid_template_areas": null,
      "grid_template_columns": null,
      "grid_template_rows": null,
      "height": null,
      "justify_content": null,
      "justify_items": null,
      "left": null,
      "margin": null,
      "max_height": null,
      "max_width": null,
      "min_height": null,
      "min_width": null,
      "object_fit": null,
      "object_position": null,
      "order": null,
      "overflow": null,
      "overflow_x": null,
      "overflow_y": null,
      "padding": null,
      "right": null,
      "top": null,
      "visibility": null,
      "width": null
     }
    },
    "71aeecc4de47448bb9b2aeb0169db300": {
     "model_module": "@jupyter-widgets/controls",
     "model_name": "HTMLModel",
     "state": {
      "_dom_classes": [],
      "_model_module": "@jupyter-widgets/controls",
      "_model_module_version": "1.5.0",
      "_model_name": "HTMLModel",
      "_view_count": null,
      "_view_module": "@jupyter-widgets/controls",
      "_view_module_version": "1.5.0",
      "_view_name": "HTMLView",
      "description": "",
      "description_tooltip": null,
      "layout": "IPY_MODEL_3431a91b86ff456c805cf8a57e0ff376",
      "placeholder": "​",
      "style": "IPY_MODEL_f42605e98e2e458888c1da37e148b0ab",
      "value": " 14185/14185 [00:51&lt;00:00, 273.89it/s]"
     }
    },
    "7200412793ef4b2ea608f9bb448f565c": {
     "model_module": "@jupyter-widgets/controls",
     "model_name": "DescriptionStyleModel",
     "state": {
      "_model_module": "@jupyter-widgets/controls",
      "_model_module_version": "1.5.0",
      "_model_name": "DescriptionStyleModel",
      "_view_count": null,
      "_view_module": "@jupyter-widgets/base",
      "_view_module_version": "1.2.0",
      "_view_name": "StyleView",
      "description_width": ""
     }
    },
    "74ae92f4c5b9465f8b46c3817cadfb08": {
     "model_module": "@jupyter-widgets/controls",
     "model_name": "HTMLModel",
     "state": {
      "_dom_classes": [],
      "_model_module": "@jupyter-widgets/controls",
      "_model_module_version": "1.5.0",
      "_model_name": "HTMLModel",
      "_view_count": null,
      "_view_module": "@jupyter-widgets/controls",
      "_view_module_version": "1.5.0",
      "_view_name": "HTMLView",
      "description": "",
      "description_tooltip": null,
      "layout": "IPY_MODEL_df65e3e4893b4bbaa1295c552cd8f476",
      "placeholder": "​",
      "style": "IPY_MODEL_d5cd22a7c49746e59e5b563288f6e111",
      "value": " 1/1 [06:24&lt;00:00, 384.38s/it]"
     }
    },
    "7707afd95f7f477d88905ccb6939a39f": {
     "model_module": "@jupyter-widgets/base",
     "model_name": "LayoutModel",
     "state": {
      "_model_module": "@jupyter-widgets/base",
      "_model_module_version": "1.2.0",
      "_model_name": "LayoutModel",
      "_view_count": null,
      "_view_module": "@jupyter-widgets/base",
      "_view_module_version": "1.2.0",
      "_view_name": "LayoutView",
      "align_content": null,
      "align_items": null,
      "align_self": null,
      "border": null,
      "bottom": null,
      "display": null,
      "flex": null,
      "flex_flow": null,
      "grid_area": null,
      "grid_auto_columns": null,
      "grid_auto_flow": null,
      "grid_auto_rows": null,
      "grid_column": null,
      "grid_gap": null,
      "grid_row": null,
      "grid_template_areas": null,
      "grid_template_columns": null,
      "grid_template_rows": null,
      "height": null,
      "justify_content": null,
      "justify_items": null,
      "left": null,
      "margin": null,
      "max_height": null,
      "max_width": null,
      "min_height": null,
      "min_width": null,
      "object_fit": null,
      "object_position": null,
      "order": null,
      "overflow": null,
      "overflow_x": null,
      "overflow_y": null,
      "padding": null,
      "right": null,
      "top": null,
      "visibility": null,
      "width": null
     }
    },
    "7ae73612065f47949c5abb73b7b616b5": {
     "model_module": "@jupyter-widgets/controls",
     "model_name": "ProgressStyleModel",
     "state": {
      "_model_module": "@jupyter-widgets/controls",
      "_model_module_version": "1.5.0",
      "_model_name": "ProgressStyleModel",
      "_view_count": null,
      "_view_module": "@jupyter-widgets/base",
      "_view_module_version": "1.2.0",
      "_view_name": "StyleView",
      "bar_color": null,
      "description_width": "initial"
     }
    },
    "7b5501c7ed9041e8a7ae6be0ce29c72b": {
     "model_module": "@jupyter-widgets/base",
     "model_name": "LayoutModel",
     "state": {
      "_model_module": "@jupyter-widgets/base",
      "_model_module_version": "1.2.0",
      "_model_name": "LayoutModel",
      "_view_count": null,
      "_view_module": "@jupyter-widgets/base",
      "_view_module_version": "1.2.0",
      "_view_name": "LayoutView",
      "align_content": null,
      "align_items": null,
      "align_self": null,
      "border": null,
      "bottom": null,
      "display": null,
      "flex": null,
      "flex_flow": null,
      "grid_area": null,
      "grid_auto_columns": null,
      "grid_auto_flow": null,
      "grid_auto_rows": null,
      "grid_column": null,
      "grid_gap": null,
      "grid_row": null,
      "grid_template_areas": null,
      "grid_template_columns": null,
      "grid_template_rows": null,
      "height": null,
      "justify_content": null,
      "justify_items": null,
      "left": null,
      "margin": null,
      "max_height": null,
      "max_width": null,
      "min_height": null,
      "min_width": null,
      "object_fit": null,
      "object_position": null,
      "order": null,
      "overflow": null,
      "overflow_x": null,
      "overflow_y": null,
      "padding": null,
      "right": null,
      "top": null,
      "visibility": null,
      "width": null
     }
    },
    "7d63c11ff91e43a0a38617294741ad7f": {
     "model_module": "@jupyter-widgets/controls",
     "model_name": "FloatProgressModel",
     "state": {
      "_dom_classes": [],
      "_model_module": "@jupyter-widgets/controls",
      "_model_module_version": "1.5.0",
      "_model_name": "FloatProgressModel",
      "_view_count": null,
      "_view_module": "@jupyter-widgets/controls",
      "_view_module_version": "1.5.0",
      "_view_name": "ProgressView",
      "bar_style": "success",
      "description": "100%",
      "description_tooltip": null,
      "layout": "IPY_MODEL_e7ed5c86eb984509a03f07952f7929ce",
      "max": 14185,
      "min": 0,
      "orientation": "horizontal",
      "style": "IPY_MODEL_255b96370b894952aeaa45c57905fbb1",
      "value": 14185
     }
    },
    "804eda819a2343d1b9124d8ed8431dac": {
     "model_module": "@jupyter-widgets/controls",
     "model_name": "FloatProgressModel",
     "state": {
      "_dom_classes": [],
      "_model_module": "@jupyter-widgets/controls",
      "_model_module_version": "1.5.0",
      "_model_name": "FloatProgressModel",
      "_view_count": null,
      "_view_module": "@jupyter-widgets/controls",
      "_view_module_version": "1.5.0",
      "_view_name": "ProgressView",
      "bar_style": "success",
      "description": "100%",
      "description_tooltip": null,
      "layout": "IPY_MODEL_065411e7ac6c484aa7deaab7d716667d",
      "max": 14185,
      "min": 0,
      "orientation": "horizontal",
      "style": "IPY_MODEL_8a35cef6388445fcb879c8b65d6623bb",
      "value": 14185
     }
    },
    "86a29af0bb6f4b158958dfe3af3f0c91": {
     "model_module": "@jupyter-widgets/controls",
     "model_name": "FloatProgressModel",
     "state": {
      "_dom_classes": [],
      "_model_module": "@jupyter-widgets/controls",
      "_model_module_version": "1.5.0",
      "_model_name": "FloatProgressModel",
      "_view_count": null,
      "_view_module": "@jupyter-widgets/controls",
      "_view_module_version": "1.5.0",
      "_view_name": "ProgressView",
      "bar_style": "success",
      "description": "100%",
      "description_tooltip": null,
      "layout": "IPY_MODEL_f5220c5fcd2c44b2af7fb19b17e3f90f",
      "max": 5239,
      "min": 0,
      "orientation": "horizontal",
      "style": "IPY_MODEL_0143e831e2e84dc7ab3836f758d011da",
      "value": 5239
     }
    },
    "87e09da5a4414abeb93e6dcde2366007": {
     "model_module": "@jupyter-widgets/base",
     "model_name": "LayoutModel",
     "state": {
      "_model_module": "@jupyter-widgets/base",
      "_model_module_version": "1.2.0",
      "_model_name": "LayoutModel",
      "_view_count": null,
      "_view_module": "@jupyter-widgets/base",
      "_view_module_version": "1.2.0",
      "_view_name": "LayoutView",
      "align_content": null,
      "align_items": null,
      "align_self": null,
      "border": null,
      "bottom": null,
      "display": null,
      "flex": null,
      "flex_flow": null,
      "grid_area": null,
      "grid_auto_columns": null,
      "grid_auto_flow": null,
      "grid_auto_rows": null,
      "grid_column": null,
      "grid_gap": null,
      "grid_row": null,
      "grid_template_areas": null,
      "grid_template_columns": null,
      "grid_template_rows": null,
      "height": null,
      "justify_content": null,
      "justify_items": null,
      "left": null,
      "margin": null,
      "max_height": null,
      "max_width": null,
      "min_height": null,
      "min_width": null,
      "object_fit": null,
      "object_position": null,
      "order": null,
      "overflow": null,
      "overflow_x": null,
      "overflow_y": null,
      "padding": null,
      "right": null,
      "top": null,
      "visibility": null,
      "width": null
     }
    },
    "87e788541dff4cecaf4717cdead0d52c": {
     "model_module": "@jupyter-widgets/base",
     "model_name": "LayoutModel",
     "state": {
      "_model_module": "@jupyter-widgets/base",
      "_model_module_version": "1.2.0",
      "_model_name": "LayoutModel",
      "_view_count": null,
      "_view_module": "@jupyter-widgets/base",
      "_view_module_version": "1.2.0",
      "_view_name": "LayoutView",
      "align_content": null,
      "align_items": null,
      "align_self": null,
      "border": null,
      "bottom": null,
      "display": null,
      "flex": null,
      "flex_flow": null,
      "grid_area": null,
      "grid_auto_columns": null,
      "grid_auto_flow": null,
      "grid_auto_rows": null,
      "grid_column": null,
      "grid_gap": null,
      "grid_row": null,
      "grid_template_areas": null,
      "grid_template_columns": null,
      "grid_template_rows": null,
      "height": null,
      "justify_content": null,
      "justify_items": null,
      "left": null,
      "margin": null,
      "max_height": null,
      "max_width": null,
      "min_height": null,
      "min_width": null,
      "object_fit": null,
      "object_position": null,
      "order": null,
      "overflow": null,
      "overflow_x": null,
      "overflow_y": null,
      "padding": null,
      "right": null,
      "top": null,
      "visibility": null,
      "width": null
     }
    },
    "887b3b961ebf4a7eb0514c5e18377a26": {
     "model_module": "@jupyter-widgets/controls",
     "model_name": "DescriptionStyleModel",
     "state": {
      "_model_module": "@jupyter-widgets/controls",
      "_model_module_version": "1.5.0",
      "_model_name": "DescriptionStyleModel",
      "_view_count": null,
      "_view_module": "@jupyter-widgets/base",
      "_view_module_version": "1.2.0",
      "_view_name": "StyleView",
      "description_width": ""
     }
    },
    "8a34ca81ade1481d801a4008c5d58803": {
     "model_module": "@jupyter-widgets/controls",
     "model_name": "FloatProgressModel",
     "state": {
      "_dom_classes": [],
      "_model_module": "@jupyter-widgets/controls",
      "_model_module_version": "1.5.0",
      "_model_name": "FloatProgressModel",
      "_view_count": null,
      "_view_module": "@jupyter-widgets/controls",
      "_view_module_version": "1.5.0",
      "_view_name": "ProgressView",
      "bar_style": "success",
      "description": "Downloading: 100%",
      "description_tooltip": null,
      "layout": "IPY_MODEL_7707afd95f7f477d88905ccb6939a39f",
      "max": 456318,
      "min": 0,
      "orientation": "horizontal",
      "style": "IPY_MODEL_f529f7ab67ac42a3af7d0ba0a0fcc23b",
      "value": 456318
     }
    },
    "8a35cef6388445fcb879c8b65d6623bb": {
     "model_module": "@jupyter-widgets/controls",
     "model_name": "ProgressStyleModel",
     "state": {
      "_model_module": "@jupyter-widgets/controls",
      "_model_module_version": "1.5.0",
      "_model_name": "ProgressStyleModel",
      "_view_count": null,
      "_view_module": "@jupyter-widgets/base",
      "_view_module_version": "1.2.0",
      "_view_name": "StyleView",
      "bar_color": null,
      "description_width": "initial"
     }
    },
    "8cc67f8da2904fd68c1b2c5430b64019": {
     "model_module": "@jupyter-widgets/controls",
     "model_name": "HTMLModel",
     "state": {
      "_dom_classes": [],
      "_model_module": "@jupyter-widgets/controls",
      "_model_module_version": "1.5.0",
      "_model_name": "HTMLModel",
      "_view_count": null,
      "_view_module": "@jupyter-widgets/controls",
      "_view_module_version": "1.5.0",
      "_view_name": "HTMLView",
      "description": "",
      "description_tooltip": null,
      "layout": "IPY_MODEL_52321bb23d944cc58b38f9e72b078433",
      "placeholder": "​",
      "style": "IPY_MODEL_577fe3392ee444788290561610a1896d",
      "value": " 1.63G/1.63G [00:33&lt;00:00, 48.3MB/s]"
     }
    },
    "91de1d236e9445fa8218ccfa711afc9a": {
     "model_module": "@jupyter-widgets/controls",
     "model_name": "HBoxModel",
     "state": {
      "_dom_classes": [],
      "_model_module": "@jupyter-widgets/controls",
      "_model_module_version": "1.5.0",
      "_model_name": "HBoxModel",
      "_view_count": null,
      "_view_module": "@jupyter-widgets/controls",
      "_view_module_version": "1.5.0",
      "_view_name": "HBoxView",
      "box_style": "",
      "children": [
       "IPY_MODEL_1631afbe74914563933d58791622ddef",
       "IPY_MODEL_d63b043f811f4a64b01e953f26881314"
      ],
      "layout": "IPY_MODEL_87e09da5a4414abeb93e6dcde2366007"
     }
    },
    "9518b650c18b4c5387aa01e14ba965d2": {
     "model_module": "@jupyter-widgets/controls",
     "model_name": "ProgressStyleModel",
     "state": {
      "_model_module": "@jupyter-widgets/controls",
      "_model_module_version": "1.5.0",
      "_model_name": "ProgressStyleModel",
      "_view_count": null,
      "_view_module": "@jupyter-widgets/base",
      "_view_module_version": "1.2.0",
      "_view_name": "StyleView",
      "bar_color": null,
      "description_width": "initial"
     }
    },
    "96f2619e7bcc4c81b8ea4718809a52aa": {
     "model_module": "@jupyter-widgets/controls",
     "model_name": "HBoxModel",
     "state": {
      "_dom_classes": [],
      "_model_module": "@jupyter-widgets/controls",
      "_model_module_version": "1.5.0",
      "_model_name": "HBoxModel",
      "_view_count": null,
      "_view_module": "@jupyter-widgets/controls",
      "_view_module_version": "1.5.0",
      "_view_name": "HBoxView",
      "box_style": "",
      "children": [
       "IPY_MODEL_e5f9ab8cd90c47fdbfe739d0eef28efd",
       "IPY_MODEL_65dbfd0fa4cb4637b0b4dc41c34fc21d"
      ],
      "layout": "IPY_MODEL_14cb21886fb147259d5754250808bb16"
     }
    },
    "975ffb552f0c4946a3ba692c63b9d1c4": {
     "model_module": "@jupyter-widgets/base",
     "model_name": "LayoutModel",
     "state": {
      "_model_module": "@jupyter-widgets/base",
      "_model_module_version": "1.2.0",
      "_model_name": "LayoutModel",
      "_view_count": null,
      "_view_module": "@jupyter-widgets/base",
      "_view_module_version": "1.2.0",
      "_view_name": "LayoutView",
      "align_content": null,
      "align_items": null,
      "align_self": null,
      "border": null,
      "bottom": null,
      "display": null,
      "flex": null,
      "flex_flow": null,
      "grid_area": null,
      "grid_auto_columns": null,
      "grid_auto_flow": null,
      "grid_auto_rows": null,
      "grid_column": null,
      "grid_gap": null,
      "grid_row": null,
      "grid_template_areas": null,
      "grid_template_columns": null,
      "grid_template_rows": null,
      "height": null,
      "justify_content": null,
      "justify_items": null,
      "left": null,
      "margin": null,
      "max_height": null,
      "max_width": null,
      "min_height": null,
      "min_width": null,
      "object_fit": null,
      "object_position": null,
      "order": null,
      "overflow": null,
      "overflow_x": null,
      "overflow_y": null,
      "padding": null,
      "right": null,
      "top": null,
      "visibility": null,
      "width": null
     }
    },
    "a2d1e2cdc3804c619364c1f54a689891": {
     "model_module": "@jupyter-widgets/base",
     "model_name": "LayoutModel",
     "state": {
      "_model_module": "@jupyter-widgets/base",
      "_model_module_version": "1.2.0",
      "_model_name": "LayoutModel",
      "_view_count": null,
      "_view_module": "@jupyter-widgets/base",
      "_view_module_version": "1.2.0",
      "_view_name": "LayoutView",
      "align_content": null,
      "align_items": null,
      "align_self": null,
      "border": null,
      "bottom": null,
      "display": null,
      "flex": null,
      "flex_flow": null,
      "grid_area": null,
      "grid_auto_columns": null,
      "grid_auto_flow": null,
      "grid_auto_rows": null,
      "grid_column": null,
      "grid_gap": null,
      "grid_row": null,
      "grid_template_areas": null,
      "grid_template_columns": null,
      "grid_template_rows": null,
      "height": null,
      "justify_content": null,
      "justify_items": null,
      "left": null,
      "margin": null,
      "max_height": null,
      "max_width": null,
      "min_height": null,
      "min_width": null,
      "object_fit": null,
      "object_position": null,
      "order": null,
      "overflow": null,
      "overflow_x": null,
      "overflow_y": null,
      "padding": null,
      "right": null,
      "top": null,
      "visibility": null,
      "width": null
     }
    },
    "a44da864f4aa4ef2a37b832123c8c1c4": {
     "model_module": "@jupyter-widgets/controls",
     "model_name": "HTMLModel",
     "state": {
      "_dom_classes": [],
      "_model_module": "@jupyter-widgets/controls",
      "_model_module_version": "1.5.0",
      "_model_name": "HTMLModel",
      "_view_count": null,
      "_view_module": "@jupyter-widgets/controls",
      "_view_module_version": "1.5.0",
      "_view_name": "HTMLView",
      "description": "",
      "description_tooltip": null,
      "layout": "IPY_MODEL_b997bbcb2a3b4ee79b79fa54615ef01e",
      "placeholder": "​",
      "style": "IPY_MODEL_f5418ee6e90940f9a2ab9cbd9c8f7cf1",
      "value": " 908/908 [00:45&lt;00:00, 19.9B/s]"
     }
    },
    "a456f9567d98478a887fd08816d30d17": {
     "model_module": "@jupyter-widgets/controls",
     "model_name": "HBoxModel",
     "state": {
      "_dom_classes": [],
      "_model_module": "@jupyter-widgets/controls",
      "_model_module_version": "1.5.0",
      "_model_name": "HBoxModel",
      "_view_count": null,
      "_view_module": "@jupyter-widgets/controls",
      "_view_module_version": "1.5.0",
      "_view_name": "HBoxView",
      "box_style": "",
      "children": [
       "IPY_MODEL_8a34ca81ade1481d801a4008c5d58803",
       "IPY_MODEL_27fd24291bf8450fa39d060a396c02dd"
      ],
      "layout": "IPY_MODEL_68ead30cee9f4a73968c7e2877c5f51e"
     }
    },
    "a95592f8de6f41f5a164a300e203005a": {
     "model_module": "@jupyter-widgets/controls",
     "model_name": "FloatProgressModel",
     "state": {
      "_dom_classes": [],
      "_model_module": "@jupyter-widgets/controls",
      "_model_module_version": "1.5.0",
      "_model_name": "FloatProgressModel",
      "_view_count": null,
      "_view_module": "@jupyter-widgets/controls",
      "_view_module_version": "1.5.0",
      "_view_name": "ProgressView",
      "bar_style": "success",
      "description": "100%",
      "description_tooltip": null,
      "layout": "IPY_MODEL_2aef1594fe6547fea140b626907018ee",
      "max": 1774,
      "min": 0,
      "orientation": "horizontal",
      "style": "IPY_MODEL_3332f07ec28f4f7e912061f818ce2e31",
      "value": 1774
     }
    },
    "b12e3abae2c8495a9769eb4796d2d7b5": {
     "model_module": "@jupyter-widgets/controls",
     "model_name": "FloatProgressModel",
     "state": {
      "_dom_classes": [],
      "_model_module": "@jupyter-widgets/controls",
      "_model_module_version": "1.5.0",
      "_model_name": "FloatProgressModel",
      "_view_count": null,
      "_view_module": "@jupyter-widgets/controls",
      "_view_module_version": "1.5.0",
      "_view_name": "ProgressView",
      "bar_style": "success",
      "description": "Downloading: 100%",
      "description_tooltip": null,
      "layout": "IPY_MODEL_c1987f46b58340a78575838886586d74",
      "max": 908,
      "min": 0,
      "orientation": "horizontal",
      "style": "IPY_MODEL_7ae73612065f47949c5abb73b7b616b5",
      "value": 908
     }
    },
    "b689ff838784483481cf4583109fca49": {
     "model_module": "@jupyter-widgets/controls",
     "model_name": "HBoxModel",
     "state": {
      "_dom_classes": [],
      "_model_module": "@jupyter-widgets/controls",
      "_model_module_version": "1.5.0",
      "_model_name": "HBoxModel",
      "_view_count": null,
      "_view_module": "@jupyter-widgets/controls",
      "_view_module_version": "1.5.0",
      "_view_name": "HBoxView",
      "box_style": "",
      "children": [
       "IPY_MODEL_1ccc66e77b134bed9bc2e5969821aa72",
       "IPY_MODEL_74ae92f4c5b9465f8b46c3817cadfb08"
      ],
      "layout": "IPY_MODEL_c1a1e6cac1e54fdabb28352cd0600859"
     }
    },
    "b997bbcb2a3b4ee79b79fa54615ef01e": {
     "model_module": "@jupyter-widgets/base",
     "model_name": "LayoutModel",
     "state": {
      "_model_module": "@jupyter-widgets/base",
      "_model_module_version": "1.2.0",
      "_model_name": "LayoutModel",
      "_view_count": null,
      "_view_module": "@jupyter-widgets/base",
      "_view_module_version": "1.2.0",
      "_view_name": "LayoutView",
      "align_content": null,
      "align_items": null,
      "align_self": null,
      "border": null,
      "bottom": null,
      "display": null,
      "flex": null,
      "flex_flow": null,
      "grid_area": null,
      "grid_auto_columns": null,
      "grid_auto_flow": null,
      "grid_auto_rows": null,
      "grid_column": null,
      "grid_gap": null,
      "grid_row": null,
      "grid_template_areas": null,
      "grid_template_columns": null,
      "grid_template_rows": null,
      "height": null,
      "justify_content": null,
      "justify_items": null,
      "left": null,
      "margin": null,
      "max_height": null,
      "max_width": null,
      "min_height": null,
      "min_width": null,
      "object_fit": null,
      "object_position": null,
      "order": null,
      "overflow": null,
      "overflow_x": null,
      "overflow_y": null,
      "padding": null,
      "right": null,
      "top": null,
      "visibility": null,
      "width": null
     }
    },
    "ba2c821713f04908ad5b5120d22a1c96": {
     "model_module": "@jupyter-widgets/controls",
     "model_name": "ProgressStyleModel",
     "state": {
      "_model_module": "@jupyter-widgets/controls",
      "_model_module_version": "1.5.0",
      "_model_name": "ProgressStyleModel",
      "_view_count": null,
      "_view_module": "@jupyter-widgets/base",
      "_view_module_version": "1.2.0",
      "_view_name": "StyleView",
      "bar_color": null,
      "description_width": "initial"
     }
    },
    "bb7da8978d7241ea9dfc7157c36b16a0": {
     "model_module": "@jupyter-widgets/base",
     "model_name": "LayoutModel",
     "state": {
      "_model_module": "@jupyter-widgets/base",
      "_model_module_version": "1.2.0",
      "_model_name": "LayoutModel",
      "_view_count": null,
      "_view_module": "@jupyter-widgets/base",
      "_view_module_version": "1.2.0",
      "_view_name": "LayoutView",
      "align_content": null,
      "align_items": null,
      "align_self": null,
      "border": null,
      "bottom": null,
      "display": null,
      "flex": null,
      "flex_flow": null,
      "grid_area": null,
      "grid_auto_columns": null,
      "grid_auto_flow": null,
      "grid_auto_rows": null,
      "grid_column": null,
      "grid_gap": null,
      "grid_row": null,
      "grid_template_areas": null,
      "grid_template_columns": null,
      "grid_template_rows": null,
      "height": null,
      "justify_content": null,
      "justify_items": null,
      "left": null,
      "margin": null,
      "max_height": null,
      "max_width": null,
      "min_height": null,
      "min_width": null,
      "object_fit": null,
      "object_position": null,
      "order": null,
      "overflow": null,
      "overflow_x": null,
      "overflow_y": null,
      "padding": null,
      "right": null,
      "top": null,
      "visibility": null,
      "width": null
     }
    },
    "c1987f46b58340a78575838886586d74": {
     "model_module": "@jupyter-widgets/base",
     "model_name": "LayoutModel",
     "state": {
      "_model_module": "@jupyter-widgets/base",
      "_model_module_version": "1.2.0",
      "_model_name": "LayoutModel",
      "_view_count": null,
      "_view_module": "@jupyter-widgets/base",
      "_view_module_version": "1.2.0",
      "_view_name": "LayoutView",
      "align_content": null,
      "align_items": null,
      "align_self": null,
      "border": null,
      "bottom": null,
      "display": null,
      "flex": null,
      "flex_flow": null,
      "grid_area": null,
      "grid_auto_columns": null,
      "grid_auto_flow": null,
      "grid_auto_rows": null,
      "grid_column": null,
      "grid_gap": null,
      "grid_row": null,
      "grid_template_areas": null,
      "grid_template_columns": null,
      "grid_template_rows": null,
      "height": null,
      "justify_content": null,
      "justify_items": null,
      "left": null,
      "margin": null,
      "max_height": null,
      "max_width": null,
      "min_height": null,
      "min_width": null,
      "object_fit": null,
      "object_position": null,
      "order": null,
      "overflow": null,
      "overflow_x": null,
      "overflow_y": null,
      "padding": null,
      "right": null,
      "top": null,
      "visibility": null,
      "width": null
     }
    },
    "c1a1e6cac1e54fdabb28352cd0600859": {
     "model_module": "@jupyter-widgets/base",
     "model_name": "LayoutModel",
     "state": {
      "_model_module": "@jupyter-widgets/base",
      "_model_module_version": "1.2.0",
      "_model_name": "LayoutModel",
      "_view_count": null,
      "_view_module": "@jupyter-widgets/base",
      "_view_module_version": "1.2.0",
      "_view_name": "LayoutView",
      "align_content": null,
      "align_items": null,
      "align_self": null,
      "border": null,
      "bottom": null,
      "display": null,
      "flex": null,
      "flex_flow": null,
      "grid_area": null,
      "grid_auto_columns": null,
      "grid_auto_flow": null,
      "grid_auto_rows": null,
      "grid_column": null,
      "grid_gap": null,
      "grid_row": null,
      "grid_template_areas": null,
      "grid_template_columns": null,
      "grid_template_rows": null,
      "height": null,
      "justify_content": null,
      "justify_items": null,
      "left": null,
      "margin": null,
      "max_height": null,
      "max_width": null,
      "min_height": null,
      "min_width": null,
      "object_fit": null,
      "object_position": null,
      "order": null,
      "overflow": null,
      "overflow_x": null,
      "overflow_y": null,
      "padding": null,
      "right": null,
      "top": null,
      "visibility": null,
      "width": null
     }
    },
    "cc322af3c8ef4f58957fb69e7d4006bc": {
     "model_module": "@jupyter-widgets/controls",
     "model_name": "HBoxModel",
     "state": {
      "_dom_classes": [],
      "_model_module": "@jupyter-widgets/controls",
      "_model_module_version": "1.5.0",
      "_model_name": "HBoxModel",
      "_view_count": null,
      "_view_module": "@jupyter-widgets/controls",
      "_view_module_version": "1.5.0",
      "_view_name": "HBoxView",
      "box_style": "",
      "children": [
       "IPY_MODEL_a95592f8de6f41f5a164a300e203005a",
       "IPY_MODEL_23052b9ca5d042908245f46af5078189"
      ],
      "layout": "IPY_MODEL_ff194b4b66bd4146a129e3020c2b960b"
     }
    },
    "d5cd22a7c49746e59e5b563288f6e111": {
     "model_module": "@jupyter-widgets/controls",
     "model_name": "DescriptionStyleModel",
     "state": {
      "_model_module": "@jupyter-widgets/controls",
      "_model_module_version": "1.5.0",
      "_model_name": "DescriptionStyleModel",
      "_view_count": null,
      "_view_module": "@jupyter-widgets/base",
      "_view_module_version": "1.2.0",
      "_view_name": "StyleView",
      "description_width": ""
     }
    },
    "d63b043f811f4a64b01e953f26881314": {
     "model_module": "@jupyter-widgets/controls",
     "model_name": "HTMLModel",
     "state": {
      "_dom_classes": [],
      "_model_module": "@jupyter-widgets/controls",
      "_model_module_version": "1.5.0",
      "_model_name": "HTMLModel",
      "_view_count": null,
      "_view_module": "@jupyter-widgets/controls",
      "_view_module_version": "1.5.0",
      "_view_name": "HTMLView",
      "description": "",
      "description_tooltip": null,
      "layout": "IPY_MODEL_e26d4a4fc5b043a694ae88ec572603d5",
      "placeholder": "​",
      "style": "IPY_MODEL_7200412793ef4b2ea608f9bb448f565c",
      "value": " 1774/1774 [06:24&lt;00:00,  4.62it/s]"
     }
    },
    "da27ba4da9cc4ff0b2b9a04b675bc05b": {
     "model_module": "@jupyter-widgets/base",
     "model_name": "LayoutModel",
     "state": {
      "_model_module": "@jupyter-widgets/base",
      "_model_module_version": "1.2.0",
      "_model_name": "LayoutModel",
      "_view_count": null,
      "_view_module": "@jupyter-widgets/base",
      "_view_module_version": "1.2.0",
      "_view_name": "LayoutView",
      "align_content": null,
      "align_items": null,
      "align_self": null,
      "border": null,
      "bottom": null,
      "display": null,
      "flex": null,
      "flex_flow": null,
      "grid_area": null,
      "grid_auto_columns": null,
      "grid_auto_flow": null,
      "grid_auto_rows": null,
      "grid_column": null,
      "grid_gap": null,
      "grid_row": null,
      "grid_template_areas": null,
      "grid_template_columns": null,
      "grid_template_rows": null,
      "height": null,
      "justify_content": null,
      "justify_items": null,
      "left": null,
      "margin": null,
      "max_height": null,
      "max_width": null,
      "min_height": null,
      "min_width": null,
      "object_fit": null,
      "object_position": null,
      "order": null,
      "overflow": null,
      "overflow_x": null,
      "overflow_y": null,
      "padding": null,
      "right": null,
      "top": null,
      "visibility": null,
      "width": null
     }
    },
    "dc5be56e06c7421ebad533799d15b7fa": {
     "model_module": "@jupyter-widgets/base",
     "model_name": "LayoutModel",
     "state": {
      "_model_module": "@jupyter-widgets/base",
      "_model_module_version": "1.2.0",
      "_model_name": "LayoutModel",
      "_view_count": null,
      "_view_module": "@jupyter-widgets/base",
      "_view_module_version": "1.2.0",
      "_view_name": "LayoutView",
      "align_content": null,
      "align_items": null,
      "align_self": null,
      "border": null,
      "bottom": null,
      "display": null,
      "flex": null,
      "flex_flow": null,
      "grid_area": null,
      "grid_auto_columns": null,
      "grid_auto_flow": null,
      "grid_auto_rows": null,
      "grid_column": null,
      "grid_gap": null,
      "grid_row": null,
      "grid_template_areas": null,
      "grid_template_columns": null,
      "grid_template_rows": null,
      "height": null,
      "justify_content": null,
      "justify_items": null,
      "left": null,
      "margin": null,
      "max_height": null,
      "max_width": null,
      "min_height": null,
      "min_width": null,
      "object_fit": null,
      "object_position": null,
      "order": null,
      "overflow": null,
      "overflow_x": null,
      "overflow_y": null,
      "padding": null,
      "right": null,
      "top": null,
      "visibility": null,
      "width": null
     }
    },
    "df65e3e4893b4bbaa1295c552cd8f476": {
     "model_module": "@jupyter-widgets/base",
     "model_name": "LayoutModel",
     "state": {
      "_model_module": "@jupyter-widgets/base",
      "_model_module_version": "1.2.0",
      "_model_name": "LayoutModel",
      "_view_count": null,
      "_view_module": "@jupyter-widgets/base",
      "_view_module_version": "1.2.0",
      "_view_name": "LayoutView",
      "align_content": null,
      "align_items": null,
      "align_self": null,
      "border": null,
      "bottom": null,
      "display": null,
      "flex": null,
      "flex_flow": null,
      "grid_area": null,
      "grid_auto_columns": null,
      "grid_auto_flow": null,
      "grid_auto_rows": null,
      "grid_column": null,
      "grid_gap": null,
      "grid_row": null,
      "grid_template_areas": null,
      "grid_template_columns": null,
      "grid_template_rows": null,
      "height": null,
      "justify_content": null,
      "justify_items": null,
      "left": null,
      "margin": null,
      "max_height": null,
      "max_width": null,
      "min_height": null,
      "min_width": null,
      "object_fit": null,
      "object_position": null,
      "order": null,
      "overflow": null,
      "overflow_x": null,
      "overflow_y": null,
      "padding": null,
      "right": null,
      "top": null,
      "visibility": null,
      "width": null
     }
    },
    "e26d4a4fc5b043a694ae88ec572603d5": {
     "model_module": "@jupyter-widgets/base",
     "model_name": "LayoutModel",
     "state": {
      "_model_module": "@jupyter-widgets/base",
      "_model_module_version": "1.2.0",
      "_model_name": "LayoutModel",
      "_view_count": null,
      "_view_module": "@jupyter-widgets/base",
      "_view_module_version": "1.2.0",
      "_view_name": "LayoutView",
      "align_content": null,
      "align_items": null,
      "align_self": null,
      "border": null,
      "bottom": null,
      "display": null,
      "flex": null,
      "flex_flow": null,
      "grid_area": null,
      "grid_auto_columns": null,
      "grid_auto_flow": null,
      "grid_auto_rows": null,
      "grid_column": null,
      "grid_gap": null,
      "grid_row": null,
      "grid_template_areas": null,
      "grid_template_columns": null,
      "grid_template_rows": null,
      "height": null,
      "justify_content": null,
      "justify_items": null,
      "left": null,
      "margin": null,
      "max_height": null,
      "max_width": null,
      "min_height": null,
      "min_width": null,
      "object_fit": null,
      "object_position": null,
      "order": null,
      "overflow": null,
      "overflow_x": null,
      "overflow_y": null,
      "padding": null,
      "right": null,
      "top": null,
      "visibility": null,
      "width": null
     }
    },
    "e5f9ab8cd90c47fdbfe739d0eef28efd": {
     "model_module": "@jupyter-widgets/controls",
     "model_name": "FloatProgressModel",
     "state": {
      "_dom_classes": [],
      "_model_module": "@jupyter-widgets/controls",
      "_model_module_version": "1.5.0",
      "_model_name": "FloatProgressModel",
      "_view_count": null,
      "_view_module": "@jupyter-widgets/controls",
      "_view_module_version": "1.5.0",
      "_view_name": "ProgressView",
      "bar_style": "success",
      "description": "Downloading: 100%",
      "description_tooltip": null,
      "layout": "IPY_MODEL_dc5be56e06c7421ebad533799d15b7fa",
      "max": 1355863,
      "min": 0,
      "orientation": "horizontal",
      "style": "IPY_MODEL_ba2c821713f04908ad5b5120d22a1c96",
      "value": 1355863
     }
    },
    "e7ed5c86eb984509a03f07952f7929ce": {
     "model_module": "@jupyter-widgets/base",
     "model_name": "LayoutModel",
     "state": {
      "_model_module": "@jupyter-widgets/base",
      "_model_module_version": "1.2.0",
      "_model_name": "LayoutModel",
      "_view_count": null,
      "_view_module": "@jupyter-widgets/base",
      "_view_module_version": "1.2.0",
      "_view_name": "LayoutView",
      "align_content": null,
      "align_items": null,
      "align_self": null,
      "border": null,
      "bottom": null,
      "display": null,
      "flex": null,
      "flex_flow": null,
      "grid_area": null,
      "grid_auto_columns": null,
      "grid_auto_flow": null,
      "grid_auto_rows": null,
      "grid_column": null,
      "grid_gap": null,
      "grid_row": null,
      "grid_template_areas": null,
      "grid_template_columns": null,
      "grid_template_rows": null,
      "height": null,
      "justify_content": null,
      "justify_items": null,
      "left": null,
      "margin": null,
      "max_height": null,
      "max_width": null,
      "min_height": null,
      "min_width": null,
      "object_fit": null,
      "object_position": null,
      "order": null,
      "overflow": null,
      "overflow_x": null,
      "overflow_y": null,
      "padding": null,
      "right": null,
      "top": null,
      "visibility": null,
      "width": null
     }
    },
    "e8ff0b58b0aa40269c043fec36fab17e": {
     "model_module": "@jupyter-widgets/base",
     "model_name": "LayoutModel",
     "state": {
      "_model_module": "@jupyter-widgets/base",
      "_model_module_version": "1.2.0",
      "_model_name": "LayoutModel",
      "_view_count": null,
      "_view_module": "@jupyter-widgets/base",
      "_view_module_version": "1.2.0",
      "_view_name": "LayoutView",
      "align_content": null,
      "align_items": null,
      "align_self": null,
      "border": null,
      "bottom": null,
      "display": null,
      "flex": null,
      "flex_flow": null,
      "grid_area": null,
      "grid_auto_columns": null,
      "grid_auto_flow": null,
      "grid_auto_rows": null,
      "grid_column": null,
      "grid_gap": null,
      "grid_row": null,
      "grid_template_areas": null,
      "grid_template_columns": null,
      "grid_template_rows": null,
      "height": null,
      "justify_content": null,
      "justify_items": null,
      "left": null,
      "margin": null,
      "max_height": null,
      "max_width": null,
      "min_height": null,
      "min_width": null,
      "object_fit": null,
      "object_position": null,
      "order": null,
      "overflow": null,
      "overflow_x": null,
      "overflow_y": null,
      "padding": null,
      "right": null,
      "top": null,
      "visibility": null,
      "width": null
     }
    },
    "ebd03e1603b3499596c16b767ee1894b": {
     "model_module": "@jupyter-widgets/controls",
     "model_name": "HBoxModel",
     "state": {
      "_dom_classes": [],
      "_model_module": "@jupyter-widgets/controls",
      "_model_module_version": "1.5.0",
      "_model_name": "HBoxModel",
      "_view_count": null,
      "_view_module": "@jupyter-widgets/controls",
      "_view_module_version": "1.5.0",
      "_view_name": "HBoxView",
      "box_style": "",
      "children": [
       "IPY_MODEL_fb2d8a1ec90b4ad4ba409984bafe21c3",
       "IPY_MODEL_4629bf23f6514cf39495caac76f45af9"
      ],
      "layout": "IPY_MODEL_fee8a940a7db483eba9f813b526aa4b3"
     }
    },
    "f049f1311e144535a48a22159ca59374": {
     "model_module": "@jupyter-widgets/base",
     "model_name": "LayoutModel",
     "state": {
      "_model_module": "@jupyter-widgets/base",
      "_model_module_version": "1.2.0",
      "_model_name": "LayoutModel",
      "_view_count": null,
      "_view_module": "@jupyter-widgets/base",
      "_view_module_version": "1.2.0",
      "_view_name": "LayoutView",
      "align_content": null,
      "align_items": null,
      "align_self": null,
      "border": null,
      "bottom": null,
      "display": null,
      "flex": null,
      "flex_flow": null,
      "grid_area": null,
      "grid_auto_columns": null,
      "grid_auto_flow": null,
      "grid_auto_rows": null,
      "grid_column": null,
      "grid_gap": null,
      "grid_row": null,
      "grid_template_areas": null,
      "grid_template_columns": null,
      "grid_template_rows": null,
      "height": null,
      "justify_content": null,
      "justify_items": null,
      "left": null,
      "margin": null,
      "max_height": null,
      "max_width": null,
      "min_height": null,
      "min_width": null,
      "object_fit": null,
      "object_position": null,
      "order": null,
      "overflow": null,
      "overflow_x": null,
      "overflow_y": null,
      "padding": null,
      "right": null,
      "top": null,
      "visibility": null,
      "width": null
     }
    },
    "f108ca9719fc4630bfd3ec47c504cabd": {
     "model_module": "@jupyter-widgets/controls",
     "model_name": "DescriptionStyleModel",
     "state": {
      "_model_module": "@jupyter-widgets/controls",
      "_model_module_version": "1.5.0",
      "_model_name": "DescriptionStyleModel",
      "_view_count": null,
      "_view_module": "@jupyter-widgets/base",
      "_view_module_version": "1.2.0",
      "_view_name": "StyleView",
      "description_width": ""
     }
    },
    "f1e28efc02dd4c51a28d817f200d9042": {
     "model_module": "@jupyter-widgets/controls",
     "model_name": "ProgressStyleModel",
     "state": {
      "_model_module": "@jupyter-widgets/controls",
      "_model_module_version": "1.5.0",
      "_model_name": "ProgressStyleModel",
      "_view_count": null,
      "_view_module": "@jupyter-widgets/base",
      "_view_module_version": "1.2.0",
      "_view_name": "StyleView",
      "bar_color": null,
      "description_width": "initial"
     }
    },
    "f42605e98e2e458888c1da37e148b0ab": {
     "model_module": "@jupyter-widgets/controls",
     "model_name": "DescriptionStyleModel",
     "state": {
      "_model_module": "@jupyter-widgets/controls",
      "_model_module_version": "1.5.0",
      "_model_name": "DescriptionStyleModel",
      "_view_count": null,
      "_view_module": "@jupyter-widgets/base",
      "_view_module_version": "1.2.0",
      "_view_name": "StyleView",
      "description_width": ""
     }
    },
    "f5220c5fcd2c44b2af7fb19b17e3f90f": {
     "model_module": "@jupyter-widgets/base",
     "model_name": "LayoutModel",
     "state": {
      "_model_module": "@jupyter-widgets/base",
      "_model_module_version": "1.2.0",
      "_model_name": "LayoutModel",
      "_view_count": null,
      "_view_module": "@jupyter-widgets/base",
      "_view_module_version": "1.2.0",
      "_view_name": "LayoutView",
      "align_content": null,
      "align_items": null,
      "align_self": null,
      "border": null,
      "bottom": null,
      "display": null,
      "flex": null,
      "flex_flow": null,
      "grid_area": null,
      "grid_auto_columns": null,
      "grid_auto_flow": null,
      "grid_auto_rows": null,
      "grid_column": null,
      "grid_gap": null,
      "grid_row": null,
      "grid_template_areas": null,
      "grid_template_columns": null,
      "grid_template_rows": null,
      "height": null,
      "justify_content": null,
      "justify_items": null,
      "left": null,
      "margin": null,
      "max_height": null,
      "max_width": null,
      "min_height": null,
      "min_width": null,
      "object_fit": null,
      "object_position": null,
      "order": null,
      "overflow": null,
      "overflow_x": null,
      "overflow_y": null,
      "padding": null,
      "right": null,
      "top": null,
      "visibility": null,
      "width": null
     }
    },
    "f529f7ab67ac42a3af7d0ba0a0fcc23b": {
     "model_module": "@jupyter-widgets/controls",
     "model_name": "ProgressStyleModel",
     "state": {
      "_model_module": "@jupyter-widgets/controls",
      "_model_module_version": "1.5.0",
      "_model_name": "ProgressStyleModel",
      "_view_count": null,
      "_view_module": "@jupyter-widgets/base",
      "_view_module_version": "1.2.0",
      "_view_name": "StyleView",
      "bar_color": null,
      "description_width": "initial"
     }
    },
    "f5418ee6e90940f9a2ab9cbd9c8f7cf1": {
     "model_module": "@jupyter-widgets/controls",
     "model_name": "DescriptionStyleModel",
     "state": {
      "_model_module": "@jupyter-widgets/controls",
      "_model_module_version": "1.5.0",
      "_model_name": "DescriptionStyleModel",
      "_view_count": null,
      "_view_module": "@jupyter-widgets/base",
      "_view_module_version": "1.2.0",
      "_view_name": "StyleView",
      "description_width": ""
     }
    },
    "f7859728d6e34311b2f59c7ea0c9963a": {
     "model_module": "@jupyter-widgets/controls",
     "model_name": "HBoxModel",
     "state": {
      "_dom_classes": [],
      "_model_module": "@jupyter-widgets/controls",
      "_model_module_version": "1.5.0",
      "_model_name": "HBoxModel",
      "_view_count": null,
      "_view_module": "@jupyter-widgets/controls",
      "_view_module_version": "1.5.0",
      "_view_name": "HBoxView",
      "box_style": "",
      "children": [
       "IPY_MODEL_7d63c11ff91e43a0a38617294741ad7f",
       "IPY_MODEL_71aeecc4de47448bb9b2aeb0169db300"
      ],
      "layout": "IPY_MODEL_da27ba4da9cc4ff0b2b9a04b675bc05b"
     }
    },
    "fb2d8a1ec90b4ad4ba409984bafe21c3": {
     "model_module": "@jupyter-widgets/controls",
     "model_name": "FloatProgressModel",
     "state": {
      "_dom_classes": [],
      "_model_module": "@jupyter-widgets/controls",
      "_model_module_version": "1.5.0",
      "_model_name": "FloatProgressModel",
      "_view_count": null,
      "_view_module": "@jupyter-widgets/controls",
      "_view_module_version": "1.5.0",
      "_view_name": "ProgressView",
      "bar_style": "success",
      "description": "Downloading: 100%",
      "description_tooltip": null,
      "layout": "IPY_MODEL_fd68ffbb286a4768b3763d3972a19160",
      "max": 898823,
      "min": 0,
      "orientation": "horizontal",
      "style": "IPY_MODEL_48ec6b30008b4d94830d8b76c67fb862",
      "value": 898823
     }
    },
    "fd68ffbb286a4768b3763d3972a19160": {
     "model_module": "@jupyter-widgets/base",
     "model_name": "LayoutModel",
     "state": {
      "_model_module": "@jupyter-widgets/base",
      "_model_module_version": "1.2.0",
      "_model_name": "LayoutModel",
      "_view_count": null,
      "_view_module": "@jupyter-widgets/base",
      "_view_module_version": "1.2.0",
      "_view_name": "LayoutView",
      "align_content": null,
      "align_items": null,
      "align_self": null,
      "border": null,
      "bottom": null,
      "display": null,
      "flex": null,
      "flex_flow": null,
      "grid_area": null,
      "grid_auto_columns": null,
      "grid_auto_flow": null,
      "grid_auto_rows": null,
      "grid_column": null,
      "grid_gap": null,
      "grid_row": null,
      "grid_template_areas": null,
      "grid_template_columns": null,
      "grid_template_rows": null,
      "height": null,
      "justify_content": null,
      "justify_items": null,
      "left": null,
      "margin": null,
      "max_height": null,
      "max_width": null,
      "min_height": null,
      "min_width": null,
      "object_fit": null,
      "object_position": null,
      "order": null,
      "overflow": null,
      "overflow_x": null,
      "overflow_y": null,
      "padding": null,
      "right": null,
      "top": null,
      "visibility": null,
      "width": null
     }
    },
    "fee8a940a7db483eba9f813b526aa4b3": {
     "model_module": "@jupyter-widgets/base",
     "model_name": "LayoutModel",
     "state": {
      "_model_module": "@jupyter-widgets/base",
      "_model_module_version": "1.2.0",
      "_model_name": "LayoutModel",
      "_view_count": null,
      "_view_module": "@jupyter-widgets/base",
      "_view_module_version": "1.2.0",
      "_view_name": "LayoutView",
      "align_content": null,
      "align_items": null,
      "align_self": null,
      "border": null,
      "bottom": null,
      "display": null,
      "flex": null,
      "flex_flow": null,
      "grid_area": null,
      "grid_auto_columns": null,
      "grid_auto_flow": null,
      "grid_auto_rows": null,
      "grid_column": null,
      "grid_gap": null,
      "grid_row": null,
      "grid_template_areas": null,
      "grid_template_columns": null,
      "grid_template_rows": null,
      "height": null,
      "justify_content": null,
      "justify_items": null,
      "left": null,
      "margin": null,
      "max_height": null,
      "max_width": null,
      "min_height": null,
      "min_width": null,
      "object_fit": null,
      "object_position": null,
      "order": null,
      "overflow": null,
      "overflow_x": null,
      "overflow_y": null,
      "padding": null,
      "right": null,
      "top": null,
      "visibility": null,
      "width": null
     }
    },
    "ff194b4b66bd4146a129e3020c2b960b": {
     "model_module": "@jupyter-widgets/base",
     "model_name": "LayoutModel",
     "state": {
      "_model_module": "@jupyter-widgets/base",
      "_model_module_version": "1.2.0",
      "_model_name": "LayoutModel",
      "_view_count": null,
      "_view_module": "@jupyter-widgets/base",
      "_view_module_version": "1.2.0",
      "_view_name": "LayoutView",
      "align_content": null,
      "align_items": null,
      "align_self": null,
      "border": null,
      "bottom": null,
      "display": null,
      "flex": null,
      "flex_flow": null,
      "grid_area": null,
      "grid_auto_columns": null,
      "grid_auto_flow": null,
      "grid_auto_rows": null,
      "grid_column": null,
      "grid_gap": null,
      "grid_row": null,
      "grid_template_areas": null,
      "grid_template_columns": null,
      "grid_template_rows": null,
      "height": null,
      "justify_content": null,
      "justify_items": null,
      "left": null,
      "margin": null,
      "max_height": null,
      "max_width": null,
      "min_height": null,
      "min_width": null,
      "object_fit": null,
      "object_position": null,
      "order": null,
      "overflow": null,
      "overflow_x": null,
      "overflow_y": null,
      "padding": null,
      "right": null,
      "top": null,
      "visibility": null,
      "width": null
     }
    }
   }
  }
 },
 "nbformat": 4,
 "nbformat_minor": 1
}
