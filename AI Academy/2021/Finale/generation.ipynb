{
 "cells": [
  {
   "cell_type": "code",
   "execution_count": null,
   "metadata": {
    "id": "cPdaHKnacPMf"
   },
   "outputs": [],
   "source": [
    "import codecs\n",
    "import json\n",
    "import joblib\n",
    "import re\n",
    "from functools import reduce\n",
    "import numpy as np\n",
    "from sklearn.linear_model import LinearRegression\n",
    "from sklearn.linear_model import LogisticRegression\n",
    "from sklearn.metrics import accuracy_score\n",
    "from sklearn.metrics import f1_score\n",
    "from nltk.tokenize import word_tokenize\n",
    "from sklearn.feature_extraction.text import CountVectorizer\n",
    "from sklearn.metrics.pairwise import cosine_similarity\n",
    "import torch\n",
    "import numpy as np\n",
    "import codecs\n",
    "import json\n",
    "import joblib\n",
    "import re\n",
    "from functools import reduce\n",
    "import numpy as np\n",
    "from sklearn.linear_model import LinearRegression\n",
    "from sklearn.linear_model import LogisticRegression\n",
    "from sklearn.metrics import accuracy_score\n",
    "from sklearn.metrics import f1_score\n",
    "from nltk.tokenize import word_tokenize\n",
    "from sklearn.feature_extraction.text import CountVectorizer\n",
    "from sklearn.metrics.pairwise import cosine_similarity\n",
    "from tqdm.notebook import trange, tqdm\n",
    "from sklearn.feature_extraction.text import TfidfVectorizer\n",
    "from sklearn.metrics import accuracy_score\n",
    "from scipy.sparse import hstack\n",
    "import pandas as pd\n",
    "from sklearn.metrics import accuracy_score\n",
    "import torch.nn as nn"
   ]
  },
  {
   "cell_type": "code",
   "execution_count": null,
   "metadata": {
    "id": "UkNc5Fv17p_T"
   },
   "outputs": [],
   "source": [
    "import random\n",
    "import time\n",
    "import gc"
   ]
  },
  {
   "cell_type": "code",
   "execution_count": null,
   "metadata": {
    "colab": {
     "base_uri": "https://localhost:8080/"
    },
    "id": "nFB7vDEi7mMd",
    "outputId": "19e2742d-3c54-498e-a02d-1913bde51562"
   },
   "outputs": [
    {
     "name": "stdout",
     "output_type": "stream",
     "text": [
      "Collecting transformers\n",
      "\u001b[?25l  Downloading https://files.pythonhosted.org/packages/f9/54/5ca07ec9569d2f232f3166de5457b63943882f7950ddfcc887732fc7fb23/transformers-4.3.3-py3-none-any.whl (1.9MB)\n",
      "\r",
      "\u001b[K     |▏                               | 10kB 23.2MB/s eta 0:00:01\r",
      "\u001b[K     |▍                               | 20kB 16.2MB/s eta 0:00:01\r",
      "\u001b[K     |▌                               | 30kB 14.6MB/s eta 0:00:01\r",
      "\u001b[K     |▊                               | 40kB 13.2MB/s eta 0:00:01\r",
      "\u001b[K     |▉                               | 51kB 8.8MB/s eta 0:00:01\r",
      "\u001b[K     |█                               | 61kB 9.6MB/s eta 0:00:01\r",
      "\u001b[K     |█▏                              | 71kB 9.4MB/s eta 0:00:01\r",
      "\u001b[K     |█▍                              | 81kB 10.4MB/s eta 0:00:01\r",
      "\u001b[K     |█▌                              | 92kB 9.9MB/s eta 0:00:01\r",
      "\u001b[K     |█▊                              | 102kB 8.5MB/s eta 0:00:01\r",
      "\u001b[K     |██                              | 112kB 8.5MB/s eta 0:00:01\r",
      "\u001b[K     |██                              | 122kB 8.5MB/s eta 0:00:01\r",
      "\u001b[K     |██▎                             | 133kB 8.5MB/s eta 0:00:01\r",
      "\u001b[K     |██▍                             | 143kB 8.5MB/s eta 0:00:01\r",
      "\u001b[K     |██▋                             | 153kB 8.5MB/s eta 0:00:01\r",
      "\u001b[K     |██▊                             | 163kB 8.5MB/s eta 0:00:01\r",
      "\u001b[K     |███                             | 174kB 8.5MB/s eta 0:00:01\r",
      "\u001b[K     |███                             | 184kB 8.5MB/s eta 0:00:01\r",
      "\u001b[K     |███▎                            | 194kB 8.5MB/s eta 0:00:01\r",
      "\u001b[K     |███▌                            | 204kB 8.5MB/s eta 0:00:01\r",
      "\u001b[K     |███▋                            | 215kB 8.5MB/s eta 0:00:01\r",
      "\u001b[K     |███▉                            | 225kB 8.5MB/s eta 0:00:01\r",
      "\u001b[K     |████                            | 235kB 8.5MB/s eta 0:00:01\r",
      "\u001b[K     |████▏                           | 245kB 8.5MB/s eta 0:00:01\r",
      "\u001b[K     |████▎                           | 256kB 8.5MB/s eta 0:00:01\r",
      "\u001b[K     |████▌                           | 266kB 8.5MB/s eta 0:00:01\r",
      "\u001b[K     |████▋                           | 276kB 8.5MB/s eta 0:00:01\r",
      "\u001b[K     |████▉                           | 286kB 8.5MB/s eta 0:00:01\r",
      "\u001b[K     |█████                           | 296kB 8.5MB/s eta 0:00:01\r",
      "\u001b[K     |█████▏                          | 307kB 8.5MB/s eta 0:00:01\r",
      "\u001b[K     |█████▍                          | 317kB 8.5MB/s eta 0:00:01\r",
      "\u001b[K     |█████▌                          | 327kB 8.5MB/s eta 0:00:01\r",
      "\u001b[K     |█████▊                          | 337kB 8.5MB/s eta 0:00:01\r",
      "\u001b[K     |█████▉                          | 348kB 8.5MB/s eta 0:00:01\r",
      "\u001b[K     |██████                          | 358kB 8.5MB/s eta 0:00:01\r",
      "\u001b[K     |██████▏                         | 368kB 8.5MB/s eta 0:00:01\r",
      "\u001b[K     |██████▍                         | 378kB 8.5MB/s eta 0:00:01\r",
      "\u001b[K     |██████▋                         | 389kB 8.5MB/s eta 0:00:01\r",
      "\u001b[K     |██████▊                         | 399kB 8.5MB/s eta 0:00:01\r",
      "\u001b[K     |███████                         | 409kB 8.5MB/s eta 0:00:01\r",
      "\u001b[K     |███████                         | 419kB 8.5MB/s eta 0:00:01\r",
      "\u001b[K     |███████▎                        | 430kB 8.5MB/s eta 0:00:01\r",
      "\u001b[K     |███████▍                        | 440kB 8.5MB/s eta 0:00:01\r",
      "\u001b[K     |███████▋                        | 450kB 8.5MB/s eta 0:00:01\r",
      "\u001b[K     |███████▊                        | 460kB 8.5MB/s eta 0:00:01\r",
      "\u001b[K     |████████                        | 471kB 8.5MB/s eta 0:00:01\r",
      "\u001b[K     |████████▏                       | 481kB 8.5MB/s eta 0:00:01\r",
      "\u001b[K     |████████▎                       | 491kB 8.5MB/s eta 0:00:01\r",
      "\u001b[K     |████████▌                       | 501kB 8.5MB/s eta 0:00:01\r",
      "\u001b[K     |████████▋                       | 512kB 8.5MB/s eta 0:00:01\r",
      "\u001b[K     |████████▉                       | 522kB 8.5MB/s eta 0:00:01\r",
      "\u001b[K     |█████████                       | 532kB 8.5MB/s eta 0:00:01\r",
      "\u001b[K     |█████████▏                      | 542kB 8.5MB/s eta 0:00:01\r",
      "\u001b[K     |█████████▎                      | 552kB 8.5MB/s eta 0:00:01\r",
      "\u001b[K     |█████████▌                      | 563kB 8.5MB/s eta 0:00:01\r",
      "\u001b[K     |█████████▊                      | 573kB 8.5MB/s eta 0:00:01\r",
      "\u001b[K     |█████████▉                      | 583kB 8.5MB/s eta 0:00:01\r",
      "\u001b[K     |██████████                      | 593kB 8.5MB/s eta 0:00:01\r",
      "\u001b[K     |██████████▏                     | 604kB 8.5MB/s eta 0:00:01\r",
      "\u001b[K     |██████████▍                     | 614kB 8.5MB/s eta 0:00:01\r",
      "\u001b[K     |██████████▌                     | 624kB 8.5MB/s eta 0:00:01\r",
      "\u001b[K     |██████████▊                     | 634kB 8.5MB/s eta 0:00:01\r",
      "\u001b[K     |██████████▉                     | 645kB 8.5MB/s eta 0:00:01\r",
      "\u001b[K     |███████████                     | 655kB 8.5MB/s eta 0:00:01\r",
      "\u001b[K     |███████████▎                    | 665kB 8.5MB/s eta 0:00:01\r",
      "\u001b[K     |███████████▍                    | 675kB 8.5MB/s eta 0:00:01\r",
      "\u001b[K     |███████████▋                    | 686kB 8.5MB/s eta 0:00:01\r",
      "\u001b[K     |███████████▊                    | 696kB 8.5MB/s eta 0:00:01\r",
      "\u001b[K     |████████████                    | 706kB 8.5MB/s eta 0:00:01\r",
      "\u001b[K     |████████████                    | 716kB 8.5MB/s eta 0:00:01\r",
      "\u001b[K     |████████████▎                   | 727kB 8.5MB/s eta 0:00:01\r",
      "\u001b[K     |████████████▍                   | 737kB 8.5MB/s eta 0:00:01\r",
      "\u001b[K     |████████████▋                   | 747kB 8.5MB/s eta 0:00:01\r",
      "\u001b[K     |████████████▉                   | 757kB 8.5MB/s eta 0:00:01\r",
      "\u001b[K     |█████████████                   | 768kB 8.5MB/s eta 0:00:01\r",
      "\u001b[K     |█████████████▏                  | 778kB 8.5MB/s eta 0:00:01\r",
      "\u001b[K     |█████████████▎                  | 788kB 8.5MB/s eta 0:00:01\r",
      "\u001b[K     |█████████████▌                  | 798kB 8.5MB/s eta 0:00:01\r",
      "\u001b[K     |█████████████▋                  | 808kB 8.5MB/s eta 0:00:01\r",
      "\u001b[K     |█████████████▉                  | 819kB 8.5MB/s eta 0:00:01\r",
      "\u001b[K     |██████████████                  | 829kB 8.5MB/s eta 0:00:01\r",
      "\u001b[K     |██████████████▏                 | 839kB 8.5MB/s eta 0:00:01\r",
      "\u001b[K     |██████████████▍                 | 849kB 8.5MB/s eta 0:00:01\r",
      "\u001b[K     |██████████████▌                 | 860kB 8.5MB/s eta 0:00:01\r",
      "\u001b[K     |██████████████▊                 | 870kB 8.5MB/s eta 0:00:01\r",
      "\u001b[K     |██████████████▉                 | 880kB 8.5MB/s eta 0:00:01\r",
      "\u001b[K     |███████████████                 | 890kB 8.5MB/s eta 0:00:01\r",
      "\u001b[K     |███████████████▏                | 901kB 8.5MB/s eta 0:00:01\r",
      "\u001b[K     |███████████████▍                | 911kB 8.5MB/s eta 0:00:01\r",
      "\u001b[K     |███████████████▌                | 921kB 8.5MB/s eta 0:00:01\r",
      "\u001b[K     |███████████████▊                | 931kB 8.5MB/s eta 0:00:01\r",
      "\u001b[K     |████████████████                | 942kB 8.5MB/s eta 0:00:01\r",
      "\u001b[K     |████████████████                | 952kB 8.5MB/s eta 0:00:01\r",
      "\u001b[K     |████████████████▎               | 962kB 8.5MB/s eta 0:00:01\r",
      "\u001b[K     |████████████████▍               | 972kB 8.5MB/s eta 0:00:01\r",
      "\u001b[K     |████████████████▋               | 983kB 8.5MB/s eta 0:00:01\r",
      "\u001b[K     |████████████████▊               | 993kB 8.5MB/s eta 0:00:01\r",
      "\u001b[K     |█████████████████               | 1.0MB 8.5MB/s eta 0:00:01\r",
      "\u001b[K     |█████████████████               | 1.0MB 8.5MB/s eta 0:00:01\r",
      "\u001b[K     |█████████████████▎              | 1.0MB 8.5MB/s eta 0:00:01\r",
      "\u001b[K     |█████████████████▍              | 1.0MB 8.5MB/s eta 0:00:01\r",
      "\u001b[K     |█████████████████▋              | 1.0MB 8.5MB/s eta 0:00:01\r",
      "\u001b[K     |█████████████████▉              | 1.1MB 8.5MB/s eta 0:00:01\r",
      "\u001b[K     |██████████████████              | 1.1MB 8.5MB/s eta 0:00:01\r",
      "\u001b[K     |██████████████████▏             | 1.1MB 8.5MB/s eta 0:00:01\r",
      "\u001b[K     |██████████████████▎             | 1.1MB 8.5MB/s eta 0:00:01\r",
      "\u001b[K     |██████████████████▌             | 1.1MB 8.5MB/s eta 0:00:01\r",
      "\u001b[K     |██████████████████▋             | 1.1MB 8.5MB/s eta 0:00:01\r",
      "\u001b[K     |██████████████████▉             | 1.1MB 8.5MB/s eta 0:00:01\r",
      "\u001b[K     |███████████████████             | 1.1MB 8.5MB/s eta 0:00:01\r",
      "\u001b[K     |███████████████████▏            | 1.1MB 8.5MB/s eta 0:00:01\r",
      "\u001b[K     |███████████████████▍            | 1.1MB 8.5MB/s eta 0:00:01\r",
      "\u001b[K     |███████████████████▌            | 1.2MB 8.5MB/s eta 0:00:01\r",
      "\u001b[K     |███████████████████▊            | 1.2MB 8.5MB/s eta 0:00:01\r",
      "\u001b[K     |███████████████████▉            | 1.2MB 8.5MB/s eta 0:00:01\r",
      "\u001b[K     |████████████████████            | 1.2MB 8.5MB/s eta 0:00:01\r",
      "\u001b[K     |████████████████████▏           | 1.2MB 8.5MB/s eta 0:00:01\r",
      "\u001b[K     |████████████████████▍           | 1.2MB 8.5MB/s eta 0:00:01\r",
      "\u001b[K     |████████████████████▌           | 1.2MB 8.5MB/s eta 0:00:01\r",
      "\u001b[K     |████████████████████▊           | 1.2MB 8.5MB/s eta 0:00:01\r",
      "\u001b[K     |█████████████████████           | 1.2MB 8.5MB/s eta 0:00:01\r",
      "\u001b[K     |█████████████████████           | 1.2MB 8.5MB/s eta 0:00:01\r",
      "\u001b[K     |█████████████████████▎          | 1.3MB 8.5MB/s eta 0:00:01\r",
      "\u001b[K     |█████████████████████▍          | 1.3MB 8.5MB/s eta 0:00:01\r",
      "\u001b[K     |█████████████████████▋          | 1.3MB 8.5MB/s eta 0:00:01\r",
      "\u001b[K     |█████████████████████▊          | 1.3MB 8.5MB/s eta 0:00:01\r",
      "\u001b[K     |██████████████████████          | 1.3MB 8.5MB/s eta 0:00:01\r",
      "\u001b[K     |██████████████████████          | 1.3MB 8.5MB/s eta 0:00:01\r",
      "\u001b[K     |██████████████████████▎         | 1.3MB 8.5MB/s eta 0:00:01\r",
      "\u001b[K     |██████████████████████▌         | 1.3MB 8.5MB/s eta 0:00:01\r",
      "\u001b[K     |██████████████████████▋         | 1.3MB 8.5MB/s eta 0:00:01\r",
      "\u001b[K     |██████████████████████▉         | 1.4MB 8.5MB/s eta 0:00:01\r",
      "\u001b[K     |███████████████████████         | 1.4MB 8.5MB/s eta 0:00:01\r",
      "\u001b[K     |███████████████████████▏        | 1.4MB 8.5MB/s eta 0:00:01\r",
      "\u001b[K     |███████████████████████▎        | 1.4MB 8.5MB/s eta 0:00:01\r",
      "\u001b[K     |███████████████████████▌        | 1.4MB 8.5MB/s eta 0:00:01\r",
      "\u001b[K     |███████████████████████▋        | 1.4MB 8.5MB/s eta 0:00:01\r",
      "\u001b[K     |███████████████████████▉        | 1.4MB 8.5MB/s eta 0:00:01\r",
      "\u001b[K     |████████████████████████        | 1.4MB 8.5MB/s eta 0:00:01\r",
      "\u001b[K     |████████████████████████▏       | 1.4MB 8.5MB/s eta 0:00:01\r",
      "\u001b[K     |████████████████████████▍       | 1.4MB 8.5MB/s eta 0:00:01\r",
      "\u001b[K     |████████████████████████▌       | 1.5MB 8.5MB/s eta 0:00:01\r",
      "\u001b[K     |████████████████████████▊       | 1.5MB 8.5MB/s eta 0:00:01\r",
      "\u001b[K     |████████████████████████▉       | 1.5MB 8.5MB/s eta 0:00:01\r",
      "\u001b[K     |█████████████████████████       | 1.5MB 8.5MB/s eta 0:00:01\r",
      "\u001b[K     |█████████████████████████▏      | 1.5MB 8.5MB/s eta 0:00:01\r",
      "\u001b[K     |█████████████████████████▍      | 1.5MB 8.5MB/s eta 0:00:01\r",
      "\u001b[K     |█████████████████████████▋      | 1.5MB 8.5MB/s eta 0:00:01\r",
      "\u001b[K     |█████████████████████████▊      | 1.5MB 8.5MB/s eta 0:00:01\r",
      "\u001b[K     |██████████████████████████      | 1.5MB 8.5MB/s eta 0:00:01\r",
      "\u001b[K     |██████████████████████████      | 1.5MB 8.5MB/s eta 0:00:01\r",
      "\u001b[K     |██████████████████████████▎     | 1.6MB 8.5MB/s eta 0:00:01\r",
      "\u001b[K     |██████████████████████████▍     | 1.6MB 8.5MB/s eta 0:00:01\r",
      "\u001b[K     |██████████████████████████▋     | 1.6MB 8.5MB/s eta 0:00:01\r",
      "\u001b[K     |██████████████████████████▊     | 1.6MB 8.5MB/s eta 0:00:01\r",
      "\u001b[K     |███████████████████████████     | 1.6MB 8.5MB/s eta 0:00:01\r",
      "\u001b[K     |███████████████████████████▏    | 1.6MB 8.5MB/s eta 0:00:01\r",
      "\u001b[K     |███████████████████████████▎    | 1.6MB 8.5MB/s eta 0:00:01\r",
      "\u001b[K     |███████████████████████████▌    | 1.6MB 8.5MB/s eta 0:00:01\r",
      "\u001b[K     |███████████████████████████▋    | 1.6MB 8.5MB/s eta 0:00:01\r",
      "\u001b[K     |███████████████████████████▉    | 1.6MB 8.5MB/s eta 0:00:01\r",
      "\u001b[K     |████████████████████████████    | 1.7MB 8.5MB/s eta 0:00:01\r",
      "\u001b[K     |████████████████████████████▏   | 1.7MB 8.5MB/s eta 0:00:01\r",
      "\u001b[K     |████████████████████████████▎   | 1.7MB 8.5MB/s eta 0:00:01\r",
      "\u001b[K     |████████████████████████████▌   | 1.7MB 8.5MB/s eta 0:00:01\r",
      "\u001b[K     |████████████████████████████▊   | 1.7MB 8.5MB/s eta 0:00:01\r",
      "\u001b[K     |████████████████████████████▉   | 1.7MB 8.5MB/s eta 0:00:01\r",
      "\u001b[K     |█████████████████████████████   | 1.7MB 8.5MB/s eta 0:00:01\r",
      "\u001b[K     |█████████████████████████████▏  | 1.7MB 8.5MB/s eta 0:00:01\r",
      "\u001b[K     |█████████████████████████████▍  | 1.7MB 8.5MB/s eta 0:00:01\r",
      "\u001b[K     |█████████████████████████████▌  | 1.8MB 8.5MB/s eta 0:00:01\r",
      "\u001b[K     |█████████████████████████████▊  | 1.8MB 8.5MB/s eta 0:00:01\r",
      "\u001b[K     |█████████████████████████████▉  | 1.8MB 8.5MB/s eta 0:00:01\r",
      "\u001b[K     |██████████████████████████████  | 1.8MB 8.5MB/s eta 0:00:01\r",
      "\u001b[K     |██████████████████████████████▎ | 1.8MB 8.5MB/s eta 0:00:01\r",
      "\u001b[K     |██████████████████████████████▍ | 1.8MB 8.5MB/s eta 0:00:01\r",
      "\u001b[K     |██████████████████████████████▋ | 1.8MB 8.5MB/s eta 0:00:01\r",
      "\u001b[K     |██████████████████████████████▊ | 1.8MB 8.5MB/s eta 0:00:01\r",
      "\u001b[K     |███████████████████████████████ | 1.8MB 8.5MB/s eta 0:00:01\r",
      "\u001b[K     |███████████████████████████████ | 1.8MB 8.5MB/s eta 0:00:01\r",
      "\u001b[K     |███████████████████████████████▎| 1.9MB 8.5MB/s eta 0:00:01\r",
      "\u001b[K     |███████████████████████████████▍| 1.9MB 8.5MB/s eta 0:00:01\r",
      "\u001b[K     |███████████████████████████████▋| 1.9MB 8.5MB/s eta 0:00:01\r",
      "\u001b[K     |███████████████████████████████▉| 1.9MB 8.5MB/s eta 0:00:01\r",
      "\u001b[K     |████████████████████████████████| 1.9MB 8.5MB/s eta 0:00:01\r",
      "\u001b[K     |████████████████████████████████| 1.9MB 8.5MB/s \n",
      "\u001b[?25hRequirement already satisfied: requests in /usr/local/lib/python3.7/dist-packages (from transformers) (2.23.0)\n",
      "Requirement already satisfied: regex!=2019.12.17 in /usr/local/lib/python3.7/dist-packages (from transformers) (2019.12.20)\n",
      "Requirement already satisfied: numpy>=1.17 in /usr/local/lib/python3.7/dist-packages (from transformers) (1.19.5)\n",
      "Requirement already satisfied: filelock in /usr/local/lib/python3.7/dist-packages (from transformers) (3.0.12)\n",
      "Collecting tokenizers<0.11,>=0.10.1\n",
      "\u001b[?25l  Downloading https://files.pythonhosted.org/packages/71/23/2ddc317b2121117bf34dd00f5b0de194158f2a44ee2bf5e47c7166878a97/tokenizers-0.10.1-cp37-cp37m-manylinux2010_x86_64.whl (3.2MB)\n",
      "\u001b[K     |████████████████████████████████| 3.2MB 56.3MB/s \n",
      "\u001b[?25hCollecting sacremoses\n",
      "\u001b[?25l  Downloading https://files.pythonhosted.org/packages/7d/34/09d19aff26edcc8eb2a01bed8e98f13a1537005d31e95233fd48216eed10/sacremoses-0.0.43.tar.gz (883kB)\n",
      "\u001b[K     |████████████████████████████████| 890kB 62.5MB/s \n",
      "\u001b[?25hRequirement already satisfied: packaging in /usr/local/lib/python3.7/dist-packages (from transformers) (20.9)\n",
      "Requirement already satisfied: tqdm>=4.27 in /usr/local/lib/python3.7/dist-packages (from transformers) (4.41.1)\n",
      "Requirement already satisfied: importlib-metadata; python_version < \"3.8\" in /usr/local/lib/python3.7/dist-packages (from transformers) (3.7.0)\n",
      "Requirement already satisfied: chardet<4,>=3.0.2 in /usr/local/lib/python3.7/dist-packages (from requests->transformers) (3.0.4)\n",
      "Requirement already satisfied: urllib3!=1.25.0,!=1.25.1,<1.26,>=1.21.1 in /usr/local/lib/python3.7/dist-packages (from requests->transformers) (1.24.3)\n",
      "Requirement already satisfied: idna<3,>=2.5 in /usr/local/lib/python3.7/dist-packages (from requests->transformers) (2.10)\n",
      "Requirement already satisfied: certifi>=2017.4.17 in /usr/local/lib/python3.7/dist-packages (from requests->transformers) (2020.12.5)\n",
      "Requirement already satisfied: six in /usr/local/lib/python3.7/dist-packages (from sacremoses->transformers) (1.15.0)\n",
      "Requirement already satisfied: click in /usr/local/lib/python3.7/dist-packages (from sacremoses->transformers) (7.1.2)\n",
      "Requirement already satisfied: joblib in /usr/local/lib/python3.7/dist-packages (from sacremoses->transformers) (1.0.1)\n",
      "Requirement already satisfied: pyparsing>=2.0.2 in /usr/local/lib/python3.7/dist-packages (from packaging->transformers) (2.4.7)\n",
      "Requirement already satisfied: typing-extensions>=3.6.4; python_version < \"3.8\" in /usr/local/lib/python3.7/dist-packages (from importlib-metadata; python_version < \"3.8\"->transformers) (3.7.4.3)\n",
      "Requirement already satisfied: zipp>=0.5 in /usr/local/lib/python3.7/dist-packages (from importlib-metadata; python_version < \"3.8\"->transformers) (3.4.0)\n",
      "Building wheels for collected packages: sacremoses\n",
      "  Building wheel for sacremoses (setup.py) ... \u001b[?25l\u001b[?25hdone\n",
      "  Created wheel for sacremoses: filename=sacremoses-0.0.43-cp37-none-any.whl size=893262 sha256=c785bd2380b3aee65374bd485a41ee67b327bcbe8e9a03db5503ec8654dd2220\n",
      "  Stored in directory: /root/.cache/pip/wheels/29/3c/fd/7ce5c3f0666dab31a50123635e6fb5e19ceb42ce38d4e58f45\n",
      "Successfully built sacremoses\n",
      "Installing collected packages: tokenizers, sacremoses, transformers\n",
      "Successfully installed sacremoses-0.0.43 tokenizers-0.10.1 transformers-4.3.3\n"
     ]
    }
   ],
   "source": [
    "!pip install transformers"
   ]
  },
  {
   "cell_type": "code",
   "execution_count": null,
   "metadata": {
    "id": "J8eWobUd7eYE"
   },
   "outputs": [],
   "source": [
    "from transformers import pipeline"
   ]
  },
  {
   "cell_type": "code",
   "execution_count": null,
   "metadata": {
    "colab": {
     "base_uri": "https://localhost:8080/"
    },
    "id": "Hwcsxm4GMxdr",
    "outputId": "12005a0c-b5a9-4f76-8a46-dc7fd354161d"
   },
   "outputs": [
    {
     "name": "stdout",
     "output_type": "stream",
     "text": [
      "Collecting nlp\n",
      "\u001b[?25l  Downloading https://files.pythonhosted.org/packages/09/e3/bcdc59f3434b224040c1047769c47b82705feca2b89ebbc28311e3764782/nlp-0.4.0-py3-none-any.whl (1.7MB)\n",
      "\u001b[K     |████████████████████████████████| 1.7MB 7.7MB/s \n",
      "\u001b[?25hRequirement already satisfied: pandas in /usr/local/lib/python3.7/dist-packages (from nlp) (1.1.5)\n",
      "Collecting xxhash\n",
      "\u001b[?25l  Downloading https://files.pythonhosted.org/packages/e7/27/1c0b37c53a7852f1c190ba5039404d27b3ae96a55f48203a74259f8213c9/xxhash-2.0.0-cp37-cp37m-manylinux2010_x86_64.whl (243kB)\n",
      "\u001b[K     |████████████████████████████████| 245kB 49.4MB/s \n",
      "\u001b[?25hRequirement already satisfied: filelock in /usr/local/lib/python3.7/dist-packages (from nlp) (3.0.12)\n",
      "Requirement already satisfied: requests>=2.19.0 in /usr/local/lib/python3.7/dist-packages (from nlp) (2.23.0)\n",
      "Requirement already satisfied: pyarrow>=0.16.0 in /usr/local/lib/python3.7/dist-packages (from nlp) (3.0.0)\n",
      "Requirement already satisfied: tqdm>=4.27 in /usr/local/lib/python3.7/dist-packages (from nlp) (4.41.1)\n",
      "Requirement already satisfied: dill in /usr/local/lib/python3.7/dist-packages (from nlp) (0.3.3)\n",
      "Requirement already satisfied: numpy in /usr/local/lib/python3.7/dist-packages (from nlp) (1.19.5)\n",
      "Requirement already satisfied: pytz>=2017.2 in /usr/local/lib/python3.7/dist-packages (from pandas->nlp) (2018.9)\n",
      "Requirement already satisfied: python-dateutil>=2.7.3 in /usr/local/lib/python3.7/dist-packages (from pandas->nlp) (2.8.1)\n",
      "Requirement already satisfied: certifi>=2017.4.17 in /usr/local/lib/python3.7/dist-packages (from requests>=2.19.0->nlp) (2020.12.5)\n",
      "Requirement already satisfied: urllib3!=1.25.0,!=1.25.1,<1.26,>=1.21.1 in /usr/local/lib/python3.7/dist-packages (from requests>=2.19.0->nlp) (1.24.3)\n",
      "Requirement already satisfied: chardet<4,>=3.0.2 in /usr/local/lib/python3.7/dist-packages (from requests>=2.19.0->nlp) (3.0.4)\n",
      "Requirement already satisfied: idna<3,>=2.5 in /usr/local/lib/python3.7/dist-packages (from requests>=2.19.0->nlp) (2.10)\n",
      "Requirement already satisfied: six>=1.5 in /usr/local/lib/python3.7/dist-packages (from python-dateutil>=2.7.3->pandas->nlp) (1.15.0)\n",
      "Installing collected packages: xxhash, nlp\n",
      "Successfully installed nlp-0.4.0 xxhash-2.0.0\n"
     ]
    }
   ],
   "source": [
    "!pip install nlp"
   ]
  },
  {
   "cell_type": "code",
   "execution_count": null,
   "metadata": {
    "id": "L45dGoLOlgHC"
   },
   "outputs": [],
   "source": [
    "def standardize(txt):\n",
    "    return txt.replace('\\n', '').replace('@highlight', '')\n",
    "\n",
    "def standardize_new(txt):\n",
    "    txt = txt.replace('\\'\\'', '\\'').replace('@header', '').replace('\\n', ' ').replace('@highlight', '.').replace('. .', '.').replace(' .', '.').replace('.', '. ').replace('  ', ' ').replace('  ', ' ').strip()\n",
    "    if txt[-1] != '.':\n",
    "        txt += '.'\n",
    "    return txt"
   ]
  },
  {
   "cell_type": "code",
   "execution_count": null,
   "metadata": {
    "id": "YB0v6R24mf5y"
   },
   "outputs": [],
   "source": [
    "def to_t5_format(item, translate=True):\n",
    "    entities = list(set([item[\"passage\"][\"text\"][e[\"start\"]:e[\"end\"]] for e in item[\"passage\"][\"entities\"]]))\n",
    "    en_entities = [answers_en[item[\"passage\"][\"text\"]][e] if translate and e in answers_en[item[\"passage\"][\"text\"]] else e for e in entities]\n",
    "    translated_text = texts_en[item[\"passage\"][\"text\"]] if translate else item[\"passage\"][\"text\"]\n",
    "    tanslated_query = questions_en[item[\"passage\"][\"text\"]] if translate else item[\"passage\"][\"text\"]\n",
    "    tanslated_query = \".\" if tanslated_query == \"\" else tanslated_query\n",
    "    translated_text = \".\" if translated_text == \"\" else tanslated_query\n",
    "    final_text = \"record query: \" + (tanslated_query + \". entities: \" if tanslated_query[-1] != \".\" else tanslated_query + \" entities: \") + \", \".join(en_entities) + \" passage: \" + (translated_text + \".\" if translated_text[-1] != \".\" else translated_text)\n",
    "    return final_text"
   ]
  },
  {
   "cell_type": "code",
   "execution_count": null,
   "metadata": {
    "id": "1Nu_iSR7vIH2"
   },
   "outputs": [],
   "source": [
    "def check_errors(arr):\n",
    "    ixs = []\n",
    "    for i, item in enumerate(arr):\n",
    "        try:\n",
    "          questions_en[standardize(item[\"qas\"][0][\"query\"])]\n",
    "        except:\n",
    "          ixs.append(i)\n",
    "    return ixs"
   ]
  },
  {
   "cell_type": "code",
   "execution_count": null,
   "metadata": {
    "id": "sLz7zOHW87sz"
   },
   "outputs": [],
   "source": [
    "def save_solution(arr, name=None):\n",
    "    name = (str(int(time.time())) if name == None else name) + \".jsonl\"\n",
    "    with open(name, 'w') as fp:\n",
    "          for i, o in enumerate(arr):\n",
    "              slovar = {\"idx\":i, \"text\":o}\n",
    "              fp.write(json.dumps(slovar, ensure_ascii=False)+\"\\n\")\n",
    "    print(\"solution was saved to \", name)"
   ]
  },
  {
   "cell_type": "code",
   "execution_count": null,
   "metadata": {
    "id": "XoF34rd3ZesX"
   },
   "outputs": [],
   "source": [
    "import codecs\n",
    "import json\n",
    "def read_jsonl(path):\n",
    "    with codecs.open(path, encoding='utf-8-sig') as reader:\n",
    "            lines = reader.read().split(\"\\n\")\n",
    "            lines = list(map(json.loads, filter(None, lines)))\n",
    "    return lines"
   ]
  },
  {
   "cell_type": "code",
   "execution_count": null,
   "metadata": {
    "id": "2bGZWFxDbPkk"
   },
   "outputs": [],
   "source": [
    "train = read_jsonl(\"/content/drive/MyDrive/final/rucos_train.jsonl\")"
   ]
  },
  {
   "cell_type": "code",
   "execution_count": null,
   "metadata": {
    "id": "0eE3fiYkb11W"
   },
   "outputs": [],
   "source": [
    "test = read_jsonl(\"/content/drive/MyDrive/final/rucos_test.jsonl\")"
   ]
  },
  {
   "cell_type": "code",
   "execution_count": null,
   "metadata": {
    "id": "CVuVT3ImJMfB"
   },
   "outputs": [],
   "source": [
    "val = read_jsonl(\"/content/drive/MyDrive/final/rucos_val.jsonl\")"
   ]
  },
  {
   "cell_type": "code",
   "execution_count": null,
   "metadata": {
    "colab": {
     "base_uri": "https://localhost:8080/"
    },
    "id": "_OThgph9p2Mn",
    "outputId": "7bf2f0bb-be07-47af-88f8-6715cecca85f"
   },
   "outputs": [
    {
     "name": "stdout",
     "output_type": "stream",
     "text": [
      "Mounted at /content/drive\n"
     ]
    }
   ],
   "source": [
    "from google.colab import drive\n",
    "drive.mount('/content/drive', force_remount=True)\\"
   ]
  },
  {
   "cell_type": "code",
   "execution_count": null,
   "metadata": {
    "id": "TsW3p1wVlknn"
   },
   "outputs": [],
   "source": [
    "answers_en = json.loads(open(\"/content/drive/MyDrive/final/answers_n.json\").read())\n",
    "questions_en = json.loads(open(\"/content/drive/MyDrive/final/questions_n.json\").read())\n",
    "texts_en = json.loads(open(\"/content/drive/MyDrive/final/texts_n.json\").read())"
   ]
  },
  {
   "cell_type": "code",
   "execution_count": null,
   "metadata": {
    "id": "zrgzVeUJ0kaV"
   },
   "outputs": [],
   "source": [
    "questions_en"
   ]
  },
  {
   "cell_type": "code",
   "execution_count": null,
   "metadata": {
    "id": "oQgif7UzqZ9R"
   },
   "outputs": [],
   "source": [
    "answers_en.keys()"
   ]
  },
  {
   "cell_type": "code",
   "execution_count": null,
   "metadata": {
    "id": "HU1Qlk04QIO2"
   },
   "outputs": [],
   "source": [
    "texts_en[ standardize_new(test[537][\"passage\"][\"text\"])]"
   ]
  },
  {
   "cell_type": "code",
   "execution_count": null,
   "metadata": {
    "id": "6er-myu3mdAW"
   },
   "outputs": [],
   "source": [
    "test_t5_data = list(map(to_t5_format, test))"
   ]
  },
  {
   "cell_type": "code",
   "execution_count": null,
   "metadata": {
    "id": "K8R8voK4IAOg"
   },
   "outputs": [],
   "source": [
    "train_t5_data = list(map(to_t5_format, train))"
   ]
  },
  {
   "cell_type": "code",
   "execution_count": null,
   "metadata": {
    "colab": {
     "base_uri": "https://localhost:8080/",
     "height": 167
    },
    "id": "YdoRs7AxI-Af",
    "outputId": "b06a0e52-a62a-483f-df79-b67bc7709883"
   },
   "outputs": [],
   "source": [
    "val_t5_data = list(map(to_t5_format, val))"
   ]
  },
  {
   "cell_type": "code",
   "execution_count": null,
   "metadata": {
    "id": "uftwJicj2Qtw"
   },
   "outputs": [],
   "source": [
    "test_t5_data"
   ]
  },
  {
   "cell_type": "code",
   "execution_count": null,
   "metadata": {
    "colab": {
     "base_uri": "https://localhost:8080/",
     "height": 215,
     "referenced_widgets": [
      "52851f7100e54165b92cfaeb8486a830",
      "15c641a123244e35921516aa0195f8f3",
      "1b38dd384cfa4c4ca878da11b4e80687",
      "ef3233685e03453db7735080101912a9",
      "abff90673a98425ab92bfee39bd59371",
      "a2a900a3b13747909a4e1bb1f20cb971",
      "dfe9bf0e958140aba1c1ed386b6b6b66",
      "2a6f334ba62b45b487ffc800ae90d43b",
      "81df430285e44f32a5e1e538c0cfb596",
      "d747e537cc054f0da4bdb6cd00b8ac75",
      "4e77c9d731434c278d34eb4c35d0ae2b",
      "7452d0cc5c984cdf9aa66b93043653c2",
      "facf06188c1d4f73a1db2aa343431dd3",
      "45d01c053fb14bb79fd3a4fe37a8b839",
      "799c667bc5cc4ddebdf81e15db08fc91",
      "36cea6c3cb51465d9b88a96185ff333e",
      "9151cd7ec14c4a679e1cae16084078f7",
      "6aca324a7a9f40878ef08c94ac9a44df",
      "09fd4da078c249be8dcf2cae3cd87555",
      "43f9125bdced4d6c9255f7d131624cd8",
      "6d58c90e3f2a40949e5043ad69d5722e",
      "1ab880128225430b8595a9fde6499e76",
      "8d2f58894dc24f92893092e91b8f3780",
      "ed822fccb535430b8bb7e6281e6aaed6",
      "6f0029ae3f464979a6aa79ac4ff8180f",
      "81821196e5824a02a85a1f5e654217e7",
      "1d44e6c8a4294dfda3bfb916ea6ec017",
      "29acf0d57064460296df61781ebc3477",
      "b9918a5d8fc3461d82b1d271f4e54b5a",
      "7a410f80aaa84c77998ac7b989c39caa",
      "7aba9839a7154f879d4f47b308a1610e",
      "647203ee66d0454d91e752e3ef87dc68"
     ]
    },
    "id": "lDbVVnk9yaqJ",
    "outputId": "f03ce0ba-f06c-47a4-e574-f52b3ef0a317"
   },
   "outputs": [
    {
     "data": {
      "application/vnd.jupyter.widget-view+json": {
       "model_id": "52851f7100e54165b92cfaeb8486a830",
       "version_major": 2,
       "version_minor": 0
      },
      "text/plain": [
       "HBox(children=(FloatProgress(value=0.0, description='Downloading', max=1199.0, style=ProgressStyle(description…"
      ]
     },
     "metadata": {
      "tags": []
     },
     "output_type": "display_data"
    },
    {
     "name": "stdout",
     "output_type": "stream",
     "text": [
      "\n"
     ]
    },
    {
     "data": {
      "application/vnd.jupyter.widget-view+json": {
       "model_id": "81df430285e44f32a5e1e538c0cfb596",
       "version_major": 2,
       "version_minor": 0
      },
      "text/plain": [
       "HBox(children=(FloatProgress(value=0.0, description='Downloading', max=891691430.0, style=ProgressStyle(descri…"
      ]
     },
     "metadata": {
      "tags": []
     },
     "output_type": "display_data"
    },
    {
     "name": "stdout",
     "output_type": "stream",
     "text": [
      "\n"
     ]
    },
    {
     "data": {
      "application/vnd.jupyter.widget-view+json": {
       "model_id": "9151cd7ec14c4a679e1cae16084078f7",
       "version_major": 2,
       "version_minor": 0
      },
      "text/plain": [
       "HBox(children=(FloatProgress(value=0.0, description='Downloading', max=791656.0, style=ProgressStyle(descripti…"
      ]
     },
     "metadata": {
      "tags": []
     },
     "output_type": "display_data"
    },
    {
     "name": "stdout",
     "output_type": "stream",
     "text": [
      "\n"
     ]
    },
    {
     "data": {
      "application/vnd.jupyter.widget-view+json": {
       "model_id": "6f0029ae3f464979a6aa79ac4ff8180f",
       "version_major": 2,
       "version_minor": 0
      },
      "text/plain": [
       "HBox(children=(FloatProgress(value=0.0, description='Downloading', max=1389353.0, style=ProgressStyle(descript…"
      ]
     },
     "metadata": {
      "tags": []
     },
     "output_type": "display_data"
    },
    {
     "name": "stdout",
     "output_type": "stream",
     "text": [
      "\n"
     ]
    }
   ],
   "source": [
    "from transformers import T5ForConditionalGeneration, T5TokenizerFast\n",
    "model = T5ForConditionalGeneration.from_pretrained('t5-base')\n",
    "tokenizer = T5TokenizerFast.from_pretrained('t5-base')"
   ]
  },
  {
   "cell_type": "code",
   "execution_count": null,
   "metadata": {
    "id": "w_9co-a-il0O"
   },
   "outputs": [],
   "source": [
    "time.sleep(100)"
   ]
  },
  {
   "cell_type": "code",
   "execution_count": null,
   "metadata": {
    "id": "j6KlqS4C68Gu"
   },
   "outputs": [],
   "source": [
    "record_train = json.loads(open(\"/content/drive/MyDrive/final/train.json\").read())"
   ]
  },
  {
   "cell_type": "code",
   "execution_count": null,
   "metadata": {
    "colab": {
     "base_uri": "https://localhost:8080/",
     "height": 215,
     "referenced_widgets": [
      "0ff781f5f223453fa81d05942522b0d6",
      "afe7eed4f1b7457c8cf16e823f1735fd",
      "3c792c92194244f3b7607f125bc8c688",
      "0c1ce80ceeed4955bcd939de9ed7e2f3",
      "a2a3b885a8e041baa1c5c0d0cbee7bda",
      "e727903aade14872ae031b399d3f8cb7",
      "3d5df819c9f544ba9ae33c35a11112b6",
      "9e254320a96647abb758a9f2a046d1ae",
      "e06c8ed56e484c3897208674493ac711",
      "5f485da795a84e9bac85e88bdcc4abe2",
      "00155e3a63944385bc548efc12d59090",
      "270e7da61ddb41d797be1fa300b2b1b8",
      "6181a8146ac6420c8aaed3c1593733e1",
      "d2706757cd764451b7f3d0bd77fbd36e",
      "ee73e703fd944b8b962a547cce5e9302",
      "cc6a7c0d62d243e7b414941ee1079263",
      "6153dd68d85c4d1f8ba84b5dc4dead68",
      "83098014b3924c28929b34678bdea63b",
      "4230e05212cd4237be811fe70bda3e08",
      "010d57a4bcf944a6abcb7c98ac77b69b",
      "db68795b5fd640b0867ec0feb03d7078",
      "9ebb166ffca848999995941cc6e2f591",
      "2a5af87059d84b889e5a58145d7fc259",
      "7b30686b32e740e2a977fc8046349965",
      "6ef7e108026148a3b57075b30a83e227",
      "39358bb3a6684e67b20ef12c00029184",
      "d642bbee486547ac8608e7d2980475ab",
      "f65319224859492d87fe9f54cae3a133",
      "fc535364205b462990e143478d2dcd28",
      "1f93582ba5dc40a9a2945092ee0b7daa",
      "2f420ed458b84dbbb2d548984b66b511",
      "4b4fdfe63fcd45f08237173394d99ff8"
     ]
    },
    "id": "WACScBmm7JG4",
    "outputId": "6b3bb49a-a412-4fa2-9d46-2cdeff11e193"
   },
   "outputs": [
    {
     "data": {
      "application/vnd.jupyter.widget-view+json": {
       "model_id": "0ff781f5f223453fa81d05942522b0d6",
       "version_major": 2,
       "version_minor": 0
      },
      "text/plain": [
       "HBox(children=(FloatProgress(value=0.0, description='Downloading', max=998.0, style=ProgressStyle(description_…"
      ]
     },
     "metadata": {
      "tags": []
     },
     "output_type": "display_data"
    },
    {
     "name": "stdout",
     "output_type": "stream",
     "text": [
      "\n"
     ]
    },
    {
     "data": {
      "application/vnd.jupyter.widget-view+json": {
       "model_id": "e06c8ed56e484c3897208674493ac711",
       "version_major": 2,
       "version_minor": 0
      },
      "text/plain": [
       "HBox(children=(FloatProgress(value=0.0, description='Downloading', max=1334448817.0, style=ProgressStyle(descr…"
      ]
     },
     "metadata": {
      "tags": []
     },
     "output_type": "display_data"
    },
    {
     "name": "stdout",
     "output_type": "stream",
     "text": [
      "\n"
     ]
    },
    {
     "data": {
      "application/vnd.jupyter.widget-view+json": {
       "model_id": "6153dd68d85c4d1f8ba84b5dc4dead68",
       "version_major": 2,
       "version_minor": 0
      },
      "text/plain": [
       "HBox(children=(FloatProgress(value=0.0, description='Downloading', max=213450.0, style=ProgressStyle(descripti…"
      ]
     },
     "metadata": {
      "tags": []
     },
     "output_type": "display_data"
    },
    {
     "name": "stdout",
     "output_type": "stream",
     "text": [
      "\n"
     ]
    },
    {
     "data": {
      "application/vnd.jupyter.widget-view+json": {
       "model_id": "6ef7e108026148a3b57075b30a83e227",
       "version_major": 2,
       "version_minor": 0
      },
      "text/plain": [
       "HBox(children=(FloatProgress(value=0.0, description='Downloading', max=60.0, style=ProgressStyle(description_w…"
      ]
     },
     "metadata": {
      "tags": []
     },
     "output_type": "display_data"
    },
    {
     "name": "stdout",
     "output_type": "stream",
     "text": [
      "\n"
     ]
    }
   ],
   "source": [
    "pipe = pipeline(\"fill-mask\")"
   ]
  },
  {
   "cell_type": "code",
   "execution_count": null,
   "metadata": {
    "id": "xXBpYF0P9lvX"
   },
   "outputs": [],
   "source": [
    "now = 1"
   ]
  },
  {
   "cell_type": "code",
   "execution_count": null,
   "metadata": {
    "id": "sF1A2yuq8XF_"
   },
   "outputs": [],
   "source": [
    "pipe(to_t5_format(record_train[\"data\"][now]).replace(\"@placeholder\", \"[MASK]\"), targets = list(set([record_train[\"data\"][now][\"passage\"][\"text\"][e[\"start\"]:e[\"end\"]] for e in record_train[\"data\"][now][\"passage\"][\"entities\"]])))"
   ]
  },
  {
   "cell_type": "code",
   "execution_count": null,
   "metadata": {
    "colab": {
     "base_uri": "https://localhost:8080/"
    },
    "id": "l4YxS0A989zk",
    "outputId": "f3b042e8-1f3a-4590-c36d-fe4753b2f94f"
   },
   "outputs": [
    {
     "data": {
      "text/plain": [
       "[{'end': 92, 'start': 80, 'text': 'Simon Bolivar'},\n",
       " {'end': 466, 'start': 460, 'text': 'Bolivar'},\n",
       " {'end': 628, 'start': 622, 'text': 'Bolivar'},\n",
       " {'end': 762, 'start': 750, 'text': 'Simon Bolivar'},\n",
       " {'end': 851, 'start': 845, 'text': 'Bolivar'},\n",
       " {'end': 968, 'start': 962, 'text': 'Bolivar'}]"
      ]
     },
     "execution_count": 41,
     "metadata": {
      "tags": []
     },
     "output_type": "execute_result"
    }
   ],
   "source": [
    "record_train[\"data\"][now][\"qas\"][now][\"answers\"]"
   ]
  },
  {
   "cell_type": "code",
   "execution_count": null,
   "metadata": {
    "id": "SusK_nyQ70Me"
   },
   "outputs": [],
   "source": [
    "pipe()"
   ]
  },
  {
   "cell_type": "code",
   "execution_count": null,
   "metadata": {
    "id": "YlfvkWIP2Etl"
   },
   "outputs": [],
   "source": [
    "model.to(\"cuda\")"
   ]
  },
  {
   "cell_type": "code",
   "execution_count": null,
   "metadata": {
    "colab": {
     "base_uri": "https://localhost:8080/"
    },
    "id": "VaD5nrWCr26t",
    "outputId": "791389d8-9a30-4334-b4dd-5bf8ac6de803"
   },
   "outputs": [
    {
     "name": "stdout",
     "output_type": "stream",
     "text": [
      "Collecting fuzzywuzzy\n",
      "  Downloading https://files.pythonhosted.org/packages/43/ff/74f23998ad2f93b945c0309f825be92e04e0348e062026998b5eefef4c33/fuzzywuzzy-0.18.0-py2.py3-none-any.whl\n",
      "Installing collected packages: fuzzywuzzy\n",
      "Successfully installed fuzzywuzzy-0.18.0\n"
     ]
    }
   ],
   "source": [
    "!pip install fuzzywuzzy"
   ]
  },
  {
   "cell_type": "code",
   "execution_count": null,
   "metadata": {
    "colab": {
     "base_uri": "https://localhost:8080/"
    },
    "id": "JormRlGmDrjh",
    "outputId": "0b6111fc-412b-41fe-9204-7c5d1da95c69"
   },
   "outputs": [
    {
     "data": {
      "text/plain": [
       "168"
      ]
     },
     "execution_count": 94,
     "metadata": {
      "tags": []
     },
     "output_type": "execute_result"
    }
   ],
   "source": [
    "torch.cuda.empty_cache()\n",
    "gc.collect()"
   ]
  },
  {
   "cell_type": "code",
   "execution_count": null,
   "metadata": {
    "colab": {
     "base_uri": "https://localhost:8080/"
    },
    "id": "rwayRj1oWF8j",
    "outputId": "f21a4c5c-fdd5-4ee5-87a9-1b074af3429d"
   },
   "outputs": [
    {
     "name": "stderr",
     "output_type": "stream",
     "text": [
      "/usr/local/lib/python3.7/dist-packages/fuzzywuzzy/fuzz.py:11: UserWarning: Using slow pure-python SequenceMatcher. Install python-Levenshtein to remove this warning\n",
      "  warnings.warn('Using slow pure-python SequenceMatcher. Install python-Levenshtein to remove this warning')\n"
     ]
    }
   ],
   "source": [
    "from fuzzywuzzy import fuzz"
   ]
  },
  {
   "cell_type": "code",
   "execution_count": null,
   "metadata": {
    "id": "z6RWJLRY8OTx"
   },
   "outputs": [],
   "source": [
    "def give_entity(position, text):\n",
    "  return text[position[\"start\"]:position[\"end\"]]"
   ]
  },
  {
   "cell_type": "code",
   "execution_count": null,
   "metadata": {
    "id": "UJLPYAtkOE7j"
   },
   "outputs": [],
   "source": [
    "def fix_placeholder(string):\n",
    "  return string.replace('@Placeholder', '@placeholder').replace('@ placeholder', '@placeholder').replace('@ Placeholder', '@placeholder')"
   ]
  },
  {
   "cell_type": "code",
   "execution_count": null,
   "metadata": {
    "id": "_fsse4VYVu8A"
   },
   "outputs": [],
   "source": [
    "simillar_to = {}\n",
    "\n",
    "def find_simillar(answer):\n",
    "    global simillar_to\n",
    "    if answer in simillar_to:\n",
    "        print(simillar_to[answer], \"simillar to\", answer)\n",
    "        return\n",
    "    maxx = 0\n",
    "    most_simillar = \"\"\n",
    "    for key in answers_ru_en:\n",
    "        ratio = fuzz.ratio(key, answer)\n",
    "        if ratio > 95:\n",
    "            most_simillar = key\n",
    "            maxx = ratio\n",
    "            break\n",
    "        elif ratio > maxx:\n",
    "            most_simillar = key\n",
    "            maxx = ratio\n",
    "\n",
    "    simillar_to[answer] = most_simillar\n",
    "    print(most_simillar, \"simillar to\", answer)"
   ]
  },
  {
   "cell_type": "code",
   "execution_count": null,
   "metadata": {
    "id": "t8144I7rdGVj"
   },
   "outputs": [],
   "source": [
    "def find_closest_string(string, arr):\n",
    "    maxx = 0\n",
    "    most_simillar = \"\"\n",
    "    for w in arr:\n",
    "        if w == string:\n",
    "            return string\n",
    "        ratio = fuzz.ratio(string, w)\n",
    "        if ratio > maxx:\n",
    "            most_simillar = w\n",
    "            maxx = ratio\n",
    "    return most_simillar"
   ]
  },
  {
   "cell_type": "code",
   "execution_count": null,
   "metadata": {
    "id": "Tk5B8j7liHKl"
   },
   "outputs": [],
   "source": [
    "def choose_russian(en_string, rus_arr):\n",
    "    for r in rus_arr:\n",
    "        if answers_en[r] == en_string:\n",
    "            return r"
   ]
  },
  {
   "cell_type": "code",
   "execution_count": null,
   "metadata": {
    "id": "rz8BCyW1CWiJ"
   },
   "outputs": [],
   "source": [
    "test_t5_datal = [t.lower() for t in test_t5_data]"
   ]
  },
  {
   "cell_type": "code",
   "execution_count": null,
   "metadata": {
    "id": "VTBlfTfloGHO"
   },
   "outputs": [],
   "source": [
    "test_tokens = tokenizer(test_t5_data, padding=True, truncation=True, return_tensors=\"pt\").input_ids"
   ]
  },
  {
   "cell_type": "code",
   "execution_count": null,
   "metadata": {
    "colab": {
     "base_uri": "https://localhost:8080/",
     "height": 122,
     "referenced_widgets": [
      "bc5671d745a748bca2d4a9231765c219",
      "a39ee81efeb846bdba97c996d48967d2",
      "122131daac74465fa6deb654d7bb8179",
      "052eec3f8881441c8b8d822c93363305",
      "42b384a0c4fc4e5db0188147ddfe4561",
      "90febc170ad742a8ae6d6b2b1c1d806f",
      "8639506df1fd49c8862eb1767889115f",
      "3e4b0891ceb343dba8df3605f783bb94"
     ]
    },
    "id": "AUDOm3Y00sdC",
    "outputId": "889803fd-53ce-46b9-fc5e-7b90eef3abd9"
   },
   "outputs": [
    {
     "data": {
      "application/vnd.jupyter.widget-view+json": {
       "model_id": "bc5671d745a748bca2d4a9231765c219",
       "version_major": 2,
       "version_minor": 0
      },
      "text/plain": [
       "HBox(children=(FloatProgress(value=0.0, max=227.0), HTML(value='')))"
      ]
     },
     "metadata": {
      "tags": []
     },
     "output_type": "display_data"
    },
    {
     "name": "stderr",
     "output_type": "stream",
     "text": [
      "/usr/local/lib/python3.7/dist-packages/ipykernel_launcher.py:4: UserWarning: To copy construct from a tensor, it is recommended to use sourceTensor.clone().detach() or sourceTensor.clone().detach().requires_grad_(True), rather than torch.tensor(sourceTensor).\n",
      "  after removing the cwd from sys.path.\n"
     ]
    },
    {
     "name": "stdout",
     "output_type": "stream",
     "text": [
      "\n"
     ]
    }
   ],
   "source": [
    "test_preds = []\n",
    "batch_size = 32\n",
    "for i in trange(0, len(test_tokens), batch_size):\n",
    "    outputs = model.generate(torch.tensor(test_tokens[i:i+batch_size]).to(\"cuda\"))\n",
    "    tokenslist = list(map(list,outputs.cpu().numpy()))\n",
    "    test_preds.extend([tokenizer.decode(tl).replace(\"<pad>\", \"\").replace(\"</s>\", \"\").replace(\" \", \"\", 1) for tl in tokenslist])\n",
    "    if i % 64 == 0:\n",
    "        torch.cuda.empty_cache()\n",
    "        gc.collect()"
   ]
  },
  {
   "cell_type": "code",
   "execution_count": null,
   "metadata": {
    "id": "E6D3dc-J9_Gl"
   },
   "outputs": [],
   "source": [
    "with open(\"preds.txt\", \"w\") as f:\n",
    "    f.write(\"\\n\".join(test_preds))"
   ]
  },
  {
   "cell_type": "code",
   "execution_count": null,
   "metadata": {
    "id": "FtBe6gYAftQ9"
   },
   "outputs": [],
   "source": [
    "got = [find_closest_string(s, [answers_en[test[i][\"passage\"][\"text\"]][e] if e in answers_en[test[i][\"passage\"][\"text\"]] else e for e in list(set([test[i][\"passage\"][\"text\"][e[\"start\"]:e[\"end\"]] for e in test[i][\"passage\"][\"entities\"]]))] ) for i,s in enumerate(test_preds)]"
   ]
  },
  {
   "cell_type": "code",
   "execution_count": null,
   "metadata": {
    "id": "84Bns6JsfOGa"
   },
   "outputs": [],
   "source": [
    "reverse_dict = lambda x: {k:i for i,k in x.items()}"
   ]
  },
  {
   "cell_type": "code",
   "execution_count": null,
   "metadata": {
    "id": "59FIpo_XfA_i"
   },
   "outputs": [],
   "source": [
    "true_answers = [reverse_dict(answers_en[test[i][\"passage\"][\"text\"]])[a] if a in reverse_dict(answers_en[test[i][\"passage\"][\"text\"]]) else a for i, a in enumerate(got)]"
   ]
  },
  {
   "cell_type": "code",
   "execution_count": null,
   "metadata": {
    "id": "nmWu4ubr53Hy"
   },
   "outputs": [],
   "source": [
    "answers_ru_en = {k:i for i,k in answers_en.items()}"
   ]
  },
  {
   "cell_type": "code",
   "execution_count": null,
   "metadata": {
    "id": "8bOBZnkEVror"
   },
   "outputs": [],
   "source": [
    "for p in test_preds:\n",
    "    if p not in answers_ru_en:\n",
    "        find_simillar(p)"
   ]
  },
  {
   "cell_type": "code",
   "execution_count": null,
   "metadata": {
    "id": "ockDanLegnbY"
   },
   "outputs": [],
   "source": [
    "test_preds_ru = [answers_ru_en[got[i]] for i in range(len(got))]"
   ]
  },
  {
   "cell_type": "code",
   "execution_count": null,
   "metadata": {
    "id": "_Fg0R0Is5tPb"
   },
   "outputs": [],
   "source": [
    "test_preds_ru = [answers_ru_en[test_preds[i]] if test_preds[i] in answers_ru_en else answers_ru_en[simillar_to[test_preds[i]]] for i in range(len(test_preds))]"
   ]
  },
  {
   "cell_type": "code",
   "execution_count": null,
   "metadata": {
    "colab": {
     "base_uri": "https://localhost:8080/",
     "height": 35
    },
    "id": "48Ng0bfac5jB",
    "outputId": "4c719627-e706-4393-9f77-64a61491beb2"
   },
   "outputs": [
    {
     "data": {
      "application/vnd.google.colaboratory.intrinsic+json": {
       "type": "string"
      },
      "text/plain": [
       "'Ariana Grande'"
      ]
     },
     "execution_count": 135,
     "metadata": {
      "tags": []
     },
     "output_type": "execute_result"
    }
   ],
   "source": [
    "answers_en[\"Ариану Гранде\"]"
   ]
  },
  {
   "cell_type": "code",
   "execution_count": null,
   "metadata": {
    "id": "d_Bo6Zfvelln"
   },
   "outputs": [],
   "source": [
    "from collections import Counter"
   ]
  },
  {
   "cell_type": "code",
   "execution_count": null,
   "metadata": {
    "colab": {
     "base_uri": "https://localhost:8080/",
     "height": 163
    },
    "id": "ItvAU7AFbqxj",
    "outputId": "e8a9382e-a874-4010-cc10-8a046404a234"
   },
   "outputs": [
    {
     "ename": "NameError",
     "evalue": "ignored",
     "output_type": "error",
     "traceback": [
      "\u001b[0;31m---------------------------------------------------------------------------\u001b[0m",
      "\u001b[0;31mNameError\u001b[0m                                 Traceback (most recent call last)",
      "\u001b[0;32m<ipython-input-37-0280a6ed6ad1>\u001b[0m in \u001b[0;36m<module>\u001b[0;34m()\u001b[0m\n\u001b[0;32m----> 1\u001b[0;31m \u001b[0mCounter\u001b[0m\u001b[0;34m(\u001b[0m\u001b[0;34m[\u001b[0m\u001b[0mx\u001b[0m \u001b[0;32min\u001b[0m \u001b[0mlist\u001b[0m\u001b[0;34m(\u001b[0m\u001b[0mset\u001b[0m\u001b[0;34m(\u001b[0m\u001b[0;34m[\u001b[0m\u001b[0mtest\u001b[0m\u001b[0;34m[\u001b[0m\u001b[0mi\u001b[0m\u001b[0;34m]\u001b[0m\u001b[0;34m[\u001b[0m\u001b[0;34m\"passage\"\u001b[0m\u001b[0;34m]\u001b[0m\u001b[0;34m[\u001b[0m\u001b[0;34m\"text\"\u001b[0m\u001b[0;34m]\u001b[0m\u001b[0;34m[\u001b[0m\u001b[0me\u001b[0m\u001b[0;34m[\u001b[0m\u001b[0;34m\"start\"\u001b[0m\u001b[0;34m]\u001b[0m\u001b[0;34m:\u001b[0m\u001b[0me\u001b[0m\u001b[0;34m[\u001b[0m\u001b[0;34m\"end\"\u001b[0m\u001b[0;34m]\u001b[0m\u001b[0;34m]\u001b[0m \u001b[0;32mfor\u001b[0m \u001b[0me\u001b[0m \u001b[0;32min\u001b[0m \u001b[0mtest\u001b[0m\u001b[0;34m[\u001b[0m\u001b[0mi\u001b[0m\u001b[0;34m]\u001b[0m\u001b[0;34m[\u001b[0m\u001b[0;34m\"passage\"\u001b[0m\u001b[0;34m]\u001b[0m\u001b[0;34m[\u001b[0m\u001b[0;34m\"entities\"\u001b[0m\u001b[0;34m]\u001b[0m\u001b[0;34m]\u001b[0m \u001b[0;34m)\u001b[0m\u001b[0;34m)\u001b[0m \u001b[0;32mfor\u001b[0m \u001b[0mi\u001b[0m\u001b[0;34m,\u001b[0m \u001b[0mx\u001b[0m \u001b[0;32min\u001b[0m \u001b[0menumerate\u001b[0m\u001b[0;34m(\u001b[0m\u001b[0mtest_preds_ru\u001b[0m\u001b[0;34m)\u001b[0m\u001b[0;34m]\u001b[0m\u001b[0;34m)\u001b[0m\u001b[0;34m\u001b[0m\u001b[0;34m\u001b[0m\u001b[0m\n\u001b[0m",
      "\u001b[0;31mNameError\u001b[0m: name 'test_preds_ru' is not defined"
     ]
    }
   ],
   "source": [
    "Counter([x in list(set([test[i][\"passage\"][\"text\"][e[\"start\"]:e[\"end\"]] for e in test[i][\"passage\"][\"entities\"]] )) for i, x in enumerate(test_preds_ru)])"
   ]
  },
  {
   "cell_type": "code",
   "execution_count": null,
   "metadata": {
    "id": "Uril5TBz6t3f"
   },
   "outputs": [],
   "source": [
    "test_preds_ru = [x if x != \"NOTFOUND\" else give_entity(random.choice(test[i][\"passage\"][\"entities\"]), test[i][\"passage\"][\"text\"]) for i, x in enumerate(test_preds_ru)]"
   ]
  },
  {
   "cell_type": "code",
   "execution_count": null,
   "metadata": {
    "colab": {
     "base_uri": "https://localhost:8080/"
    },
    "id": "fMflaExq8wxW",
    "outputId": "6b5ec458-b40c-4b4c-8259-d8fbd6515755"
   },
   "outputs": [
    {
     "name": "stdout",
     "output_type": "stream",
     "text": [
      "solution was saved to  1614674337.jsonl\n"
     ]
    }
   ],
   "source": [
    "save_solution(true_answers)"
   ]
  }
 ],
 "metadata": {
  "accelerator": "GPU",
  "colab": {
   "machine_shape": "hm",
   "name": "Final.ipynb",
   "provenance": []
  },
  "kernelspec": {
   "display_name": "Python 3",
   "language": "python",
   "name": "python3"
  },
  "language_info": {
   "codemirror_mode": {
    "name": "ipython",
    "version": 3
   },
   "file_extension": ".py",
   "mimetype": "text/x-python",
   "name": "python",
   "nbconvert_exporter": "python",
   "pygments_lexer": "ipython3",
   "version": "3.8.6"
  },
  "widgets": {
   "application/vnd.jupyter.widget-state+json": {
    "00155e3a63944385bc548efc12d59090": {
     "model_module": "@jupyter-widgets/controls",
     "model_name": "FloatProgressModel",
     "state": {
      "_dom_classes": [],
      "_model_module": "@jupyter-widgets/controls",
      "_model_module_version": "1.5.0",
      "_model_name": "FloatProgressModel",
      "_view_count": null,
      "_view_module": "@jupyter-widgets/controls",
      "_view_module_version": "1.5.0",
      "_view_name": "ProgressView",
      "bar_style": "success",
      "description": "Downloading: 100%",
      "description_tooltip": null,
      "layout": "IPY_MODEL_d2706757cd764451b7f3d0bd77fbd36e",
      "max": 1334448817,
      "min": 0,
      "orientation": "horizontal",
      "style": "IPY_MODEL_6181a8146ac6420c8aaed3c1593733e1",
      "value": 1334448817
     }
    },
    "010d57a4bcf944a6abcb7c98ac77b69b": {
     "model_module": "@jupyter-widgets/controls",
     "model_name": "HTMLModel",
     "state": {
      "_dom_classes": [],
      "_model_module": "@jupyter-widgets/controls",
      "_model_module_version": "1.5.0",
      "_model_name": "HTMLModel",
      "_view_count": null,
      "_view_module": "@jupyter-widgets/controls",
      "_view_module_version": "1.5.0",
      "_view_name": "HTMLView",
      "description": "",
      "description_tooltip": null,
      "layout": "IPY_MODEL_7b30686b32e740e2a977fc8046349965",
      "placeholder": "​",
      "style": "IPY_MODEL_2a5af87059d84b889e5a58145d7fc259",
      "value": " 213k/213k [00:01&lt;00:00, 122kB/s]"
     }
    },
    "052eec3f8881441c8b8d822c93363305": {
     "model_module": "@jupyter-widgets/controls",
     "model_name": "HTMLModel",
     "state": {
      "_dom_classes": [],
      "_model_module": "@jupyter-widgets/controls",
      "_model_module_version": "1.5.0",
      "_model_name": "HTMLModel",
      "_view_count": null,
      "_view_module": "@jupyter-widgets/controls",
      "_view_module_version": "1.5.0",
      "_view_name": "HTMLView",
      "description": "",
      "description_tooltip": null,
      "layout": "IPY_MODEL_3e4b0891ceb343dba8df3605f783bb94",
      "placeholder": "​",
      "style": "IPY_MODEL_8639506df1fd49c8862eb1767889115f",
      "value": " 227/227 [13:34&lt;00:00,  3.59s/it]"
     }
    },
    "09fd4da078c249be8dcf2cae3cd87555": {
     "model_module": "@jupyter-widgets/controls",
     "model_name": "FloatProgressModel",
     "state": {
      "_dom_classes": [],
      "_model_module": "@jupyter-widgets/controls",
      "_model_module_version": "1.5.0",
      "_model_name": "FloatProgressModel",
      "_view_count": null,
      "_view_module": "@jupyter-widgets/controls",
      "_view_module_version": "1.5.0",
      "_view_name": "ProgressView",
      "bar_style": "success",
      "description": "Downloading: 100%",
      "description_tooltip": null,
      "layout": "IPY_MODEL_1ab880128225430b8595a9fde6499e76",
      "max": 791656,
      "min": 0,
      "orientation": "horizontal",
      "style": "IPY_MODEL_6d58c90e3f2a40949e5043ad69d5722e",
      "value": 791656
     }
    },
    "0c1ce80ceeed4955bcd939de9ed7e2f3": {
     "model_module": "@jupyter-widgets/controls",
     "model_name": "HTMLModel",
     "state": {
      "_dom_classes": [],
      "_model_module": "@jupyter-widgets/controls",
      "_model_module_version": "1.5.0",
      "_model_name": "HTMLModel",
      "_view_count": null,
      "_view_module": "@jupyter-widgets/controls",
      "_view_module_version": "1.5.0",
      "_view_name": "HTMLView",
      "description": "",
      "description_tooltip": null,
      "layout": "IPY_MODEL_9e254320a96647abb758a9f2a046d1ae",
      "placeholder": "​",
      "style": "IPY_MODEL_3d5df819c9f544ba9ae33c35a11112b6",
      "value": " 998/998 [00:00&lt;00:00, 1.29kB/s]"
     }
    },
    "0ff781f5f223453fa81d05942522b0d6": {
     "model_module": "@jupyter-widgets/controls",
     "model_name": "HBoxModel",
     "state": {
      "_dom_classes": [],
      "_model_module": "@jupyter-widgets/controls",
      "_model_module_version": "1.5.0",
      "_model_name": "HBoxModel",
      "_view_count": null,
      "_view_module": "@jupyter-widgets/controls",
      "_view_module_version": "1.5.0",
      "_view_name": "HBoxView",
      "box_style": "",
      "children": [
       "IPY_MODEL_3c792c92194244f3b7607f125bc8c688",
       "IPY_MODEL_0c1ce80ceeed4955bcd939de9ed7e2f3"
      ],
      "layout": "IPY_MODEL_afe7eed4f1b7457c8cf16e823f1735fd"
     }
    },
    "122131daac74465fa6deb654d7bb8179": {
     "model_module": "@jupyter-widgets/controls",
     "model_name": "FloatProgressModel",
     "state": {
      "_dom_classes": [],
      "_model_module": "@jupyter-widgets/controls",
      "_model_module_version": "1.5.0",
      "_model_name": "FloatProgressModel",
      "_view_count": null,
      "_view_module": "@jupyter-widgets/controls",
      "_view_module_version": "1.5.0",
      "_view_name": "ProgressView",
      "bar_style": "success",
      "description": "100%",
      "description_tooltip": null,
      "layout": "IPY_MODEL_90febc170ad742a8ae6d6b2b1c1d806f",
      "max": 227,
      "min": 0,
      "orientation": "horizontal",
      "style": "IPY_MODEL_42b384a0c4fc4e5db0188147ddfe4561",
      "value": 227
     }
    },
    "15c641a123244e35921516aa0195f8f3": {
     "model_module": "@jupyter-widgets/base",
     "model_name": "LayoutModel",
     "state": {
      "_model_module": "@jupyter-widgets/base",
      "_model_module_version": "1.2.0",
      "_model_name": "LayoutModel",
      "_view_count": null,
      "_view_module": "@jupyter-widgets/base",
      "_view_module_version": "1.2.0",
      "_view_name": "LayoutView",
      "align_content": null,
      "align_items": null,
      "align_self": null,
      "border": null,
      "bottom": null,
      "display": null,
      "flex": null,
      "flex_flow": null,
      "grid_area": null,
      "grid_auto_columns": null,
      "grid_auto_flow": null,
      "grid_auto_rows": null,
      "grid_column": null,
      "grid_gap": null,
      "grid_row": null,
      "grid_template_areas": null,
      "grid_template_columns": null,
      "grid_template_rows": null,
      "height": null,
      "justify_content": null,
      "justify_items": null,
      "left": null,
      "margin": null,
      "max_height": null,
      "max_width": null,
      "min_height": null,
      "min_width": null,
      "object_fit": null,
      "object_position": null,
      "order": null,
      "overflow": null,
      "overflow_x": null,
      "overflow_y": null,
      "padding": null,
      "right": null,
      "top": null,
      "visibility": null,
      "width": null
     }
    },
    "1ab880128225430b8595a9fde6499e76": {
     "model_module": "@jupyter-widgets/base",
     "model_name": "LayoutModel",
     "state": {
      "_model_module": "@jupyter-widgets/base",
      "_model_module_version": "1.2.0",
      "_model_name": "LayoutModel",
      "_view_count": null,
      "_view_module": "@jupyter-widgets/base",
      "_view_module_version": "1.2.0",
      "_view_name": "LayoutView",
      "align_content": null,
      "align_items": null,
      "align_self": null,
      "border": null,
      "bottom": null,
      "display": null,
      "flex": null,
      "flex_flow": null,
      "grid_area": null,
      "grid_auto_columns": null,
      "grid_auto_flow": null,
      "grid_auto_rows": null,
      "grid_column": null,
      "grid_gap": null,
      "grid_row": null,
      "grid_template_areas": null,
      "grid_template_columns": null,
      "grid_template_rows": null,
      "height": null,
      "justify_content": null,
      "justify_items": null,
      "left": null,
      "margin": null,
      "max_height": null,
      "max_width": null,
      "min_height": null,
      "min_width": null,
      "object_fit": null,
      "object_position": null,
      "order": null,
      "overflow": null,
      "overflow_x": null,
      "overflow_y": null,
      "padding": null,
      "right": null,
      "top": null,
      "visibility": null,
      "width": null
     }
    },
    "1b38dd384cfa4c4ca878da11b4e80687": {
     "model_module": "@jupyter-widgets/controls",
     "model_name": "FloatProgressModel",
     "state": {
      "_dom_classes": [],
      "_model_module": "@jupyter-widgets/controls",
      "_model_module_version": "1.5.0",
      "_model_name": "FloatProgressModel",
      "_view_count": null,
      "_view_module": "@jupyter-widgets/controls",
      "_view_module_version": "1.5.0",
      "_view_name": "ProgressView",
      "bar_style": "success",
      "description": "Downloading: 100%",
      "description_tooltip": null,
      "layout": "IPY_MODEL_a2a900a3b13747909a4e1bb1f20cb971",
      "max": 1199,
      "min": 0,
      "orientation": "horizontal",
      "style": "IPY_MODEL_abff90673a98425ab92bfee39bd59371",
      "value": 1199
     }
    },
    "1d44e6c8a4294dfda3bfb916ea6ec017": {
     "model_module": "@jupyter-widgets/controls",
     "model_name": "FloatProgressModel",
     "state": {
      "_dom_classes": [],
      "_model_module": "@jupyter-widgets/controls",
      "_model_module_version": "1.5.0",
      "_model_name": "FloatProgressModel",
      "_view_count": null,
      "_view_module": "@jupyter-widgets/controls",
      "_view_module_version": "1.5.0",
      "_view_name": "ProgressView",
      "bar_style": "success",
      "description": "Downloading: 100%",
      "description_tooltip": null,
      "layout": "IPY_MODEL_7a410f80aaa84c77998ac7b989c39caa",
      "max": 1389353,
      "min": 0,
      "orientation": "horizontal",
      "style": "IPY_MODEL_b9918a5d8fc3461d82b1d271f4e54b5a",
      "value": 1389353
     }
    },
    "1f93582ba5dc40a9a2945092ee0b7daa": {
     "model_module": "@jupyter-widgets/base",
     "model_name": "LayoutModel",
     "state": {
      "_model_module": "@jupyter-widgets/base",
      "_model_module_version": "1.2.0",
      "_model_name": "LayoutModel",
      "_view_count": null,
      "_view_module": "@jupyter-widgets/base",
      "_view_module_version": "1.2.0",
      "_view_name": "LayoutView",
      "align_content": null,
      "align_items": null,
      "align_self": null,
      "border": null,
      "bottom": null,
      "display": null,
      "flex": null,
      "flex_flow": null,
      "grid_area": null,
      "grid_auto_columns": null,
      "grid_auto_flow": null,
      "grid_auto_rows": null,
      "grid_column": null,
      "grid_gap": null,
      "grid_row": null,
      "grid_template_areas": null,
      "grid_template_columns": null,
      "grid_template_rows": null,
      "height": null,
      "justify_content": null,
      "justify_items": null,
      "left": null,
      "margin": null,
      "max_height": null,
      "max_width": null,
      "min_height": null,
      "min_width": null,
      "object_fit": null,
      "object_position": null,
      "order": null,
      "overflow": null,
      "overflow_x": null,
      "overflow_y": null,
      "padding": null,
      "right": null,
      "top": null,
      "visibility": null,
      "width": null
     }
    },
    "270e7da61ddb41d797be1fa300b2b1b8": {
     "model_module": "@jupyter-widgets/controls",
     "model_name": "HTMLModel",
     "state": {
      "_dom_classes": [],
      "_model_module": "@jupyter-widgets/controls",
      "_model_module_version": "1.5.0",
      "_model_name": "HTMLModel",
      "_view_count": null,
      "_view_module": "@jupyter-widgets/controls",
      "_view_module_version": "1.5.0",
      "_view_name": "HTMLView",
      "description": "",
      "description_tooltip": null,
      "layout": "IPY_MODEL_cc6a7c0d62d243e7b414941ee1079263",
      "placeholder": "​",
      "style": "IPY_MODEL_ee73e703fd944b8b962a547cce5e9302",
      "value": " 1.33G/1.33G [00:29&lt;00:00, 44.9MB/s]"
     }
    },
    "29acf0d57064460296df61781ebc3477": {
     "model_module": "@jupyter-widgets/controls",
     "model_name": "HTMLModel",
     "state": {
      "_dom_classes": [],
      "_model_module": "@jupyter-widgets/controls",
      "_model_module_version": "1.5.0",
      "_model_name": "HTMLModel",
      "_view_count": null,
      "_view_module": "@jupyter-widgets/controls",
      "_view_module_version": "1.5.0",
      "_view_name": "HTMLView",
      "description": "",
      "description_tooltip": null,
      "layout": "IPY_MODEL_647203ee66d0454d91e752e3ef87dc68",
      "placeholder": "​",
      "style": "IPY_MODEL_7aba9839a7154f879d4f47b308a1610e",
      "value": " 1.39M/1.39M [00:04&lt;00:00, 282kB/s]"
     }
    },
    "2a5af87059d84b889e5a58145d7fc259": {
     "model_module": "@jupyter-widgets/controls",
     "model_name": "DescriptionStyleModel",
     "state": {
      "_model_module": "@jupyter-widgets/controls",
      "_model_module_version": "1.5.0",
      "_model_name": "DescriptionStyleModel",
      "_view_count": null,
      "_view_module": "@jupyter-widgets/base",
      "_view_module_version": "1.2.0",
      "_view_name": "StyleView",
      "description_width": ""
     }
    },
    "2a6f334ba62b45b487ffc800ae90d43b": {
     "model_module": "@jupyter-widgets/base",
     "model_name": "LayoutModel",
     "state": {
      "_model_module": "@jupyter-widgets/base",
      "_model_module_version": "1.2.0",
      "_model_name": "LayoutModel",
      "_view_count": null,
      "_view_module": "@jupyter-widgets/base",
      "_view_module_version": "1.2.0",
      "_view_name": "LayoutView",
      "align_content": null,
      "align_items": null,
      "align_self": null,
      "border": null,
      "bottom": null,
      "display": null,
      "flex": null,
      "flex_flow": null,
      "grid_area": null,
      "grid_auto_columns": null,
      "grid_auto_flow": null,
      "grid_auto_rows": null,
      "grid_column": null,
      "grid_gap": null,
      "grid_row": null,
      "grid_template_areas": null,
      "grid_template_columns": null,
      "grid_template_rows": null,
      "height": null,
      "justify_content": null,
      "justify_items": null,
      "left": null,
      "margin": null,
      "max_height": null,
      "max_width": null,
      "min_height": null,
      "min_width": null,
      "object_fit": null,
      "object_position": null,
      "order": null,
      "overflow": null,
      "overflow_x": null,
      "overflow_y": null,
      "padding": null,
      "right": null,
      "top": null,
      "visibility": null,
      "width": null
     }
    },
    "2f420ed458b84dbbb2d548984b66b511": {
     "model_module": "@jupyter-widgets/controls",
     "model_name": "DescriptionStyleModel",
     "state": {
      "_model_module": "@jupyter-widgets/controls",
      "_model_module_version": "1.5.0",
      "_model_name": "DescriptionStyleModel",
      "_view_count": null,
      "_view_module": "@jupyter-widgets/base",
      "_view_module_version": "1.2.0",
      "_view_name": "StyleView",
      "description_width": ""
     }
    },
    "36cea6c3cb51465d9b88a96185ff333e": {
     "model_module": "@jupyter-widgets/base",
     "model_name": "LayoutModel",
     "state": {
      "_model_module": "@jupyter-widgets/base",
      "_model_module_version": "1.2.0",
      "_model_name": "LayoutModel",
      "_view_count": null,
      "_view_module": "@jupyter-widgets/base",
      "_view_module_version": "1.2.0",
      "_view_name": "LayoutView",
      "align_content": null,
      "align_items": null,
      "align_self": null,
      "border": null,
      "bottom": null,
      "display": null,
      "flex": null,
      "flex_flow": null,
      "grid_area": null,
      "grid_auto_columns": null,
      "grid_auto_flow": null,
      "grid_auto_rows": null,
      "grid_column": null,
      "grid_gap": null,
      "grid_row": null,
      "grid_template_areas": null,
      "grid_template_columns": null,
      "grid_template_rows": null,
      "height": null,
      "justify_content": null,
      "justify_items": null,
      "left": null,
      "margin": null,
      "max_height": null,
      "max_width": null,
      "min_height": null,
      "min_width": null,
      "object_fit": null,
      "object_position": null,
      "order": null,
      "overflow": null,
      "overflow_x": null,
      "overflow_y": null,
      "padding": null,
      "right": null,
      "top": null,
      "visibility": null,
      "width": null
     }
    },
    "39358bb3a6684e67b20ef12c00029184": {
     "model_module": "@jupyter-widgets/base",
     "model_name": "LayoutModel",
     "state": {
      "_model_module": "@jupyter-widgets/base",
      "_model_module_version": "1.2.0",
      "_model_name": "LayoutModel",
      "_view_count": null,
      "_view_module": "@jupyter-widgets/base",
      "_view_module_version": "1.2.0",
      "_view_name": "LayoutView",
      "align_content": null,
      "align_items": null,
      "align_self": null,
      "border": null,
      "bottom": null,
      "display": null,
      "flex": null,
      "flex_flow": null,
      "grid_area": null,
      "grid_auto_columns": null,
      "grid_auto_flow": null,
      "grid_auto_rows": null,
      "grid_column": null,
      "grid_gap": null,
      "grid_row": null,
      "grid_template_areas": null,
      "grid_template_columns": null,
      "grid_template_rows": null,
      "height": null,
      "justify_content": null,
      "justify_items": null,
      "left": null,
      "margin": null,
      "max_height": null,
      "max_width": null,
      "min_height": null,
      "min_width": null,
      "object_fit": null,
      "object_position": null,
      "order": null,
      "overflow": null,
      "overflow_x": null,
      "overflow_y": null,
      "padding": null,
      "right": null,
      "top": null,
      "visibility": null,
      "width": null
     }
    },
    "3c792c92194244f3b7607f125bc8c688": {
     "model_module": "@jupyter-widgets/controls",
     "model_name": "FloatProgressModel",
     "state": {
      "_dom_classes": [],
      "_model_module": "@jupyter-widgets/controls",
      "_model_module_version": "1.5.0",
      "_model_name": "FloatProgressModel",
      "_view_count": null,
      "_view_module": "@jupyter-widgets/controls",
      "_view_module_version": "1.5.0",
      "_view_name": "ProgressView",
      "bar_style": "success",
      "description": "Downloading: 100%",
      "description_tooltip": null,
      "layout": "IPY_MODEL_e727903aade14872ae031b399d3f8cb7",
      "max": 998,
      "min": 0,
      "orientation": "horizontal",
      "style": "IPY_MODEL_a2a3b885a8e041baa1c5c0d0cbee7bda",
      "value": 998
     }
    },
    "3d5df819c9f544ba9ae33c35a11112b6": {
     "model_module": "@jupyter-widgets/controls",
     "model_name": "DescriptionStyleModel",
     "state": {
      "_model_module": "@jupyter-widgets/controls",
      "_model_module_version": "1.5.0",
      "_model_name": "DescriptionStyleModel",
      "_view_count": null,
      "_view_module": "@jupyter-widgets/base",
      "_view_module_version": "1.2.0",
      "_view_name": "StyleView",
      "description_width": ""
     }
    },
    "3e4b0891ceb343dba8df3605f783bb94": {
     "model_module": "@jupyter-widgets/base",
     "model_name": "LayoutModel",
     "state": {
      "_model_module": "@jupyter-widgets/base",
      "_model_module_version": "1.2.0",
      "_model_name": "LayoutModel",
      "_view_count": null,
      "_view_module": "@jupyter-widgets/base",
      "_view_module_version": "1.2.0",
      "_view_name": "LayoutView",
      "align_content": null,
      "align_items": null,
      "align_self": null,
      "border": null,
      "bottom": null,
      "display": null,
      "flex": null,
      "flex_flow": null,
      "grid_area": null,
      "grid_auto_columns": null,
      "grid_auto_flow": null,
      "grid_auto_rows": null,
      "grid_column": null,
      "grid_gap": null,
      "grid_row": null,
      "grid_template_areas": null,
      "grid_template_columns": null,
      "grid_template_rows": null,
      "height": null,
      "justify_content": null,
      "justify_items": null,
      "left": null,
      "margin": null,
      "max_height": null,
      "max_width": null,
      "min_height": null,
      "min_width": null,
      "object_fit": null,
      "object_position": null,
      "order": null,
      "overflow": null,
      "overflow_x": null,
      "overflow_y": null,
      "padding": null,
      "right": null,
      "top": null,
      "visibility": null,
      "width": null
     }
    },
    "4230e05212cd4237be811fe70bda3e08": {
     "model_module": "@jupyter-widgets/controls",
     "model_name": "FloatProgressModel",
     "state": {
      "_dom_classes": [],
      "_model_module": "@jupyter-widgets/controls",
      "_model_module_version": "1.5.0",
      "_model_name": "FloatProgressModel",
      "_view_count": null,
      "_view_module": "@jupyter-widgets/controls",
      "_view_module_version": "1.5.0",
      "_view_name": "ProgressView",
      "bar_style": "success",
      "description": "Downloading: 100%",
      "description_tooltip": null,
      "layout": "IPY_MODEL_9ebb166ffca848999995941cc6e2f591",
      "max": 213450,
      "min": 0,
      "orientation": "horizontal",
      "style": "IPY_MODEL_db68795b5fd640b0867ec0feb03d7078",
      "value": 213450
     }
    },
    "42b384a0c4fc4e5db0188147ddfe4561": {
     "model_module": "@jupyter-widgets/controls",
     "model_name": "ProgressStyleModel",
     "state": {
      "_model_module": "@jupyter-widgets/controls",
      "_model_module_version": "1.5.0",
      "_model_name": "ProgressStyleModel",
      "_view_count": null,
      "_view_module": "@jupyter-widgets/base",
      "_view_module_version": "1.2.0",
      "_view_name": "StyleView",
      "bar_color": null,
      "description_width": "initial"
     }
    },
    "43f9125bdced4d6c9255f7d131624cd8": {
     "model_module": "@jupyter-widgets/controls",
     "model_name": "HTMLModel",
     "state": {
      "_dom_classes": [],
      "_model_module": "@jupyter-widgets/controls",
      "_model_module_version": "1.5.0",
      "_model_name": "HTMLModel",
      "_view_count": null,
      "_view_module": "@jupyter-widgets/controls",
      "_view_module_version": "1.5.0",
      "_view_name": "HTMLView",
      "description": "",
      "description_tooltip": null,
      "layout": "IPY_MODEL_ed822fccb535430b8bb7e6281e6aaed6",
      "placeholder": "​",
      "style": "IPY_MODEL_8d2f58894dc24f92893092e91b8f3780",
      "value": " 792k/792k [00:05&lt;00:00, 133kB/s]"
     }
    },
    "45d01c053fb14bb79fd3a4fe37a8b839": {
     "model_module": "@jupyter-widgets/base",
     "model_name": "LayoutModel",
     "state": {
      "_model_module": "@jupyter-widgets/base",
      "_model_module_version": "1.2.0",
      "_model_name": "LayoutModel",
      "_view_count": null,
      "_view_module": "@jupyter-widgets/base",
      "_view_module_version": "1.2.0",
      "_view_name": "LayoutView",
      "align_content": null,
      "align_items": null,
      "align_self": null,
      "border": null,
      "bottom": null,
      "display": null,
      "flex": null,
      "flex_flow": null,
      "grid_area": null,
      "grid_auto_columns": null,
      "grid_auto_flow": null,
      "grid_auto_rows": null,
      "grid_column": null,
      "grid_gap": null,
      "grid_row": null,
      "grid_template_areas": null,
      "grid_template_columns": null,
      "grid_template_rows": null,
      "height": null,
      "justify_content": null,
      "justify_items": null,
      "left": null,
      "margin": null,
      "max_height": null,
      "max_width": null,
      "min_height": null,
      "min_width": null,
      "object_fit": null,
      "object_position": null,
      "order": null,
      "overflow": null,
      "overflow_x": null,
      "overflow_y": null,
      "padding": null,
      "right": null,
      "top": null,
      "visibility": null,
      "width": null
     }
    },
    "4b4fdfe63fcd45f08237173394d99ff8": {
     "model_module": "@jupyter-widgets/base",
     "model_name": "LayoutModel",
     "state": {
      "_model_module": "@jupyter-widgets/base",
      "_model_module_version": "1.2.0",
      "_model_name": "LayoutModel",
      "_view_count": null,
      "_view_module": "@jupyter-widgets/base",
      "_view_module_version": "1.2.0",
      "_view_name": "LayoutView",
      "align_content": null,
      "align_items": null,
      "align_self": null,
      "border": null,
      "bottom": null,
      "display": null,
      "flex": null,
      "flex_flow": null,
      "grid_area": null,
      "grid_auto_columns": null,
      "grid_auto_flow": null,
      "grid_auto_rows": null,
      "grid_column": null,
      "grid_gap": null,
      "grid_row": null,
      "grid_template_areas": null,
      "grid_template_columns": null,
      "grid_template_rows": null,
      "height": null,
      "justify_content": null,
      "justify_items": null,
      "left": null,
      "margin": null,
      "max_height": null,
      "max_width": null,
      "min_height": null,
      "min_width": null,
      "object_fit": null,
      "object_position": null,
      "order": null,
      "overflow": null,
      "overflow_x": null,
      "overflow_y": null,
      "padding": null,
      "right": null,
      "top": null,
      "visibility": null,
      "width": null
     }
    },
    "4e77c9d731434c278d34eb4c35d0ae2b": {
     "model_module": "@jupyter-widgets/controls",
     "model_name": "FloatProgressModel",
     "state": {
      "_dom_classes": [],
      "_model_module": "@jupyter-widgets/controls",
      "_model_module_version": "1.5.0",
      "_model_name": "FloatProgressModel",
      "_view_count": null,
      "_view_module": "@jupyter-widgets/controls",
      "_view_module_version": "1.5.0",
      "_view_name": "ProgressView",
      "bar_style": "success",
      "description": "Downloading: 100%",
      "description_tooltip": null,
      "layout": "IPY_MODEL_45d01c053fb14bb79fd3a4fe37a8b839",
      "max": 891691430,
      "min": 0,
      "orientation": "horizontal",
      "style": "IPY_MODEL_facf06188c1d4f73a1db2aa343431dd3",
      "value": 891691430
     }
    },
    "52851f7100e54165b92cfaeb8486a830": {
     "model_module": "@jupyter-widgets/controls",
     "model_name": "HBoxModel",
     "state": {
      "_dom_classes": [],
      "_model_module": "@jupyter-widgets/controls",
      "_model_module_version": "1.5.0",
      "_model_name": "HBoxModel",
      "_view_count": null,
      "_view_module": "@jupyter-widgets/controls",
      "_view_module_version": "1.5.0",
      "_view_name": "HBoxView",
      "box_style": "",
      "children": [
       "IPY_MODEL_1b38dd384cfa4c4ca878da11b4e80687",
       "IPY_MODEL_ef3233685e03453db7735080101912a9"
      ],
      "layout": "IPY_MODEL_15c641a123244e35921516aa0195f8f3"
     }
    },
    "5f485da795a84e9bac85e88bdcc4abe2": {
     "model_module": "@jupyter-widgets/base",
     "model_name": "LayoutModel",
     "state": {
      "_model_module": "@jupyter-widgets/base",
      "_model_module_version": "1.2.0",
      "_model_name": "LayoutModel",
      "_view_count": null,
      "_view_module": "@jupyter-widgets/base",
      "_view_module_version": "1.2.0",
      "_view_name": "LayoutView",
      "align_content": null,
      "align_items": null,
      "align_self": null,
      "border": null,
      "bottom": null,
      "display": null,
      "flex": null,
      "flex_flow": null,
      "grid_area": null,
      "grid_auto_columns": null,
      "grid_auto_flow": null,
      "grid_auto_rows": null,
      "grid_column": null,
      "grid_gap": null,
      "grid_row": null,
      "grid_template_areas": null,
      "grid_template_columns": null,
      "grid_template_rows": null,
      "height": null,
      "justify_content": null,
      "justify_items": null,
      "left": null,
      "margin": null,
      "max_height": null,
      "max_width": null,
      "min_height": null,
      "min_width": null,
      "object_fit": null,
      "object_position": null,
      "order": null,
      "overflow": null,
      "overflow_x": null,
      "overflow_y": null,
      "padding": null,
      "right": null,
      "top": null,
      "visibility": null,
      "width": null
     }
    },
    "6153dd68d85c4d1f8ba84b5dc4dead68": {
     "model_module": "@jupyter-widgets/controls",
     "model_name": "HBoxModel",
     "state": {
      "_dom_classes": [],
      "_model_module": "@jupyter-widgets/controls",
      "_model_module_version": "1.5.0",
      "_model_name": "HBoxModel",
      "_view_count": null,
      "_view_module": "@jupyter-widgets/controls",
      "_view_module_version": "1.5.0",
      "_view_name": "HBoxView",
      "box_style": "",
      "children": [
       "IPY_MODEL_4230e05212cd4237be811fe70bda3e08",
       "IPY_MODEL_010d57a4bcf944a6abcb7c98ac77b69b"
      ],
      "layout": "IPY_MODEL_83098014b3924c28929b34678bdea63b"
     }
    },
    "6181a8146ac6420c8aaed3c1593733e1": {
     "model_module": "@jupyter-widgets/controls",
     "model_name": "ProgressStyleModel",
     "state": {
      "_model_module": "@jupyter-widgets/controls",
      "_model_module_version": "1.5.0",
      "_model_name": "ProgressStyleModel",
      "_view_count": null,
      "_view_module": "@jupyter-widgets/base",
      "_view_module_version": "1.2.0",
      "_view_name": "StyleView",
      "bar_color": null,
      "description_width": "initial"
     }
    },
    "647203ee66d0454d91e752e3ef87dc68": {
     "model_module": "@jupyter-widgets/base",
     "model_name": "LayoutModel",
     "state": {
      "_model_module": "@jupyter-widgets/base",
      "_model_module_version": "1.2.0",
      "_model_name": "LayoutModel",
      "_view_count": null,
      "_view_module": "@jupyter-widgets/base",
      "_view_module_version": "1.2.0",
      "_view_name": "LayoutView",
      "align_content": null,
      "align_items": null,
      "align_self": null,
      "border": null,
      "bottom": null,
      "display": null,
      "flex": null,
      "flex_flow": null,
      "grid_area": null,
      "grid_auto_columns": null,
      "grid_auto_flow": null,
      "grid_auto_rows": null,
      "grid_column": null,
      "grid_gap": null,
      "grid_row": null,
      "grid_template_areas": null,
      "grid_template_columns": null,
      "grid_template_rows": null,
      "height": null,
      "justify_content": null,
      "justify_items": null,
      "left": null,
      "margin": null,
      "max_height": null,
      "max_width": null,
      "min_height": null,
      "min_width": null,
      "object_fit": null,
      "object_position": null,
      "order": null,
      "overflow": null,
      "overflow_x": null,
      "overflow_y": null,
      "padding": null,
      "right": null,
      "top": null,
      "visibility": null,
      "width": null
     }
    },
    "6aca324a7a9f40878ef08c94ac9a44df": {
     "model_module": "@jupyter-widgets/base",
     "model_name": "LayoutModel",
     "state": {
      "_model_module": "@jupyter-widgets/base",
      "_model_module_version": "1.2.0",
      "_model_name": "LayoutModel",
      "_view_count": null,
      "_view_module": "@jupyter-widgets/base",
      "_view_module_version": "1.2.0",
      "_view_name": "LayoutView",
      "align_content": null,
      "align_items": null,
      "align_self": null,
      "border": null,
      "bottom": null,
      "display": null,
      "flex": null,
      "flex_flow": null,
      "grid_area": null,
      "grid_auto_columns": null,
      "grid_auto_flow": null,
      "grid_auto_rows": null,
      "grid_column": null,
      "grid_gap": null,
      "grid_row": null,
      "grid_template_areas": null,
      "grid_template_columns": null,
      "grid_template_rows": null,
      "height": null,
      "justify_content": null,
      "justify_items": null,
      "left": null,
      "margin": null,
      "max_height": null,
      "max_width": null,
      "min_height": null,
      "min_width": null,
      "object_fit": null,
      "object_position": null,
      "order": null,
      "overflow": null,
      "overflow_x": null,
      "overflow_y": null,
      "padding": null,
      "right": null,
      "top": null,
      "visibility": null,
      "width": null
     }
    },
    "6d58c90e3f2a40949e5043ad69d5722e": {
     "model_module": "@jupyter-widgets/controls",
     "model_name": "ProgressStyleModel",
     "state": {
      "_model_module": "@jupyter-widgets/controls",
      "_model_module_version": "1.5.0",
      "_model_name": "ProgressStyleModel",
      "_view_count": null,
      "_view_module": "@jupyter-widgets/base",
      "_view_module_version": "1.2.0",
      "_view_name": "StyleView",
      "bar_color": null,
      "description_width": "initial"
     }
    },
    "6ef7e108026148a3b57075b30a83e227": {
     "model_module": "@jupyter-widgets/controls",
     "model_name": "HBoxModel",
     "state": {
      "_dom_classes": [],
      "_model_module": "@jupyter-widgets/controls",
      "_model_module_version": "1.5.0",
      "_model_name": "HBoxModel",
      "_view_count": null,
      "_view_module": "@jupyter-widgets/controls",
      "_view_module_version": "1.5.0",
      "_view_name": "HBoxView",
      "box_style": "",
      "children": [
       "IPY_MODEL_d642bbee486547ac8608e7d2980475ab",
       "IPY_MODEL_f65319224859492d87fe9f54cae3a133"
      ],
      "layout": "IPY_MODEL_39358bb3a6684e67b20ef12c00029184"
     }
    },
    "6f0029ae3f464979a6aa79ac4ff8180f": {
     "model_module": "@jupyter-widgets/controls",
     "model_name": "HBoxModel",
     "state": {
      "_dom_classes": [],
      "_model_module": "@jupyter-widgets/controls",
      "_model_module_version": "1.5.0",
      "_model_name": "HBoxModel",
      "_view_count": null,
      "_view_module": "@jupyter-widgets/controls",
      "_view_module_version": "1.5.0",
      "_view_name": "HBoxView",
      "box_style": "",
      "children": [
       "IPY_MODEL_1d44e6c8a4294dfda3bfb916ea6ec017",
       "IPY_MODEL_29acf0d57064460296df61781ebc3477"
      ],
      "layout": "IPY_MODEL_81821196e5824a02a85a1f5e654217e7"
     }
    },
    "7452d0cc5c984cdf9aa66b93043653c2": {
     "model_module": "@jupyter-widgets/controls",
     "model_name": "HTMLModel",
     "state": {
      "_dom_classes": [],
      "_model_module": "@jupyter-widgets/controls",
      "_model_module_version": "1.5.0",
      "_model_name": "HTMLModel",
      "_view_count": null,
      "_view_module": "@jupyter-widgets/controls",
      "_view_module_version": "1.5.0",
      "_view_name": "HTMLView",
      "description": "",
      "description_tooltip": null,
      "layout": "IPY_MODEL_36cea6c3cb51465d9b88a96185ff333e",
      "placeholder": "​",
      "style": "IPY_MODEL_799c667bc5cc4ddebdf81e15db08fc91",
      "value": " 892M/892M [00:16&lt;00:00, 55.5MB/s]"
     }
    },
    "799c667bc5cc4ddebdf81e15db08fc91": {
     "model_module": "@jupyter-widgets/controls",
     "model_name": "DescriptionStyleModel",
     "state": {
      "_model_module": "@jupyter-widgets/controls",
      "_model_module_version": "1.5.0",
      "_model_name": "DescriptionStyleModel",
      "_view_count": null,
      "_view_module": "@jupyter-widgets/base",
      "_view_module_version": "1.2.0",
      "_view_name": "StyleView",
      "description_width": ""
     }
    },
    "7a410f80aaa84c77998ac7b989c39caa": {
     "model_module": "@jupyter-widgets/base",
     "model_name": "LayoutModel",
     "state": {
      "_model_module": "@jupyter-widgets/base",
      "_model_module_version": "1.2.0",
      "_model_name": "LayoutModel",
      "_view_count": null,
      "_view_module": "@jupyter-widgets/base",
      "_view_module_version": "1.2.0",
      "_view_name": "LayoutView",
      "align_content": null,
      "align_items": null,
      "align_self": null,
      "border": null,
      "bottom": null,
      "display": null,
      "flex": null,
      "flex_flow": null,
      "grid_area": null,
      "grid_auto_columns": null,
      "grid_auto_flow": null,
      "grid_auto_rows": null,
      "grid_column": null,
      "grid_gap": null,
      "grid_row": null,
      "grid_template_areas": null,
      "grid_template_columns": null,
      "grid_template_rows": null,
      "height": null,
      "justify_content": null,
      "justify_items": null,
      "left": null,
      "margin": null,
      "max_height": null,
      "max_width": null,
      "min_height": null,
      "min_width": null,
      "object_fit": null,
      "object_position": null,
      "order": null,
      "overflow": null,
      "overflow_x": null,
      "overflow_y": null,
      "padding": null,
      "right": null,
      "top": null,
      "visibility": null,
      "width": null
     }
    },
    "7aba9839a7154f879d4f47b308a1610e": {
     "model_module": "@jupyter-widgets/controls",
     "model_name": "DescriptionStyleModel",
     "state": {
      "_model_module": "@jupyter-widgets/controls",
      "_model_module_version": "1.5.0",
      "_model_name": "DescriptionStyleModel",
      "_view_count": null,
      "_view_module": "@jupyter-widgets/base",
      "_view_module_version": "1.2.0",
      "_view_name": "StyleView",
      "description_width": ""
     }
    },
    "7b30686b32e740e2a977fc8046349965": {
     "model_module": "@jupyter-widgets/base",
     "model_name": "LayoutModel",
     "state": {
      "_model_module": "@jupyter-widgets/base",
      "_model_module_version": "1.2.0",
      "_model_name": "LayoutModel",
      "_view_count": null,
      "_view_module": "@jupyter-widgets/base",
      "_view_module_version": "1.2.0",
      "_view_name": "LayoutView",
      "align_content": null,
      "align_items": null,
      "align_self": null,
      "border": null,
      "bottom": null,
      "display": null,
      "flex": null,
      "flex_flow": null,
      "grid_area": null,
      "grid_auto_columns": null,
      "grid_auto_flow": null,
      "grid_auto_rows": null,
      "grid_column": null,
      "grid_gap": null,
      "grid_row": null,
      "grid_template_areas": null,
      "grid_template_columns": null,
      "grid_template_rows": null,
      "height": null,
      "justify_content": null,
      "justify_items": null,
      "left": null,
      "margin": null,
      "max_height": null,
      "max_width": null,
      "min_height": null,
      "min_width": null,
      "object_fit": null,
      "object_position": null,
      "order": null,
      "overflow": null,
      "overflow_x": null,
      "overflow_y": null,
      "padding": null,
      "right": null,
      "top": null,
      "visibility": null,
      "width": null
     }
    },
    "81821196e5824a02a85a1f5e654217e7": {
     "model_module": "@jupyter-widgets/base",
     "model_name": "LayoutModel",
     "state": {
      "_model_module": "@jupyter-widgets/base",
      "_model_module_version": "1.2.0",
      "_model_name": "LayoutModel",
      "_view_count": null,
      "_view_module": "@jupyter-widgets/base",
      "_view_module_version": "1.2.0",
      "_view_name": "LayoutView",
      "align_content": null,
      "align_items": null,
      "align_self": null,
      "border": null,
      "bottom": null,
      "display": null,
      "flex": null,
      "flex_flow": null,
      "grid_area": null,
      "grid_auto_columns": null,
      "grid_auto_flow": null,
      "grid_auto_rows": null,
      "grid_column": null,
      "grid_gap": null,
      "grid_row": null,
      "grid_template_areas": null,
      "grid_template_columns": null,
      "grid_template_rows": null,
      "height": null,
      "justify_content": null,
      "justify_items": null,
      "left": null,
      "margin": null,
      "max_height": null,
      "max_width": null,
      "min_height": null,
      "min_width": null,
      "object_fit": null,
      "object_position": null,
      "order": null,
      "overflow": null,
      "overflow_x": null,
      "overflow_y": null,
      "padding": null,
      "right": null,
      "top": null,
      "visibility": null,
      "width": null
     }
    },
    "81df430285e44f32a5e1e538c0cfb596": {
     "model_module": "@jupyter-widgets/controls",
     "model_name": "HBoxModel",
     "state": {
      "_dom_classes": [],
      "_model_module": "@jupyter-widgets/controls",
      "_model_module_version": "1.5.0",
      "_model_name": "HBoxModel",
      "_view_count": null,
      "_view_module": "@jupyter-widgets/controls",
      "_view_module_version": "1.5.0",
      "_view_name": "HBoxView",
      "box_style": "",
      "children": [
       "IPY_MODEL_4e77c9d731434c278d34eb4c35d0ae2b",
       "IPY_MODEL_7452d0cc5c984cdf9aa66b93043653c2"
      ],
      "layout": "IPY_MODEL_d747e537cc054f0da4bdb6cd00b8ac75"
     }
    },
    "83098014b3924c28929b34678bdea63b": {
     "model_module": "@jupyter-widgets/base",
     "model_name": "LayoutModel",
     "state": {
      "_model_module": "@jupyter-widgets/base",
      "_model_module_version": "1.2.0",
      "_model_name": "LayoutModel",
      "_view_count": null,
      "_view_module": "@jupyter-widgets/base",
      "_view_module_version": "1.2.0",
      "_view_name": "LayoutView",
      "align_content": null,
      "align_items": null,
      "align_self": null,
      "border": null,
      "bottom": null,
      "display": null,
      "flex": null,
      "flex_flow": null,
      "grid_area": null,
      "grid_auto_columns": null,
      "grid_auto_flow": null,
      "grid_auto_rows": null,
      "grid_column": null,
      "grid_gap": null,
      "grid_row": null,
      "grid_template_areas": null,
      "grid_template_columns": null,
      "grid_template_rows": null,
      "height": null,
      "justify_content": null,
      "justify_items": null,
      "left": null,
      "margin": null,
      "max_height": null,
      "max_width": null,
      "min_height": null,
      "min_width": null,
      "object_fit": null,
      "object_position": null,
      "order": null,
      "overflow": null,
      "overflow_x": null,
      "overflow_y": null,
      "padding": null,
      "right": null,
      "top": null,
      "visibility": null,
      "width": null
     }
    },
    "8639506df1fd49c8862eb1767889115f": {
     "model_module": "@jupyter-widgets/controls",
     "model_name": "DescriptionStyleModel",
     "state": {
      "_model_module": "@jupyter-widgets/controls",
      "_model_module_version": "1.5.0",
      "_model_name": "DescriptionStyleModel",
      "_view_count": null,
      "_view_module": "@jupyter-widgets/base",
      "_view_module_version": "1.2.0",
      "_view_name": "StyleView",
      "description_width": ""
     }
    },
    "8d2f58894dc24f92893092e91b8f3780": {
     "model_module": "@jupyter-widgets/controls",
     "model_name": "DescriptionStyleModel",
     "state": {
      "_model_module": "@jupyter-widgets/controls",
      "_model_module_version": "1.5.0",
      "_model_name": "DescriptionStyleModel",
      "_view_count": null,
      "_view_module": "@jupyter-widgets/base",
      "_view_module_version": "1.2.0",
      "_view_name": "StyleView",
      "description_width": ""
     }
    },
    "90febc170ad742a8ae6d6b2b1c1d806f": {
     "model_module": "@jupyter-widgets/base",
     "model_name": "LayoutModel",
     "state": {
      "_model_module": "@jupyter-widgets/base",
      "_model_module_version": "1.2.0",
      "_model_name": "LayoutModel",
      "_view_count": null,
      "_view_module": "@jupyter-widgets/base",
      "_view_module_version": "1.2.0",
      "_view_name": "LayoutView",
      "align_content": null,
      "align_items": null,
      "align_self": null,
      "border": null,
      "bottom": null,
      "display": null,
      "flex": null,
      "flex_flow": null,
      "grid_area": null,
      "grid_auto_columns": null,
      "grid_auto_flow": null,
      "grid_auto_rows": null,
      "grid_column": null,
      "grid_gap": null,
      "grid_row": null,
      "grid_template_areas": null,
      "grid_template_columns": null,
      "grid_template_rows": null,
      "height": null,
      "justify_content": null,
      "justify_items": null,
      "left": null,
      "margin": null,
      "max_height": null,
      "max_width": null,
      "min_height": null,
      "min_width": null,
      "object_fit": null,
      "object_position": null,
      "order": null,
      "overflow": null,
      "overflow_x": null,
      "overflow_y": null,
      "padding": null,
      "right": null,
      "top": null,
      "visibility": null,
      "width": null
     }
    },
    "9151cd7ec14c4a679e1cae16084078f7": {
     "model_module": "@jupyter-widgets/controls",
     "model_name": "HBoxModel",
     "state": {
      "_dom_classes": [],
      "_model_module": "@jupyter-widgets/controls",
      "_model_module_version": "1.5.0",
      "_model_name": "HBoxModel",
      "_view_count": null,
      "_view_module": "@jupyter-widgets/controls",
      "_view_module_version": "1.5.0",
      "_view_name": "HBoxView",
      "box_style": "",
      "children": [
       "IPY_MODEL_09fd4da078c249be8dcf2cae3cd87555",
       "IPY_MODEL_43f9125bdced4d6c9255f7d131624cd8"
      ],
      "layout": "IPY_MODEL_6aca324a7a9f40878ef08c94ac9a44df"
     }
    },
    "9e254320a96647abb758a9f2a046d1ae": {
     "model_module": "@jupyter-widgets/base",
     "model_name": "LayoutModel",
     "state": {
      "_model_module": "@jupyter-widgets/base",
      "_model_module_version": "1.2.0",
      "_model_name": "LayoutModel",
      "_view_count": null,
      "_view_module": "@jupyter-widgets/base",
      "_view_module_version": "1.2.0",
      "_view_name": "LayoutView",
      "align_content": null,
      "align_items": null,
      "align_self": null,
      "border": null,
      "bottom": null,
      "display": null,
      "flex": null,
      "flex_flow": null,
      "grid_area": null,
      "grid_auto_columns": null,
      "grid_auto_flow": null,
      "grid_auto_rows": null,
      "grid_column": null,
      "grid_gap": null,
      "grid_row": null,
      "grid_template_areas": null,
      "grid_template_columns": null,
      "grid_template_rows": null,
      "height": null,
      "justify_content": null,
      "justify_items": null,
      "left": null,
      "margin": null,
      "max_height": null,
      "max_width": null,
      "min_height": null,
      "min_width": null,
      "object_fit": null,
      "object_position": null,
      "order": null,
      "overflow": null,
      "overflow_x": null,
      "overflow_y": null,
      "padding": null,
      "right": null,
      "top": null,
      "visibility": null,
      "width": null
     }
    },
    "9ebb166ffca848999995941cc6e2f591": {
     "model_module": "@jupyter-widgets/base",
     "model_name": "LayoutModel",
     "state": {
      "_model_module": "@jupyter-widgets/base",
      "_model_module_version": "1.2.0",
      "_model_name": "LayoutModel",
      "_view_count": null,
      "_view_module": "@jupyter-widgets/base",
      "_view_module_version": "1.2.0",
      "_view_name": "LayoutView",
      "align_content": null,
      "align_items": null,
      "align_self": null,
      "border": null,
      "bottom": null,
      "display": null,
      "flex": null,
      "flex_flow": null,
      "grid_area": null,
      "grid_auto_columns": null,
      "grid_auto_flow": null,
      "grid_auto_rows": null,
      "grid_column": null,
      "grid_gap": null,
      "grid_row": null,
      "grid_template_areas": null,
      "grid_template_columns": null,
      "grid_template_rows": null,
      "height": null,
      "justify_content": null,
      "justify_items": null,
      "left": null,
      "margin": null,
      "max_height": null,
      "max_width": null,
      "min_height": null,
      "min_width": null,
      "object_fit": null,
      "object_position": null,
      "order": null,
      "overflow": null,
      "overflow_x": null,
      "overflow_y": null,
      "padding": null,
      "right": null,
      "top": null,
      "visibility": null,
      "width": null
     }
    },
    "a2a3b885a8e041baa1c5c0d0cbee7bda": {
     "model_module": "@jupyter-widgets/controls",
     "model_name": "ProgressStyleModel",
     "state": {
      "_model_module": "@jupyter-widgets/controls",
      "_model_module_version": "1.5.0",
      "_model_name": "ProgressStyleModel",
      "_view_count": null,
      "_view_module": "@jupyter-widgets/base",
      "_view_module_version": "1.2.0",
      "_view_name": "StyleView",
      "bar_color": null,
      "description_width": "initial"
     }
    },
    "a2a900a3b13747909a4e1bb1f20cb971": {
     "model_module": "@jupyter-widgets/base",
     "model_name": "LayoutModel",
     "state": {
      "_model_module": "@jupyter-widgets/base",
      "_model_module_version": "1.2.0",
      "_model_name": "LayoutModel",
      "_view_count": null,
      "_view_module": "@jupyter-widgets/base",
      "_view_module_version": "1.2.0",
      "_view_name": "LayoutView",
      "align_content": null,
      "align_items": null,
      "align_self": null,
      "border": null,
      "bottom": null,
      "display": null,
      "flex": null,
      "flex_flow": null,
      "grid_area": null,
      "grid_auto_columns": null,
      "grid_auto_flow": null,
      "grid_auto_rows": null,
      "grid_column": null,
      "grid_gap": null,
      "grid_row": null,
      "grid_template_areas": null,
      "grid_template_columns": null,
      "grid_template_rows": null,
      "height": null,
      "justify_content": null,
      "justify_items": null,
      "left": null,
      "margin": null,
      "max_height": null,
      "max_width": null,
      "min_height": null,
      "min_width": null,
      "object_fit": null,
      "object_position": null,
      "order": null,
      "overflow": null,
      "overflow_x": null,
      "overflow_y": null,
      "padding": null,
      "right": null,
      "top": null,
      "visibility": null,
      "width": null
     }
    },
    "a39ee81efeb846bdba97c996d48967d2": {
     "model_module": "@jupyter-widgets/base",
     "model_name": "LayoutModel",
     "state": {
      "_model_module": "@jupyter-widgets/base",
      "_model_module_version": "1.2.0",
      "_model_name": "LayoutModel",
      "_view_count": null,
      "_view_module": "@jupyter-widgets/base",
      "_view_module_version": "1.2.0",
      "_view_name": "LayoutView",
      "align_content": null,
      "align_items": null,
      "align_self": null,
      "border": null,
      "bottom": null,
      "display": null,
      "flex": null,
      "flex_flow": null,
      "grid_area": null,
      "grid_auto_columns": null,
      "grid_auto_flow": null,
      "grid_auto_rows": null,
      "grid_column": null,
      "grid_gap": null,
      "grid_row": null,
      "grid_template_areas": null,
      "grid_template_columns": null,
      "grid_template_rows": null,
      "height": null,
      "justify_content": null,
      "justify_items": null,
      "left": null,
      "margin": null,
      "max_height": null,
      "max_width": null,
      "min_height": null,
      "min_width": null,
      "object_fit": null,
      "object_position": null,
      "order": null,
      "overflow": null,
      "overflow_x": null,
      "overflow_y": null,
      "padding": null,
      "right": null,
      "top": null,
      "visibility": null,
      "width": null
     }
    },
    "abff90673a98425ab92bfee39bd59371": {
     "model_module": "@jupyter-widgets/controls",
     "model_name": "ProgressStyleModel",
     "state": {
      "_model_module": "@jupyter-widgets/controls",
      "_model_module_version": "1.5.0",
      "_model_name": "ProgressStyleModel",
      "_view_count": null,
      "_view_module": "@jupyter-widgets/base",
      "_view_module_version": "1.2.0",
      "_view_name": "StyleView",
      "bar_color": null,
      "description_width": "initial"
     }
    },
    "afe7eed4f1b7457c8cf16e823f1735fd": {
     "model_module": "@jupyter-widgets/base",
     "model_name": "LayoutModel",
     "state": {
      "_model_module": "@jupyter-widgets/base",
      "_model_module_version": "1.2.0",
      "_model_name": "LayoutModel",
      "_view_count": null,
      "_view_module": "@jupyter-widgets/base",
      "_view_module_version": "1.2.0",
      "_view_name": "LayoutView",
      "align_content": null,
      "align_items": null,
      "align_self": null,
      "border": null,
      "bottom": null,
      "display": null,
      "flex": null,
      "flex_flow": null,
      "grid_area": null,
      "grid_auto_columns": null,
      "grid_auto_flow": null,
      "grid_auto_rows": null,
      "grid_column": null,
      "grid_gap": null,
      "grid_row": null,
      "grid_template_areas": null,
      "grid_template_columns": null,
      "grid_template_rows": null,
      "height": null,
      "justify_content": null,
      "justify_items": null,
      "left": null,
      "margin": null,
      "max_height": null,
      "max_width": null,
      "min_height": null,
      "min_width": null,
      "object_fit": null,
      "object_position": null,
      "order": null,
      "overflow": null,
      "overflow_x": null,
      "overflow_y": null,
      "padding": null,
      "right": null,
      "top": null,
      "visibility": null,
      "width": null
     }
    },
    "b9918a5d8fc3461d82b1d271f4e54b5a": {
     "model_module": "@jupyter-widgets/controls",
     "model_name": "ProgressStyleModel",
     "state": {
      "_model_module": "@jupyter-widgets/controls",
      "_model_module_version": "1.5.0",
      "_model_name": "ProgressStyleModel",
      "_view_count": null,
      "_view_module": "@jupyter-widgets/base",
      "_view_module_version": "1.2.0",
      "_view_name": "StyleView",
      "bar_color": null,
      "description_width": "initial"
     }
    },
    "bc5671d745a748bca2d4a9231765c219": {
     "model_module": "@jupyter-widgets/controls",
     "model_name": "HBoxModel",
     "state": {
      "_dom_classes": [],
      "_model_module": "@jupyter-widgets/controls",
      "_model_module_version": "1.5.0",
      "_model_name": "HBoxModel",
      "_view_count": null,
      "_view_module": "@jupyter-widgets/controls",
      "_view_module_version": "1.5.0",
      "_view_name": "HBoxView",
      "box_style": "",
      "children": [
       "IPY_MODEL_122131daac74465fa6deb654d7bb8179",
       "IPY_MODEL_052eec3f8881441c8b8d822c93363305"
      ],
      "layout": "IPY_MODEL_a39ee81efeb846bdba97c996d48967d2"
     }
    },
    "cc6a7c0d62d243e7b414941ee1079263": {
     "model_module": "@jupyter-widgets/base",
     "model_name": "LayoutModel",
     "state": {
      "_model_module": "@jupyter-widgets/base",
      "_model_module_version": "1.2.0",
      "_model_name": "LayoutModel",
      "_view_count": null,
      "_view_module": "@jupyter-widgets/base",
      "_view_module_version": "1.2.0",
      "_view_name": "LayoutView",
      "align_content": null,
      "align_items": null,
      "align_self": null,
      "border": null,
      "bottom": null,
      "display": null,
      "flex": null,
      "flex_flow": null,
      "grid_area": null,
      "grid_auto_columns": null,
      "grid_auto_flow": null,
      "grid_auto_rows": null,
      "grid_column": null,
      "grid_gap": null,
      "grid_row": null,
      "grid_template_areas": null,
      "grid_template_columns": null,
      "grid_template_rows": null,
      "height": null,
      "justify_content": null,
      "justify_items": null,
      "left": null,
      "margin": null,
      "max_height": null,
      "max_width": null,
      "min_height": null,
      "min_width": null,
      "object_fit": null,
      "object_position": null,
      "order": null,
      "overflow": null,
      "overflow_x": null,
      "overflow_y": null,
      "padding": null,
      "right": null,
      "top": null,
      "visibility": null,
      "width": null
     }
    },
    "d2706757cd764451b7f3d0bd77fbd36e": {
     "model_module": "@jupyter-widgets/base",
     "model_name": "LayoutModel",
     "state": {
      "_model_module": "@jupyter-widgets/base",
      "_model_module_version": "1.2.0",
      "_model_name": "LayoutModel",
      "_view_count": null,
      "_view_module": "@jupyter-widgets/base",
      "_view_module_version": "1.2.0",
      "_view_name": "LayoutView",
      "align_content": null,
      "align_items": null,
      "align_self": null,
      "border": null,
      "bottom": null,
      "display": null,
      "flex": null,
      "flex_flow": null,
      "grid_area": null,
      "grid_auto_columns": null,
      "grid_auto_flow": null,
      "grid_auto_rows": null,
      "grid_column": null,
      "grid_gap": null,
      "grid_row": null,
      "grid_template_areas": null,
      "grid_template_columns": null,
      "grid_template_rows": null,
      "height": null,
      "justify_content": null,
      "justify_items": null,
      "left": null,
      "margin": null,
      "max_height": null,
      "max_width": null,
      "min_height": null,
      "min_width": null,
      "object_fit": null,
      "object_position": null,
      "order": null,
      "overflow": null,
      "overflow_x": null,
      "overflow_y": null,
      "padding": null,
      "right": null,
      "top": null,
      "visibility": null,
      "width": null
     }
    },
    "d642bbee486547ac8608e7d2980475ab": {
     "model_module": "@jupyter-widgets/controls",
     "model_name": "FloatProgressModel",
     "state": {
      "_dom_classes": [],
      "_model_module": "@jupyter-widgets/controls",
      "_model_module_version": "1.5.0",
      "_model_name": "FloatProgressModel",
      "_view_count": null,
      "_view_module": "@jupyter-widgets/controls",
      "_view_module_version": "1.5.0",
      "_view_name": "ProgressView",
      "bar_style": "success",
      "description": "Downloading: 100%",
      "description_tooltip": null,
      "layout": "IPY_MODEL_1f93582ba5dc40a9a2945092ee0b7daa",
      "max": 60,
      "min": 0,
      "orientation": "horizontal",
      "style": "IPY_MODEL_fc535364205b462990e143478d2dcd28",
      "value": 60
     }
    },
    "d747e537cc054f0da4bdb6cd00b8ac75": {
     "model_module": "@jupyter-widgets/base",
     "model_name": "LayoutModel",
     "state": {
      "_model_module": "@jupyter-widgets/base",
      "_model_module_version": "1.2.0",
      "_model_name": "LayoutModel",
      "_view_count": null,
      "_view_module": "@jupyter-widgets/base",
      "_view_module_version": "1.2.0",
      "_view_name": "LayoutView",
      "align_content": null,
      "align_items": null,
      "align_self": null,
      "border": null,
      "bottom": null,
      "display": null,
      "flex": null,
      "flex_flow": null,
      "grid_area": null,
      "grid_auto_columns": null,
      "grid_auto_flow": null,
      "grid_auto_rows": null,
      "grid_column": null,
      "grid_gap": null,
      "grid_row": null,
      "grid_template_areas": null,
      "grid_template_columns": null,
      "grid_template_rows": null,
      "height": null,
      "justify_content": null,
      "justify_items": null,
      "left": null,
      "margin": null,
      "max_height": null,
      "max_width": null,
      "min_height": null,
      "min_width": null,
      "object_fit": null,
      "object_position": null,
      "order": null,
      "overflow": null,
      "overflow_x": null,
      "overflow_y": null,
      "padding": null,
      "right": null,
      "top": null,
      "visibility": null,
      "width": null
     }
    },
    "db68795b5fd640b0867ec0feb03d7078": {
     "model_module": "@jupyter-widgets/controls",
     "model_name": "ProgressStyleModel",
     "state": {
      "_model_module": "@jupyter-widgets/controls",
      "_model_module_version": "1.5.0",
      "_model_name": "ProgressStyleModel",
      "_view_count": null,
      "_view_module": "@jupyter-widgets/base",
      "_view_module_version": "1.2.0",
      "_view_name": "StyleView",
      "bar_color": null,
      "description_width": "initial"
     }
    },
    "dfe9bf0e958140aba1c1ed386b6b6b66": {
     "model_module": "@jupyter-widgets/controls",
     "model_name": "DescriptionStyleModel",
     "state": {
      "_model_module": "@jupyter-widgets/controls",
      "_model_module_version": "1.5.0",
      "_model_name": "DescriptionStyleModel",
      "_view_count": null,
      "_view_module": "@jupyter-widgets/base",
      "_view_module_version": "1.2.0",
      "_view_name": "StyleView",
      "description_width": ""
     }
    },
    "e06c8ed56e484c3897208674493ac711": {
     "model_module": "@jupyter-widgets/controls",
     "model_name": "HBoxModel",
     "state": {
      "_dom_classes": [],
      "_model_module": "@jupyter-widgets/controls",
      "_model_module_version": "1.5.0",
      "_model_name": "HBoxModel",
      "_view_count": null,
      "_view_module": "@jupyter-widgets/controls",
      "_view_module_version": "1.5.0",
      "_view_name": "HBoxView",
      "box_style": "",
      "children": [
       "IPY_MODEL_00155e3a63944385bc548efc12d59090",
       "IPY_MODEL_270e7da61ddb41d797be1fa300b2b1b8"
      ],
      "layout": "IPY_MODEL_5f485da795a84e9bac85e88bdcc4abe2"
     }
    },
    "e727903aade14872ae031b399d3f8cb7": {
     "model_module": "@jupyter-widgets/base",
     "model_name": "LayoutModel",
     "state": {
      "_model_module": "@jupyter-widgets/base",
      "_model_module_version": "1.2.0",
      "_model_name": "LayoutModel",
      "_view_count": null,
      "_view_module": "@jupyter-widgets/base",
      "_view_module_version": "1.2.0",
      "_view_name": "LayoutView",
      "align_content": null,
      "align_items": null,
      "align_self": null,
      "border": null,
      "bottom": null,
      "display": null,
      "flex": null,
      "flex_flow": null,
      "grid_area": null,
      "grid_auto_columns": null,
      "grid_auto_flow": null,
      "grid_auto_rows": null,
      "grid_column": null,
      "grid_gap": null,
      "grid_row": null,
      "grid_template_areas": null,
      "grid_template_columns": null,
      "grid_template_rows": null,
      "height": null,
      "justify_content": null,
      "justify_items": null,
      "left": null,
      "margin": null,
      "max_height": null,
      "max_width": null,
      "min_height": null,
      "min_width": null,
      "object_fit": null,
      "object_position": null,
      "order": null,
      "overflow": null,
      "overflow_x": null,
      "overflow_y": null,
      "padding": null,
      "right": null,
      "top": null,
      "visibility": null,
      "width": null
     }
    },
    "ed822fccb535430b8bb7e6281e6aaed6": {
     "model_module": "@jupyter-widgets/base",
     "model_name": "LayoutModel",
     "state": {
      "_model_module": "@jupyter-widgets/base",
      "_model_module_version": "1.2.0",
      "_model_name": "LayoutModel",
      "_view_count": null,
      "_view_module": "@jupyter-widgets/base",
      "_view_module_version": "1.2.0",
      "_view_name": "LayoutView",
      "align_content": null,
      "align_items": null,
      "align_self": null,
      "border": null,
      "bottom": null,
      "display": null,
      "flex": null,
      "flex_flow": null,
      "grid_area": null,
      "grid_auto_columns": null,
      "grid_auto_flow": null,
      "grid_auto_rows": null,
      "grid_column": null,
      "grid_gap": null,
      "grid_row": null,
      "grid_template_areas": null,
      "grid_template_columns": null,
      "grid_template_rows": null,
      "height": null,
      "justify_content": null,
      "justify_items": null,
      "left": null,
      "margin": null,
      "max_height": null,
      "max_width": null,
      "min_height": null,
      "min_width": null,
      "object_fit": null,
      "object_position": null,
      "order": null,
      "overflow": null,
      "overflow_x": null,
      "overflow_y": null,
      "padding": null,
      "right": null,
      "top": null,
      "visibility": null,
      "width": null
     }
    },
    "ee73e703fd944b8b962a547cce5e9302": {
     "model_module": "@jupyter-widgets/controls",
     "model_name": "DescriptionStyleModel",
     "state": {
      "_model_module": "@jupyter-widgets/controls",
      "_model_module_version": "1.5.0",
      "_model_name": "DescriptionStyleModel",
      "_view_count": null,
      "_view_module": "@jupyter-widgets/base",
      "_view_module_version": "1.2.0",
      "_view_name": "StyleView",
      "description_width": ""
     }
    },
    "ef3233685e03453db7735080101912a9": {
     "model_module": "@jupyter-widgets/controls",
     "model_name": "HTMLModel",
     "state": {
      "_dom_classes": [],
      "_model_module": "@jupyter-widgets/controls",
      "_model_module_version": "1.5.0",
      "_model_name": "HTMLModel",
      "_view_count": null,
      "_view_module": "@jupyter-widgets/controls",
      "_view_module_version": "1.5.0",
      "_view_name": "HTMLView",
      "description": "",
      "description_tooltip": null,
      "layout": "IPY_MODEL_2a6f334ba62b45b487ffc800ae90d43b",
      "placeholder": "​",
      "style": "IPY_MODEL_dfe9bf0e958140aba1c1ed386b6b6b66",
      "value": " 1.20k/1.20k [00:00&lt;00:00, 3.07kB/s]"
     }
    },
    "f65319224859492d87fe9f54cae3a133": {
     "model_module": "@jupyter-widgets/controls",
     "model_name": "HTMLModel",
     "state": {
      "_dom_classes": [],
      "_model_module": "@jupyter-widgets/controls",
      "_model_module_version": "1.5.0",
      "_model_name": "HTMLModel",
      "_view_count": null,
      "_view_module": "@jupyter-widgets/controls",
      "_view_module_version": "1.5.0",
      "_view_name": "HTMLView",
      "description": "",
      "description_tooltip": null,
      "layout": "IPY_MODEL_4b4fdfe63fcd45f08237173394d99ff8",
      "placeholder": "​",
      "style": "IPY_MODEL_2f420ed458b84dbbb2d548984b66b511",
      "value": " 60.0/60.0 [00:00&lt;00:00, 1.06kB/s]"
     }
    },
    "facf06188c1d4f73a1db2aa343431dd3": {
     "model_module": "@jupyter-widgets/controls",
     "model_name": "ProgressStyleModel",
     "state": {
      "_model_module": "@jupyter-widgets/controls",
      "_model_module_version": "1.5.0",
      "_model_name": "ProgressStyleModel",
      "_view_count": null,
      "_view_module": "@jupyter-widgets/base",
      "_view_module_version": "1.2.0",
      "_view_name": "StyleView",
      "bar_color": null,
      "description_width": "initial"
     }
    },
    "fc535364205b462990e143478d2dcd28": {
     "model_module": "@jupyter-widgets/controls",
     "model_name": "ProgressStyleModel",
     "state": {
      "_model_module": "@jupyter-widgets/controls",
      "_model_module_version": "1.5.0",
      "_model_name": "ProgressStyleModel",
      "_view_count": null,
      "_view_module": "@jupyter-widgets/base",
      "_view_module_version": "1.2.0",
      "_view_name": "StyleView",
      "bar_color": null,
      "description_width": "initial"
     }
    }
   }
  }
 },
 "nbformat": 4,
 "nbformat_minor": 1
}
